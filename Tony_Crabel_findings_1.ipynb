{
 "cells": [
  {
   "cell_type": "code",
   "execution_count": 2,
   "id": "d6d49a5c",
   "metadata": {},
   "outputs": [],
   "source": [
    "import pandas as pd\n",
    "df = pd.read_csv(\"NIFTY_50.csv\", parse_dates=[\"Date\"], index_col=\"Date\")"
   ]
  },
  {
   "cell_type": "markdown",
   "id": "f2e9343e",
   "metadata": {},
   "source": [
    "## Index\n",
    "\n",
    "### 1) Open in days range\n",
    "### 2) Close in days range\n",
    "####  Analysis of orb days \n",
    "\n",
    "### 3) Statistics of days just after trending days\n",
    "### 4) Gaps analysis"
   ]
  },
  {
   "cell_type": "code",
   "execution_count": 2,
   "id": "eca30f6c",
   "metadata": {},
   "outputs": [
    {
     "data": {
      "text/html": [
       "<div>\n",
       "<style scoped>\n",
       "    .dataframe tbody tr th:only-of-type {\n",
       "        vertical-align: middle;\n",
       "    }\n",
       "\n",
       "    .dataframe tbody tr th {\n",
       "        vertical-align: top;\n",
       "    }\n",
       "\n",
       "    .dataframe thead th {\n",
       "        text-align: right;\n",
       "    }\n",
       "</style>\n",
       "<table border=\"1\" class=\"dataframe\">\n",
       "  <thead>\n",
       "    <tr style=\"text-align: right;\">\n",
       "      <th></th>\n",
       "      <th>Open</th>\n",
       "      <th>High</th>\n",
       "      <th>Low</th>\n",
       "      <th>Close</th>\n",
       "    </tr>\n",
       "    <tr>\n",
       "      <th>Date</th>\n",
       "      <th></th>\n",
       "      <th></th>\n",
       "      <th></th>\n",
       "      <th></th>\n",
       "    </tr>\n",
       "  </thead>\n",
       "  <tbody>\n",
       "    <tr>\n",
       "      <th>2021-11-25</th>\n",
       "      <td>17417.30</td>\n",
       "      <td>17564.35</td>\n",
       "      <td>17351.70</td>\n",
       "      <td>17536.25</td>\n",
       "    </tr>\n",
       "    <tr>\n",
       "      <th>2021-11-24</th>\n",
       "      <td>17550.05</td>\n",
       "      <td>17600.60</td>\n",
       "      <td>17354.00</td>\n",
       "      <td>17415.05</td>\n",
       "    </tr>\n",
       "    <tr>\n",
       "      <th>2021-11-23</th>\n",
       "      <td>17281.75</td>\n",
       "      <td>17553.70</td>\n",
       "      <td>17216.10</td>\n",
       "      <td>17503.35</td>\n",
       "    </tr>\n",
       "    <tr>\n",
       "      <th>2021-11-22</th>\n",
       "      <td>17796.25</td>\n",
       "      <td>17805.25</td>\n",
       "      <td>17280.45</td>\n",
       "      <td>17416.55</td>\n",
       "    </tr>\n",
       "    <tr>\n",
       "      <th>2021-11-18</th>\n",
       "      <td>17890.55</td>\n",
       "      <td>17945.60</td>\n",
       "      <td>17688.50</td>\n",
       "      <td>17764.80</td>\n",
       "    </tr>\n",
       "  </tbody>\n",
       "</table>\n",
       "</div>"
      ],
      "text/plain": [
       "                Open      High       Low     Close\n",
       "Date                                              \n",
       "2021-11-25  17417.30  17564.35  17351.70  17536.25\n",
       "2021-11-24  17550.05  17600.60  17354.00  17415.05\n",
       "2021-11-23  17281.75  17553.70  17216.10  17503.35\n",
       "2021-11-22  17796.25  17805.25  17280.45  17416.55\n",
       "2021-11-18  17890.55  17945.60  17688.50  17764.80"
      ]
     },
     "execution_count": 2,
     "metadata": {},
     "output_type": "execute_result"
    }
   ],
   "source": [
    "df.head()"
   ]
  },
  {
   "cell_type": "code",
   "execution_count": 3,
   "id": "cab7112c",
   "metadata": {},
   "outputs": [],
   "source": [
    "df = df.dropna(how = 'all')"
   ]
  },
  {
   "cell_type": "code",
   "execution_count": 4,
   "id": "be682502",
   "metadata": {},
   "outputs": [
    {
     "data": {
      "text/plain": [
       "(2587, 4)"
      ]
     },
     "execution_count": 4,
     "metadata": {},
     "output_type": "execute_result"
    }
   ],
   "source": [
    "df.shape"
   ]
  },
  {
   "cell_type": "code",
   "execution_count": 5,
   "id": "3e726fdf",
   "metadata": {},
   "outputs": [
    {
     "data": {
      "text/plain": [
       "Index(['Open', 'High', 'Low', 'Close'], dtype='object')"
      ]
     },
     "execution_count": 5,
     "metadata": {},
     "output_type": "execute_result"
    }
   ],
   "source": [
    "df.columns"
   ]
  },
  {
   "cell_type": "code",
   "execution_count": 6,
   "id": "cf42e1fe",
   "metadata": {},
   "outputs": [],
   "source": [
    "cols = ['Open', 'High', 'Low', 'Close']\n",
    "df[cols] = df[cols].apply(pd.to_numeric, errors='coerce', axis=1)"
   ]
  },
  {
   "cell_type": "code",
   "execution_count": 7,
   "id": "c3bffbf1",
   "metadata": {},
   "outputs": [
    {
     "data": {
      "text/plain": [
       "(2587, 4)"
      ]
     },
     "execution_count": 7,
     "metadata": {},
     "output_type": "execute_result"
    }
   ],
   "source": [
    "df.shape"
   ]
  },
  {
   "cell_type": "code",
   "execution_count": 4,
   "id": "e2204cf6",
   "metadata": {},
   "outputs": [],
   "source": [
    "df[\"OPR\"] = (df['Open'] - df['Low'])/(df['High'] - df['Low'])"
   ]
  },
  {
   "cell_type": "code",
   "execution_count": 5,
   "id": "740ea8b1",
   "metadata": {},
   "outputs": [],
   "source": [
    "df[\"CPR\"] = (df['Close'] - df['Low'])/(df['High'] - df['Low'])"
   ]
  },
  {
   "cell_type": "code",
   "execution_count": 81,
   "id": "4265c1fc",
   "metadata": {},
   "outputs": [
    {
     "data": {
      "text/plain": [
       "count    2587.000000\n",
       "mean        0.546738\n",
       "std         0.332525\n",
       "min         0.000000\n",
       "25%         0.249898\n",
       "50%         0.575758\n",
       "75%         0.861560\n",
       "max         1.000000\n",
       "Name: OPR, dtype: float64"
      ]
     },
     "execution_count": 81,
     "metadata": {},
     "output_type": "execute_result"
    }
   ],
   "source": [
    "df['OPR'].describe()"
   ]
  },
  {
   "cell_type": "code",
   "execution_count": 92,
   "id": "48a5c5b9",
   "metadata": {},
   "outputs": [
    {
     "data": {
      "text/plain": [
       "count    2587.000000\n",
       "mean        0.512287\n",
       "std         0.294391\n",
       "min         0.033240\n",
       "25%         0.223776\n",
       "50%         0.509195\n",
       "75%         0.809386\n",
       "max         0.967550\n",
       "Name: CPR, dtype: float64"
      ]
     },
     "execution_count": 92,
     "metadata": {},
     "output_type": "execute_result"
    }
   ],
   "source": [
    "df['CPR'].describe()"
   ]
  },
  {
   "cell_type": "code",
   "execution_count": 7,
   "id": "6a137b72",
   "metadata": {},
   "outputs": [
    {
     "data": {
      "text/plain": [
       "(array([366., 204., 160., 213., 174., 233., 218., 214., 259., 546.]),\n",
       " array([0. , 0.1, 0.2, 0.3, 0.4, 0.5, 0.6, 0.7, 0.8, 0.9, 1. ]),\n",
       " <BarContainer object of 10 artists>)"
      ]
     },
     "execution_count": 7,
     "metadata": {},
     "output_type": "execute_result"
    },
    {
     "data": {
      "image/png": "[encoded data removed]",
      "text/plain": [
       "<Figure size 432x288 with 1 Axes>"
      ]
     },
     "metadata": {
      "needs_background": "light"
     },
     "output_type": "display_data"
    }
   ],
   "source": [
    " \n",
    "plt.hist(df[\"OPR\"],rwidth=0.95,bins=bin_range)"
   ]
  },
  {
   "cell_type": "code",
   "execution_count": 12,
   "id": "e8e1bfc5",
   "metadata": {},
   "outputs": [
    {
     "data": {
      "text/plain": [
       "(array([153., 429., 262., 234., 203., 191., 197., 236., 426., 256.]),\n",
       " array([0. , 0.1, 0.2, 0.3, 0.4, 0.5, 0.6, 0.7, 0.8, 0.9, 1. ]),\n",
       " <BarContainer object of 10 artists>)"
      ]
     },
     "execution_count": 12,
     "metadata": {},
     "output_type": "execute_result"
    },
    {
     "data": {
      "image/png": "[encoded data removed]",
      "text/plain": [
       "<Figure size 432x288 with 1 Axes>"
      ]
     },
     "metadata": {
      "needs_background": "light"
     },
     "output_type": "display_data"
    }
   ],
   "source": [
    "plt.hist(df[\"CPR\"],rwidth=0.95,bins=bin_range)"
   ]
  },
  {
   "cell_type": "code",
   "execution_count": 6,
   "id": "dfd92b01",
   "metadata": {},
   "outputs": [],
   "source": [
    "df[\"Solid\"] = (abs(df['Open'] - df['Close']))/(df['High'] - df['Low'])"
   ]
  },
  {
   "cell_type": "code",
   "execution_count": 14,
   "id": "dc7673c1",
   "metadata": {},
   "outputs": [
    {
     "data": {
      "text/plain": [
       "(array([218., 235., 251., 294., 291., 282., 301., 291., 323., 101.]),\n",
       " array([0. , 0.1, 0.2, 0.3, 0.4, 0.5, 0.6, 0.7, 0.8, 0.9, 1. ]),\n",
       " <BarContainer object of 10 artists>)"
      ]
     },
     "execution_count": 14,
     "metadata": {},
     "output_type": "execute_result"
    },
    {
     "data": {
      "image/png": "[encoded data removed]",
      "text/plain": [
       "<Figure size 432x288 with 1 Axes>"
      ]
     },
     "metadata": {
      "needs_background": "light"
     },
     "output_type": "display_data"
    }
   ],
   "source": [
    "plt.hist(df[\"Solid\"],rwidth=0.95,bins=bin_range)\n"
   ]
  },
  {
   "cell_type": "code",
   "execution_count": 15,
   "id": "94f3a3ac",
   "metadata": {},
   "outputs": [
    {
     "data": {
      "text/plain": [
       "(array([ 46.,  41.,  60.,  82.,  99., 132., 210., 281., 323., 101.]),\n",
       " array([0. , 0.1, 0.2, 0.3, 0.4, 0.5, 0.6, 0.7, 0.8, 0.9, 1. ]),\n",
       " <BarContainer object of 10 artists>)"
      ]
     },
     "execution_count": 15,
     "metadata": {},
     "output_type": "execute_result"
    },
    {
     "data": {
      "image/png": "[encoded data removed]",
      "text/plain": [
       "<Figure size 432x288 with 1 Axes>"
      ]
     },
     "metadata": {
      "needs_background": "light"
     },
     "output_type": "display_data"
    }
   ],
   "source": [
    "plt.hist(df[\"Solid\"][(df['OPR'] >= 0.80) | (df['OPR'] <= 0.2)],rwidth=0.95,bins=bin_range)"
   ]
  },
  {
   "cell_type": "code",
   "execution_count": 16,
   "id": "fe6ddd75",
   "metadata": {},
   "outputs": [
    {
     "data": {
      "text/plain": [
       "count    1375.000000\n",
       "mean        0.645135\n",
       "std         0.229858\n",
       "min         0.000602\n",
       "25%         0.518235\n",
       "50%         0.708955\n",
       "75%         0.826902\n",
       "max         0.966760\n",
       "Name: Solid, dtype: float64"
      ]
     },
     "execution_count": 16,
     "metadata": {},
     "output_type": "execute_result"
    }
   ],
   "source": [
    "df[\"Solid\"][(df['OPR'] >= 0.80) | (df['OPR'] <= 0.2)].describe()"
   ]
  },
  {
   "cell_type": "code",
   "execution_count": 8,
   "id": "3bd58200",
   "metadata": {},
   "outputs": [],
   "source": [
    "df['True_Range_ratio'] = ((df['High'] - df['Low'])/df['Close'])*100"
   ]
  },
  {
   "cell_type": "code",
   "execution_count": 18,
   "id": "f18bf434",
   "metadata": {
    "scrolled": true
   },
   "outputs": [
    {
     "data": {
      "text/plain": [
       "count    2587.000000\n",
       "mean        1.253938\n",
       "std         0.876865\n",
       "min         0.246096\n",
       "25%         0.751932\n",
       "50%         1.055514\n",
       "75%         1.492380\n",
       "max        16.133046\n",
       "Name: True_Range_ratio, dtype: float64"
      ]
     },
     "execution_count": 18,
     "metadata": {},
     "output_type": "execute_result"
    }
   ],
   "source": [
    "df['True_Range_ratio'].describe()"
   ]
  },
  {
   "cell_type": "code",
   "execution_count": 179,
   "id": "f251a68e",
   "metadata": {},
   "outputs": [
    {
     "data": {
      "text/plain": [
       "count    1375.000000\n",
       "mean        1.362758\n",
       "std         0.919936\n",
       "min         0.285732\n",
       "25%         0.809042\n",
       "50%         1.153169\n",
       "75%         1.649487\n",
       "max        16.133046\n",
       "Name: True_Range_ratio, dtype: float64"
      ]
     },
     "execution_count": 179,
     "metadata": {},
     "output_type": "execute_result"
    }
   ],
   "source": [
    "df['True_Range_ratio'][(df['OPR'] >= 0.80) | (df['OPR'] <= 0.2)].describe()"
   ]
  },
  {
   "cell_type": "code",
   "execution_count": 26,
   "id": "926b83b6",
   "metadata": {},
   "outputs": [
    {
     "data": {
      "text/plain": [
       "count    1212.000000\n",
       "mean        1.130483\n",
       "std         0.808096\n",
       "min         0.246096\n",
       "25%         0.701949\n",
       "50%         0.964263\n",
       "75%         1.340167\n",
       "max        16.114694\n",
       "Name: True_Range_ratio, dtype: float64"
      ]
     },
     "execution_count": 26,
     "metadata": {},
     "output_type": "execute_result"
    }
   ],
   "source": [
    "df['True_Range_ratio'][(df['OPR'] <= 0.80) & (df['OPR'] >= 0.2)].describe()"
   ]
  },
  {
   "cell_type": "code",
   "execution_count": 20,
   "id": "a3acd782",
   "metadata": {},
   "outputs": [
    {
     "data": {
      "text/html": [
       "<div>\n",
       "<style scoped>\n",
       "    .dataframe tbody tr th:only-of-type {\n",
       "        vertical-align: middle;\n",
       "    }\n",
       "\n",
       "    .dataframe tbody tr th {\n",
       "        vertical-align: top;\n",
       "    }\n",
       "\n",
       "    .dataframe thead th {\n",
       "        text-align: right;\n",
       "    }\n",
       "</style>\n",
       "<table border=\"1\" class=\"dataframe\">\n",
       "  <thead>\n",
       "    <tr style=\"text-align: right;\">\n",
       "      <th></th>\n",
       "      <th>Open</th>\n",
       "      <th>High</th>\n",
       "      <th>Low</th>\n",
       "      <th>Close</th>\n",
       "      <th>OPR</th>\n",
       "      <th>CPR</th>\n",
       "      <th>Solid</th>\n",
       "      <th>True_Range_ratio</th>\n",
       "    </tr>\n",
       "    <tr>\n",
       "      <th>Date</th>\n",
       "      <th></th>\n",
       "      <th></th>\n",
       "      <th></th>\n",
       "      <th></th>\n",
       "      <th></th>\n",
       "      <th></th>\n",
       "      <th></th>\n",
       "      <th></th>\n",
       "    </tr>\n",
       "  </thead>\n",
       "  <tbody>\n",
       "    <tr>\n",
       "      <th>2012-10-05</th>\n",
       "      <td>5815.0</td>\n",
       "      <td>5815.35</td>\n",
       "      <td>4888.2</td>\n",
       "      <td>5746.9</td>\n",
       "      <td>0.999622</td>\n",
       "      <td>0.926172</td>\n",
       "      <td>0.073451</td>\n",
       "      <td>16.133046</td>\n",
       "    </tr>\n",
       "  </tbody>\n",
       "</table>\n",
       "</div>"
      ],
      "text/plain": [
       "              Open     High     Low   Close       OPR       CPR     Solid  \\\n",
       "Date                                                                        \n",
       "2012-10-05  5815.0  5815.35  4888.2  5746.9  0.999622  0.926172  0.073451   \n",
       "\n",
       "            True_Range_ratio  \n",
       "Date                          \n",
       "2012-10-05         16.133046  "
      ]
     },
     "execution_count": 20,
     "metadata": {},
     "output_type": "execute_result"
    }
   ],
   "source": [
    "df[df['True_Range_ratio'] == df['True_Range_ratio'].max()]"
   ]
  },
  {
   "cell_type": "code",
   "execution_count": 21,
   "id": "6ffcee2e",
   "metadata": {},
   "outputs": [
    {
     "data": {
      "text/plain": [
       "(array([107., 249., 120.,  97.,  67.,  52.,  45.,  32.,  32.,   4.]),\n",
       " array([0. , 0.1, 0.2, 0.3, 0.4, 0.5, 0.6, 0.7, 0.8, 0.9, 1. ]),\n",
       " <BarContainer object of 10 artists>)"
      ]
     },
     "execution_count": 21,
     "metadata": {},
     "output_type": "execute_result"
    },
    {
     "data": {
      "image/png": "[encoded data removed]",
      "text/plain": [
       "<Figure size 432x288 with 1 Axes>"
      ]
     },
     "metadata": {
      "needs_background": "light"
     },
     "output_type": "display_data"
    }
   ],
   "source": [
    "plt.hist(df[\"CPR\"][(df['OPR'] >= 0.80)],rwidth=0.95,bins=bin_range)"
   ]
  },
  {
   "cell_type": "code",
   "execution_count": 22,
   "id": "271d189d",
   "metadata": {},
   "outputs": [
    {
     "data": {
      "text/plain": [
       "(array([  3.,  13.,  10.,  21.,  33.,  33.,  59.,  59., 181., 158.]),\n",
       " array([0. , 0.1, 0.2, 0.3, 0.4, 0.5, 0.6, 0.7, 0.8, 0.9, 1. ]),\n",
       " <BarContainer object of 10 artists>)"
      ]
     },
     "execution_count": 22,
     "metadata": {},
     "output_type": "execute_result"
    },
    {
     "data": {
      "image/png": "[encoded data removed]",
      "text/plain": [
       "<Figure size 432x288 with 1 Axes>"
      ]
     },
     "metadata": {
      "needs_background": "light"
     },
     "output_type": "display_data"
    }
   ],
   "source": [
    "plt.hist(df[\"CPR\"][(df['OPR'] <= 0.20)],rwidth=0.95,bins=bin_range)"
   ]
  },
  {
   "cell_type": "code",
   "execution_count": 23,
   "id": "dd6c2e89",
   "metadata": {},
   "outputs": [
    {
     "data": {
      "text/plain": [
       "count    570.000000\n",
       "mean       0.754804\n",
       "std        0.201824\n",
       "min        0.069586\n",
       "25%        0.653634\n",
       "50%        0.841592\n",
       "75%        0.905604\n",
       "max        0.967550\n",
       "Name: CPR, dtype: float64"
      ]
     },
     "execution_count": 23,
     "metadata": {},
     "output_type": "execute_result"
    }
   ],
   "source": [
    "df[\"CPR\"][(df['OPR'] <= 0.20)].describe()"
   ]
  },
  {
   "cell_type": "code",
   "execution_count": 25,
   "id": "8ce7221d",
   "metadata": {},
   "outputs": [
    {
     "data": {
      "text/plain": [
       "count    805.000000\n",
       "mean       0.310578\n",
       "std        0.222668\n",
       "min        0.033240\n",
       "25%        0.128937\n",
       "50%        0.240380\n",
       "75%        0.440428\n",
       "max        0.948280\n",
       "Name: CPR, dtype: float64"
      ]
     },
     "execution_count": 25,
     "metadata": {},
     "output_type": "execute_result"
    }
   ],
   "source": [
    "df[\"CPR\"][(df['OPR'] >= 0.80)].describe()"
   ]
  },
  {
   "cell_type": "code",
   "execution_count": 23,
   "id": "be83bffd",
   "metadata": {},
   "outputs": [
    {
     "data": {
      "text/plain": [
       "count    1470.000000\n",
       "mean        0.374005\n",
       "std         0.255748\n",
       "min         0.033240\n",
       "25%         0.154641\n",
       "50%         0.297771\n",
       "75%         0.564268\n",
       "max         0.948280\n",
       "Name: CPR, dtype: float64"
      ]
     },
     "execution_count": 23,
     "metadata": {},
     "output_type": "execute_result"
    }
   ],
   "source": [
    "df[\"CPR\"][(df['OPR'] > 0.5)].describe()"
   ]
  },
  {
   "cell_type": "markdown",
   "id": "6e32cbb5",
   "metadata": {},
   "source": [
    "## Conclusion\n",
    "#### OPR analysis portrays the importance of open in day-trading \n",
    "#### More than 75% of the trades close on the opposite half of the day's range from the open \n",
    "#### True Range of OPR trades also tend to be greater than normal days (though not significantly)\n",
    "\n"
   ]
  },
  {
   "cell_type": "markdown",
   "id": "9595fd87",
   "metadata": {},
   "source": [
    "#### \n",
    "#### Now, lets begin by analyzing days after trending days"
   ]
  },
  {
   "cell_type": "markdown",
   "id": "612196d0",
   "metadata": {},
   "source": [
    "\n",
    "\n",
    "## Part 2 :\n",
    "### Analysis of previous and next days to trending days"
   ]
  },
  {
   "cell_type": "markdown",
   "id": "25e3c618",
   "metadata": {},
   "source": [
    "### 1) True Range "
   ]
  },
  {
   "cell_type": "code",
   "execution_count": 10,
   "id": "f140aed7",
   "metadata": {},
   "outputs": [],
   "source": [
    "df['TRR_Next'] = df['True_Range_ratio'].shift(1)"
   ]
  },
  {
   "cell_type": "code",
   "execution_count": 135,
   "id": "0acbec0d",
   "metadata": {},
   "outputs": [
    {
     "data": {
      "text/plain": [
       "count    356.000000\n",
       "mean       1.472442\n",
       "std        1.173755\n",
       "min        0.246096\n",
       "25%        0.871451\n",
       "50%        1.202898\n",
       "75%        1.752883\n",
       "max       16.114694\n",
       "Name: TRR_Next, dtype: float64"
      ]
     },
     "execution_count": 135,
     "metadata": {},
     "output_type": "execute_result"
    }
   ],
   "source": [
    "df['TRR_Next'][(df['OPR'] >= 0.80) & (df['CPR'] <= 0.2)].describe() "
   ]
  },
  {
   "cell_type": "code",
   "execution_count": 136,
   "id": "b167ce3f",
   "metadata": {},
   "outputs": [
    {
     "data": {
      "text/plain": [
       "count    339.000000\n",
       "mean       1.173752\n",
       "std        0.766586\n",
       "min        0.297315\n",
       "25%        0.730633\n",
       "50%        0.961844\n",
       "75%        1.415104\n",
       "max        7.564190\n",
       "Name: TRR_Next, dtype: float64"
      ]
     },
     "execution_count": 136,
     "metadata": {},
     "output_type": "execute_result"
    }
   ],
   "source": [
    "df['TRR_Next'][(df['CPR'] >= 0.80) & (df['OPR'] <= 0.2)].describe()"
   ]
  },
  {
   "cell_type": "code",
   "execution_count": 137,
   "id": "53ca4587",
   "metadata": {},
   "outputs": [
    {
     "data": {
      "text/plain": [
       "count    749.000000\n",
       "mean       1.655305\n",
       "std        1.129800\n",
       "min        0.302273\n",
       "25%        1.029862\n",
       "50%        1.392656\n",
       "75%        1.986087\n",
       "max       16.114694\n",
       "Name: TRR_Next, dtype: float64"
      ]
     },
     "execution_count": 137,
     "metadata": {},
     "output_type": "execute_result"
    }
   ],
   "source": [
    "df['TRR_Next'][(df['True_Range_ratio'] >= 1.4)].describe()"
   ]
  },
  {
   "cell_type": "code",
   "execution_count": 138,
   "id": "d3618d80",
   "metadata": {},
   "outputs": [
    {
     "data": {
      "text/plain": [
       "count    758.000000\n",
       "mean       0.931227\n",
       "std        0.456054\n",
       "min        0.276854\n",
       "25%        0.610523\n",
       "50%        0.821261\n",
       "75%        1.144860\n",
       "max        3.549769\n",
       "Name: TRR_Next, dtype: float64"
      ]
     },
     "execution_count": 138,
     "metadata": {},
     "output_type": "execute_result"
    }
   ],
   "source": [
    "df['TRR_Next'][(df['True_Range_ratio'] <= 0.8)].describe()"
   ]
  },
  {
   "cell_type": "markdown",
   "id": "fcbf30e2",
   "metadata": {},
   "source": [
    "#### The above stat suggests that the volatility tends not to change on consecutive days\n",
    "\n",
    "#### And, volatility tends to shrink on upmoves"
   ]
  },
  {
   "cell_type": "code",
   "execution_count": 11,
   "id": "761586d7",
   "metadata": {},
   "outputs": [],
   "source": [
    "df['TRR_Prev'] = df['True_Range_ratio'].shift(-1)"
   ]
  },
  {
   "cell_type": "code",
   "execution_count": 98,
   "id": "1a42eb47",
   "metadata": {},
   "outputs": [
    {
     "data": {
      "text/plain": [
       "count    1375.000000\n",
       "mean        1.362758\n",
       "std         0.919936\n",
       "min         0.285732\n",
       "25%         0.809042\n",
       "50%         1.153169\n",
       "75%         1.649487\n",
       "max        16.133046\n",
       "Name: True_Range_ratio, dtype: float64"
      ]
     },
     "execution_count": 98,
     "metadata": {},
     "output_type": "execute_result"
    }
   ],
   "source": [
    "df['True_Range_ratio'][((df['OPR'] >= 0.80) | (df['OPR'] <= 0.2))].describe()"
   ]
  },
  {
   "cell_type": "code",
   "execution_count": 30,
   "id": "0631012b",
   "metadata": {},
   "outputs": [
    {
     "data": {
      "text/plain": [
       "count    695.000000\n",
       "mean       1.265737\n",
       "std        1.112006\n",
       "min        0.276854\n",
       "25%        0.750087\n",
       "50%        1.046540\n",
       "75%        1.454658\n",
       "max       16.133046\n",
       "Name: TRR_Prev, dtype: float64"
      ]
     },
     "execution_count": 30,
     "metadata": {},
     "output_type": "execute_result"
    }
   ],
   "source": [
    "df['TRR_Prev'][((df['OPR'] >= 0.80) & (df['CPR'] <= 0.2)) | ((df['CPR'] >= 0.80) & (df['OPR'] <= 0.2))].describe()"
   ]
  },
  {
   "cell_type": "code",
   "execution_count": 31,
   "id": "7b2c152f",
   "metadata": {},
   "outputs": [
    {
     "data": {
      "text/plain": [
       "count    695.000000\n",
       "mean       1.580923\n",
       "std        0.919566\n",
       "min        0.326644\n",
       "25%        0.983439\n",
       "50%        1.364764\n",
       "75%        1.927395\n",
       "max        8.507699\n",
       "Name: True_Range_ratio, dtype: float64"
      ]
     },
     "execution_count": 31,
     "metadata": {},
     "output_type": "execute_result"
    }
   ],
   "source": [
    "df['True_Range_ratio'][((df['OPR'] >= 0.80) & (df['CPR'] <= 0.2)) | ((df['CPR'] >= 0.80) & (df['OPR'] <= 0.2))].describe()"
   ]
  },
  {
   "cell_type": "markdown",
   "id": "59e2bed0",
   "metadata": {},
   "source": [
    "#### Above stat suggests that trend days tend to have larger range\n",
    "\n",
    "#### Also, previous days range doesn't suggest anything about impending trend move"
   ]
  },
  {
   "cell_type": "code",
   "execution_count": 69,
   "id": "d419524e",
   "metadata": {},
   "outputs": [
    {
     "data": {
      "text/plain": [
       "count    339.000000\n",
       "mean       1.466089\n",
       "std        0.890787\n",
       "min        0.326644\n",
       "25%        0.953657\n",
       "50%        1.304787\n",
       "75%        1.744601\n",
       "max        8.059094\n",
       "Name: True_Range_ratio, dtype: float64"
      ]
     },
     "execution_count": 69,
     "metadata": {},
     "output_type": "execute_result"
    }
   ],
   "source": [
    "df['True_Range_ratio'][(df['CPR'] >= 0.80) & (df['OPR'] <= 0.2)].describe()"
   ]
  },
  {
   "cell_type": "code",
   "execution_count": 87,
   "id": "1abc7fb4",
   "metadata": {},
   "outputs": [
    {
     "data": {
      "text/plain": [
       "count    356.000000\n",
       "mean       1.276441\n",
       "std        1.306923\n",
       "min        0.285732\n",
       "25%        0.735427\n",
       "50%        1.026313\n",
       "75%        1.476315\n",
       "max       16.133046\n",
       "Name: TRR_Prev, dtype: float64"
      ]
     },
     "execution_count": 87,
     "metadata": {},
     "output_type": "execute_result"
    }
   ],
   "source": [
    "df['TRR_Prev'][(df['OPR'] >= 0.80) & (df['CPR'] <= 0.2)].describe()"
   ]
  },
  {
   "cell_type": "code",
   "execution_count": 88,
   "id": "38a910f2",
   "metadata": {},
   "outputs": [
    {
     "data": {
      "text/plain": [
       "count    339.000000\n",
       "mean       1.254495\n",
       "std        0.862997\n",
       "min        0.276854\n",
       "25%        0.760998\n",
       "50%        1.066749\n",
       "75%        1.409783\n",
       "max        8.990246\n",
       "Name: TRR_Prev, dtype: float64"
      ]
     },
     "execution_count": 88,
     "metadata": {},
     "output_type": "execute_result"
    }
   ],
   "source": [
    "df['TRR_Prev'][(df['CPR'] >= 0.80) & (df['OPR'] <= 0.2)].describe()"
   ]
  },
  {
   "cell_type": "markdown",
   "id": "0fd1bdd7",
   "metadata": {},
   "source": [
    "### The above analysis (TRR_Prev) provides that there is no apparent indication about OPR day on the basis of previous day range"
   ]
  },
  {
   "cell_type": "markdown",
   "id": "a9be34b2",
   "metadata": {},
   "source": [
    "# NR4"
   ]
  },
  {
   "cell_type": "code",
   "execution_count": 12,
   "id": "b83dd0bb",
   "metadata": {},
   "outputs": [
    {
     "data": {
      "text/plain": [
       "count    151.000000\n",
       "mean       1.283287\n",
       "std        0.856930\n",
       "min        0.401487\n",
       "25%        0.719724\n",
       "50%        1.160962\n",
       "75%        1.545729\n",
       "max        7.958835\n",
       "Name: True_Range_ratio, dtype: float64"
      ]
     },
     "execution_count": 12,
     "metadata": {},
     "output_type": "execute_result"
    }
   ],
   "source": [
    "df['TRR_Prev2'] = df['True_Range_ratio'].shift(-2)\n",
    "df['TRR_Prev3'] = df['True_Range_ratio'].shift(-3)\n",
    "df['TRR_Prev4'] = df['True_Range_ratio'].shift(-4)\n",
    "\n",
    "df['True_Range_ratio'][(df['TRR_Prev'] < df['TRR_Prev2']) & ( df['TRR_Prev2'] < df['TRR_Prev3']) & ( df['TRR_Prev3'] < df['TRR_Prev4'])].describe()"
   ]
  },
  {
   "cell_type": "code",
   "execution_count": 40,
   "id": "8712d198",
   "metadata": {},
   "outputs": [
    {
     "data": {
      "text/plain": [
       "count    151.000000\n",
       "mean       0.535096\n",
       "std        0.339538\n",
       "min        0.000000\n",
       "25%        0.235325\n",
       "50%        0.554366\n",
       "75%        0.866869\n",
       "max        1.000000\n",
       "Name: OPR, dtype: float64"
      ]
     },
     "execution_count": 40,
     "metadata": {},
     "output_type": "execute_result"
    }
   ],
   "source": [
    "df['OPR'][(df['TRR_Prev'] < df['TRR_Prev2']) & ( df['TRR_Prev2'] < df['TRR_Prev3']) & ( df['TRR_Prev3'] < df['TRR_Prev4'])].describe()"
   ]
  },
  {
   "cell_type": "code",
   "execution_count": 42,
   "id": "41d6a1d0",
   "metadata": {},
   "outputs": [
    {
     "data": {
      "text/plain": [
       "(array([21., 14., 13., 11.,  9., 16.,  9.,  7., 19., 32.]),\n",
       " array([0. , 0.1, 0.2, 0.3, 0.4, 0.5, 0.6, 0.7, 0.8, 0.9, 1. ]),\n",
       " <BarContainer object of 10 artists>)"
      ]
     },
     "execution_count": 42,
     "metadata": {},
     "output_type": "execute_result"
    },
    {
     "data": {
      "image/png": "[encoded data removed]",
      "text/plain": [
       "<Figure size 432x288 with 1 Axes>"
      ]
     },
     "metadata": {
      "needs_background": "light"
     },
     "output_type": "display_data"
    }
   ],
   "source": [
    "plt.hist(df['OPR'][(df['TRR_Prev'] < df['TRR_Prev2']) & ( df['TRR_Prev2'] < df['TRR_Prev3']) & ( df['TRR_Prev3'] < df['TRR_Prev4'])],rwidth=0.95,bins=bin_range)"
   ]
  },
  {
   "cell_type": "code",
   "execution_count": 49,
   "id": "cbefdcbb",
   "metadata": {},
   "outputs": [
    {
     "data": {
      "text/plain": [
       "(array([193., 101.,  88., 109.,  90., 124., 106.,  94., 138., 297.]),\n",
       " array([0. , 0.1, 0.2, 0.3, 0.4, 0.5, 0.6, 0.7, 0.8, 0.9, 1. ]),\n",
       " <BarContainer object of 10 artists>)"
      ]
     },
     "execution_count": 49,
     "metadata": {},
     "output_type": "execute_result"
    },
    {
     "data": {
      "image/png": "[encoded data removed]",
      "text/plain": [
       "<Figure size 432x288 with 1 Axes>"
      ]
     },
     "metadata": {
      "needs_background": "light"
     },
     "output_type": "display_data"
    }
   ],
   "source": [
    "plt.hist(df['OPR'][(df['TRR_Prev'] < df['TRR_Prev2'])],rwidth=0.95,bins=bin_range)"
   ]
  },
  {
   "cell_type": "code",
   "execution_count": 83,
   "id": "54354158",
   "metadata": {},
   "outputs": [
    {
     "data": {
      "text/plain": [
       "count    1340.000000\n",
       "mean        0.548397\n",
       "std         0.336071\n",
       "min         0.000000\n",
       "25%         0.248944\n",
       "50%         0.571560\n",
       "75%         0.875738\n",
       "max         1.000000\n",
       "Name: OPR, dtype: float64"
      ]
     },
     "execution_count": 83,
     "metadata": {},
     "output_type": "execute_result"
    }
   ],
   "source": [
    "df['OPR'][(df['TRR_Prev'] < df['TRR_Prev2'])].describe()"
   ]
  },
  {
   "cell_type": "code",
   "execution_count": 70,
   "id": "3fe7fda9",
   "metadata": {},
   "outputs": [
    {
     "data": {
      "text/plain": [
       "(array([11.,  6., 10., 20., 19., 30., 49., 55., 52., 10.]),\n",
       " array([0. , 0.1, 0.2, 0.3, 0.4, 0.5, 0.6, 0.7, 0.8, 0.9, 1. ]),\n",
       " <BarContainer object of 10 artists>)"
      ]
     },
     "execution_count": 70,
     "metadata": {},
     "output_type": "execute_result"
    },
    {
     "data": {
      "image/png": "[encoded data removed]",
      "text/plain": [
       "<Figure size 432x288 with 1 Axes>"
      ]
     },
     "metadata": {
      "needs_background": "light"
     },
     "output_type": "display_data"
    }
   ],
   "source": [
    "plt.hist(df['Solid'][(df['TRR_Prev'] < 0.8) & (df['OPR'] > 0.79)],rwidth=0.95,bins=bin_range)"
   ]
  },
  {
   "cell_type": "code",
   "execution_count": 80,
   "id": "d49c2f17",
   "metadata": {},
   "outputs": [
    {
     "data": {
      "text/plain": [
       "count    160.000000\n",
       "mean       0.752972\n",
       "std        0.200148\n",
       "min        0.076714\n",
       "25%        0.648452\n",
       "50%        0.838482\n",
       "75%        0.900779\n",
       "max        0.966050\n",
       "Name: CPR, dtype: float64"
      ]
     },
     "execution_count": 80,
     "metadata": {},
     "output_type": "execute_result"
    }
   ],
   "source": [
    "df['CPR'][(df['TRR_Prev'] < 0.8) & (df['OPR'] < 0.2)].describe()"
   ]
  },
  {
   "cell_type": "code",
   "execution_count": 75,
   "id": "3c85ae60",
   "metadata": {},
   "outputs": [
    {
     "data": {
      "text/plain": [
       "count    259.000000\n",
       "mean       0.310051\n",
       "std        0.217240\n",
       "min        0.033240\n",
       "25%        0.134763\n",
       "50%        0.250996\n",
       "75%        0.432689\n",
       "max        0.948280\n",
       "Name: CPR, dtype: float64"
      ]
     },
     "execution_count": 75,
     "metadata": {},
     "output_type": "execute_result"
    }
   ],
   "source": [
    "df['CPR'][(df['TRR_Prev'] < 0.8) & (df['OPR'] > 0.8)].describe()"
   ]
  },
  {
   "cell_type": "markdown",
   "id": "b91173c9",
   "metadata": {},
   "source": [
    "### The above analysis concludes that, narrow range days doesn't provide any edge in predicting ORB trades"
   ]
  },
  {
   "cell_type": "markdown",
   "id": "9798307d",
   "metadata": {},
   "source": [
    "## After Expansion ( WS4 )"
   ]
  },
  {
   "cell_type": "code",
   "execution_count": 43,
   "id": "4a7f94d1",
   "metadata": {},
   "outputs": [
    {
     "data": {
      "text/plain": [
       "count    88.000000\n",
       "mean      1.263172\n",
       "std       0.983789\n",
       "min       0.476460\n",
       "25%       0.733777\n",
       "50%       1.003461\n",
       "75%       1.406128\n",
       "max       8.059094\n",
       "Name: True_Range_ratio, dtype: float64"
      ]
     },
     "execution_count": 43,
     "metadata": {},
     "output_type": "execute_result"
    }
   ],
   "source": [
    "df['True_Range_ratio'][(df['TRR_Prev'] > df['TRR_Prev2']) & ( df['TRR_Prev2'] > df['TRR_Prev3']) & ( df['TRR_Prev3'] > df['TRR_Prev4'])].describe()"
   ]
  },
  {
   "cell_type": "code",
   "execution_count": 44,
   "id": "37910779",
   "metadata": {},
   "outputs": [
    {
     "data": {
      "text/plain": [
       "(array([ 9.,  8.,  3.,  4.,  6., 13., 10., 11., 10., 14.]),\n",
       " array([0. , 0.1, 0.2, 0.3, 0.4, 0.5, 0.6, 0.7, 0.8, 0.9, 1. ]),\n",
       " <BarContainer object of 10 artists>)"
      ]
     },
     "execution_count": 44,
     "metadata": {},
     "output_type": "execute_result"
    },
    {
     "data": {
      "image/png": "[encoded data removed]",
      "text/plain": [
       "<Figure size 432x288 with 1 Axes>"
      ]
     },
     "metadata": {
      "needs_background": "light"
     },
     "output_type": "display_data"
    }
   ],
   "source": [
    "plt.hist(df['OPR'][(df['TRR_Prev'] > df['TRR_Prev2']) & ( df['TRR_Prev2'] > df['TRR_Prev3']) & ( df['TRR_Prev3'] > df['TRR_Prev4'])],rwidth=0.95,bins=bin_range)"
   ]
  },
  {
   "cell_type": "code",
   "execution_count": 84,
   "id": "45207e78",
   "metadata": {},
   "outputs": [
    {
     "data": {
      "text/plain": [
       "count    88.000000\n",
       "mean      0.575201\n",
       "std       0.301001\n",
       "min       0.000000\n",
       "25%       0.358656\n",
       "50%       0.615601\n",
       "75%       0.835091\n",
       "max       1.000000\n",
       "Name: OPR, dtype: float64"
      ]
     },
     "execution_count": 84,
     "metadata": {},
     "output_type": "execute_result"
    }
   ],
   "source": [
    "df['OPR'][(df['TRR_Prev'] > df['TRR_Prev2']) & ( df['TRR_Prev2'] > df['TRR_Prev3']) & ( df['TRR_Prev3'] > df['TRR_Prev4'])].describe()"
   ]
  },
  {
   "cell_type": "code",
   "execution_count": 48,
   "id": "631e6b5c",
   "metadata": {},
   "outputs": [
    {
     "data": {
      "text/plain": [
       "(array([173., 103.,  72., 104.,  82., 109., 112., 119., 121., 249.]),\n",
       " array([0. , 0.1, 0.2, 0.3, 0.4, 0.5, 0.6, 0.7, 0.8, 0.9, 1. ]),\n",
       " <BarContainer object of 10 artists>)"
      ]
     },
     "execution_count": 48,
     "metadata": {},
     "output_type": "execute_result"
    },
    {
     "data": {
      "image/png": "[encoded data removed]",
      "text/plain": [
       "<Figure size 432x288 with 1 Axes>"
      ]
     },
     "metadata": {
      "needs_background": "light"
     },
     "output_type": "display_data"
    }
   ],
   "source": [
    "plt.hist(df['OPR'][(df['TRR_Prev'] > df['TRR_Prev2'])],rwidth=0.95,bins=bin_range)"
   ]
  },
  {
   "cell_type": "code",
   "execution_count": 85,
   "id": "53860b45",
   "metadata": {},
   "outputs": [
    {
     "data": {
      "text/plain": [
       "count    1244.000000\n",
       "mean        0.544918\n",
       "std         0.329123\n",
       "min         0.000000\n",
       "25%         0.250300\n",
       "50%         0.580276\n",
       "75%         0.848592\n",
       "max         1.000000\n",
       "Name: OPR, dtype: float64"
      ]
     },
     "execution_count": 85,
     "metadata": {},
     "output_type": "execute_result"
    }
   ],
   "source": [
    "df['OPR'][(df['TRR_Prev'] > df['TRR_Prev2'])].describe()"
   ]
  },
  {
   "cell_type": "code",
   "execution_count": 52,
   "id": "dfa0c246",
   "metadata": {},
   "outputs": [
    {
     "data": {
      "text/plain": [
       "(array([ 95.,  55.,  36.,  62.,  47.,  68.,  69.,  50.,  64., 152.]),\n",
       " array([0. , 0.1, 0.2, 0.3, 0.4, 0.5, 0.6, 0.7, 0.8, 0.9, 1. ]),\n",
       " <BarContainer object of 10 artists>)"
      ]
     },
     "execution_count": 52,
     "metadata": {},
     "output_type": "execute_result"
    },
    {
     "data": {
      "image/png": "[encoded data removed]",
      "text/plain": [
       "<Figure size 432x288 with 1 Axes>"
      ]
     },
     "metadata": {
      "needs_background": "light"
     },
     "output_type": "display_data"
    }
   ],
   "source": [
    "plt.hist(df['OPR'][(df['TRR_Prev'] > 1.45)],rwidth=0.95,bins=bin_range)"
   ]
  },
  {
   "cell_type": "code",
   "execution_count": 86,
   "id": "38fb941e",
   "metadata": {},
   "outputs": [
    {
     "data": {
      "text/plain": [
       "count    698.000000\n",
       "mean       0.550834\n",
       "std        0.329539\n",
       "min        0.000000\n",
       "25%        0.265624\n",
       "50%        0.579924\n",
       "75%        0.864069\n",
       "max        1.000000\n",
       "Name: OPR, dtype: float64"
      ]
     },
     "execution_count": 86,
     "metadata": {},
     "output_type": "execute_result"
    }
   ],
   "source": [
    "df['OPR'][(df['TRR_Prev'] > 1.45)].describe()"
   ]
  },
  {
   "cell_type": "markdown",
   "id": "6fa4e1b8",
   "metadata": {},
   "source": [
    "#### Again, wide range candles also doesn't give you any added information about the impending ORB trade"
   ]
  },
  {
   "cell_type": "markdown",
   "id": "6a57712f",
   "metadata": {},
   "source": [
    "### 2) OPR, CPR of previous and next day compared to successful ORB trade"
   ]
  },
  {
   "cell_type": "code",
   "execution_count": 13,
   "id": "aaf253e6",
   "metadata": {},
   "outputs": [],
   "source": [
    "df['OPR_Next'] = df['OPR'].shift(1)\n",
    "df['CPR_Next'] = df['CPR'].shift(1)\n",
    "df['CPR_Prev'] = df['CPR'].shift(-1)\n",
    "df['OPR_Prev'] = df['OPR'].shift(-1)"
   ]
  },
  {
   "cell_type": "code",
   "execution_count": 90,
   "id": "8cb83740",
   "metadata": {},
   "outputs": [
    {
     "data": {
      "text/plain": [
       "count    339.000000\n",
       "mean       0.541502\n",
       "std        0.328489\n",
       "min        0.000000\n",
       "25%        0.259106\n",
       "50%        0.570115\n",
       "75%        0.836845\n",
       "max        1.000000\n",
       "Name: OPR_Prev, dtype: float64"
      ]
     },
     "execution_count": 90,
     "metadata": {},
     "output_type": "execute_result"
    }
   ],
   "source": [
    "df['OPR_Prev'][(df['CPR'] >= 0.80) & (df['OPR'] <= 0.2)].describe()"
   ]
  },
  {
   "cell_type": "code",
   "execution_count": 91,
   "id": "0f163325",
   "metadata": {},
   "outputs": [
    {
     "data": {
      "text/plain": [
       "count    339.000000\n",
       "mean       0.509259\n",
       "std        0.282896\n",
       "min        0.069620\n",
       "25%        0.250043\n",
       "50%        0.501562\n",
       "75%        0.792949\n",
       "max        0.954307\n",
       "Name: CPR_Prev, dtype: float64"
      ]
     },
     "execution_count": 91,
     "metadata": {},
     "output_type": "execute_result"
    }
   ],
   "source": [
    "df['CPR_Prev'][(df['CPR'] >= 0.80) & (df['OPR'] <= 0.2)].describe()"
   ]
  },
  {
   "cell_type": "code",
   "execution_count": 92,
   "id": "00d4686a",
   "metadata": {},
   "outputs": [
    {
     "data": {
      "text/plain": [
       "count    356.000000\n",
       "mean       0.560601\n",
       "std        0.310376\n",
       "min        0.000000\n",
       "25%        0.304172\n",
       "50%        0.574667\n",
       "75%        0.856474\n",
       "max        1.000000\n",
       "Name: OPR_Next, dtype: float64"
      ]
     },
     "execution_count": 92,
     "metadata": {},
     "output_type": "execute_result"
    }
   ],
   "source": [
    "df['OPR_Next'][(df['OPR'] >= 0.80) & (df['CPR'] <= 0.2)].describe()"
   ]
  },
  {
   "cell_type": "code",
   "execution_count": 93,
   "id": "6a37392d",
   "metadata": {},
   "outputs": [
    {
     "data": {
      "text/plain": [
       "count    356.000000\n",
       "mean       0.507007\n",
       "std        0.293436\n",
       "min        0.038998\n",
       "25%        0.221882\n",
       "50%        0.478695\n",
       "75%        0.800074\n",
       "max        0.967550\n",
       "Name: CPR_Next, dtype: float64"
      ]
     },
     "execution_count": 93,
     "metadata": {},
     "output_type": "execute_result"
    }
   ],
   "source": [
    "df['CPR_Next'][(df['OPR'] >= 0.80) & (df['CPR'] <= 0.2)].describe()"
   ]
  },
  {
   "cell_type": "code",
   "execution_count": 88,
   "id": "b473322e",
   "metadata": {},
   "outputs": [
    {
     "data": {
      "text/plain": [
       "count    356.000000\n",
       "mean       0.551470\n",
       "std        0.328650\n",
       "min        0.000000\n",
       "25%        0.245202\n",
       "50%        0.575307\n",
       "75%        0.859783\n",
       "max        1.000000\n",
       "Name: OPR_Prev, dtype: float64"
      ]
     },
     "execution_count": 88,
     "metadata": {},
     "output_type": "execute_result"
    }
   ],
   "source": [
    "df['OPR_Prev'][(df['CPR'] <= 0.20) & (df['OPR'] >= 0.8)].describe()"
   ]
  },
  {
   "cell_type": "code",
   "execution_count": 90,
   "id": "8c1d6b08",
   "metadata": {},
   "outputs": [
    {
     "data": {
      "text/plain": [
       "count    339.000000\n",
       "mean       0.531876\n",
       "std        0.340988\n",
       "min        0.000000\n",
       "25%        0.184877\n",
       "50%        0.592439\n",
       "75%        0.848643\n",
       "max        1.000000\n",
       "Name: OPR_Next, dtype: float64"
      ]
     },
     "execution_count": 90,
     "metadata": {},
     "output_type": "execute_result"
    }
   ],
   "source": [
    "df['OPR_Next'][(df['CPR'] >= 0.80) & (df['OPR'] <= 0.2)].describe()"
   ]
  },
  {
   "cell_type": "code",
   "execution_count": 91,
   "id": "3be7970c",
   "metadata": {},
   "outputs": [
    {
     "data": {
      "text/plain": [
       "count    339.000000\n",
       "mean       0.535253\n",
       "std        0.282022\n",
       "min        0.046209\n",
       "25%        0.289210\n",
       "50%        0.530372\n",
       "75%        0.798345\n",
       "max        0.962774\n",
       "Name: CPR_Next, dtype: float64"
      ]
     },
     "execution_count": 91,
     "metadata": {},
     "output_type": "execute_result"
    }
   ],
   "source": [
    "df['CPR_Next'][(df['CPR'] >= 0.80) & (df['OPR'] <= 0.2)].describe()"
   ]
  },
  {
   "cell_type": "markdown",
   "id": "b7340804",
   "metadata": {},
   "source": [
    "## Checking for directional bias after trending days\n"
   ]
  },
  {
   "cell_type": "code",
   "execution_count": 14,
   "id": "f2a15d17",
   "metadata": {},
   "outputs": [
    {
     "data": {
      "text/plain": [
       "count    88.000000\n",
       "mean      0.730949\n",
       "std       0.205079\n",
       "min       0.189922\n",
       "25%       0.614104\n",
       "50%       0.804782\n",
       "75%       0.899597\n",
       "max       0.962774\n",
       "Name: CPR_Next, dtype: float64"
      ]
     },
     "execution_count": 14,
     "metadata": {},
     "output_type": "execute_result"
    }
   ],
   "source": [
    "df['CPR_Next'][(df['CPR'] >= 0.80) & (df['OPR'] <= 0.2) & (df['OPR_Next'] <= 0.2)].describe()"
   ]
  },
  {
   "cell_type": "code",
   "execution_count": 94,
   "id": "8bc83d4a",
   "metadata": {},
   "outputs": [
    {
     "data": {
      "text/plain": [
       "count    100.000000\n",
       "mean       0.345566\n",
       "std        0.235369\n",
       "min        0.051352\n",
       "25%        0.142462\n",
       "50%        0.311169\n",
       "75%        0.493542\n",
       "max        0.924213\n",
       "Name: CPR_Next, dtype: float64"
      ]
     },
     "execution_count": 94,
     "metadata": {},
     "output_type": "execute_result"
    }
   ],
   "source": [
    "df['CPR_Next'][(df['CPR'] >= 0.80) & (df['OPR'] <= 0.2) & (df['OPR_Next'] >= 0.8)].describe()"
   ]
  },
  {
   "cell_type": "code",
   "execution_count": 95,
   "id": "0459627e",
   "metadata": {},
   "outputs": [
    {
     "data": {
      "text/plain": [
       "count    103.000000\n",
       "mean       0.281003\n",
       "std        0.185243\n",
       "min        0.057082\n",
       "25%        0.124529\n",
       "50%        0.242472\n",
       "75%        0.390167\n",
       "max        0.826845\n",
       "Name: CPR_Next, dtype: float64"
      ]
     },
     "execution_count": 95,
     "metadata": {},
     "output_type": "execute_result"
    }
   ],
   "source": [
    "df['CPR_Next'][(df['CPR'] <= 0.20) & (df['OPR'] >= 0.8) & (df['OPR_Next'] >= 0.8)].describe()"
   ]
  },
  {
   "cell_type": "code",
   "execution_count": 99,
   "id": "4775ba57",
   "metadata": {},
   "outputs": [
    {
     "data": {
      "text/plain": [
       "count    61.000000\n",
       "mean      0.779079\n",
       "std       0.177703\n",
       "min       0.220039\n",
       "25%       0.702956\n",
       "50%       0.829921\n",
       "75%       0.913392\n",
       "max       0.967550\n",
       "Name: CPR_Next, dtype: float64"
      ]
     },
     "execution_count": 99,
     "metadata": {},
     "output_type": "execute_result"
    }
   ],
   "source": [
    "df['CPR_Next'][(df['CPR'] <= 0.20) & (df['OPR'] >= 0.8) & (df['OPR_Next'] <= 0.2)].describe()"
   ]
  },
  {
   "cell_type": "markdown",
   "id": "9e0828a9",
   "metadata": {},
   "source": [
    "#### So after a down trending move, there's no significant directional bias as such but for an uptrending move there is an edge towards bearish side\n"
   ]
  },
  {
   "cell_type": "markdown",
   "id": "231cf01a",
   "metadata": {},
   "source": [
    "## Directional Bias after trending days based on Gaps"
   ]
  },
  {
   "cell_type": "code",
   "execution_count": 144,
   "id": "f505ae4d",
   "metadata": {},
   "outputs": [
    {
     "data": {
      "text/plain": [
       "count    138.000000\n",
       "mean       0.603376\n",
       "std        0.301917\n",
       "min        0.000000\n",
       "25%        0.378167\n",
       "50%        0.607907\n",
       "75%        0.888784\n",
       "max        1.000000\n",
       "Name: OPR_Next, dtype: float64"
      ]
     },
     "execution_count": 144,
     "metadata": {},
     "output_type": "execute_result"
    }
   ],
   "source": [
    "df['OPR_Next'][(df['CPR'] <= 0.20) & (df['OPR'] >= 0.8) & (df['Open'] < df['Prev_Close']) ].describe()"
   ]
  },
  {
   "cell_type": "code",
   "execution_count": 145,
   "id": "c4c3e9ff",
   "metadata": {},
   "outputs": [
    {
     "data": {
      "text/plain": [
       "(array([ 9.,  9.,  6., 16.,  9., 20., 12.,  9., 15., 33.]),\n",
       " array([0. , 0.1, 0.2, 0.3, 0.4, 0.5, 0.6, 0.7, 0.8, 0.9, 1. ]),\n",
       " <BarContainer object of 10 artists>)"
      ]
     },
     "execution_count": 145,
     "metadata": {},
     "output_type": "execute_result"
    },
    {
     "data": {
      "image/png": "[encoded data removed]",
      "text/plain": [
       "<Figure size 432x288 with 1 Axes>"
      ]
     },
     "metadata": {
      "needs_background": "light"
     },
     "output_type": "display_data"
    }
   ],
   "source": [
    "plt.hist(df['OPR_Next'][(df['CPR'] <= 0.20) & (df['OPR'] >= 0.8) & (df['Open'] < df['Prev_Close']) ],rwidth=0.95,bins=bin_range)"
   ]
  },
  {
   "cell_type": "markdown",
   "id": "365ed3ad",
   "metadata": {},
   "source": [
    "### The above histogram, i came across was just by fluke. But it suggests strong directional bias for days after large fall whose open is below prev days low. \n"
   ]
  },
  {
   "cell_type": "code",
   "execution_count": 153,
   "id": "2fa616d4",
   "metadata": {},
   "outputs": [
    {
     "data": {
      "text/plain": [
       "count    244.000000\n",
       "mean       0.568546\n",
       "std        0.331655\n",
       "min        0.000000\n",
       "25%        0.314746\n",
       "50%        0.616076\n",
       "75%        0.868647\n",
       "max        1.000000\n",
       "Name: OPR_Next, dtype: float64"
      ]
     },
     "execution_count": 153,
     "metadata": {},
     "output_type": "execute_result"
    }
   ],
   "source": [
    "df['Open_Next'] = df['Open'].shift(1)\n",
    "df['OPR_Next'][(df['CPR'] >= 0.80) & (df['OPR'] <= 0.2) &  (df['Open_Next'] > df['Close'])].describe()"
   ]
  },
  {
   "cell_type": "code",
   "execution_count": 152,
   "id": "436cae06",
   "metadata": {},
   "outputs": [
    {
     "data": {
      "text/plain": [
       "(array([38., 14.,  8., 14., 18., 21., 34., 20., 22., 55.]),\n",
       " array([0. , 0.1, 0.2, 0.3, 0.4, 0.5, 0.6, 0.7, 0.8, 0.9, 1. ]),\n",
       " <BarContainer object of 10 artists>)"
      ]
     },
     "execution_count": 152,
     "metadata": {},
     "output_type": "execute_result"
    },
    {
     "data": {
      "image/png": "[encoded data removed]",
      "text/plain": [
       "<Figure size 432x288 with 1 Axes>"
      ]
     },
     "metadata": {
      "needs_background": "light"
     },
     "output_type": "display_data"
    }
   ],
   "source": [
    "plt.hist(df['OPR_Next'][(df['CPR'] >= 0.80) & (df['OPR'] <= 0.2) &  (df['Open_Next'] > df['Close'])],rwidth=0.95,bins=bin_range)"
   ]
  },
  {
   "cell_type": "code",
   "execution_count": 154,
   "id": "4d2a9256",
   "metadata": {},
   "outputs": [
    {
     "data": {
      "text/plain": [
       "count    94.000000\n",
       "mean      0.442347\n",
       "std       0.347139\n",
       "min       0.000000\n",
       "25%       0.110139\n",
       "50%       0.375565\n",
       "75%       0.794794\n",
       "max       1.000000\n",
       "Name: OPR_Next, dtype: float64"
      ]
     },
     "execution_count": 154,
     "metadata": {},
     "output_type": "execute_result"
    }
   ],
   "source": [
    "df['Open_Next'] = df['Open'].shift(1)\n",
    "df['OPR_Next'][(df['CPR'] >= 0.80) & (df['OPR'] <= 0.2) &  (df['Open_Next'] < df['Close'])].describe()"
   ]
  },
  {
   "cell_type": "code",
   "execution_count": 155,
   "id": "7e9a941c",
   "metadata": {},
   "outputs": [
    {
     "data": {
      "text/plain": [
       "(array([21., 14.,  6.,  8.,  3.,  6.,  7.,  6., 10., 13.]),\n",
       " array([0. , 0.1, 0.2, 0.3, 0.4, 0.5, 0.6, 0.7, 0.8, 0.9, 1. ]),\n",
       " <BarContainer object of 10 artists>)"
      ]
     },
     "execution_count": 155,
     "metadata": {},
     "output_type": "execute_result"
    },
    {
     "data": {
      "image/png": "[encoded data removed]",
      "text/plain": [
       "<Figure size 432x288 with 1 Axes>"
      ]
     },
     "metadata": {
      "needs_background": "light"
     },
     "output_type": "display_data"
    }
   ],
   "source": [
    "plt.hist(df['OPR_Next'][(df['CPR'] >= 0.80) & (df['OPR'] <= 0.2) &  (df['Open_Next'] < df['Close'])],rwidth=0.95,bins=bin_range)"
   ]
  },
  {
   "cell_type": "markdown",
   "id": "ccb94b17",
   "metadata": {},
   "source": [
    "#### After up-trending day, there are high chances that it would open gap up. ( 70% of the times )\n",
    "#### If it opens gap down, chances are that it may have another leg up for the coming day"
   ]
  },
  {
   "cell_type": "code",
   "execution_count": 156,
   "id": "f1519da3",
   "metadata": {},
   "outputs": [
    {
     "data": {
      "text/plain": [
       "count    148.000000\n",
       "mean       0.541880\n",
       "std        0.303039\n",
       "min        0.000000\n",
       "25%        0.310595\n",
       "50%        0.548534\n",
       "75%        0.785292\n",
       "max        1.000000\n",
       "Name: OPR_Next, dtype: float64"
      ]
     },
     "execution_count": 156,
     "metadata": {},
     "output_type": "execute_result"
    }
   ],
   "source": [
    "df['OPR_Next'][(df['CPR'] <= 0.20) & (df['OPR'] >= 0.8) & (df['Open_Next'] < df['Close'])].describe()"
   ]
  },
  {
   "cell_type": "code",
   "execution_count": 159,
   "id": "b5a7785d",
   "metadata": {},
   "outputs": [
    {
     "data": {
      "text/plain": [
       "(array([14., 12.,  8., 17., 13., 22., 12., 16.,  7., 27.]),\n",
       " array([0. , 0.1, 0.2, 0.3, 0.4, 0.5, 0.6, 0.7, 0.8, 0.9, 1. ]),\n",
       " <BarContainer object of 10 artists>)"
      ]
     },
     "execution_count": 159,
     "metadata": {},
     "output_type": "execute_result"
    },
    {
     "data": {
      "image/png": "[encoded data removed]",
      "text/plain": [
       "<Figure size 432x288 with 1 Axes>"
      ]
     },
     "metadata": {
      "needs_background": "light"
     },
     "output_type": "display_data"
    }
   ],
   "source": [
    "plt.hist(df['OPR_Next'][(df['CPR'] <= 0.20) & (df['OPR'] >= 0.8) & (df['Open_Next'] < df['Close'])],rwidth=0.95,bins=bin_range)"
   ]
  },
  {
   "cell_type": "code",
   "execution_count": 157,
   "id": "21bdb432",
   "metadata": {},
   "outputs": [
    {
     "data": {
      "text/plain": [
       "count    208.000000\n",
       "mean       0.573922\n",
       "std        0.315541\n",
       "min        0.000000\n",
       "25%        0.288923\n",
       "50%        0.589459\n",
       "75%        0.884076\n",
       "max        1.000000\n",
       "Name: OPR_Next, dtype: float64"
      ]
     },
     "execution_count": 157,
     "metadata": {},
     "output_type": "execute_result"
    }
   ],
   "source": [
    "df['OPR_Next'][(df['CPR'] <= 0.20) & (df['OPR'] >= 0.8) & (df['Open_Next'] > df['Close'])].describe()"
   ]
  },
  {
   "cell_type": "code",
   "execution_count": 160,
   "id": "d564a77f",
   "metadata": {},
   "outputs": [
    {
     "data": {
      "text/plain": [
       "(array([18., 17., 19., 16., 16., 19., 20., 14., 23., 46.]),\n",
       " array([0. , 0.1, 0.2, 0.3, 0.4, 0.5, 0.6, 0.7, 0.8, 0.9, 1. ]),\n",
       " <BarContainer object of 10 artists>)"
      ]
     },
     "execution_count": 160,
     "metadata": {},
     "output_type": "execute_result"
    },
    {
     "data": {
      "image/png": "[encoded data removed]",
      "text/plain": [
       "<Figure size 432x288 with 1 Axes>"
      ]
     },
     "metadata": {
      "needs_background": "light"
     },
     "output_type": "display_data"
    }
   ],
   "source": [
    "plt.hist(df['OPR_Next'][(df['CPR'] <= 0.20) & (df['OPR'] >= 0.8) & (df['Open_Next'] > df['Close'])],rwidth=0.95,bins=bin_range)"
   ]
  },
  {
   "cell_type": "markdown",
   "id": "facd6a59",
   "metadata": {},
   "source": [
    "#### Gap up open is more likely on the cards after a sell off. And once it opens gap up there are high chances that it maybe the high for the day.\n",
    "#### Gap down opens doesn't trend well at all !! Its the lowest ORB % shown as of now."
   ]
  },
  {
   "cell_type": "markdown",
   "id": "432d2fc4",
   "metadata": {},
   "source": [
    "## Identifying Stop-Loss on Trending days"
   ]
  },
  {
   "cell_type": "code",
   "execution_count": 15,
   "id": "15d6b8fc",
   "metadata": {},
   "outputs": [],
   "source": [
    "df['Prev_Close'] = df['Close'].shift(-1)\n",
    "df['Open-Low%'] = ((df['Open'] - df['Low'])/df['Prev_Close'])*100\n",
    "df['Open-High%'] = ((df['High'] - df['Open'])/df['Prev_Close'])*100"
   ]
  },
  {
   "cell_type": "code",
   "execution_count": 102,
   "id": "1044f714",
   "metadata": {},
   "outputs": [
    {
     "data": {
      "text/plain": [
       "count    2586.000000\n",
       "mean        0.699112\n",
       "std         0.749790\n",
       "min         0.000000\n",
       "25%         0.230131\n",
       "50%         0.517658\n",
       "75%         0.943692\n",
       "max        16.013546\n",
       "Name: Open-Low%, dtype: float64"
      ]
     },
     "execution_count": 102,
     "metadata": {},
     "output_type": "execute_result"
    }
   ],
   "source": [
    "df['Open-Low%'].describe()"
   ]
  },
  {
   "cell_type": "code",
   "execution_count": 103,
   "id": "2fbd7554",
   "metadata": {},
   "outputs": [
    {
     "data": {
      "text/plain": [
       "count    2586.000000\n",
       "mean        0.554006\n",
       "std         0.648791\n",
       "min         0.000000\n",
       "25%         0.141955\n",
       "50%         0.384156\n",
       "75%         0.752404\n",
       "max        10.967560\n",
       "Name: Open-High%, dtype: float64"
      ]
     },
     "execution_count": 103,
     "metadata": {},
     "output_type": "execute_result"
    }
   ],
   "source": [
    "df['Open-High%'].describe()"
   ]
  },
  {
   "cell_type": "code",
   "execution_count": 21,
   "id": "067bf523",
   "metadata": {},
   "outputs": [
    {
     "data": {
      "text/plain": [
       "count    546.000000\n",
       "mean       0.393813\n",
       "std        0.334591\n",
       "min        0.088936\n",
       "25%        0.238944\n",
       "50%        0.324881\n",
       "75%        0.454367\n",
       "max        5.760628\n",
       "Name: Open-Low%, dtype: float64"
      ]
     },
     "execution_count": 21,
     "metadata": {},
     "output_type": "execute_result"
    }
   ],
   "source": [
    "df['Open-Low%'][(df['OPR'] > 0.2) & (df['OPR'] < 0.5)].describe()"
   ]
  },
  {
   "cell_type": "code",
   "execution_count": 19,
   "id": "33bfb702",
   "metadata": {},
   "outputs": [
    {
     "data": {
      "text/plain": [
       "count    546.000000\n",
       "mean       0.732935\n",
       "std        0.642162\n",
       "min        0.167005\n",
       "25%        0.435020\n",
       "50%        0.604965\n",
       "75%        0.863291\n",
       "max       10.967560\n",
       "Name: Open-High%, dtype: float64"
      ]
     },
     "execution_count": 19,
     "metadata": {},
     "output_type": "execute_result"
    }
   ],
   "source": [
    "df['Open-High%'][(df['OPR'] > 0.2) & (df['OPR'] < 0.5)].describe()"
   ]
  },
  {
   "cell_type": "markdown",
   "id": "23b2fbe3",
   "metadata": {},
   "source": [
    "### So if your assumption is trendless then generally the move doesn't go beyond 0.75% of previous day's close, for more than 80% of the times. So, just in case, if you are trying to fade the move off the open, and it moves beyond 0.75% then chances are that it will continue to move against you. Resulting in a huge loss."
   ]
  },
  {
   "cell_type": "code",
   "execution_count": 165,
   "id": "70a99ea5",
   "metadata": {},
   "outputs": [
    {
     "data": {
      "text/plain": [
       "count    585.000000\n",
       "mean       0.098615\n",
       "std        0.122895\n",
       "min        0.000000\n",
       "25%        0.014770\n",
       "50%        0.066650\n",
       "75%        0.140509\n",
       "max        1.285790\n",
       "Name: Open-Low%, dtype: float64"
      ]
     },
     "execution_count": 165,
     "metadata": {},
     "output_type": "execute_result"
    }
   ],
   "source": [
    "df['Open-Low%'][(df['OPR'] < 0.21)].describe()"
   ]
  },
  {
   "cell_type": "code",
   "execution_count": 166,
   "id": "14606023",
   "metadata": {},
   "outputs": [
    {
     "data": {
      "text/plain": [
       "count    824.000000\n",
       "mean       0.094677\n",
       "std        0.104948\n",
       "min        0.000000\n",
       "25%        0.018200\n",
       "50%        0.065441\n",
       "75%        0.139588\n",
       "max        1.039183\n",
       "Name: Open-High%, dtype: float64"
      ]
     },
     "execution_count": 166,
     "metadata": {},
     "output_type": "execute_result"
    }
   ],
   "source": [
    "df['Open-High%'][(df['OPR'] > 0.79)].describe()"
   ]
  },
  {
   "cell_type": "markdown",
   "id": "b8bf2d4f",
   "metadata": {},
   "source": [
    "### Conclusion : From the above based numbers, Stop Loss for ORB trades should be placed 0.2-0.3% below/above the open\n",
    "\n",
    "#### But max. loss on ORB trades is only 1%. We can combine this information with the previous study that trendless days tend to max out at 0.75% from open and prepare some cool setups."
   ]
  },
  {
   "cell_type": "code",
   "execution_count": 176,
   "id": "65fa62c0",
   "metadata": {},
   "outputs": [
    {
     "data": {
      "text/plain": [
       "count    570.000000\n",
       "mean       1.217777\n",
       "std        0.786417\n",
       "min        0.301271\n",
       "25%        0.705350\n",
       "50%        1.051192\n",
       "75%        1.496102\n",
       "max        8.224587\n",
       "Name: Open-High%, dtype: float64"
      ]
     },
     "execution_count": 176,
     "metadata": {},
     "output_type": "execute_result"
    }
   ],
   "source": [
    "df['Open-High%'][(df['OPR'] < 0.2)].describe()"
   ]
  },
  {
   "cell_type": "code",
   "execution_count": 175,
   "id": "46e3a220",
   "metadata": {},
   "outputs": [
    {
     "data": {
      "text/plain": [
       "count    805.000000\n",
       "mean       1.304169\n",
       "std        0.929986\n",
       "min        0.235746\n",
       "25%        0.766339\n",
       "50%        1.059995\n",
       "75%        1.585306\n",
       "max       16.013546\n",
       "Name: Open-Low%, dtype: float64"
      ]
     },
     "execution_count": 175,
     "metadata": {},
     "output_type": "execute_result"
    }
   ],
   "source": [
    "df['Open-Low%'][(df['OPR'] > 0.8)].describe()"
   ]
  },
  {
   "cell_type": "markdown",
   "id": "94084744",
   "metadata": {},
   "source": [
    "### Range Compared to previous days close"
   ]
  },
  {
   "cell_type": "code",
   "execution_count": 16,
   "id": "5287a6ae",
   "metadata": {},
   "outputs": [
    {
     "data": {
      "text/plain": [
       "count    2586.000000\n",
       "mean        1.253119\n",
       "std         0.875002\n",
       "min         0.247007\n",
       "25%         0.751041\n",
       "50%         1.057138\n",
       "75%         1.490668\n",
       "max        16.728188\n",
       "Name: Range~Prev_Close, dtype: float64"
      ]
     },
     "execution_count": 16,
     "metadata": {},
     "output_type": "execute_result"
    }
   ],
   "source": [
    "df['Range~Prev_Close'] = ((df['High'] - df['Low'])/df['Prev_Close'])*100\n",
    "df['Range~Prev_Close'].describe()"
   ]
  },
  {
   "cell_type": "code",
   "execution_count": 169,
   "id": "786537d8",
   "metadata": {},
   "outputs": [
    {
     "data": {
      "text/plain": [
       "count    72.000000\n",
       "mean      2.339115\n",
       "std       1.499566\n",
       "min       1.088061\n",
       "25%       1.534393\n",
       "50%       1.885609\n",
       "75%       2.391655\n",
       "max       8.529177\n",
       "Name: Range~Prev_Close, dtype: float64"
      ]
     },
     "execution_count": 169,
     "metadata": {},
     "output_type": "execute_result"
    }
   ],
   "source": [
    "df['Range~Prev_Close'][(df['OPR'] <= 0.2) & (df['Open-Low%'] > 0.2)].describe()"
   ]
  },
  {
   "cell_type": "code",
   "execution_count": 125,
   "id": "be3b9f5b",
   "metadata": {},
   "outputs": [
    {
     "data": {
      "text/plain": [
       "count    92.000000\n",
       "mean      2.093712\n",
       "std       1.058531\n",
       "min       1.017183\n",
       "25%       1.391346\n",
       "50%       1.793193\n",
       "75%       2.479307\n",
       "max       8.035017\n",
       "Name: Range~Prev_Close, dtype: float64"
      ]
     },
     "execution_count": 125,
     "metadata": {},
     "output_type": "execute_result"
    }
   ],
   "source": [
    "df['Range~Prev_Close'][(df['OPR'] >= 0.8) & (df['Open-High%'] > 0.2)].describe()"
   ]
  },
  {
   "cell_type": "code",
   "execution_count": 130,
   "id": "b10b2ea5",
   "metadata": {},
   "outputs": [
    {
     "data": {
      "text/plain": [
       "count    92.000000\n",
       "mean      0.291971\n",
       "std       0.253052\n",
       "min       0.053977\n",
       "25%       0.104997\n",
       "50%       0.176909\n",
       "75%       0.391248\n",
       "max       0.948280\n",
       "Name: CPR, dtype: float64"
      ]
     },
     "execution_count": 130,
     "metadata": {},
     "output_type": "execute_result"
    }
   ],
   "source": [
    "df['CPR'][(df['OPR'] >= 0.8) & (df['Open-High%'] > 0.2)].describe()"
   ]
  },
  {
   "cell_type": "code",
   "execution_count": 131,
   "id": "b081fa8f",
   "metadata": {},
   "outputs": [
    {
     "data": {
      "text/plain": [
       "count    72.000000\n",
       "mean      0.754066\n",
       "std       0.250619\n",
       "min       0.069586\n",
       "25%       0.673961\n",
       "50%       0.870422\n",
       "75%       0.926782\n",
       "max       0.967550\n",
       "Name: CPR, dtype: float64"
      ]
     },
     "execution_count": 131,
     "metadata": {},
     "output_type": "execute_result"
    }
   ],
   "source": [
    "df['CPR'][(df['OPR'] <= 0.2) & (df['Open-Low%'] > 0.2)].describe()"
   ]
  },
  {
   "cell_type": "markdown",
   "id": "47624210",
   "metadata": {},
   "source": [
    "#### Interesting point to note is that the outliers who tend to move around a bit more ( df['Open-Low%'] & df['Open-High%']/  > 0.2) than the norm, tend to generate good returns once they start moving in the right direction."
   ]
  },
  {
   "cell_type": "markdown",
   "id": "be6a6dad",
   "metadata": {},
   "source": [
    "### R2R on both of this types"
   ]
  },
  {
   "cell_type": "code",
   "execution_count": 126,
   "id": "b70cf0ad",
   "metadata": {},
   "outputs": [
    {
     "data": {
      "text/plain": [
       "count    713.000000\n",
       "mean       1.304363\n",
       "std        0.904247\n",
       "min        0.286397\n",
       "25%        0.784543\n",
       "50%        1.089358\n",
       "75%        1.572036\n",
       "max       16.019594\n",
       "Name: Range~Prev_Close, dtype: float64"
      ]
     },
     "execution_count": 126,
     "metadata": {},
     "output_type": "execute_result"
    }
   ],
   "source": [
    "df['Range~Prev_Close'][(df['OPR'] >= 0.8) & (df['Open-High%'] < 0.2)].describe()"
   ]
  },
  {
   "cell_type": "code",
   "execution_count": 127,
   "id": "44a96e6c",
   "metadata": {},
   "outputs": [
    {
     "data": {
      "text/plain": [
       "count    498.000000\n",
       "mean       1.164401\n",
       "std        0.576549\n",
       "min        0.329121\n",
       "25%        0.746040\n",
       "50%        1.048624\n",
       "75%        1.436424\n",
       "max        4.465204\n",
       "Name: Range~Prev_Close, dtype: float64"
      ]
     },
     "execution_count": 127,
     "metadata": {},
     "output_type": "execute_result"
    }
   ],
   "source": [
    "df['Range~Prev_Close'][(df['OPR'] <= 0.2) & (df['Open-Low%'] < 0.2)].describe()"
   ]
  },
  {
   "cell_type": "code",
   "execution_count": 128,
   "id": "ac6aae02",
   "metadata": {},
   "outputs": [
    {
     "data": {
      "text/plain": [
       "count    713.000000\n",
       "mean       0.312979\n",
       "std        0.218524\n",
       "min        0.033240\n",
       "25%        0.131389\n",
       "50%        0.247466\n",
       "75%        0.442969\n",
       "max        0.926172\n",
       "Name: CPR, dtype: float64"
      ]
     },
     "execution_count": 128,
     "metadata": {},
     "output_type": "execute_result"
    }
   ],
   "source": [
    "df['CPR'][(df['OPR'] >= 0.8) & (df['Open-High%'] < 0.2)].describe()"
   ]
  },
  {
   "cell_type": "code",
   "execution_count": 132,
   "id": "45ff62b9",
   "metadata": {},
   "outputs": [
    {
     "data": {
      "text/plain": [
       "count    498.000000\n",
       "mean       0.754911\n",
       "std        0.194065\n",
       "min        0.076714\n",
       "25%        0.653634\n",
       "50%        0.836480\n",
       "75%        0.900780\n",
       "max        0.966050\n",
       "Name: CPR, dtype: float64"
      ]
     },
     "execution_count": 132,
     "metadata": {},
     "output_type": "execute_result"
    }
   ],
   "source": [
    "df['CPR'][(df['OPR'] <= 0.2) & (df['Open-Low%'] < 0.2)].describe()"
   ]
  },
  {
   "cell_type": "markdown",
   "id": "e7b586be",
   "metadata": {},
   "source": []
  },
  {
   "cell_type": "code",
   "execution_count": 171,
   "id": "e72c8e82",
   "metadata": {},
   "outputs": [
    {
     "data": {
      "text/plain": [
       "498.79889733457867"
      ]
     },
     "execution_count": 171,
     "metadata": {},
     "output_type": "execute_result"
    }
   ],
   "source": [
    "df['Solid'][df['OPR'] > 0.8].sum()"
   ]
  },
  {
   "cell_type": "code",
   "execution_count": 172,
   "id": "a4d2dc08",
   "metadata": {},
   "outputs": [
    {
     "data": {
      "text/plain": [
       "388.262286961851"
      ]
     },
     "execution_count": 172,
     "metadata": {},
     "output_type": "execute_result"
    }
   ],
   "source": [
    "df['Solid'][df['OPR'] < 0.2].sum()"
   ]
  },
  {
   "cell_type": "code",
   "execution_count": null,
   "id": "dffaf69f",
   "metadata": {},
   "outputs": [],
   "source": []
  },
  {
   "cell_type": "markdown",
   "id": "35be5d8b",
   "metadata": {},
   "source": [
    "###  3) Two consecutive trending days"
   ]
  },
  {
   "cell_type": "code",
   "execution_count": 106,
   "id": "c75f8b4c",
   "metadata": {},
   "outputs": [
    {
     "data": {
      "text/plain": [
       "count    46.000000\n",
       "mean      1.631111\n",
       "std       0.720346\n",
       "min       0.587260\n",
       "25%       1.095179\n",
       "50%       1.425943\n",
       "75%       2.155704\n",
       "max       3.720404\n",
       "Name: True_Range_ratio, dtype: float64"
      ]
     },
     "execution_count": 106,
     "metadata": {},
     "output_type": "execute_result"
    }
   ],
   "source": [
    "df['True_Range_ratio'][(df['OPR'] >= 0.80) & (df['OPR_Prev'] >= 0.8) & (df['CPR_Prev'] <= 0.2) & (df['CPR'] <= 0.2) ].describe()"
   ]
  },
  {
   "cell_type": "code",
   "execution_count": 110,
   "id": "d943cfb7",
   "metadata": {},
   "outputs": [
    {
     "data": {
      "text/plain": [
       "count    44.000000\n",
       "mean      1.278755\n",
       "std       0.506259\n",
       "min       0.514062\n",
       "25%       0.925167\n",
       "50%       1.158003\n",
       "75%       1.597088\n",
       "max       2.637499\n",
       "Name: True_Range_ratio, dtype: float64"
      ]
     },
     "execution_count": 110,
     "metadata": {},
     "output_type": "execute_result"
    }
   ],
   "source": [
    "df['True_Range_ratio'][(df['OPR'] <= 0.2) & (df['OPR_Prev'] <= 0.2) & (df['CPR_Prev'] >= 0.8) & (df['CPR'] >= 0.8)].describe()"
   ]
  },
  {
   "cell_type": "markdown",
   "id": "afbf1902",
   "metadata": {},
   "source": [
    "### 4) Gaps after trending days "
   ]
  },
  {
   "cell_type": "code",
   "execution_count": 100,
   "id": "3d0b39c8",
   "metadata": {},
   "outputs": [],
   "source": [
    "df['Gap%'] = ((df['Open'] - df['Close'].shift(-1))/df['Close'].shift(-1))*100"
   ]
  },
  {
   "cell_type": "code",
   "execution_count": 101,
   "id": "7fa7b744",
   "metadata": {},
   "outputs": [
    {
     "data": {
      "text/plain": [
       "count    2586.000000\n",
       "mean        0.121979\n",
       "std         0.785483\n",
       "min        -9.144236\n",
       "25%        -0.086822\n",
       "50%         0.113176\n",
       "75%         0.361896\n",
       "max        19.829623\n",
       "Name: Gap%, dtype: float64"
      ]
     },
     "execution_count": 101,
     "metadata": {},
     "output_type": "execute_result"
    }
   ],
   "source": [
    "df['Gap%'].describe()"
   ]
  },
  {
   "cell_type": "code",
   "execution_count": 103,
   "id": "ff4b3eaa",
   "metadata": {},
   "outputs": [],
   "source": [
    "df['Abs_Gap%'] = ((abs(df['Open'] - df['Close'].shift(-1)))/df['Close'].shift(-1))*100"
   ]
  },
  {
   "cell_type": "code",
   "execution_count": 104,
   "id": "ddb5a30b",
   "metadata": {},
   "outputs": [
    {
     "data": {
      "text/plain": [
       "count    2586.000000\n",
       "mean        0.410207\n",
       "std         0.680832\n",
       "min         0.000000\n",
       "25%         0.103453\n",
       "50%         0.266349\n",
       "75%         0.496533\n",
       "max        19.829623\n",
       "Name: Abs_Gap%, dtype: float64"
      ]
     },
     "execution_count": 104,
     "metadata": {},
     "output_type": "execute_result"
    }
   ],
   "source": [
    "df['Abs_Gap%'].describe()"
   ]
  },
  {
   "cell_type": "code",
   "execution_count": 105,
   "id": "31ff8066",
   "metadata": {},
   "outputs": [
    {
     "data": {
      "text/html": [
       "<div>\n",
       "<style scoped>\n",
       "    .dataframe tbody tr th:only-of-type {\n",
       "        vertical-align: middle;\n",
       "    }\n",
       "\n",
       "    .dataframe tbody tr th {\n",
       "        vertical-align: top;\n",
       "    }\n",
       "\n",
       "    .dataframe thead th {\n",
       "        text-align: right;\n",
       "    }\n",
       "</style>\n",
       "<table border=\"1\" class=\"dataframe\">\n",
       "  <thead>\n",
       "    <tr style=\"text-align: right;\">\n",
       "      <th></th>\n",
       "      <th>Open</th>\n",
       "      <th>High</th>\n",
       "      <th>Low</th>\n",
       "      <th>Close</th>\n",
       "      <th>OPR</th>\n",
       "      <th>CPR</th>\n",
       "      <th>Solid</th>\n",
       "      <th>True_Range_ratio</th>\n",
       "      <th>TRR_Next</th>\n",
       "      <th>TRR_Prev</th>\n",
       "      <th>OPR_Next</th>\n",
       "      <th>CPR_Next</th>\n",
       "      <th>CPR_Prev</th>\n",
       "      <th>OPR_Prev</th>\n",
       "      <th>Gap%</th>\n",
       "      <th>Abs_Gap%</th>\n",
       "    </tr>\n",
       "    <tr>\n",
       "      <th>Date</th>\n",
       "      <th></th>\n",
       "      <th></th>\n",
       "      <th></th>\n",
       "      <th></th>\n",
       "      <th></th>\n",
       "      <th></th>\n",
       "      <th></th>\n",
       "      <th></th>\n",
       "      <th></th>\n",
       "      <th></th>\n",
       "      <th></th>\n",
       "      <th></th>\n",
       "      <th></th>\n",
       "      <th></th>\n",
       "      <th></th>\n",
       "      <th></th>\n",
       "    </tr>\n",
       "  </thead>\n",
       "  <tbody>\n",
       "    <tr>\n",
       "      <th>2021-11-25</th>\n",
       "      <td>17417.30</td>\n",
       "      <td>17564.35</td>\n",
       "      <td>17351.70</td>\n",
       "      <td>17536.25</td>\n",
       "      <td>0.308488</td>\n",
       "      <td>0.867858</td>\n",
       "      <td>0.559370</td>\n",
       "      <td>1.212631</td>\n",
       "      <td>NaN</td>\n",
       "      <td>1.416017</td>\n",
       "      <td>NaN</td>\n",
       "      <td>NaN</td>\n",
       "      <td>0.247567</td>\n",
       "      <td>0.795012</td>\n",
       "      <td>0.012920</td>\n",
       "      <td>0.012920</td>\n",
       "    </tr>\n",
       "    <tr>\n",
       "      <th>2021-11-24</th>\n",
       "      <td>17550.05</td>\n",
       "      <td>17600.60</td>\n",
       "      <td>17354.00</td>\n",
       "      <td>17415.05</td>\n",
       "      <td>0.795012</td>\n",
       "      <td>0.247567</td>\n",
       "      <td>0.547445</td>\n",
       "      <td>1.416017</td>\n",
       "      <td>1.212631</td>\n",
       "      <td>1.928774</td>\n",
       "      <td>0.308488</td>\n",
       "      <td>0.867858</td>\n",
       "      <td>0.850859</td>\n",
       "      <td>0.194461</td>\n",
       "      <td>0.266806</td>\n",
       "      <td>0.266806</td>\n",
       "    </tr>\n",
       "    <tr>\n",
       "      <th>2021-11-23</th>\n",
       "      <td>17281.75</td>\n",
       "      <td>17553.70</td>\n",
       "      <td>17216.10</td>\n",
       "      <td>17503.35</td>\n",
       "      <td>0.194461</td>\n",
       "      <td>0.850859</td>\n",
       "      <td>0.656398</td>\n",
       "      <td>1.928774</td>\n",
       "      <td>1.416017</td>\n",
       "      <td>3.013226</td>\n",
       "      <td>0.795012</td>\n",
       "      <td>0.247567</td>\n",
       "      <td>0.259337</td>\n",
       "      <td>0.982851</td>\n",
       "      <td>-0.773976</td>\n",
       "      <td>0.773976</td>\n",
       "    </tr>\n",
       "    <tr>\n",
       "      <th>2021-11-22</th>\n",
       "      <td>17796.25</td>\n",
       "      <td>17805.25</td>\n",
       "      <td>17280.45</td>\n",
       "      <td>17416.55</td>\n",
       "      <td>0.982851</td>\n",
       "      <td>0.259337</td>\n",
       "      <td>0.723514</td>\n",
       "      <td>3.013226</td>\n",
       "      <td>1.928774</td>\n",
       "      <td>1.447244</td>\n",
       "      <td>0.194461</td>\n",
       "      <td>0.850859</td>\n",
       "      <td>0.296772</td>\n",
       "      <td>0.785881</td>\n",
       "      <td>0.177035</td>\n",
       "      <td>0.177035</td>\n",
       "    </tr>\n",
       "    <tr>\n",
       "      <th>2021-11-18</th>\n",
       "      <td>17890.55</td>\n",
       "      <td>17945.60</td>\n",
       "      <td>17688.50</td>\n",
       "      <td>17764.80</td>\n",
       "      <td>0.785881</td>\n",
       "      <td>0.296772</td>\n",
       "      <td>0.489109</td>\n",
       "      <td>1.447244</td>\n",
       "      <td>3.013226</td>\n",
       "      <td>0.801178</td>\n",
       "      <td>0.982851</td>\n",
       "      <td>0.259337</td>\n",
       "      <td>0.135286</td>\n",
       "      <td>0.419107</td>\n",
       "      <td>-0.045255</td>\n",
       "      <td>0.045255</td>\n",
       "    </tr>\n",
       "  </tbody>\n",
       "</table>\n",
       "</div>"
      ],
      "text/plain": [
       "                Open      High       Low     Close       OPR       CPR  \\\n",
       "Date                                                                     \n",
       "2021-11-25  17417.30  17564.35  17351.70  17536.25  0.308488  0.867858   \n",
       "2021-11-24  17550.05  17600.60  17354.00  17415.05  0.795012  0.247567   \n",
       "2021-11-23  17281.75  17553.70  17216.10  17503.35  0.194461  0.850859   \n",
       "2021-11-22  17796.25  17805.25  17280.45  17416.55  0.982851  0.259337   \n",
       "2021-11-18  17890.55  17945.60  17688.50  17764.80  0.785881  0.296772   \n",
       "\n",
       "               Solid  True_Range_ratio  TRR_Next  TRR_Prev  OPR_Next  \\\n",
       "Date                                                                   \n",
       "2021-11-25  0.559370          1.212631       NaN  1.416017       NaN   \n",
       "2021-11-24  0.547445          1.416017  1.212631  1.928774  0.308488   \n",
       "2021-11-23  0.656398          1.928774  1.416017  3.013226  0.795012   \n",
       "2021-11-22  0.723514          3.013226  1.928774  1.447244  0.194461   \n",
       "2021-11-18  0.489109          1.447244  3.013226  0.801178  0.982851   \n",
       "\n",
       "            CPR_Next  CPR_Prev  OPR_Prev      Gap%  Abs_Gap%  \n",
       "Date                                                          \n",
       "2021-11-25       NaN  0.247567  0.795012  0.012920  0.012920  \n",
       "2021-11-24  0.867858  0.850859  0.194461  0.266806  0.266806  \n",
       "2021-11-23  0.247567  0.259337  0.982851 -0.773976  0.773976  \n",
       "2021-11-22  0.850859  0.296772  0.785881  0.177035  0.177035  \n",
       "2021-11-18  0.259337  0.135286  0.419107 -0.045255  0.045255  "
      ]
     },
     "execution_count": 105,
     "metadata": {},
     "output_type": "execute_result"
    }
   ],
   "source": [
    "df.head()"
   ]
  },
  {
   "cell_type": "code",
   "execution_count": 112,
   "id": "1c439f53",
   "metadata": {},
   "outputs": [
    {
     "data": {
      "text/plain": [
       "count    1375.000000\n",
       "mean        0.439046\n",
       "std         0.787124\n",
       "min         0.000000\n",
       "25%         0.119564\n",
       "50%         0.279861\n",
       "75%         0.520163\n",
       "max        19.829623\n",
       "Name: Abs_Gap%, dtype: float64"
      ]
     },
     "execution_count": 112,
     "metadata": {},
     "output_type": "execute_result"
    }
   ],
   "source": [
    "df['Abs_Gap%'][(df['OPR'] >= 0.80) | (df['OPR'] <= 0.2)].describe()"
   ]
  },
  {
   "cell_type": "code",
   "execution_count": 115,
   "id": "109479e9",
   "metadata": {},
   "outputs": [
    {
     "data": {
      "text/plain": [
       "count    356.000000\n",
       "mean       0.500825\n",
       "std        1.186555\n",
       "min        0.000635\n",
       "25%        0.101026\n",
       "50%        0.272548\n",
       "75%        0.576100\n",
       "max       19.829623\n",
       "Name: Abs_Gap%, dtype: float64"
      ]
     },
     "execution_count": 115,
     "metadata": {},
     "output_type": "execute_result"
    }
   ],
   "source": [
    "df['Abs_Gap%'][(df['OPR_Prev'] >= 0.80) & (df['CPR_Prev'] <= 0.2)].describe() "
   ]
  },
  {
   "cell_type": "code",
   "execution_count": 116,
   "id": "1475555a",
   "metadata": {},
   "outputs": [
    {
     "data": {
      "text/plain": [
       "count    339.000000\n",
       "mean       0.434863\n",
       "std        0.836762\n",
       "min        0.000000\n",
       "25%        0.098197\n",
       "50%        0.232549\n",
       "75%        0.434493\n",
       "max        9.144236\n",
       "Name: Abs_Gap%, dtype: float64"
      ]
     },
     "execution_count": 116,
     "metadata": {},
     "output_type": "execute_result"
    }
   ],
   "source": [
    "df['Abs_Gap%'][(df['CPR_Prev'] >= 0.80) & (df['OPR_Prev'] <= 0.2)].describe()"
   ]
  },
  {
   "cell_type": "code",
   "execution_count": 117,
   "id": "8aed41ef",
   "metadata": {},
   "outputs": [
    {
     "data": {
      "text/plain": [
       "count    339.000000\n",
       "mean       0.163778\n",
       "std        0.928942\n",
       "min       -9.144236\n",
       "25%       -0.021378\n",
       "50%        0.149116\n",
       "75%        0.343188\n",
       "max        7.273194\n",
       "Name: Gap%, dtype: float64"
      ]
     },
     "execution_count": 117,
     "metadata": {},
     "output_type": "execute_result"
    }
   ],
   "source": [
    "df['Gap%'][(df['CPR_Prev'] >= 0.80) & (df['OPR_Prev'] <= 0.2)].describe()"
   ]
  },
  {
   "cell_type": "code",
   "execution_count": 118,
   "id": "a0ef8c0c",
   "metadata": {},
   "outputs": [
    {
     "data": {
      "text/plain": [
       "count    356.000000\n",
       "mean       0.107138\n",
       "std        1.283719\n",
       "min       -5.031230\n",
       "25%       -0.162958\n",
       "50%        0.037082\n",
       "75%        0.358931\n",
       "max       19.829623\n",
       "Name: Gap%, dtype: float64"
      ]
     },
     "execution_count": 118,
     "metadata": {},
     "output_type": "execute_result"
    }
   ],
   "source": [
    "df['Gap%'][(df['OPR_Prev'] >= 0.80) & (df['CPR_Prev'] <= 0.2)].describe() "
   ]
  },
  {
   "cell_type": "code",
   "execution_count": 146,
   "id": "e880c830",
   "metadata": {},
   "outputs": [
    {
     "data": {
      "text/plain": [
       "count    117.000000\n",
       "mean       0.584387\n",
       "std        0.320002\n",
       "min        0.000000\n",
       "25%        0.265711\n",
       "50%        0.643389\n",
       "75%        0.885427\n",
       "max        1.000000\n",
       "Name: OPR, dtype: float64"
      ]
     },
     "execution_count": 146,
     "metadata": {},
     "output_type": "execute_result"
    }
   ],
   "source": [
    "df['OPR'][(df['OPR_Prev'] >= 0.80) & (df['CPR_Prev'] <= 0.2) & (df['Gap%'] > 0.25)].describe() "
   ]
  },
  {
   "cell_type": "code",
   "execution_count": 141,
   "id": "55f4c59e",
   "metadata": {},
   "outputs": [
    {
     "data": {
      "text/plain": [
       "count    63.000000\n",
       "mean      0.436759\n",
       "std       0.342674\n",
       "min       0.000000\n",
       "25%       0.112445\n",
       "50%       0.373188\n",
       "75%       0.764825\n",
       "max       1.000000\n",
       "Name: OPR, dtype: float64"
      ]
     },
     "execution_count": 141,
     "metadata": {},
     "output_type": "execute_result"
    }
   ],
   "source": [
    "df['OPR'][(df['CPR_Prev'] >= 0.80) & (df['OPR_Prev'] <= 0.2) & (df['Gap%'] < -0.1)].describe()"
   ]
  },
  {
   "cell_type": "code",
   "execution_count": 147,
   "id": "88376bf9",
   "metadata": {},
   "outputs": [
    {
     "data": {
      "text/plain": [
       "count    117.000000\n",
       "mean       0.555446\n",
       "std        0.290605\n",
       "min        0.057082\n",
       "25%        0.293497\n",
       "50%        0.586511\n",
       "75%        0.829921\n",
       "max        0.945361\n",
       "Name: CPR, dtype: float64"
      ]
     },
     "execution_count": 147,
     "metadata": {},
     "output_type": "execute_result"
    }
   ],
   "source": [
    "df['CPR'][(df['OPR_Prev'] >= 0.80) & (df['CPR_Prev'] <= 0.2) & (df['Gap%'] > 0.25)].describe() "
   ]
  },
  {
   "cell_type": "code",
   "execution_count": 148,
   "id": "26c857f6",
   "metadata": {},
   "outputs": [
    {
     "data": {
      "text/plain": [
       "count    63.000000\n",
       "mean      0.520045\n",
       "std       0.286453\n",
       "min       0.046209\n",
       "25%       0.207143\n",
       "50%       0.549428\n",
       "75%       0.773559\n",
       "max       0.932441\n",
       "Name: CPR, dtype: float64"
      ]
     },
     "execution_count": 148,
     "metadata": {},
     "output_type": "execute_result"
    }
   ],
   "source": [
    "df['CPR'][(df['CPR_Prev'] >= 0.80) & (df['OPR_Prev'] <= 0.2) & (df['Gap%'] < -0.1)].describe()"
   ]
  },
  {
   "cell_type": "code",
   "execution_count": 152,
   "id": "2c57c4fb",
   "metadata": {},
   "outputs": [
    {
     "data": {
      "text/plain": [
       "count    63.000000\n",
       "mean      1.407672\n",
       "std       1.152017\n",
       "min       0.497773\n",
       "25%       0.793340\n",
       "50%       0.986890\n",
       "75%       1.671691\n",
       "max       7.564190\n",
       "Name: True_Range_ratio, dtype: float64"
      ]
     },
     "execution_count": 152,
     "metadata": {},
     "output_type": "execute_result"
    }
   ],
   "source": [
    "df['True_Range_ratio'][(df['CPR_Prev'] >= 0.80) & (df['OPR_Prev'] <= 0.2) & (df['Gap%'] < -0.1)].describe()"
   ]
  },
  {
   "cell_type": "code",
   "execution_count": 154,
   "id": "4ac1c554",
   "metadata": {},
   "outputs": [
    {
     "data": {
      "text/plain": [
       "count    117.000000\n",
       "mean       1.472872\n",
       "std        0.940695\n",
       "min        0.246096\n",
       "25%        0.874415\n",
       "50%        1.203738\n",
       "75%        1.793131\n",
       "max        5.444407\n",
       "Name: True_Range_ratio, dtype: float64"
      ]
     },
     "execution_count": 154,
     "metadata": {},
     "output_type": "execute_result"
    }
   ],
   "source": [
    "df['True_Range_ratio'][(df['OPR_Prev'] >= 0.80) & (df['CPR_Prev'] <= 0.2) & (df['Gap%'] > 0.25) ].describe() "
   ]
  },
  {
   "cell_type": "code",
   "execution_count": 163,
   "id": "a4bab64c",
   "metadata": {},
   "outputs": [
    {
     "data": {
      "text/plain": [
       "count    51.000000\n",
       "mean      0.501336\n",
       "std       0.312011\n",
       "min       0.004517\n",
       "25%       0.231642\n",
       "50%       0.517331\n",
       "75%       0.780810\n",
       "max       1.000000\n",
       "Name: OPR, dtype: float64"
      ]
     },
     "execution_count": 163,
     "metadata": {},
     "output_type": "execute_result"
    }
   ],
   "source": [
    "df['OPR'][(df['OPR_Prev'] >= 0.80) & (df['CPR_Prev'] <= 0.2) & (df['Gap%'] < -0.4) ].describe() "
   ]
  },
  {
   "cell_type": "code",
   "execution_count": 160,
   "id": "ccf95159",
   "metadata": {},
   "outputs": [
    {
     "data": {
      "text/plain": [
       "count    126.000000\n",
       "mean       0.629768\n",
       "std        0.309255\n",
       "min        0.000000\n",
       "25%        0.448769\n",
       "50%        0.694149\n",
       "75%        0.903648\n",
       "max        1.000000\n",
       "Name: OPR, dtype: float64"
      ]
     },
     "execution_count": 160,
     "metadata": {},
     "output_type": "execute_result"
    }
   ],
   "source": [
    "df['OPR'][(df['CPR_Prev'] >= 0.80) & (df['OPR_Prev'] <= 0.2) & (df['Gap%'] > 0.25)].describe()"
   ]
  },
  {
   "cell_type": "markdown",
   "id": "5ec9e457",
   "metadata": {},
   "source": [
    "## Conclusion :\n",
    "\n",
    "### Down Trending Day\n",
    "#### Volitility Increases the next day -- There is no directional bias the next day -- If it opens Gap-up, then it is observed that OPR generally lies in the upper half, while CPR lies in middle -- no direction bias for significant gap down -- 2 down trending days are rare but if true then true range is wide too\n",
    "\n",
    "### Up Trending Day \n",
    "#### There is no change in volitility as such -- Again, there is no directional bais --If it opens Gap-down, then it is observed that OPR generally lies in the lower half, while CPR lies in middle -- AND vice versa for Gap up open\n"
   ]
  },
  {
   "cell_type": "markdown",
   "id": "2f2e296c",
   "metadata": {},
   "source": [
    " ## Large Wicks\n"
   ]
  },
  {
   "cell_type": "code",
   "execution_count": 165,
   "id": "a5596cc4",
   "metadata": {},
   "outputs": [
    {
     "data": {
      "text/plain": [
       "count    36.000000\n",
       "mean      1.512367\n",
       "std       2.564223\n",
       "min       0.452996\n",
       "25%       0.694031\n",
       "50%       1.054416\n",
       "75%       1.360854\n",
       "max      16.133046\n",
       "Name: True_Range_ratio, dtype: float64"
      ]
     },
     "execution_count": 165,
     "metadata": {},
     "output_type": "execute_result"
    }
   ],
   "source": [
    "df['True_Range_ratio'][(df['OPR'] >= 0.80) & (df['CPR'] >= 0.80)].describe() "
   ]
  },
  {
   "cell_type": "code",
   "execution_count": 166,
   "id": "01fd4038",
   "metadata": {},
   "outputs": [
    {
     "data": {
      "text/plain": [
       "count    36.000000\n",
       "mean      1.159407\n",
       "std       0.566868\n",
       "min       0.373049\n",
       "25%       0.729915\n",
       "50%       1.040561\n",
       "75%       1.412783\n",
       "max       2.334844\n",
       "Name: True_Range_ratio, dtype: float64"
      ]
     },
     "execution_count": 166,
     "metadata": {},
     "output_type": "execute_result"
    }
   ],
   "source": [
    "df['True_Range_ratio'][(df['OPR_Prev'] >= 0.80) & (df['CPR_Prev'] >= 0.80)].describe() "
   ]
  },
  {
   "cell_type": "code",
   "execution_count": 170,
   "id": "7df5350d",
   "metadata": {},
   "outputs": [
    {
     "data": {
      "text/plain": [
       "count    16.000000\n",
       "mean      1.289915\n",
       "std       0.842482\n",
       "min       0.619351\n",
       "25%       0.741554\n",
       "50%       0.977845\n",
       "75%       1.330160\n",
       "max       3.331808\n",
       "Name: True_Range_ratio, dtype: float64"
      ]
     },
     "execution_count": 170,
     "metadata": {},
     "output_type": "execute_result"
    }
   ],
   "source": [
    "df['True_Range_ratio'][(df['OPR_Prev'] <= 0.20) & (df['CPR_Prev'] <= 0.20)].describe() "
   ]
  },
  {
   "cell_type": "code",
   "execution_count": 173,
   "id": "3fb699fa",
   "metadata": {},
   "outputs": [],
   "source": [
    "df['Real_Move'] = ((df['Open'] - df['Close'])/df['Close'])*100"
   ]
  },
  {
   "cell_type": "code",
   "execution_count": 176,
   "id": "3f5d0ec5",
   "metadata": {},
   "outputs": [
    {
     "data": {
      "text/plain": [
       "count    37.000000\n",
       "mean     -0.025521\n",
       "std       1.180097\n",
       "min      -2.540608\n",
       "25%      -0.754359\n",
       "50%      -0.238425\n",
       "75%       0.446617\n",
       "max       2.883475\n",
       "Name: Real_Move, dtype: float64"
      ]
     },
     "execution_count": 176,
     "metadata": {},
     "output_type": "execute_result"
    }
   ],
   "source": [
    "df['Real_Move'][(df['OPR_Prev'] <= 0.30) & (df['CPR_Prev'] <= 0.30)].describe() "
   ]
  },
  {
   "cell_type": "code",
   "execution_count": 179,
   "id": "942b136d",
   "metadata": {},
   "outputs": [
    {
     "data": {
      "text/plain": [
       "count    107.000000\n",
       "mean       0.048908\n",
       "std        1.000292\n",
       "min       -4.322818\n",
       "25%       -0.397650\n",
       "50%       -0.063942\n",
       "75%        0.589574\n",
       "max        3.162377\n",
       "Name: Real_Move, dtype: float64"
      ]
     },
     "execution_count": 179,
     "metadata": {},
     "output_type": "execute_result"
    }
   ],
   "source": [
    "df['Real_Move'][(df['OPR_Prev'] >= 0.70) & (df['CPR_Prev'] >= 0.70)].describe() "
   ]
  },
  {
   "cell_type": "code",
   "execution_count": 180,
   "id": "58a64ba1",
   "metadata": {},
   "outputs": [
    {
     "data": {
      "text/plain": [
       "count    37.000000\n",
       "mean      0.497862\n",
       "std       0.358744\n",
       "min       0.007523\n",
       "25%       0.080238\n",
       "50%       0.574795\n",
       "75%       0.913377\n",
       "max       0.999646\n",
       "Name: OPR, dtype: float64"
      ]
     },
     "execution_count": 180,
     "metadata": {},
     "output_type": "execute_result"
    }
   ],
   "source": [
    "df['OPR'][(df['OPR_Prev'] <= 0.30) & (df['CPR_Prev'] <= 0.30)].describe() "
   ]
  },
  {
   "cell_type": "code",
   "execution_count": 181,
   "id": "fd55746f",
   "metadata": {},
   "outputs": [
    {
     "data": {
      "text/plain": [
       "count    37.000000\n",
       "mean      0.576802\n",
       "std       0.320075\n",
       "min       0.062580\n",
       "25%       0.252071\n",
       "50%       0.723258\n",
       "75%       0.864236\n",
       "max       0.932602\n",
       "Name: CPR, dtype: float64"
      ]
     },
     "execution_count": 181,
     "metadata": {},
     "output_type": "execute_result"
    }
   ],
   "source": [
    "df['CPR'][(df['OPR_Prev'] <= 0.30) & (df['CPR_Prev'] <= 0.30)].describe()"
   ]
  },
  {
   "cell_type": "code",
   "execution_count": 182,
   "id": "f4c01714",
   "metadata": {},
   "outputs": [
    {
     "data": {
      "text/plain": [
       "count    107.000000\n",
       "mean       0.538115\n",
       "std        0.296078\n",
       "min        0.087470\n",
       "25%        0.224280\n",
       "50%        0.518221\n",
       "75%        0.834730\n",
       "max        0.954032\n",
       "Name: CPR, dtype: float64"
      ]
     },
     "execution_count": 182,
     "metadata": {},
     "output_type": "execute_result"
    }
   ],
   "source": [
    "df['CPR'][(df['OPR_Prev'] >= 0.70) & (df['CPR_Prev'] >= 0.70)].describe() "
   ]
  },
  {
   "cell_type": "code",
   "execution_count": 183,
   "id": "bb126dba",
   "metadata": {},
   "outputs": [
    {
     "data": {
      "text/plain": [
       "count    107.000000\n",
       "mean       0.536108\n",
       "std        0.336009\n",
       "min        0.000000\n",
       "25%        0.207716\n",
       "50%        0.520161\n",
       "75%        0.826125\n",
       "max        1.000000\n",
       "Name: OPR, dtype: float64"
      ]
     },
     "execution_count": 183,
     "metadata": {},
     "output_type": "execute_result"
    }
   ],
   "source": [
    "df['OPR'][(df['OPR_Prev'] >= 0.70) & (df['CPR_Prev'] >= 0.70)].describe() "
   ]
  },
  {
   "cell_type": "code",
   "execution_count": 189,
   "id": "8c1466dd",
   "metadata": {},
   "outputs": [
    {
     "data": {
      "text/plain": [
       "count    107.000000\n",
       "mean       0.026834\n",
       "std        0.826261\n",
       "min       -5.571487\n",
       "25%       -0.056725\n",
       "50%        0.195764\n",
       "75%        0.383995\n",
       "max        1.332729\n",
       "Name: Gap%, dtype: float64"
      ]
     },
     "execution_count": 189,
     "metadata": {},
     "output_type": "execute_result"
    }
   ],
   "source": [
    "df['Gap%'][(df['OPR_Prev'] >= 0.70) & (df['CPR_Prev'] >= 0.70)].describe() "
   ]
  },
  {
   "cell_type": "code",
   "execution_count": 190,
   "id": "7987ca6b",
   "metadata": {},
   "outputs": [
    {
     "data": {
      "text/plain": [
       "count    37.000000\n",
       "mean      0.148130\n",
       "std       0.704648\n",
       "min      -1.382693\n",
       "25%      -0.163333\n",
       "50%       0.118920\n",
       "75%       0.369069\n",
       "max       2.564381\n",
       "Name: Gap%, dtype: float64"
      ]
     },
     "execution_count": 190,
     "metadata": {},
     "output_type": "execute_result"
    }
   ],
   "source": [
    "df['Gap%'][(df['OPR_Prev'] <= 0.30) & (df['CPR_Prev'] <= 0.30)].describe()"
   ]
  },
  {
   "cell_type": "code",
   "execution_count": 200,
   "id": "0d5460ee",
   "metadata": {},
   "outputs": [
    {
     "data": {
      "text/plain": [
       "count    33.000000\n",
       "mean      0.478013\n",
       "std       0.329592\n",
       "min       0.077842\n",
       "25%       0.198468\n",
       "50%       0.436072\n",
       "75%       0.757435\n",
       "max       1.000000\n",
       "Name: OPR, dtype: float64"
      ]
     },
     "execution_count": 200,
     "metadata": {},
     "output_type": "execute_result"
    }
   ],
   "source": [
    "df['OPR'][(df['OPR_Prev'] >= 0.70) & (df['CPR_Prev'] >= 0.70) & (df['Gap%'] < -0)].describe() "
   ]
  },
  {
   "cell_type": "code",
   "execution_count": 209,
   "id": "393ef12c",
   "metadata": {},
   "outputs": [
    {
     "data": {
      "text/plain": [
       "count    19.000000\n",
       "mean      0.519780\n",
       "std       0.382111\n",
       "min       0.007523\n",
       "25%       0.078426\n",
       "50%       0.604962\n",
       "75%       0.914293\n",
       "max       0.999646\n",
       "Name: OPR, dtype: float64"
      ]
     },
     "execution_count": 209,
     "metadata": {},
     "output_type": "execute_result"
    }
   ],
   "source": [
    "df['OPR'][(df['OPR_Prev'] <= 0.30) & (df['CPR_Prev'] <= 0.30) & (df['Gap%'] > 0.1)].describe() "
   ]
  },
  {
   "cell_type": "markdown",
   "id": "704b6c12",
   "metadata": {},
   "source": [
    "## Conclusion :\n",
    "\n",
    "### After large wick candles there is no apparent directional edge in the market"
   ]
  },
  {
   "cell_type": "markdown",
   "id": "5d35e6e2",
   "metadata": {},
   "source": [
    "## Hook Days"
   ]
  },
  {
   "cell_type": "code",
   "execution_count": 214,
   "id": "078067d2",
   "metadata": {},
   "outputs": [
    {
     "data": {
      "text/plain": [
       "Open                36\n",
       "High                36\n",
       "Low                 36\n",
       "Close               36\n",
       "OPR                 36\n",
       "CPR                 36\n",
       "Solid               36\n",
       "True_Range_ratio    36\n",
       "TRR_Next            36\n",
       "TRR_Prev            36\n",
       "OPR_Next            36\n",
       "CPR_Next            36\n",
       "CPR_Prev            36\n",
       "OPR_Prev            36\n",
       "Gap%                36\n",
       "Abs_Gap%            36\n",
       "Real_Move           36\n",
       "dtype: int64"
      ]
     },
     "execution_count": 214,
     "metadata": {},
     "output_type": "execute_result"
    }
   ],
   "source": [
    "df[(df['OPR'] <= 0.2) & (df['CPR'] >= 0.8) & (df['CPR_Prev'] <= 0.2) & (df['OPR_Prev'] >= 0.8)].count()"
   ]
  },
  {
   "cell_type": "code",
   "execution_count": 213,
   "id": "2e3b5d29",
   "metadata": {
    "scrolled": false
   },
   "outputs": [
    {
     "data": {
      "text/html": [
       "<div>\n",
       "<style scoped>\n",
       "    .dataframe tbody tr th:only-of-type {\n",
       "        vertical-align: middle;\n",
       "    }\n",
       "\n",
       "    .dataframe tbody tr th {\n",
       "        vertical-align: top;\n",
       "    }\n",
       "\n",
       "    .dataframe thead th {\n",
       "        text-align: right;\n",
       "    }\n",
       "</style>\n",
       "<table border=\"1\" class=\"dataframe\">\n",
       "  <thead>\n",
       "    <tr style=\"text-align: right;\">\n",
       "      <th></th>\n",
       "      <th>Open</th>\n",
       "      <th>High</th>\n",
       "      <th>Low</th>\n",
       "      <th>Close</th>\n",
       "      <th>OPR</th>\n",
       "      <th>CPR</th>\n",
       "      <th>Solid</th>\n",
       "      <th>True_Range_ratio</th>\n",
       "      <th>TRR_Next</th>\n",
       "      <th>TRR_Prev</th>\n",
       "      <th>OPR_Next</th>\n",
       "      <th>CPR_Next</th>\n",
       "      <th>CPR_Prev</th>\n",
       "      <th>OPR_Prev</th>\n",
       "      <th>Gap%</th>\n",
       "      <th>Abs_Gap%</th>\n",
       "      <th>Real_Move</th>\n",
       "    </tr>\n",
       "    <tr>\n",
       "      <th>Date</th>\n",
       "      <th></th>\n",
       "      <th></th>\n",
       "      <th></th>\n",
       "      <th></th>\n",
       "      <th></th>\n",
       "      <th></th>\n",
       "      <th></th>\n",
       "      <th></th>\n",
       "      <th></th>\n",
       "      <th></th>\n",
       "      <th></th>\n",
       "      <th></th>\n",
       "      <th></th>\n",
       "      <th></th>\n",
       "      <th></th>\n",
       "      <th></th>\n",
       "      <th></th>\n",
       "    </tr>\n",
       "  </thead>\n",
       "  <tbody>\n",
       "    <tr>\n",
       "      <th>2021-05-21</th>\n",
       "      <td>14987.80</td>\n",
       "      <td>15190.00</td>\n",
       "      <td>14985.85</td>\n",
       "      <td>15175.3</td>\n",
       "      <td>0.009552</td>\n",
       "      <td>0.927994</td>\n",
       "      <td>0.918442</td>\n",
       "      <td>1.345278</td>\n",
       "      <td>0.729058</td>\n",
       "      <td>1.240436</td>\n",
       "      <td>0.594765</td>\n",
       "      <td>0.471570</td>\n",
       "      <td>0.114386</td>\n",
       "      <td>0.852893</td>\n",
       "      <td>0.548435</td>\n",
       "      <td>0.548435</td>\n",
       "      <td>-1.235560</td>\n",
       "    </tr>\n",
       "    <tr>\n",
       "      <th>2021-02-01</th>\n",
       "      <td>13758.60</td>\n",
       "      <td>14336.35</td>\n",
       "      <td>13661.75</td>\n",
       "      <td>14281.2</td>\n",
       "      <td>0.143567</td>\n",
       "      <td>0.918248</td>\n",
       "      <td>0.774681</td>\n",
       "      <td>4.723693</td>\n",
       "      <td>1.792413</td>\n",
       "      <td>2.714418</td>\n",
       "      <td>0.045515</td>\n",
       "      <td>0.680632</td>\n",
       "      <td>0.102270</td>\n",
       "      <td>0.945285</td>\n",
       "      <td>0.909451</td>\n",
       "      <td>0.909451</td>\n",
       "      <td>-3.659356</td>\n",
       "    </tr>\n",
       "    <tr>\n",
       "      <th>2020-04-07</th>\n",
       "      <td>8446.30</td>\n",
       "      <td>8819.40</td>\n",
       "      <td>8360.95</td>\n",
       "      <td>8792.2</td>\n",
       "      <td>0.186171</td>\n",
       "      <td>0.940670</td>\n",
       "      <td>0.754499</td>\n",
       "      <td>5.214281</td>\n",
       "      <td>5.461383</td>\n",
       "      <td>3.720404</td>\n",
       "      <td>0.073252</td>\n",
       "      <td>0.198409</td>\n",
       "      <td>0.093101</td>\n",
       "      <td>1.000000</td>\n",
       "      <td>4.484277</td>\n",
       "      <td>4.484277</td>\n",
       "      <td>-3.934169</td>\n",
       "    </tr>\n",
       "    <tr>\n",
       "      <th>2019-12-27</th>\n",
       "      <td>12172.90</td>\n",
       "      <td>12258.45</td>\n",
       "      <td>12157.90</td>\n",
       "      <td>12245.0</td>\n",
       "      <td>0.149180</td>\n",
       "      <td>0.866236</td>\n",
       "      <td>0.717056</td>\n",
       "      <td>0.821151</td>\n",
       "      <td>0.592819</td>\n",
       "      <td>0.846940</td>\n",
       "      <td>0.841019</td>\n",
       "      <td>0.567103</td>\n",
       "      <td>0.069620</td>\n",
       "      <td>0.905550</td>\n",
       "      <td>0.386772</td>\n",
       "      <td>0.386772</td>\n",
       "      <td>-0.588812</td>\n",
       "    </tr>\n",
       "    <tr>\n",
       "      <th>2019-12-17</th>\n",
       "      <td>12082.45</td>\n",
       "      <td>12182.75</td>\n",
       "      <td>12070.35</td>\n",
       "      <td>12165.0</td>\n",
       "      <td>0.107651</td>\n",
       "      <td>0.842082</td>\n",
       "      <td>0.734431</td>\n",
       "      <td>0.923962</td>\n",
       "      <td>0.923962</td>\n",
       "      <td>0.733013</td>\n",
       "      <td>0.107651</td>\n",
       "      <td>0.842082</td>\n",
       "      <td>0.075835</td>\n",
       "      <td>0.962649</td>\n",
       "      <td>0.244338</td>\n",
       "      <td>0.244338</td>\n",
       "      <td>-0.678586</td>\n",
       "    </tr>\n",
       "    <tr>\n",
       "      <th>2018-10-10</th>\n",
       "      <td>10331.85</td>\n",
       "      <td>10482.35</td>\n",
       "      <td>10318.25</td>\n",
       "      <td>10460.0</td>\n",
       "      <td>0.082876</td>\n",
       "      <td>0.863803</td>\n",
       "      <td>0.780926</td>\n",
       "      <td>1.568834</td>\n",
       "      <td>1.928376</td>\n",
       "      <td>1.147947</td>\n",
       "      <td>0.158095</td>\n",
       "      <td>0.483405</td>\n",
       "      <td>0.183087</td>\n",
       "      <td>0.938266</td>\n",
       "      <td>0.299485</td>\n",
       "      <td>0.299485</td>\n",
       "      <td>-1.225143</td>\n",
       "    </tr>\n",
       "    <tr>\n",
       "      <th>2018-06-29</th>\n",
       "      <td>10612.85</td>\n",
       "      <td>10723.05</td>\n",
       "      <td>10612.35</td>\n",
       "      <td>10714.0</td>\n",
       "      <td>0.004517</td>\n",
       "      <td>0.918248</td>\n",
       "      <td>0.913731</td>\n",
       "      <td>1.033228</td>\n",
       "      <td>0.358326</td>\n",
       "      <td>0.724772</td>\n",
       "      <td>0.952555</td>\n",
       "      <td>0.386861</td>\n",
       "      <td>0.114744</td>\n",
       "      <td>0.895513</td>\n",
       "      <td>-1.385895</td>\n",
       "      <td>1.385895</td>\n",
       "      <td>-0.944092</td>\n",
       "    </tr>\n",
       "    <tr>\n",
       "      <th>2018-06-20</th>\n",
       "      <td>10734.65</td>\n",
       "      <td>10781.80</td>\n",
       "      <td>10724.05</td>\n",
       "      <td>10772.0</td>\n",
       "      <td>0.183550</td>\n",
       "      <td>0.830303</td>\n",
       "      <td>0.646753</td>\n",
       "      <td>0.536112</td>\n",
       "      <td>0.779257</td>\n",
       "      <td>0.823996</td>\n",
       "      <td>0.986260</td>\n",
       "      <td>0.180406</td>\n",
       "      <td>0.099717</td>\n",
       "      <td>1.000000</td>\n",
       "      <td>0.230159</td>\n",
       "      <td>0.230159</td>\n",
       "      <td>-0.346732</td>\n",
       "    </tr>\n",
       "    <tr>\n",
       "      <th>2018-05-11</th>\n",
       "      <td>10741.95</td>\n",
       "      <td>10812.05</td>\n",
       "      <td>10724.45</td>\n",
       "      <td>10806.0</td>\n",
       "      <td>0.199772</td>\n",
       "      <td>0.930936</td>\n",
       "      <td>0.731164</td>\n",
       "      <td>0.810661</td>\n",
       "      <td>0.556172</td>\n",
       "      <td>0.751680</td>\n",
       "      <td>0.672213</td>\n",
       "      <td>0.519967</td>\n",
       "      <td>0.136561</td>\n",
       "      <td>0.926754</td>\n",
       "      <td>0.242161</td>\n",
       "      <td>0.242161</td>\n",
       "      <td>-0.592726</td>\n",
       "    </tr>\n",
       "    <tr>\n",
       "      <th>2018-05-07</th>\n",
       "      <td>10653.15</td>\n",
       "      <td>10725.65</td>\n",
       "      <td>10635.65</td>\n",
       "      <td>10715.0</td>\n",
       "      <td>0.194444</td>\n",
       "      <td>0.881667</td>\n",
       "      <td>0.687222</td>\n",
       "      <td>0.839944</td>\n",
       "      <td>0.645237</td>\n",
       "      <td>0.930966</td>\n",
       "      <td>0.990600</td>\n",
       "      <td>0.399132</td>\n",
       "      <td>0.165908</td>\n",
       "      <td>1.000000</td>\n",
       "      <td>0.331042</td>\n",
       "      <td>0.331042</td>\n",
       "      <td>-0.577228</td>\n",
       "    </tr>\n",
       "    <tr>\n",
       "      <th>2018-04-05</th>\n",
       "      <td>10228.45</td>\n",
       "      <td>10331.80</td>\n",
       "      <td>10227.45</td>\n",
       "      <td>10325.0</td>\n",
       "      <td>0.009583</td>\n",
       "      <td>0.934835</td>\n",
       "      <td>0.925252</td>\n",
       "      <td>1.010654</td>\n",
       "      <td>0.576904</td>\n",
       "      <td>1.664198</td>\n",
       "      <td>0.535235</td>\n",
       "      <td>0.673658</td>\n",
       "      <td>0.099080</td>\n",
       "      <td>0.968852</td>\n",
       "      <td>0.991805</td>\n",
       "      <td>0.991805</td>\n",
       "      <td>-0.935109</td>\n",
       "    </tr>\n",
       "    <tr>\n",
       "      <th>2017-04-11</th>\n",
       "      <td>9184.55</td>\n",
       "      <td>9242.70</td>\n",
       "      <td>9172.85</td>\n",
       "      <td>9237.0</td>\n",
       "      <td>0.167502</td>\n",
       "      <td>0.918397</td>\n",
       "      <td>0.750895</td>\n",
       "      <td>0.756198</td>\n",
       "      <td>0.919226</td>\n",
       "      <td>0.553293</td>\n",
       "      <td>0.953901</td>\n",
       "      <td>0.491726</td>\n",
       "      <td>0.128937</td>\n",
       "      <td>0.999016</td>\n",
       "      <td>0.034308</td>\n",
       "      <td>0.034308</td>\n",
       "      <td>-0.567825</td>\n",
       "    </tr>\n",
       "    <tr>\n",
       "      <th>2017-02-20</th>\n",
       "      <td>8818.55</td>\n",
       "      <td>8886.25</td>\n",
       "      <td>8809.80</td>\n",
       "      <td>8879.2</td>\n",
       "      <td>0.114454</td>\n",
       "      <td>0.907783</td>\n",
       "      <td>0.793329</td>\n",
       "      <td>0.861001</td>\n",
       "      <td>0.671883</td>\n",
       "      <td>1.045150</td>\n",
       "      <td>0.497911</td>\n",
       "      <td>0.782790</td>\n",
       "      <td>0.189262</td>\n",
       "      <td>0.861714</td>\n",
       "      <td>-0.035707</td>\n",
       "      <td>0.035707</td>\n",
       "      <td>-0.683057</td>\n",
       "    </tr>\n",
       "    <tr>\n",
       "      <th>2017-02-01</th>\n",
       "      <td>8570.35</td>\n",
       "      <td>8722.40</td>\n",
       "      <td>8537.50</td>\n",
       "      <td>8716.4</td>\n",
       "      <td>0.177664</td>\n",
       "      <td>0.967550</td>\n",
       "      <td>0.789886</td>\n",
       "      <td>2.121289</td>\n",
       "      <td>0.822056</td>\n",
       "      <td>0.926845</td>\n",
       "      <td>0.542479</td>\n",
       "      <td>0.674095</td>\n",
       "      <td>0.112161</td>\n",
       "      <td>0.971014</td>\n",
       "      <td>0.105708</td>\n",
       "      <td>0.105708</td>\n",
       "      <td>-1.675577</td>\n",
       "    </tr>\n",
       "    <tr>\n",
       "      <th>2016-12-27</th>\n",
       "      <td>7915.05</td>\n",
       "      <td>8044.65</td>\n",
       "      <td>7903.70</td>\n",
       "      <td>8032.8</td>\n",
       "      <td>0.080525</td>\n",
       "      <td>0.915928</td>\n",
       "      <td>0.835403</td>\n",
       "      <td>1.754681</td>\n",
       "      <td>0.897969</td>\n",
       "      <td>0.964189</td>\n",
       "      <td>0.265419</td>\n",
       "      <td>0.088704</td>\n",
       "      <td>0.188852</td>\n",
       "      <td>0.935082</td>\n",
       "      <td>0.086619</td>\n",
       "      <td>0.086619</td>\n",
       "      <td>-1.465865</td>\n",
       "    </tr>\n",
       "    <tr>\n",
       "      <th>2016-10-18</th>\n",
       "      <td>8556.05</td>\n",
       "      <td>8685.10</td>\n",
       "      <td>8555.90</td>\n",
       "      <td>8677.9</td>\n",
       "      <td>0.001161</td>\n",
       "      <td>0.944272</td>\n",
       "      <td>0.943111</td>\n",
       "      <td>1.488839</td>\n",
       "      <td>0.716587</td>\n",
       "      <td>1.282217</td>\n",
       "      <td>0.979855</td>\n",
       "      <td>0.360999</td>\n",
       "      <td>0.130435</td>\n",
       "      <td>0.977574</td>\n",
       "      <td>0.418408</td>\n",
       "      <td>0.418408</td>\n",
       "      <td>-1.404142</td>\n",
       "    </tr>\n",
       "    <tr>\n",
       "      <th>2015-12-31</th>\n",
       "      <td>7897.80</td>\n",
       "      <td>7955.55</td>\n",
       "      <td>7891.15</td>\n",
       "      <td>7946.3</td>\n",
       "      <td>0.103261</td>\n",
       "      <td>0.856366</td>\n",
       "      <td>0.753106</td>\n",
       "      <td>0.810440</td>\n",
       "      <td>0.788000</td>\n",
       "      <td>0.695271</td>\n",
       "      <td>0.456574</td>\n",
       "      <td>0.850996</td>\n",
       "      <td>0.115665</td>\n",
       "      <td>0.887978</td>\n",
       "      <td>0.020263</td>\n",
       "      <td>0.020263</td>\n",
       "      <td>-0.610347</td>\n",
       "    </tr>\n",
       "    <tr>\n",
       "      <th>2015-12-21</th>\n",
       "      <td>7745.65</td>\n",
       "      <td>7840.75</td>\n",
       "      <td>7733.45</td>\n",
       "      <td>7834.4</td>\n",
       "      <td>0.113700</td>\n",
       "      <td>0.940820</td>\n",
       "      <td>0.827120</td>\n",
       "      <td>1.369601</td>\n",
       "      <td>0.891974</td>\n",
       "      <td>1.066749</td>\n",
       "      <td>0.756659</td>\n",
       "      <td>0.133189</td>\n",
       "      <td>0.103261</td>\n",
       "      <td>0.912440</td>\n",
       "      <td>-0.209356</td>\n",
       "      <td>0.209356</td>\n",
       "      <td>-1.132824</td>\n",
       "    </tr>\n",
       "    <tr>\n",
       "      <th>2015-02-27</th>\n",
       "      <td>8729.50</td>\n",
       "      <td>8856.95</td>\n",
       "      <td>8717.45</td>\n",
       "      <td>8844.6</td>\n",
       "      <td>0.086380</td>\n",
       "      <td>0.911470</td>\n",
       "      <td>0.825090</td>\n",
       "      <td>1.577234</td>\n",
       "      <td>2.131591</td>\n",
       "      <td>1.342730</td>\n",
       "      <td>0.852174</td>\n",
       "      <td>0.792885</td>\n",
       "      <td>0.123070</td>\n",
       "      <td>0.939537</td>\n",
       "      <td>0.526267</td>\n",
       "      <td>0.526267</td>\n",
       "      <td>-1.301359</td>\n",
       "    </tr>\n",
       "    <tr>\n",
       "      <th>2014-02-21</th>\n",
       "      <td>6108.30</td>\n",
       "      <td>6159.65</td>\n",
       "      <td>6108.00</td>\n",
       "      <td>6155.4</td>\n",
       "      <td>0.005808</td>\n",
       "      <td>0.917715</td>\n",
       "      <td>0.911907</td>\n",
       "      <td>0.839101</td>\n",
       "      <td>0.986890</td>\n",
       "      <td>0.700167</td>\n",
       "      <td>0.166257</td>\n",
       "      <td>0.905815</td>\n",
       "      <td>0.116061</td>\n",
       "      <td>0.954279</td>\n",
       "      <td>0.277440</td>\n",
       "      <td>0.277440</td>\n",
       "      <td>-0.765182</td>\n",
       "    </tr>\n",
       "    <tr>\n",
       "      <th>2013-12-20</th>\n",
       "      <td>6179.95</td>\n",
       "      <td>6284.50</td>\n",
       "      <td>6170.35</td>\n",
       "      <td>6274.2</td>\n",
       "      <td>0.084100</td>\n",
       "      <td>0.909768</td>\n",
       "      <td>0.825668</td>\n",
       "      <td>1.819355</td>\n",
       "      <td>0.804360</td>\n",
       "      <td>1.833263</td>\n",
       "      <td>0.004946</td>\n",
       "      <td>0.347181</td>\n",
       "      <td>0.140646</td>\n",
       "      <td>0.912870</td>\n",
       "      <td>0.216489</td>\n",
       "      <td>0.216489</td>\n",
       "      <td>-1.502184</td>\n",
       "    </tr>\n",
       "    <tr>\n",
       "      <th>2013-10-29</th>\n",
       "      <td>6107.55</td>\n",
       "      <td>6228.05</td>\n",
       "      <td>6079.20</td>\n",
       "      <td>6220.9</td>\n",
       "      <td>0.190460</td>\n",
       "      <td>0.951965</td>\n",
       "      <td>0.761505</td>\n",
       "      <td>2.392741</td>\n",
       "      <td>0.745397</td>\n",
       "      <td>1.223550</td>\n",
       "      <td>0.175966</td>\n",
       "      <td>0.624464</td>\n",
       "      <td>0.093771</td>\n",
       "      <td>0.817147</td>\n",
       "      <td>0.105719</td>\n",
       "      <td>0.105719</td>\n",
       "      <td>-1.822084</td>\n",
       "    </tr>\n",
       "    <tr>\n",
       "      <th>2013-10-18</th>\n",
       "      <td>6070.90</td>\n",
       "      <td>6201.45</td>\n",
       "      <td>6070.90</td>\n",
       "      <td>6189.3</td>\n",
       "      <td>0.000000</td>\n",
       "      <td>0.906932</td>\n",
       "      <td>0.906932</td>\n",
       "      <td>2.109285</td>\n",
       "      <td>0.896872</td>\n",
       "      <td>1.293460</td>\n",
       "      <td>0.695418</td>\n",
       "      <td>0.747529</td>\n",
       "      <td>0.169437</td>\n",
       "      <td>0.843350</td>\n",
       "      <td>0.415164</td>\n",
       "      <td>0.415164</td>\n",
       "      <td>-1.912979</td>\n",
       "    </tr>\n",
       "    <tr>\n",
       "      <th>2013-08-22</th>\n",
       "      <td>5282.80</td>\n",
       "      <td>5418.95</td>\n",
       "      <td>5254.05</td>\n",
       "      <td>5408.4</td>\n",
       "      <td>0.174348</td>\n",
       "      <td>0.936022</td>\n",
       "      <td>0.761674</td>\n",
       "      <td>3.048961</td>\n",
       "      <td>1.845861</td>\n",
       "      <td>4.444130</td>\n",
       "      <td>0.504455</td>\n",
       "      <td>0.929703</td>\n",
       "      <td>0.144494</td>\n",
       "      <td>0.959049</td>\n",
       "      <td>-0.371523</td>\n",
       "      <td>0.371523</td>\n",
       "      <td>-2.322313</td>\n",
       "    </tr>\n",
       "    <tr>\n",
       "      <th>2013-07-04</th>\n",
       "      <td>5794.75</td>\n",
       "      <td>5848.20</td>\n",
       "      <td>5786.05</td>\n",
       "      <td>5836.9</td>\n",
       "      <td>0.139984</td>\n",
       "      <td>0.818182</td>\n",
       "      <td>0.678198</td>\n",
       "      <td>1.064778</td>\n",
       "      <td>0.715759</td>\n",
       "      <td>0.946126</td>\n",
       "      <td>0.750000</td>\n",
       "      <td>0.225000</td>\n",
       "      <td>0.192308</td>\n",
       "      <td>0.944139</td>\n",
       "      <td>0.413280</td>\n",
       "      <td>0.413280</td>\n",
       "      <td>-0.722130</td>\n",
       "    </tr>\n",
       "    <tr>\n",
       "      <th>2013-01-14</th>\n",
       "      <td>5967.20</td>\n",
       "      <td>6036.90</td>\n",
       "      <td>5962.15</td>\n",
       "      <td>6024.0</td>\n",
       "      <td>0.067559</td>\n",
       "      <td>0.827425</td>\n",
       "      <td>0.759866</td>\n",
       "      <td>1.240870</td>\n",
       "      <td>0.823895</td>\n",
       "      <td>1.314839</td>\n",
       "      <td>0.385772</td>\n",
       "      <td>0.761523</td>\n",
       "      <td>0.136741</td>\n",
       "      <td>0.917572</td>\n",
       "      <td>0.267169</td>\n",
       "      <td>0.267169</td>\n",
       "      <td>-0.942895</td>\n",
       "    </tr>\n",
       "    <tr>\n",
       "      <th>2012-12-14</th>\n",
       "      <td>5846.90</td>\n",
       "      <td>5886.10</td>\n",
       "      <td>5839.15</td>\n",
       "      <td>5879.6</td>\n",
       "      <td>0.165069</td>\n",
       "      <td>0.861555</td>\n",
       "      <td>0.696486</td>\n",
       "      <td>0.798524</td>\n",
       "      <td>0.612848</td>\n",
       "      <td>1.129625</td>\n",
       "      <td>0.288301</td>\n",
       "      <td>0.215877</td>\n",
       "      <td>0.153555</td>\n",
       "      <td>0.892587</td>\n",
       "      <td>-0.078612</td>\n",
       "      <td>0.078612</td>\n",
       "      <td>-0.556160</td>\n",
       "    </tr>\n",
       "    <tr>\n",
       "      <th>2012-06-19</th>\n",
       "      <td>5050.80</td>\n",
       "      <td>5113.60</td>\n",
       "      <td>5048.10</td>\n",
       "      <td>5103.8</td>\n",
       "      <td>0.041221</td>\n",
       "      <td>0.850382</td>\n",
       "      <td>0.809160</td>\n",
       "      <td>1.283357</td>\n",
       "      <td>0.800703</td>\n",
       "      <td>2.932349</td>\n",
       "      <td>0.337805</td>\n",
       "      <td>0.482927</td>\n",
       "      <td>0.151515</td>\n",
       "      <td>0.890909</td>\n",
       "      <td>-0.264603</td>\n",
       "      <td>0.264603</td>\n",
       "      <td>-1.038442</td>\n",
       "    </tr>\n",
       "    <tr>\n",
       "      <th>2012-02-28</th>\n",
       "      <td>5310.50</td>\n",
       "      <td>5391.10</td>\n",
       "      <td>5306.45</td>\n",
       "      <td>5375.5</td>\n",
       "      <td>0.047844</td>\n",
       "      <td>0.815712</td>\n",
       "      <td>0.767868</td>\n",
       "      <td>1.574737</td>\n",
       "      <td>1.978571</td>\n",
       "      <td>3.439559</td>\n",
       "      <td>0.682309</td>\n",
       "      <td>0.309244</td>\n",
       "      <td>0.071841</td>\n",
       "      <td>0.990641</td>\n",
       "      <td>0.554798</td>\n",
       "      <td>0.554798</td>\n",
       "      <td>-1.209190</td>\n",
       "    </tr>\n",
       "    <tr>\n",
       "      <th>2012-01-31</th>\n",
       "      <td>5125.25</td>\n",
       "      <td>5215.40</td>\n",
       "      <td>5120.15</td>\n",
       "      <td>5199.2</td>\n",
       "      <td>0.053543</td>\n",
       "      <td>0.829921</td>\n",
       "      <td>0.776378</td>\n",
       "      <td>1.832013</td>\n",
       "      <td>1.634929</td>\n",
       "      <td>1.758300</td>\n",
       "      <td>0.457360</td>\n",
       "      <td>0.896028</td>\n",
       "      <td>0.118502</td>\n",
       "      <td>0.970933</td>\n",
       "      <td>0.745975</td>\n",
       "      <td>0.745975</td>\n",
       "      <td>-1.422334</td>\n",
       "    </tr>\n",
       "    <tr>\n",
       "      <th>2011-10-14</th>\n",
       "      <td>5057.35</td>\n",
       "      <td>5141.40</td>\n",
       "      <td>5056.60</td>\n",
       "      <td>5132.3</td>\n",
       "      <td>0.008844</td>\n",
       "      <td>0.892689</td>\n",
       "      <td>0.883844</td>\n",
       "      <td>1.652281</td>\n",
       "      <td>1.479036</td>\n",
       "      <td>1.364764</td>\n",
       "      <td>0.947160</td>\n",
       "      <td>0.445178</td>\n",
       "      <td>0.146465</td>\n",
       "      <td>0.911255</td>\n",
       "      <td>-0.402733</td>\n",
       "      <td>0.402733</td>\n",
       "      <td>-1.460359</td>\n",
       "    </tr>\n",
       "    <tr>\n",
       "      <th>2010-11-22</th>\n",
       "      <td>5920.90</td>\n",
       "      <td>6020.25</td>\n",
       "      <td>5905.15</td>\n",
       "      <td>6010.0</td>\n",
       "      <td>0.136838</td>\n",
       "      <td>0.910947</td>\n",
       "      <td>0.774109</td>\n",
       "      <td>1.915141</td>\n",
       "      <td>2.500548</td>\n",
       "      <td>2.534676</td>\n",
       "      <td>0.987871</td>\n",
       "      <td>0.739555</td>\n",
       "      <td>0.176490</td>\n",
       "      <td>0.986939</td>\n",
       "      <td>0.519498</td>\n",
       "      <td>0.519498</td>\n",
       "      <td>-1.482529</td>\n",
       "    </tr>\n",
       "    <tr>\n",
       "      <th>2010-06-28</th>\n",
       "      <td>5271.10</td>\n",
       "      <td>5339.45</td>\n",
       "      <td>5270.75</td>\n",
       "      <td>5333.5</td>\n",
       "      <td>0.005095</td>\n",
       "      <td>0.913392</td>\n",
       "      <td>0.908297</td>\n",
       "      <td>1.288085</td>\n",
       "      <td>1.871159</td>\n",
       "      <td>1.150123</td>\n",
       "      <td>0.993899</td>\n",
       "      <td>0.206406</td>\n",
       "      <td>0.150165</td>\n",
       "      <td>1.000000</td>\n",
       "      <td>0.039856</td>\n",
       "      <td>0.039856</td>\n",
       "      <td>-1.169963</td>\n",
       "    </tr>\n",
       "    <tr>\n",
       "      <th>2010-06-02</th>\n",
       "      <td>4970.75</td>\n",
       "      <td>5031.20</td>\n",
       "      <td>4967.05</td>\n",
       "      <td>5019.8</td>\n",
       "      <td>0.057677</td>\n",
       "      <td>0.822292</td>\n",
       "      <td>0.764614</td>\n",
       "      <td>1.277939</td>\n",
       "      <td>2.065356</td>\n",
       "      <td>2.533097</td>\n",
       "      <td>0.000000</td>\n",
       "      <td>0.855992</td>\n",
       "      <td>0.072677</td>\n",
       "      <td>0.994440</td>\n",
       "      <td>0.011066</td>\n",
       "      <td>0.011066</td>\n",
       "      <td>-0.977131</td>\n",
       "    </tr>\n",
       "    <tr>\n",
       "      <th>2010-05-26</th>\n",
       "      <td>4807.30</td>\n",
       "      <td>4925.45</td>\n",
       "      <td>4807.30</td>\n",
       "      <td>4917.4</td>\n",
       "      <td>0.000000</td>\n",
       "      <td>0.931866</td>\n",
       "      <td>0.931866</td>\n",
       "      <td>2.402692</td>\n",
       "      <td>2.378525</td>\n",
       "      <td>3.331808</td>\n",
       "      <td>0.147479</td>\n",
       "      <td>0.886555</td>\n",
       "      <td>0.126444</td>\n",
       "      <td>0.991883</td>\n",
       "      <td>0.012483</td>\n",
       "      <td>0.012483</td>\n",
       "      <td>-2.238988</td>\n",
       "    </tr>\n",
       "    <tr>\n",
       "      <th>2010-02-06</th>\n",
       "      <td>4712.75</td>\n",
       "      <td>4768.15</td>\n",
       "      <td>4712.75</td>\n",
       "      <td>4757.2</td>\n",
       "      <td>0.000000</td>\n",
       "      <td>0.802347</td>\n",
       "      <td>0.802347</td>\n",
       "      <td>1.164551</td>\n",
       "      <td>2.597471</td>\n",
       "      <td>2.853601</td>\n",
       "      <td>0.646583</td>\n",
       "      <td>0.687424</td>\n",
       "      <td>0.194950</td>\n",
       "      <td>0.945414</td>\n",
       "      <td>-0.123977</td>\n",
       "      <td>0.123977</td>\n",
       "      <td>-0.934373</td>\n",
       "    </tr>\n",
       "  </tbody>\n",
       "</table>\n",
       "</div>"
      ],
      "text/plain": [
       "                Open      High       Low    Close       OPR       CPR  \\\n",
       "Date                                                                    \n",
       "2021-05-21  14987.80  15190.00  14985.85  15175.3  0.009552  0.927994   \n",
       "2021-02-01  13758.60  14336.35  13661.75  14281.2  0.143567  0.918248   \n",
       "2020-04-07   8446.30   8819.40   8360.95   8792.2  0.186171  0.940670   \n",
       "2019-12-27  12172.90  12258.45  12157.90  12245.0  0.149180  0.866236   \n",
       "2019-12-17  12082.45  12182.75  12070.35  12165.0  0.107651  0.842082   \n",
       "2018-10-10  10331.85  10482.35  10318.25  10460.0  0.082876  0.863803   \n",
       "2018-06-29  10612.85  10723.05  10612.35  10714.0  0.004517  0.918248   \n",
       "2018-06-20  10734.65  10781.80  10724.05  10772.0  0.183550  0.830303   \n",
       "2018-05-11  10741.95  10812.05  10724.45  10806.0  0.199772  0.930936   \n",
       "2018-05-07  10653.15  10725.65  10635.65  10715.0  0.194444  0.881667   \n",
       "2018-04-05  10228.45  10331.80  10227.45  10325.0  0.009583  0.934835   \n",
       "2017-04-11   9184.55   9242.70   9172.85   9237.0  0.167502  0.918397   \n",
       "2017-02-20   8818.55   8886.25   8809.80   8879.2  0.114454  0.907783   \n",
       "2017-02-01   8570.35   8722.40   8537.50   8716.4  0.177664  0.967550   \n",
       "2016-12-27   7915.05   8044.65   7903.70   8032.8  0.080525  0.915928   \n",
       "2016-10-18   8556.05   8685.10   8555.90   8677.9  0.001161  0.944272   \n",
       "2015-12-31   7897.80   7955.55   7891.15   7946.3  0.103261  0.856366   \n",
       "2015-12-21   7745.65   7840.75   7733.45   7834.4  0.113700  0.940820   \n",
       "2015-02-27   8729.50   8856.95   8717.45   8844.6  0.086380  0.911470   \n",
       "2014-02-21   6108.30   6159.65   6108.00   6155.4  0.005808  0.917715   \n",
       "2013-12-20   6179.95   6284.50   6170.35   6274.2  0.084100  0.909768   \n",
       "2013-10-29   6107.55   6228.05   6079.20   6220.9  0.190460  0.951965   \n",
       "2013-10-18   6070.90   6201.45   6070.90   6189.3  0.000000  0.906932   \n",
       "2013-08-22   5282.80   5418.95   5254.05   5408.4  0.174348  0.936022   \n",
       "2013-07-04   5794.75   5848.20   5786.05   5836.9  0.139984  0.818182   \n",
       "2013-01-14   5967.20   6036.90   5962.15   6024.0  0.067559  0.827425   \n",
       "2012-12-14   5846.90   5886.10   5839.15   5879.6  0.165069  0.861555   \n",
       "2012-06-19   5050.80   5113.60   5048.10   5103.8  0.041221  0.850382   \n",
       "2012-02-28   5310.50   5391.10   5306.45   5375.5  0.047844  0.815712   \n",
       "2012-01-31   5125.25   5215.40   5120.15   5199.2  0.053543  0.829921   \n",
       "2011-10-14   5057.35   5141.40   5056.60   5132.3  0.008844  0.892689   \n",
       "2010-11-22   5920.90   6020.25   5905.15   6010.0  0.136838  0.910947   \n",
       "2010-06-28   5271.10   5339.45   5270.75   5333.5  0.005095  0.913392   \n",
       "2010-06-02   4970.75   5031.20   4967.05   5019.8  0.057677  0.822292   \n",
       "2010-05-26   4807.30   4925.45   4807.30   4917.4  0.000000  0.931866   \n",
       "2010-02-06   4712.75   4768.15   4712.75   4757.2  0.000000  0.802347   \n",
       "\n",
       "               Solid  True_Range_ratio  TRR_Next  TRR_Prev  OPR_Next  \\\n",
       "Date                                                                   \n",
       "2021-05-21  0.918442          1.345278  0.729058  1.240436  0.594765   \n",
       "2021-02-01  0.774681          4.723693  1.792413  2.714418  0.045515   \n",
       "2020-04-07  0.754499          5.214281  5.461383  3.720404  0.073252   \n",
       "2019-12-27  0.717056          0.821151  0.592819  0.846940  0.841019   \n",
       "2019-12-17  0.734431          0.923962  0.923962  0.733013  0.107651   \n",
       "2018-10-10  0.780926          1.568834  1.928376  1.147947  0.158095   \n",
       "2018-06-29  0.913731          1.033228  0.358326  0.724772  0.952555   \n",
       "2018-06-20  0.646753          0.536112  0.779257  0.823996  0.986260   \n",
       "2018-05-11  0.731164          0.810661  0.556172  0.751680  0.672213   \n",
       "2018-05-07  0.687222          0.839944  0.645237  0.930966  0.990600   \n",
       "2018-04-05  0.925252          1.010654  0.576904  1.664198  0.535235   \n",
       "2017-04-11  0.750895          0.756198  0.919226  0.553293  0.953901   \n",
       "2017-02-20  0.793329          0.861001  0.671883  1.045150  0.497911   \n",
       "2017-02-01  0.789886          2.121289  0.822056  0.926845  0.542479   \n",
       "2016-12-27  0.835403          1.754681  0.897969  0.964189  0.265419   \n",
       "2016-10-18  0.943111          1.488839  0.716587  1.282217  0.979855   \n",
       "2015-12-31  0.753106          0.810440  0.788000  0.695271  0.456574   \n",
       "2015-12-21  0.827120          1.369601  0.891974  1.066749  0.756659   \n",
       "2015-02-27  0.825090          1.577234  2.131591  1.342730  0.852174   \n",
       "2014-02-21  0.911907          0.839101  0.986890  0.700167  0.166257   \n",
       "2013-12-20  0.825668          1.819355  0.804360  1.833263  0.004946   \n",
       "2013-10-29  0.761505          2.392741  0.745397  1.223550  0.175966   \n",
       "2013-10-18  0.906932          2.109285  0.896872  1.293460  0.695418   \n",
       "2013-08-22  0.761674          3.048961  1.845861  4.444130  0.504455   \n",
       "2013-07-04  0.678198          1.064778  0.715759  0.946126  0.750000   \n",
       "2013-01-14  0.759866          1.240870  0.823895  1.314839  0.385772   \n",
       "2012-12-14  0.696486          0.798524  0.612848  1.129625  0.288301   \n",
       "2012-06-19  0.809160          1.283357  0.800703  2.932349  0.337805   \n",
       "2012-02-28  0.767868          1.574737  1.978571  3.439559  0.682309   \n",
       "2012-01-31  0.776378          1.832013  1.634929  1.758300  0.457360   \n",
       "2011-10-14  0.883844          1.652281  1.479036  1.364764  0.947160   \n",
       "2010-11-22  0.774109          1.915141  2.500548  2.534676  0.987871   \n",
       "2010-06-28  0.908297          1.288085  1.871159  1.150123  0.993899   \n",
       "2010-06-02  0.764614          1.277939  2.065356  2.533097  0.000000   \n",
       "2010-05-26  0.931866          2.402692  2.378525  3.331808  0.147479   \n",
       "2010-02-06  0.802347          1.164551  2.597471  2.853601  0.646583   \n",
       "\n",
       "            CPR_Next  CPR_Prev  OPR_Prev      Gap%  Abs_Gap%  Real_Move  \n",
       "Date                                                                     \n",
       "2021-05-21  0.471570  0.114386  0.852893  0.548435  0.548435  -1.235560  \n",
       "2021-02-01  0.680632  0.102270  0.945285  0.909451  0.909451  -3.659356  \n",
       "2020-04-07  0.198409  0.093101  1.000000  4.484277  4.484277  -3.934169  \n",
       "2019-12-27  0.567103  0.069620  0.905550  0.386772  0.386772  -0.588812  \n",
       "2019-12-17  0.842082  0.075835  0.962649  0.244338  0.244338  -0.678586  \n",
       "2018-10-10  0.483405  0.183087  0.938266  0.299485  0.299485  -1.225143  \n",
       "2018-06-29  0.386861  0.114744  0.895513 -1.385895  1.385895  -0.944092  \n",
       "2018-06-20  0.180406  0.099717  1.000000  0.230159  0.230159  -0.346732  \n",
       "2018-05-11  0.519967  0.136561  0.926754  0.242161  0.242161  -0.592726  \n",
       "2018-05-07  0.399132  0.165908  1.000000  0.331042  0.331042  -0.577228  \n",
       "2018-04-05  0.673658  0.099080  0.968852  0.991805  0.991805  -0.935109  \n",
       "2017-04-11  0.491726  0.128937  0.999016  0.034308  0.034308  -0.567825  \n",
       "2017-02-20  0.782790  0.189262  0.861714 -0.035707  0.035707  -0.683057  \n",
       "2017-02-01  0.674095  0.112161  0.971014  0.105708  0.105708  -1.675577  \n",
       "2016-12-27  0.088704  0.188852  0.935082  0.086619  0.086619  -1.465865  \n",
       "2016-10-18  0.360999  0.130435  0.977574  0.418408  0.418408  -1.404142  \n",
       "2015-12-31  0.850996  0.115665  0.887978  0.020263  0.020263  -0.610347  \n",
       "2015-12-21  0.133189  0.103261  0.912440 -0.209356  0.209356  -1.132824  \n",
       "2015-02-27  0.792885  0.123070  0.939537  0.526267  0.526267  -1.301359  \n",
       "2014-02-21  0.905815  0.116061  0.954279  0.277440  0.277440  -0.765182  \n",
       "2013-12-20  0.347181  0.140646  0.912870  0.216489  0.216489  -1.502184  \n",
       "2013-10-29  0.624464  0.093771  0.817147  0.105719  0.105719  -1.822084  \n",
       "2013-10-18  0.747529  0.169437  0.843350  0.415164  0.415164  -1.912979  \n",
       "2013-08-22  0.929703  0.144494  0.959049 -0.371523  0.371523  -2.322313  \n",
       "2013-07-04  0.225000  0.192308  0.944139  0.413280  0.413280  -0.722130  \n",
       "2013-01-14  0.761523  0.136741  0.917572  0.267169  0.267169  -0.942895  \n",
       "2012-12-14  0.215877  0.153555  0.892587 -0.078612  0.078612  -0.556160  \n",
       "2012-06-19  0.482927  0.151515  0.890909 -0.264603  0.264603  -1.038442  \n",
       "2012-02-28  0.309244  0.071841  0.990641  0.554798  0.554798  -1.209190  \n",
       "2012-01-31  0.896028  0.118502  0.970933  0.745975  0.745975  -1.422334  \n",
       "2011-10-14  0.445178  0.146465  0.911255 -0.402733  0.402733  -1.460359  \n",
       "2010-11-22  0.739555  0.176490  0.986939  0.519498  0.519498  -1.482529  \n",
       "2010-06-28  0.206406  0.150165  1.000000  0.039856  0.039856  -1.169963  \n",
       "2010-06-02  0.855992  0.072677  0.994440  0.011066  0.011066  -0.977131  \n",
       "2010-05-26  0.886555  0.126444  0.991883  0.012483  0.012483  -2.238988  \n",
       "2010-02-06  0.687424  0.194950  0.945414 -0.123977  0.123977  -0.934373  "
      ]
     },
     "execution_count": 213,
     "metadata": {},
     "output_type": "execute_result"
    }
   ],
   "source": [
    "df[(df['OPR'] <= 0.2) & (df['CPR'] >= 0.8) & (df['CPR_Prev'] <= 0.2) & (df['OPR_Prev'] >= 0.8)]"
   ]
  },
  {
   "cell_type": "code",
   "execution_count": 215,
   "id": "4b5ad8a5",
   "metadata": {},
   "outputs": [
    {
     "data": {
      "text/plain": [
       "Open                39\n",
       "High                39\n",
       "Low                 39\n",
       "Close               39\n",
       "OPR                 39\n",
       "CPR                 39\n",
       "Solid               39\n",
       "True_Range_ratio    39\n",
       "TRR_Next            39\n",
       "TRR_Prev            39\n",
       "OPR_Next            39\n",
       "CPR_Next            39\n",
       "CPR_Prev            39\n",
       "OPR_Prev            39\n",
       "Gap%                39\n",
       "Abs_Gap%            39\n",
       "Real_Move           39\n",
       "dtype: int64"
      ]
     },
     "execution_count": 215,
     "metadata": {},
     "output_type": "execute_result"
    }
   ],
   "source": [
    "df[(df['OPR'] >= 0.8) & (df['CPR'] <= 0.2) & (df['CPR_Prev'] >= 0.8) & (df['OPR_Prev'] <= 0.2)].count()"
   ]
  },
  {
   "cell_type": "code",
   "execution_count": 216,
   "id": "31cb0d08",
   "metadata": {},
   "outputs": [
    {
     "data": {
      "text/html": [
       "<div>\n",
       "<style scoped>\n",
       "    .dataframe tbody tr th:only-of-type {\n",
       "        vertical-align: middle;\n",
       "    }\n",
       "\n",
       "    .dataframe tbody tr th {\n",
       "        vertical-align: top;\n",
       "    }\n",
       "\n",
       "    .dataframe thead th {\n",
       "        text-align: right;\n",
       "    }\n",
       "</style>\n",
       "<table border=\"1\" class=\"dataframe\">\n",
       "  <thead>\n",
       "    <tr style=\"text-align: right;\">\n",
       "      <th></th>\n",
       "      <th>Open</th>\n",
       "      <th>High</th>\n",
       "      <th>Low</th>\n",
       "      <th>Close</th>\n",
       "      <th>OPR</th>\n",
       "      <th>CPR</th>\n",
       "      <th>Solid</th>\n",
       "      <th>True_Range_ratio</th>\n",
       "      <th>TRR_Next</th>\n",
       "      <th>TRR_Prev</th>\n",
       "      <th>OPR_Next</th>\n",
       "      <th>CPR_Next</th>\n",
       "      <th>CPR_Prev</th>\n",
       "      <th>OPR_Prev</th>\n",
       "      <th>Gap%</th>\n",
       "      <th>Abs_Gap%</th>\n",
       "      <th>Real_Move</th>\n",
       "    </tr>\n",
       "    <tr>\n",
       "      <th>Date</th>\n",
       "      <th></th>\n",
       "      <th></th>\n",
       "      <th></th>\n",
       "      <th></th>\n",
       "      <th></th>\n",
       "      <th></th>\n",
       "      <th></th>\n",
       "      <th></th>\n",
       "      <th></th>\n",
       "      <th></th>\n",
       "      <th></th>\n",
       "      <th></th>\n",
       "      <th></th>\n",
       "      <th></th>\n",
       "      <th></th>\n",
       "      <th></th>\n",
       "      <th></th>\n",
       "    </tr>\n",
       "  </thead>\n",
       "  <tbody>\n",
       "    <tr>\n",
       "      <th>2021-10-06</th>\n",
       "      <td>17861.50</td>\n",
       "      <td>17884.60</td>\n",
       "      <td>17613.15</td>\n",
       "      <td>17646.0</td>\n",
       "      <td>0.914901</td>\n",
       "      <td>0.121017</td>\n",
       "      <td>0.793885</td>\n",
       "      <td>1.538309</td>\n",
       "      <td>0.526971</td>\n",
       "      <td>1.080388</td>\n",
       "      <td>0.498667</td>\n",
       "      <td>0.283200</td>\n",
       "      <td>0.942093</td>\n",
       "      <td>0.106206</td>\n",
       "      <td>0.219949</td>\n",
       "      <td>0.219949</td>\n",
       "      <td>1.221240</td>\n",
       "    </tr>\n",
       "    <tr>\n",
       "      <th>2021-03-31</th>\n",
       "      <td>14811.85</td>\n",
       "      <td>14813.75</td>\n",
       "      <td>14670.25</td>\n",
       "      <td>14690.7</td>\n",
       "      <td>0.986760</td>\n",
       "      <td>0.142509</td>\n",
       "      <td>0.844251</td>\n",
       "      <td>0.976808</td>\n",
       "      <td>1.283013</td>\n",
       "      <td>1.742663</td>\n",
       "      <td>0.555439</td>\n",
       "      <td>0.916907</td>\n",
       "      <td>0.879397</td>\n",
       "      <td>0.042134</td>\n",
       "      <td>-0.223980</td>\n",
       "      <td>0.223980</td>\n",
       "      <td>0.824671</td>\n",
       "    </tr>\n",
       "    <tr>\n",
       "      <th>2020-10-15</th>\n",
       "      <td>12023.45</td>\n",
       "      <td>12025.45</td>\n",
       "      <td>11661.30</td>\n",
       "      <td>11680.0</td>\n",
       "      <td>0.994508</td>\n",
       "      <td>0.051352</td>\n",
       "      <td>0.943155</td>\n",
       "      <td>3.117723</td>\n",
       "      <td>0.417306</td>\n",
       "      <td>1.304787</td>\n",
       "      <td>0.081197</td>\n",
       "      <td>0.464103</td>\n",
       "      <td>0.887580</td>\n",
       "      <td>0.044766</td>\n",
       "      <td>5.607817</td>\n",
       "      <td>5.607817</td>\n",
       "      <td>2.940497</td>\n",
       "    </tr>\n",
       "    <tr>\n",
       "      <th>2020-06-24</th>\n",
       "      <td>10529.25</td>\n",
       "      <td>10553.15</td>\n",
       "      <td>10281.95</td>\n",
       "      <td>10305.0</td>\n",
       "      <td>0.911873</td>\n",
       "      <td>0.084993</td>\n",
       "      <td>0.826881</td>\n",
       "      <td>2.631732</td>\n",
       "      <td>1.626166</td>\n",
       "      <td>2.637499</td>\n",
       "      <td>0.245368</td>\n",
       "      <td>0.558876</td>\n",
       "      <td>0.924103</td>\n",
       "      <td>0.068382</td>\n",
       "      <td>4.342979</td>\n",
       "      <td>4.342979</td>\n",
       "      <td>2.176128</td>\n",
       "    </tr>\n",
       "    <tr>\n",
       "      <th>2020-05-04</th>\n",
       "      <td>9533.50</td>\n",
       "      <td>9533.50</td>\n",
       "      <td>9266.95</td>\n",
       "      <td>9293.5</td>\n",
       "      <td>1.000000</td>\n",
       "      <td>0.099606</td>\n",
       "      <td>0.900394</td>\n",
       "      <td>2.868134</td>\n",
       "      <td>2.825997</td>\n",
       "      <td>1.597886</td>\n",
       "      <td>0.917355</td>\n",
       "      <td>0.057082</td>\n",
       "      <td>0.814979</td>\n",
       "      <td>0.139638</td>\n",
       "      <td>-3.310378</td>\n",
       "      <td>3.310378</td>\n",
       "      <td>2.582450</td>\n",
       "    </tr>\n",
       "    <tr>\n",
       "      <th>2019-12-16</th>\n",
       "      <td>12131.35</td>\n",
       "      <td>12134.65</td>\n",
       "      <td>12046.30</td>\n",
       "      <td>12053.0</td>\n",
       "      <td>0.962649</td>\n",
       "      <td>0.075835</td>\n",
       "      <td>0.886814</td>\n",
       "      <td>0.733013</td>\n",
       "      <td>0.923962</td>\n",
       "      <td>0.622621</td>\n",
       "      <td>0.107651</td>\n",
       "      <td>0.842082</td>\n",
       "      <td>0.829236</td>\n",
       "      <td>0.037209</td>\n",
       "      <td>0.375228</td>\n",
       "      <td>0.375228</td>\n",
       "      <td>0.650046</td>\n",
       "    </tr>\n",
       "    <tr>\n",
       "      <th>2018-12-21</th>\n",
       "      <td>10944.25</td>\n",
       "      <td>10963.65</td>\n",
       "      <td>10738.65</td>\n",
       "      <td>10754.0</td>\n",
       "      <td>0.913778</td>\n",
       "      <td>0.068222</td>\n",
       "      <td>0.845556</td>\n",
       "      <td>2.092245</td>\n",
       "      <td>1.247773</td>\n",
       "      <td>0.753356</td>\n",
       "      <td>0.989478</td>\n",
       "      <td>0.103345</td>\n",
       "      <td>0.860000</td>\n",
       "      <td>0.062424</td>\n",
       "      <td>-0.061638</td>\n",
       "      <td>0.061638</td>\n",
       "      <td>1.769109</td>\n",
       "    </tr>\n",
       "    <tr>\n",
       "      <th>2018-09-17</th>\n",
       "      <td>11464.95</td>\n",
       "      <td>11464.95</td>\n",
       "      <td>11366.90</td>\n",
       "      <td>11377.0</td>\n",
       "      <td>1.000000</td>\n",
       "      <td>0.103009</td>\n",
       "      <td>0.896991</td>\n",
       "      <td>0.861826</td>\n",
       "      <td>1.263522</td>\n",
       "      <td>0.805037</td>\n",
       "      <td>0.790175</td>\n",
       "      <td>0.063509</td>\n",
       "      <td>0.911003</td>\n",
       "      <td>0.139698</td>\n",
       "      <td>-0.434650</td>\n",
       "      <td>0.434650</td>\n",
       "      <td>0.773051</td>\n",
       "    </tr>\n",
       "    <tr>\n",
       "      <th>2018-06-21</th>\n",
       "      <td>10808.45</td>\n",
       "      <td>10809.60</td>\n",
       "      <td>10725.90</td>\n",
       "      <td>10741.0</td>\n",
       "      <td>0.986260</td>\n",
       "      <td>0.180406</td>\n",
       "      <td>0.805854</td>\n",
       "      <td>0.779257</td>\n",
       "      <td>1.169485</td>\n",
       "      <td>0.536112</td>\n",
       "      <td>0.254840</td>\n",
       "      <td>0.873568</td>\n",
       "      <td>0.830303</td>\n",
       "      <td>0.183550</td>\n",
       "      <td>0.338377</td>\n",
       "      <td>0.338377</td>\n",
       "      <td>0.627968</td>\n",
       "    </tr>\n",
       "    <tr>\n",
       "      <th>2018-04-04</th>\n",
       "      <td>10274.60</td>\n",
       "      <td>10279.85</td>\n",
       "      <td>10111.30</td>\n",
       "      <td>10128.0</td>\n",
       "      <td>0.968852</td>\n",
       "      <td>0.099080</td>\n",
       "      <td>0.869772</td>\n",
       "      <td>1.664198</td>\n",
       "      <td>1.010654</td>\n",
       "      <td>0.822840</td>\n",
       "      <td>0.009583</td>\n",
       "      <td>0.934835</td>\n",
       "      <td>0.877224</td>\n",
       "      <td>0.187426</td>\n",
       "      <td>0.288921</td>\n",
       "      <td>0.288921</td>\n",
       "      <td>1.447472</td>\n",
       "    </tr>\n",
       "    <tr>\n",
       "      <th>2018-02-27</th>\n",
       "      <td>10615.20</td>\n",
       "      <td>10631.65</td>\n",
       "      <td>10537.25</td>\n",
       "      <td>10554.0</td>\n",
       "      <td>0.825742</td>\n",
       "      <td>0.177436</td>\n",
       "      <td>0.648305</td>\n",
       "      <td>0.894448</td>\n",
       "      <td>0.704823</td>\n",
       "      <td>0.687488</td>\n",
       "      <td>0.370521</td>\n",
       "      <td>0.411765</td>\n",
       "      <td>0.849485</td>\n",
       "      <td>0.087285</td>\n",
       "      <td>0.313740</td>\n",
       "      <td>0.313740</td>\n",
       "      <td>0.579875</td>\n",
       "    </tr>\n",
       "    <tr>\n",
       "      <th>2018-01-01</th>\n",
       "      <td>10531.70</td>\n",
       "      <td>10537.85</td>\n",
       "      <td>10423.10</td>\n",
       "      <td>10435.0</td>\n",
       "      <td>0.946405</td>\n",
       "      <td>0.103704</td>\n",
       "      <td>0.842702</td>\n",
       "      <td>1.099665</td>\n",
       "      <td>0.867171</td>\n",
       "      <td>0.475309</td>\n",
       "      <td>0.805080</td>\n",
       "      <td>0.412479</td>\n",
       "      <td>0.826174</td>\n",
       "      <td>0.073926</td>\n",
       "      <td>0.016144</td>\n",
       "      <td>0.016144</td>\n",
       "      <td>0.926689</td>\n",
       "    </tr>\n",
       "    <tr>\n",
       "      <th>2017-12-20</th>\n",
       "      <td>10494.40</td>\n",
       "      <td>10494.45</td>\n",
       "      <td>10437.15</td>\n",
       "      <td>10444.0</td>\n",
       "      <td>0.999127</td>\n",
       "      <td>0.119546</td>\n",
       "      <td>0.879581</td>\n",
       "      <td>0.548640</td>\n",
       "      <td>0.450670</td>\n",
       "      <td>0.632706</td>\n",
       "      <td>1.000000</td>\n",
       "      <td>0.278427</td>\n",
       "      <td>0.861027</td>\n",
       "      <td>0.132931</td>\n",
       "      <td>0.300105</td>\n",
       "      <td>0.300105</td>\n",
       "      <td>0.482574</td>\n",
       "    </tr>\n",
       "    <tr>\n",
       "      <th>2017-07-20</th>\n",
       "      <td>9920.20</td>\n",
       "      <td>9922.55</td>\n",
       "      <td>9863.45</td>\n",
       "      <td>9873.3</td>\n",
       "      <td>0.960237</td>\n",
       "      <td>0.166667</td>\n",
       "      <td>0.793570</td>\n",
       "      <td>0.598584</td>\n",
       "      <td>0.874415</td>\n",
       "      <td>0.539416</td>\n",
       "      <td>0.710496</td>\n",
       "      <td>0.890427</td>\n",
       "      <td>0.897940</td>\n",
       "      <td>0.080524</td>\n",
       "      <td>0.208089</td>\n",
       "      <td>0.208089</td>\n",
       "      <td>0.475018</td>\n",
       "    </tr>\n",
       "    <tr>\n",
       "      <th>2017-03-17</th>\n",
       "      <td>9207.80</td>\n",
       "      <td>9218.40</td>\n",
       "      <td>9147.60</td>\n",
       "      <td>9160.0</td>\n",
       "      <td>0.850282</td>\n",
       "      <td>0.175141</td>\n",
       "      <td>0.675141</td>\n",
       "      <td>0.772926</td>\n",
       "      <td>0.562081</td>\n",
       "      <td>0.326644</td>\n",
       "      <td>0.987329</td>\n",
       "      <td>0.204678</td>\n",
       "      <td>0.841137</td>\n",
       "      <td>0.036789</td>\n",
       "      <td>0.591018</td>\n",
       "      <td>0.591018</td>\n",
       "      <td>0.521834</td>\n",
       "    </tr>\n",
       "    <tr>\n",
       "      <th>2016-09-07</th>\n",
       "      <td>8968.70</td>\n",
       "      <td>8968.70</td>\n",
       "      <td>8913.35</td>\n",
       "      <td>8917.9</td>\n",
       "      <td>1.000000</td>\n",
       "      <td>0.082204</td>\n",
       "      <td>0.917796</td>\n",
       "      <td>0.620662</td>\n",
       "      <td>0.718794</td>\n",
       "      <td>1.145030</td>\n",
       "      <td>0.303030</td>\n",
       "      <td>0.878011</td>\n",
       "      <td>0.923340</td>\n",
       "      <td>0.041504</td>\n",
       "      <td>0.287376</td>\n",
       "      <td>0.287376</td>\n",
       "      <td>0.569641</td>\n",
       "    </tr>\n",
       "    <tr>\n",
       "      <th>2016-07-26</th>\n",
       "      <td>8633.75</td>\n",
       "      <td>8644.90</td>\n",
       "      <td>8577.15</td>\n",
       "      <td>8590.6</td>\n",
       "      <td>0.835424</td>\n",
       "      <td>0.198524</td>\n",
       "      <td>0.636900</td>\n",
       "      <td>0.788653</td>\n",
       "      <td>1.078832</td>\n",
       "      <td>1.435337</td>\n",
       "      <td>0.294244</td>\n",
       "      <td>0.470683</td>\n",
       "      <td>0.955224</td>\n",
       "      <td>0.022186</td>\n",
       "      <td>-0.021423</td>\n",
       "      <td>0.021423</td>\n",
       "      <td>0.502293</td>\n",
       "    </tr>\n",
       "    <tr>\n",
       "      <th>2016-07-21</th>\n",
       "      <td>8582.70</td>\n",
       "      <td>8585.25</td>\n",
       "      <td>8503.45</td>\n",
       "      <td>8510.1</td>\n",
       "      <td>0.968826</td>\n",
       "      <td>0.081296</td>\n",
       "      <td>0.887531</td>\n",
       "      <td>0.961211</td>\n",
       "      <td>0.692526</td>\n",
       "      <td>0.669523</td>\n",
       "      <td>0.504649</td>\n",
       "      <td>0.868977</td>\n",
       "      <td>0.928509</td>\n",
       "      <td>0.050567</td>\n",
       "      <td>0.197296</td>\n",
       "      <td>0.197296</td>\n",
       "      <td>0.853104</td>\n",
       "    </tr>\n",
       "    <tr>\n",
       "      <th>2016-02-16</th>\n",
       "      <td>7201.25</td>\n",
       "      <td>7204.65</td>\n",
       "      <td>7037.70</td>\n",
       "      <td>7048.2</td>\n",
       "      <td>0.979635</td>\n",
       "      <td>0.062893</td>\n",
       "      <td>0.916742</td>\n",
       "      <td>2.368690</td>\n",
       "      <td>2.293765</td>\n",
       "      <td>1.759064</td>\n",
       "      <td>0.602269</td>\n",
       "      <td>0.906164</td>\n",
       "      <td>0.842063</td>\n",
       "      <td>0.004365</td>\n",
       "      <td>0.535398</td>\n",
       "      <td>0.535398</td>\n",
       "      <td>2.171476</td>\n",
       "    </tr>\n",
       "    <tr>\n",
       "      <th>2016-02-08</th>\n",
       "      <td>7489.70</td>\n",
       "      <td>7512.55</td>\n",
       "      <td>7363.20</td>\n",
       "      <td>7387.2</td>\n",
       "      <td>0.847004</td>\n",
       "      <td>0.160696</td>\n",
       "      <td>0.686307</td>\n",
       "      <td>2.021740</td>\n",
       "      <td>0.661807</td>\n",
       "      <td>1.288539</td>\n",
       "      <td>0.596273</td>\n",
       "      <td>0.477226</td>\n",
       "      <td>0.854404</td>\n",
       "      <td>0.120207</td>\n",
       "      <td>0.008012</td>\n",
       "      <td>0.008012</td>\n",
       "      <td>1.387535</td>\n",
       "    </tr>\n",
       "    <tr>\n",
       "      <th>2015-11-10</th>\n",
       "      <td>7877.60</td>\n",
       "      <td>7885.10</td>\n",
       "      <td>7772.85</td>\n",
       "      <td>7783.3</td>\n",
       "      <td>0.933185</td>\n",
       "      <td>0.093096</td>\n",
       "      <td>0.840089</td>\n",
       "      <td>1.442190</td>\n",
       "      <td>0.368690</td>\n",
       "      <td>2.097862</td>\n",
       "      <td>0.682842</td>\n",
       "      <td>0.204506</td>\n",
       "      <td>0.864198</td>\n",
       "      <td>0.099669</td>\n",
       "      <td>-0.475035</td>\n",
       "      <td>0.475035</td>\n",
       "      <td>1.211568</td>\n",
       "    </tr>\n",
       "    <tr>\n",
       "      <th>2015-09-22</th>\n",
       "      <td>8014.80</td>\n",
       "      <td>8021.60</td>\n",
       "      <td>7787.75</td>\n",
       "      <td>7812.0</td>\n",
       "      <td>0.970922</td>\n",
       "      <td>0.103699</td>\n",
       "      <td>0.867223</td>\n",
       "      <td>2.993472</td>\n",
       "      <td>2.034821</td>\n",
       "      <td>0.997230</td>\n",
       "      <td>0.088318</td>\n",
       "      <td>0.768243</td>\n",
       "      <td>0.864236</td>\n",
       "      <td>0.039598</td>\n",
       "      <td>0.472603</td>\n",
       "      <td>0.472603</td>\n",
       "      <td>2.596006</td>\n",
       "    </tr>\n",
       "    <tr>\n",
       "      <th>2015-07-23</th>\n",
       "      <td>8643.95</td>\n",
       "      <td>8654.75</td>\n",
       "      <td>8573.80</td>\n",
       "      <td>8589.8</td>\n",
       "      <td>0.866584</td>\n",
       "      <td>0.197653</td>\n",
       "      <td>0.668931</td>\n",
       "      <td>0.942397</td>\n",
       "      <td>0.887755</td>\n",
       "      <td>1.682400</td>\n",
       "      <td>0.986781</td>\n",
       "      <td>0.105750</td>\n",
       "      <td>0.928399</td>\n",
       "      <td>0.093632</td>\n",
       "      <td>0.121040</td>\n",
       "      <td>0.121040</td>\n",
       "      <td>0.630399</td>\n",
       "    </tr>\n",
       "    <tr>\n",
       "      <th>2015-05-12</th>\n",
       "      <td>8326.15</td>\n",
       "      <td>8326.65</td>\n",
       "      <td>8115.30</td>\n",
       "      <td>8126.9</td>\n",
       "      <td>0.997634</td>\n",
       "      <td>0.054885</td>\n",
       "      <td>0.942749</td>\n",
       "      <td>2.600623</td>\n",
       "      <td>2.005367</td>\n",
       "      <td>1.298467</td>\n",
       "      <td>0.555556</td>\n",
       "      <td>0.881623</td>\n",
       "      <td>0.930157</td>\n",
       "      <td>0.171600</td>\n",
       "      <td>0.011411</td>\n",
       "      <td>0.011411</td>\n",
       "      <td>2.451734</td>\n",
       "    </tr>\n",
       "    <tr>\n",
       "      <th>2014-10-10</th>\n",
       "      <td>7911.00</td>\n",
       "      <td>7924.05</td>\n",
       "      <td>7848.45</td>\n",
       "      <td>7859.9</td>\n",
       "      <td>0.827381</td>\n",
       "      <td>0.151455</td>\n",
       "      <td>0.675926</td>\n",
       "      <td>0.961844</td>\n",
       "      <td>1.333680</td>\n",
       "      <td>1.078450</td>\n",
       "      <td>0.332858</td>\n",
       "      <td>0.838802</td>\n",
       "      <td>0.861969</td>\n",
       "      <td>0.000000</td>\n",
       "      <td>-0.621820</td>\n",
       "      <td>0.621820</td>\n",
       "      <td>0.650135</td>\n",
       "    </tr>\n",
       "    <tr>\n",
       "      <th>2013-12-19</th>\n",
       "      <td>6253.90</td>\n",
       "      <td>6263.75</td>\n",
       "      <td>6150.70</td>\n",
       "      <td>6166.6</td>\n",
       "      <td>0.912870</td>\n",
       "      <td>0.140646</td>\n",
       "      <td>0.772225</td>\n",
       "      <td>1.833263</td>\n",
       "      <td>1.819355</td>\n",
       "      <td>1.705779</td>\n",
       "      <td>0.084100</td>\n",
       "      <td>0.909768</td>\n",
       "      <td>0.821782</td>\n",
       "      <td>0.000000</td>\n",
       "      <td>0.591916</td>\n",
       "      <td>0.591916</td>\n",
       "      <td>1.415691</td>\n",
       "    </tr>\n",
       "    <tr>\n",
       "      <th>2013-09-03</th>\n",
       "      <td>5574.70</td>\n",
       "      <td>5580.95</td>\n",
       "      <td>5323.75</td>\n",
       "      <td>5341.4</td>\n",
       "      <td>0.975700</td>\n",
       "      <td>0.068624</td>\n",
       "      <td>0.907076</td>\n",
       "      <td>4.815217</td>\n",
       "      <td>2.594482</td>\n",
       "      <td>1.550255</td>\n",
       "      <td>0.281217</td>\n",
       "      <td>0.914043</td>\n",
       "      <td>0.834980</td>\n",
       "      <td>0.016270</td>\n",
       "      <td>0.432378</td>\n",
       "      <td>0.432378</td>\n",
       "      <td>4.367769</td>\n",
       "    </tr>\n",
       "    <tr>\n",
       "      <th>2013-07-10</th>\n",
       "      <td>5869.90</td>\n",
       "      <td>5879.35</td>\n",
       "      <td>5802.85</td>\n",
       "      <td>5816.7</td>\n",
       "      <td>0.876471</td>\n",
       "      <td>0.181046</td>\n",
       "      <td>0.695425</td>\n",
       "      <td>1.315179</td>\n",
       "      <td>1.026099</td>\n",
       "      <td>0.518006</td>\n",
       "      <td>0.107553</td>\n",
       "      <td>0.774220</td>\n",
       "      <td>0.803954</td>\n",
       "      <td>0.000000</td>\n",
       "      <td>0.186039</td>\n",
       "      <td>0.186039</td>\n",
       "      <td>0.914608</td>\n",
       "    </tr>\n",
       "    <tr>\n",
       "      <th>2013-05-31</th>\n",
       "      <td>6098.70</td>\n",
       "      <td>6106.25</td>\n",
       "      <td>5975.55</td>\n",
       "      <td>5985.9</td>\n",
       "      <td>0.942234</td>\n",
       "      <td>0.079189</td>\n",
       "      <td>0.863045</td>\n",
       "      <td>2.183464</td>\n",
       "      <td>1.593622</td>\n",
       "      <td>1.005879</td>\n",
       "      <td>0.855784</td>\n",
       "      <td>0.242472</td>\n",
       "      <td>0.841721</td>\n",
       "      <td>0.000000</td>\n",
       "      <td>-0.413129</td>\n",
       "      <td>0.413129</td>\n",
       "      <td>1.884428</td>\n",
       "    </tr>\n",
       "    <tr>\n",
       "      <th>2013-05-03</th>\n",
       "      <td>5993.50</td>\n",
       "      <td>6000.30</td>\n",
       "      <td>5930.15</td>\n",
       "      <td>5944.0</td>\n",
       "      <td>0.903065</td>\n",
       "      <td>0.197434</td>\n",
       "      <td>0.705631</td>\n",
       "      <td>1.180182</td>\n",
       "      <td>0.804723</td>\n",
       "      <td>1.808544</td>\n",
       "      <td>0.342352</td>\n",
       "      <td>0.885536</td>\n",
       "      <td>0.814286</td>\n",
       "      <td>0.004147</td>\n",
       "      <td>-0.096678</td>\n",
       "      <td>0.096678</td>\n",
       "      <td>0.832773</td>\n",
       "    </tr>\n",
       "    <tr>\n",
       "      <th>2012-06-18</th>\n",
       "      <td>5174.00</td>\n",
       "      <td>5190.20</td>\n",
       "      <td>5041.70</td>\n",
       "      <td>5064.2</td>\n",
       "      <td>0.890909</td>\n",
       "      <td>0.151515</td>\n",
       "      <td>0.739394</td>\n",
       "      <td>2.932349</td>\n",
       "      <td>1.283357</td>\n",
       "      <td>1.499319</td>\n",
       "      <td>0.041221</td>\n",
       "      <td>0.850382</td>\n",
       "      <td>0.906554</td>\n",
       "      <td>0.005191</td>\n",
       "      <td>0.681066</td>\n",
       "      <td>0.681066</td>\n",
       "      <td>2.168161</td>\n",
       "    </tr>\n",
       "    <tr>\n",
       "      <th>2012-03-22</th>\n",
       "      <td>5361.10</td>\n",
       "      <td>5385.95</td>\n",
       "      <td>5205.65</td>\n",
       "      <td>5228.4</td>\n",
       "      <td>0.862174</td>\n",
       "      <td>0.126179</td>\n",
       "      <td>0.735996</td>\n",
       "      <td>3.448474</td>\n",
       "      <td>1.743018</td>\n",
       "      <td>2.168726</td>\n",
       "      <td>0.387500</td>\n",
       "      <td>0.632609</td>\n",
       "      <td>0.935969</td>\n",
       "      <td>0.096261</td>\n",
       "      <td>-0.070831</td>\n",
       "      <td>0.070831</td>\n",
       "      <td>2.538061</td>\n",
       "    </tr>\n",
       "    <tr>\n",
       "      <th>2011-10-13</th>\n",
       "      <td>5130.80</td>\n",
       "      <td>5136.95</td>\n",
       "      <td>5067.65</td>\n",
       "      <td>5077.8</td>\n",
       "      <td>0.911255</td>\n",
       "      <td>0.146465</td>\n",
       "      <td>0.764791</td>\n",
       "      <td>1.364764</td>\n",
       "      <td>1.652281</td>\n",
       "      <td>2.199278</td>\n",
       "      <td>0.008844</td>\n",
       "      <td>0.892689</td>\n",
       "      <td>0.907267</td>\n",
       "      <td>0.120820</td>\n",
       "      <td>0.615759</td>\n",
       "      <td>0.615759</td>\n",
       "      <td>1.043759</td>\n",
       "    </tr>\n",
       "    <tr>\n",
       "      <th>2011-07-08</th>\n",
       "      <td>5734.65</td>\n",
       "      <td>5740.40</td>\n",
       "      <td>5651.05</td>\n",
       "      <td>5660.6</td>\n",
       "      <td>0.935646</td>\n",
       "      <td>0.106883</td>\n",
       "      <td>0.828763</td>\n",
       "      <td>1.578455</td>\n",
       "      <td>0.911665</td>\n",
       "      <td>1.818848</td>\n",
       "      <td>0.905273</td>\n",
       "      <td>0.281250</td>\n",
       "      <td>0.920825</td>\n",
       "      <td>0.003839</td>\n",
       "      <td>0.100368</td>\n",
       "      <td>0.100368</td>\n",
       "      <td>1.308165</td>\n",
       "    </tr>\n",
       "    <tr>\n",
       "      <th>2011-04-15</th>\n",
       "      <td>5898.75</td>\n",
       "      <td>5907.35</td>\n",
       "      <td>5806.45</td>\n",
       "      <td>5824.5</td>\n",
       "      <td>0.914767</td>\n",
       "      <td>0.178890</td>\n",
       "      <td>0.735877</td>\n",
       "      <td>1.732338</td>\n",
       "      <td>3.065927</td>\n",
       "      <td>3.181088</td>\n",
       "      <td>0.581270</td>\n",
       "      <td>0.038998</td>\n",
       "      <td>0.935655</td>\n",
       "      <td>0.065940</td>\n",
       "      <td>-0.215681</td>\n",
       "      <td>0.215681</td>\n",
       "      <td>1.274788</td>\n",
       "    </tr>\n",
       "    <tr>\n",
       "      <th>2011-02-04</th>\n",
       "      <td>5519.90</td>\n",
       "      <td>5556.30</td>\n",
       "      <td>5369.05</td>\n",
       "      <td>5395.7</td>\n",
       "      <td>0.805607</td>\n",
       "      <td>0.142323</td>\n",
       "      <td>0.663284</td>\n",
       "      <td>3.470356</td>\n",
       "      <td>1.174944</td>\n",
       "      <td>2.074475</td>\n",
       "      <td>0.839117</td>\n",
       "      <td>0.300473</td>\n",
       "      <td>0.948103</td>\n",
       "      <td>0.108591</td>\n",
       "      <td>-0.123039</td>\n",
       "      <td>0.123039</td>\n",
       "      <td>2.301833</td>\n",
       "    </tr>\n",
       "    <tr>\n",
       "      <th>2010-07-07</th>\n",
       "      <td>5293.10</td>\n",
       "      <td>5296.75</td>\n",
       "      <td>5233.45</td>\n",
       "      <td>5241.1</td>\n",
       "      <td>0.942338</td>\n",
       "      <td>0.120853</td>\n",
       "      <td>0.821485</td>\n",
       "      <td>1.207762</td>\n",
       "      <td>1.482027</td>\n",
       "      <td>1.246928</td>\n",
       "      <td>0.000000</td>\n",
       "      <td>0.698089</td>\n",
       "      <td>0.871873</td>\n",
       "      <td>0.069750</td>\n",
       "      <td>0.077519</td>\n",
       "      <td>0.077519</td>\n",
       "      <td>0.992158</td>\n",
       "    </tr>\n",
       "    <tr>\n",
       "      <th>2010-06-22</th>\n",
       "      <td>5353.95</td>\n",
       "      <td>5354.35</td>\n",
       "      <td>5311.05</td>\n",
       "      <td>5316.5</td>\n",
       "      <td>0.990762</td>\n",
       "      <td>0.125866</td>\n",
       "      <td>0.864896</td>\n",
       "      <td>0.814446</td>\n",
       "      <td>0.848190</td>\n",
       "      <td>1.872677</td>\n",
       "      <td>0.620155</td>\n",
       "      <td>0.774086</td>\n",
       "      <td>0.865835</td>\n",
       "      <td>0.000000</td>\n",
       "      <td>0.012142</td>\n",
       "      <td>0.012142</td>\n",
       "      <td>0.704411</td>\n",
       "    </tr>\n",
       "    <tr>\n",
       "      <th>2010-02-04</th>\n",
       "      <td>4931.30</td>\n",
       "      <td>4931.30</td>\n",
       "      <td>4832.35</td>\n",
       "      <td>4845.3</td>\n",
       "      <td>1.000000</td>\n",
       "      <td>0.130874</td>\n",
       "      <td>0.869126</td>\n",
       "      <td>2.042185</td>\n",
       "      <td>2.853601</td>\n",
       "      <td>2.395677</td>\n",
       "      <td>0.945414</td>\n",
       "      <td>0.194950</td>\n",
       "      <td>0.853153</td>\n",
       "      <td>0.000000</td>\n",
       "      <td>-0.010138</td>\n",
       "      <td>0.010138</td>\n",
       "      <td>1.774916</td>\n",
       "    </tr>\n",
       "  </tbody>\n",
       "</table>\n",
       "</div>"
      ],
      "text/plain": [
       "                Open      High       Low    Close       OPR       CPR  \\\n",
       "Date                                                                    \n",
       "2021-10-06  17861.50  17884.60  17613.15  17646.0  0.914901  0.121017   \n",
       "2021-03-31  14811.85  14813.75  14670.25  14690.7  0.986760  0.142509   \n",
       "2020-10-15  12023.45  12025.45  11661.30  11680.0  0.994508  0.051352   \n",
       "2020-06-24  10529.25  10553.15  10281.95  10305.0  0.911873  0.084993   \n",
       "2020-05-04   9533.50   9533.50   9266.95   9293.5  1.000000  0.099606   \n",
       "2019-12-16  12131.35  12134.65  12046.30  12053.0  0.962649  0.075835   \n",
       "2018-12-21  10944.25  10963.65  10738.65  10754.0  0.913778  0.068222   \n",
       "2018-09-17  11464.95  11464.95  11366.90  11377.0  1.000000  0.103009   \n",
       "2018-06-21  10808.45  10809.60  10725.90  10741.0  0.986260  0.180406   \n",
       "2018-04-04  10274.60  10279.85  10111.30  10128.0  0.968852  0.099080   \n",
       "2018-02-27  10615.20  10631.65  10537.25  10554.0  0.825742  0.177436   \n",
       "2018-01-01  10531.70  10537.85  10423.10  10435.0  0.946405  0.103704   \n",
       "2017-12-20  10494.40  10494.45  10437.15  10444.0  0.999127  0.119546   \n",
       "2017-07-20   9920.20   9922.55   9863.45   9873.3  0.960237  0.166667   \n",
       "2017-03-17   9207.80   9218.40   9147.60   9160.0  0.850282  0.175141   \n",
       "2016-09-07   8968.70   8968.70   8913.35   8917.9  1.000000  0.082204   \n",
       "2016-07-26   8633.75   8644.90   8577.15   8590.6  0.835424  0.198524   \n",
       "2016-07-21   8582.70   8585.25   8503.45   8510.1  0.968826  0.081296   \n",
       "2016-02-16   7201.25   7204.65   7037.70   7048.2  0.979635  0.062893   \n",
       "2016-02-08   7489.70   7512.55   7363.20   7387.2  0.847004  0.160696   \n",
       "2015-11-10   7877.60   7885.10   7772.85   7783.3  0.933185  0.093096   \n",
       "2015-09-22   8014.80   8021.60   7787.75   7812.0  0.970922  0.103699   \n",
       "2015-07-23   8643.95   8654.75   8573.80   8589.8  0.866584  0.197653   \n",
       "2015-05-12   8326.15   8326.65   8115.30   8126.9  0.997634  0.054885   \n",
       "2014-10-10   7911.00   7924.05   7848.45   7859.9  0.827381  0.151455   \n",
       "2013-12-19   6253.90   6263.75   6150.70   6166.6  0.912870  0.140646   \n",
       "2013-09-03   5574.70   5580.95   5323.75   5341.4  0.975700  0.068624   \n",
       "2013-07-10   5869.90   5879.35   5802.85   5816.7  0.876471  0.181046   \n",
       "2013-05-31   6098.70   6106.25   5975.55   5985.9  0.942234  0.079189   \n",
       "2013-05-03   5993.50   6000.30   5930.15   5944.0  0.903065  0.197434   \n",
       "2012-06-18   5174.00   5190.20   5041.70   5064.2  0.890909  0.151515   \n",
       "2012-03-22   5361.10   5385.95   5205.65   5228.4  0.862174  0.126179   \n",
       "2011-10-13   5130.80   5136.95   5067.65   5077.8  0.911255  0.146465   \n",
       "2011-07-08   5734.65   5740.40   5651.05   5660.6  0.935646  0.106883   \n",
       "2011-04-15   5898.75   5907.35   5806.45   5824.5  0.914767  0.178890   \n",
       "2011-02-04   5519.90   5556.30   5369.05   5395.7  0.805607  0.142323   \n",
       "2010-07-07   5293.10   5296.75   5233.45   5241.1  0.942338  0.120853   \n",
       "2010-06-22   5353.95   5354.35   5311.05   5316.5  0.990762  0.125866   \n",
       "2010-02-04   4931.30   4931.30   4832.35   4845.3  1.000000  0.130874   \n",
       "\n",
       "               Solid  True_Range_ratio  TRR_Next  TRR_Prev  OPR_Next  \\\n",
       "Date                                                                   \n",
       "2021-10-06  0.793885          1.538309  0.526971  1.080388  0.498667   \n",
       "2021-03-31  0.844251          0.976808  1.283013  1.742663  0.555439   \n",
       "2020-10-15  0.943155          3.117723  0.417306  1.304787  0.081197   \n",
       "2020-06-24  0.826881          2.631732  1.626166  2.637499  0.245368   \n",
       "2020-05-04  0.900394          2.868134  2.825997  1.597886  0.917355   \n",
       "2019-12-16  0.886814          0.733013  0.923962  0.622621  0.107651   \n",
       "2018-12-21  0.845556          2.092245  1.247773  0.753356  0.989478   \n",
       "2018-09-17  0.896991          0.861826  1.263522  0.805037  0.790175   \n",
       "2018-06-21  0.805854          0.779257  1.169485  0.536112  0.254840   \n",
       "2018-04-04  0.869772          1.664198  1.010654  0.822840  0.009583   \n",
       "2018-02-27  0.648305          0.894448  0.704823  0.687488  0.370521   \n",
       "2018-01-01  0.842702          1.099665  0.867171  0.475309  0.805080   \n",
       "2017-12-20  0.879581          0.548640  0.450670  0.632706  1.000000   \n",
       "2017-07-20  0.793570          0.598584  0.874415  0.539416  0.710496   \n",
       "2017-03-17  0.675141          0.772926  0.562081  0.326644  0.987329   \n",
       "2016-09-07  0.917796          0.620662  0.718794  1.145030  0.303030   \n",
       "2016-07-26  0.636900          0.788653  1.078832  1.435337  0.294244   \n",
       "2016-07-21  0.887531          0.961211  0.692526  0.669523  0.504649   \n",
       "2016-02-16  0.916742          2.368690  2.293765  1.759064  0.602269   \n",
       "2016-02-08  0.686307          2.021740  0.661807  1.288539  0.596273   \n",
       "2015-11-10  0.840089          1.442190  0.368690  2.097862  0.682842   \n",
       "2015-09-22  0.867223          2.993472  2.034821  0.997230  0.088318   \n",
       "2015-07-23  0.668931          0.942397  0.887755  1.682400  0.986781   \n",
       "2015-05-12  0.942749          2.600623  2.005367  1.298467  0.555556   \n",
       "2014-10-10  0.675926          0.961844  1.333680  1.078450  0.332858   \n",
       "2013-12-19  0.772225          1.833263  1.819355  1.705779  0.084100   \n",
       "2013-09-03  0.907076          4.815217  2.594482  1.550255  0.281217   \n",
       "2013-07-10  0.695425          1.315179  1.026099  0.518006  0.107553   \n",
       "2013-05-31  0.863045          2.183464  1.593622  1.005879  0.855784   \n",
       "2013-05-03  0.705631          1.180182  0.804723  1.808544  0.342352   \n",
       "2012-06-18  0.739394          2.932349  1.283357  1.499319  0.041221   \n",
       "2012-03-22  0.735996          3.448474  1.743018  2.168726  0.387500   \n",
       "2011-10-13  0.764791          1.364764  1.652281  2.199278  0.008844   \n",
       "2011-07-08  0.828763          1.578455  0.911665  1.818848  0.905273   \n",
       "2011-04-15  0.735877          1.732338  3.065927  3.181088  0.581270   \n",
       "2011-02-04  0.663284          3.470356  1.174944  2.074475  0.839117   \n",
       "2010-07-07  0.821485          1.207762  1.482027  1.246928  0.000000   \n",
       "2010-06-22  0.864896          0.814446  0.848190  1.872677  0.620155   \n",
       "2010-02-04  0.869126          2.042185  2.853601  2.395677  0.945414   \n",
       "\n",
       "            CPR_Next  CPR_Prev  OPR_Prev      Gap%  Abs_Gap%  Real_Move  \n",
       "Date                                                                     \n",
       "2021-10-06  0.283200  0.942093  0.106206  0.219949  0.219949   1.221240  \n",
       "2021-03-31  0.916907  0.879397  0.042134 -0.223980  0.223980   0.824671  \n",
       "2020-10-15  0.464103  0.887580  0.044766  5.607817  5.607817   2.940497  \n",
       "2020-06-24  0.558876  0.924103  0.068382  4.342979  4.342979   2.176128  \n",
       "2020-05-04  0.057082  0.814979  0.139638 -3.310378  3.310378   2.582450  \n",
       "2019-12-16  0.842082  0.829236  0.037209  0.375228  0.375228   0.650046  \n",
       "2018-12-21  0.103345  0.860000  0.062424 -0.061638  0.061638   1.769109  \n",
       "2018-09-17  0.063509  0.911003  0.139698 -0.434650  0.434650   0.773051  \n",
       "2018-06-21  0.873568  0.830303  0.183550  0.338377  0.338377   0.627968  \n",
       "2018-04-04  0.934835  0.877224  0.187426  0.288921  0.288921   1.447472  \n",
       "2018-02-27  0.411765  0.849485  0.087285  0.313740  0.313740   0.579875  \n",
       "2018-01-01  0.412479  0.826174  0.073926  0.016144  0.016144   0.926689  \n",
       "2017-12-20  0.278427  0.861027  0.132931  0.300105  0.300105   0.482574  \n",
       "2017-07-20  0.890427  0.897940  0.080524  0.208089  0.208089   0.475018  \n",
       "2017-03-17  0.204678  0.841137  0.036789  0.591018  0.591018   0.521834  \n",
       "2016-09-07  0.878011  0.923340  0.041504  0.287376  0.287376   0.569641  \n",
       "2016-07-26  0.470683  0.955224  0.022186 -0.021423  0.021423   0.502293  \n",
       "2016-07-21  0.868977  0.928509  0.050567  0.197296  0.197296   0.853104  \n",
       "2016-02-16  0.906164  0.842063  0.004365  0.535398  0.535398   2.171476  \n",
       "2016-02-08  0.477226  0.854404  0.120207  0.008012  0.008012   1.387535  \n",
       "2015-11-10  0.204506  0.864198  0.099669 -0.475035  0.475035   1.211568  \n",
       "2015-09-22  0.768243  0.864236  0.039598  0.472603  0.472603   2.596006  \n",
       "2015-07-23  0.105750  0.928399  0.093632  0.121040  0.121040   0.630399  \n",
       "2015-05-12  0.881623  0.930157  0.171600  0.011411  0.011411   2.451734  \n",
       "2014-10-10  0.838802  0.861969  0.000000 -0.621820  0.621820   0.650135  \n",
       "2013-12-19  0.909768  0.821782  0.000000  0.591916  0.591916   1.415691  \n",
       "2013-09-03  0.914043  0.834980  0.016270  0.432378  0.432378   4.367769  \n",
       "2013-07-10  0.774220  0.803954  0.000000  0.186039  0.186039   0.914608  \n",
       "2013-05-31  0.242472  0.841721  0.000000 -0.413129  0.413129   1.884428  \n",
       "2013-05-03  0.885536  0.814286  0.004147 -0.096678  0.096678   0.832773  \n",
       "2012-06-18  0.850382  0.906554  0.005191  0.681066  0.681066   2.168161  \n",
       "2012-03-22  0.632609  0.935969  0.096261 -0.070831  0.070831   2.538061  \n",
       "2011-10-13  0.892689  0.907267  0.120820  0.615759  0.615759   1.043759  \n",
       "2011-07-08  0.281250  0.920825  0.003839  0.100368  0.100368   1.308165  \n",
       "2011-04-15  0.038998  0.935655  0.065940 -0.215681  0.215681   1.274788  \n",
       "2011-02-04  0.300473  0.948103  0.108591 -0.123039  0.123039   2.301833  \n",
       "2010-07-07  0.698089  0.871873  0.069750  0.077519  0.077519   0.992158  \n",
       "2010-06-22  0.774086  0.865835  0.000000  0.012142  0.012142   0.704411  \n",
       "2010-02-04  0.194950  0.853153  0.000000 -0.010138  0.010138   1.774916  "
      ]
     },
     "execution_count": 216,
     "metadata": {},
     "output_type": "execute_result"
    }
   ],
   "source": [
    "df[(df['OPR'] >= 0.8) & (df['CPR'] <= 0.2) & (df['CPR_Prev'] >= 0.8) & (df['OPR_Prev'] <= 0.2)]"
   ]
  },
  {
   "cell_type": "markdown",
   "id": "e29933a6",
   "metadata": {},
   "source": [
    "## Inside Day's"
   ]
  },
  {
   "cell_type": "code",
   "execution_count": 4,
   "id": "08486948",
   "metadata": {},
   "outputs": [],
   "source": [
    "import pandas as pd\n",
    "db = pd.read_csv(\"NIFTY_50.csv\", parse_dates=[\"Date\"], index_col=\"Date\")"
   ]
  },
  {
   "cell_type": "code",
   "execution_count": 5,
   "id": "e6cf6590",
   "metadata": {},
   "outputs": [
    {
     "data": {
      "text/html": [
       "<div>\n",
       "<style scoped>\n",
       "    .dataframe tbody tr th:only-of-type {\n",
       "        vertical-align: middle;\n",
       "    }\n",
       "\n",
       "    .dataframe tbody tr th {\n",
       "        vertical-align: top;\n",
       "    }\n",
       "\n",
       "    .dataframe thead th {\n",
       "        text-align: right;\n",
       "    }\n",
       "</style>\n",
       "<table border=\"1\" class=\"dataframe\">\n",
       "  <thead>\n",
       "    <tr style=\"text-align: right;\">\n",
       "      <th></th>\n",
       "      <th>Open</th>\n",
       "      <th>High</th>\n",
       "      <th>Low</th>\n",
       "      <th>Close</th>\n",
       "    </tr>\n",
       "    <tr>\n",
       "      <th>Date</th>\n",
       "      <th></th>\n",
       "      <th></th>\n",
       "      <th></th>\n",
       "      <th></th>\n",
       "    </tr>\n",
       "  </thead>\n",
       "  <tbody>\n",
       "    <tr>\n",
       "      <th>2021-11-25</th>\n",
       "      <td>17417.30</td>\n",
       "      <td>17564.35</td>\n",
       "      <td>17351.70</td>\n",
       "      <td>17536.25</td>\n",
       "    </tr>\n",
       "    <tr>\n",
       "      <th>2021-11-24</th>\n",
       "      <td>17550.05</td>\n",
       "      <td>17600.60</td>\n",
       "      <td>17354.00</td>\n",
       "      <td>17415.05</td>\n",
       "    </tr>\n",
       "    <tr>\n",
       "      <th>2021-11-23</th>\n",
       "      <td>17281.75</td>\n",
       "      <td>17553.70</td>\n",
       "      <td>17216.10</td>\n",
       "      <td>17503.35</td>\n",
       "    </tr>\n",
       "    <tr>\n",
       "      <th>2021-11-22</th>\n",
       "      <td>17796.25</td>\n",
       "      <td>17805.25</td>\n",
       "      <td>17280.45</td>\n",
       "      <td>17416.55</td>\n",
       "    </tr>\n",
       "    <tr>\n",
       "      <th>2021-11-18</th>\n",
       "      <td>17890.55</td>\n",
       "      <td>17945.60</td>\n",
       "      <td>17688.50</td>\n",
       "      <td>17764.80</td>\n",
       "    </tr>\n",
       "  </tbody>\n",
       "</table>\n",
       "</div>"
      ],
      "text/plain": [
       "                Open      High       Low     Close\n",
       "Date                                              \n",
       "2021-11-25  17417.30  17564.35  17351.70  17536.25\n",
       "2021-11-24  17550.05  17600.60  17354.00  17415.05\n",
       "2021-11-23  17281.75  17553.70  17216.10  17503.35\n",
       "2021-11-22  17796.25  17805.25  17280.45  17416.55\n",
       "2021-11-18  17890.55  17945.60  17688.50  17764.80"
      ]
     },
     "execution_count": 5,
     "metadata": {},
     "output_type": "execute_result"
    }
   ],
   "source": [
    "db.head()"
   ]
  },
  {
   "cell_type": "code",
   "execution_count": 13,
   "id": "4ac1e8d1",
   "metadata": {},
   "outputs": [
    {
     "data": {
      "text/plain": [
       "(2625, 4)"
      ]
     },
     "execution_count": 13,
     "metadata": {},
     "output_type": "execute_result"
    }
   ],
   "source": [
    "db.shape"
   ]
  },
  {
   "cell_type": "code",
   "execution_count": 14,
   "id": "ef63eb43",
   "metadata": {},
   "outputs": [],
   "source": [
    "db['Prev_High'] = db['High'].shift(-1)\n",
    "db['Prev_Low'] = db['Low'].shift(-1)"
   ]
  },
  {
   "cell_type": "code",
   "execution_count": 16,
   "id": "6b6796c9",
   "metadata": {},
   "outputs": [],
   "source": [
    "db[\"OPR\"] = (db['Open'] - db['Low'])/(db['High'] - db['Low'])\n",
    "db[\"CPR\"] = (db['Close'] - db['Low'])/(db['High'] - db['Low'])"
   ]
  },
  {
   "cell_type": "code",
   "execution_count": 17,
   "id": "e87e2c88",
   "metadata": {},
   "outputs": [
    {
     "data": {
      "text/plain": [
       "count    229.000000\n",
       "mean       0.564293\n",
       "std        0.295089\n",
       "min        0.000000\n",
       "25%        0.344218\n",
       "50%        0.578457\n",
       "75%        0.833333\n",
       "max        1.000000\n",
       "Name: OPR, dtype: float64"
      ]
     },
     "execution_count": 17,
     "metadata": {},
     "output_type": "execute_result"
    }
   ],
   "source": [
    "db['OPR'][(db['Prev_High'] > db['High']) & ( db['Prev_Low'] < db['Low'])].describe()"
   ]
  },
  {
   "cell_type": "code",
   "execution_count": 18,
   "id": "39e604e6",
   "metadata": {},
   "outputs": [],
   "source": [
    "db['OPR_next'] = db['OPR'].shift(1)"
   ]
  },
  {
   "cell_type": "code",
   "execution_count": 19,
   "id": "06c6f8bb",
   "metadata": {},
   "outputs": [
    {
     "data": {
      "text/plain": [
       "count    229.000000\n",
       "mean       0.527853\n",
       "std        0.338038\n",
       "min        0.000000\n",
       "25%        0.224691\n",
       "50%        0.544023\n",
       "75%        0.853066\n",
       "max        1.000000\n",
       "Name: OPR_next, dtype: float64"
      ]
     },
     "execution_count": 19,
     "metadata": {},
     "output_type": "execute_result"
    }
   ],
   "source": [
    "db['OPR_next'][(db['Prev_High'] > db['High']) & ( db['Prev_Low'] < db['Low'])].describe()"
   ]
  },
  {
   "cell_type": "code",
   "execution_count": 21,
   "id": "505060a3",
   "metadata": {},
   "outputs": [
    {
     "data": {
      "text/plain": [
       "(array([37., 14., 19., 16., 18., 28., 18., 11., 19., 49.]),\n",
       " array([0. , 0.1, 0.2, 0.3, 0.4, 0.5, 0.6, 0.7, 0.8, 0.9, 1. ]),\n",
       " <BarContainer object of 10 artists>)"
      ]
     },
     "execution_count": 21,
     "metadata": {},
     "output_type": "execute_result"
    },
    {
     "data": {
      "image/png": "[encoded data removed]",
      "text/plain": [
       "<Figure size 432x288 with 1 Axes>"
      ]
     },
     "metadata": {
      "needs_background": "light"
     },
     "output_type": "display_data"
    }
   ],
   "source": [
    "import matplotlib.pyplot as plt\n",
    "%matplotlib inline\n",
    "\n",
    "bin_range = (0,0.1,0.2,0.3,0.4,0.5,0.6,0.7,0.8,0.9,1)\n",
    "plt.hist(db['OPR_next'][(db['Prev_High'] > db['High']) & ( db['Prev_Low'] < db['Low'])],rwidth=0.95,bins=bin_range)"
   ]
  },
  {
   "cell_type": "code",
   "execution_count": 25,
   "id": "952ed871",
   "metadata": {},
   "outputs": [],
   "source": [
    "db['CPR_next'] = db['CPR'].shift(1)\n",
    "db[\"Solid\"] = (abs(db['Open'] - db['Close']))/(db['High'] - db['Low'])\n",
    "db[\"Solid_next\"] = db['Solid'].shift(1)"
   ]
  },
  {
   "cell_type": "code",
   "execution_count": 26,
   "id": "4afe20c9",
   "metadata": {},
   "outputs": [
    {
     "data": {
      "text/plain": [
       "(array([20., 21., 21., 23., 22., 29., 19., 29., 33., 12.]),\n",
       " array([0. , 0.1, 0.2, 0.3, 0.4, 0.5, 0.6, 0.7, 0.8, 0.9, 1. ]),\n",
       " <BarContainer object of 10 artists>)"
      ]
     },
     "execution_count": 26,
     "metadata": {},
     "output_type": "execute_result"
    },
    {
     "data": {
      "image/png": "[encoded data removed]",
      "text/plain": [
       "<Figure size 432x288 with 1 Axes>"
      ]
     },
     "metadata": {
      "needs_background": "light"
     },
     "output_type": "display_data"
    }
   ],
   "source": [
    "plt.hist(db['Solid_next'][(db['Prev_High'] > db['High']) & ( db['Prev_Low'] < db['Low'])],rwidth=0.95,bins=bin_range)"
   ]
  },
  {
   "cell_type": "code",
   "execution_count": 27,
   "id": "15b3319f",
   "metadata": {},
   "outputs": [
    {
     "data": {
      "text/plain": [
       "count    229.000000\n",
       "mean       0.510445\n",
       "std        0.273775\n",
       "min        0.005656\n",
       "25%        0.280702\n",
       "50%        0.533259\n",
       "75%        0.768534\n",
       "max        0.966760\n",
       "Name: Solid_next, dtype: float64"
      ]
     },
     "execution_count": 27,
     "metadata": {},
     "output_type": "execute_result"
    }
   ],
   "source": [
    "db['Solid_next'][(db['Prev_High'] > db['High']) & ( db['Prev_Low'] < db['Low'])].describe()"
   ]
  },
  {
   "cell_type": "code",
   "execution_count": 28,
   "id": "c6fa5330",
   "metadata": {},
   "outputs": [
    {
     "data": {
      "text/plain": [
       "(array([11., 45., 26., 16., 16., 15., 15., 27., 33., 25.]),\n",
       " array([0. , 0.1, 0.2, 0.3, 0.4, 0.5, 0.6, 0.7, 0.8, 0.9, 1. ]),\n",
       " <BarContainer object of 10 artists>)"
      ]
     },
     "execution_count": 28,
     "metadata": {},
     "output_type": "execute_result"
    },
    {
     "data": {
      "image/png": "[encoded data removed]",
      "text/plain": [
       "<Figure size 432x288 with 1 Axes>"
      ]
     },
     "metadata": {
      "needs_background": "light"
     },
     "output_type": "display_data"
    }
   ],
   "source": [
    "plt.hist(db['CPR_next'][(db['Prev_High'] > db['High']) & ( db['Prev_Low'] < db['Low'])],rwidth=0.95,bins=bin_range)"
   ]
  },
  {
   "cell_type": "markdown",
   "id": "186e7f32",
   "metadata": {},
   "source": [
    "## Conclusion\n",
    "\n",
    "### It suggests that inside days offer a decisive edge in identifying ORB trades\n",
    "### The OPR chart shows clear accumulation at extremes but 'CPR' and 'Solid' chart suggests that it doesn't trend well. "
   ]
  },
  {
   "cell_type": "markdown",
   "id": "1d58c4d4",
   "metadata": {},
   "source": [
    "# Doji"
   ]
  },
  {
   "cell_type": "code",
   "execution_count": 29,
   "id": "96d9ab18",
   "metadata": {},
   "outputs": [],
   "source": [
    "db['Prev_Open'] = db['Open'].shift(-1)\n",
    "db['Prev_Close'] = db['Close'].shift(-1)"
   ]
  },
  {
   "cell_type": "code",
   "execution_count": 30,
   "id": "e86c9f78",
   "metadata": {},
   "outputs": [],
   "source": [
    "db['True_Range'] = db['High'] - db['Low']"
   ]
  },
  {
   "cell_type": "code",
   "execution_count": 31,
   "id": "6c4c2c0c",
   "metadata": {},
   "outputs": [
    {
     "data": {
      "text/plain": [
       "count    2587.000000\n",
       "mean       99.682586\n",
       "std        77.755706\n",
       "min        16.200000\n",
       "25%        57.925000\n",
       "50%        80.550000\n",
       "75%       115.625000\n",
       "max      1604.250000\n",
       "Name: True_Range, dtype: float64"
      ]
     },
     "execution_count": 31,
     "metadata": {},
     "output_type": "execute_result"
    }
   ],
   "source": [
    "db['True_Range'].describe()"
   ]
  },
  {
   "cell_type": "code",
   "execution_count": 33,
   "id": "8372cf6d",
   "metadata": {},
   "outputs": [
    {
     "data": {
      "text/plain": [
       "count    2587.000000\n",
       "mean        1.253938\n",
       "std         0.876865\n",
       "min         0.246096\n",
       "25%         0.751932\n",
       "50%         1.055514\n",
       "75%         1.492380\n",
       "max        16.133046\n",
       "Name: True_Range_ratio, dtype: float64"
      ]
     },
     "execution_count": 33,
     "metadata": {},
     "output_type": "execute_result"
    }
   ],
   "source": [
    "db['True_Range_ratio'] = ((db['High'] - db['Low'])/db['Close'])*100\n",
    "db['True_Range_ratio'].describe()"
   ]
  },
  {
   "cell_type": "code",
   "execution_count": 42,
   "id": "7ca7fb72",
   "metadata": {},
   "outputs": [],
   "source": [
    "db['Solid_%'] = (abs(db['Open'] - db['Close'])/db['True_Range'])"
   ]
  },
  {
   "cell_type": "code",
   "execution_count": 44,
   "id": "b3f1e855",
   "metadata": {},
   "outputs": [
    {
     "data": {
      "text/plain": [
       "count    2587.000000\n",
       "mean        0.495214\n",
       "std         0.264242\n",
       "min         0.000602\n",
       "25%         0.277160\n",
       "50%         0.501279\n",
       "75%         0.727946\n",
       "max         0.966760\n",
       "Name: Solid, dtype: float64"
      ]
     },
     "execution_count": 44,
     "metadata": {},
     "output_type": "execute_result"
    }
   ],
   "source": [
    "db['Solid'].describe()"
   ]
  },
  {
   "cell_type": "code",
   "execution_count": 45,
   "id": "077f9a2c",
   "metadata": {},
   "outputs": [
    {
     "name": "stderr",
     "output_type": "stream",
     "text": [
      "C:\\Users\\NINAD\\AppData\\Local\\Temp/ipykernel_10052/3971408692.py:1: FutureWarning: In a future version of pandas all arguments of DataFrame.drop except for the argument 'labels' will be keyword-only\n",
      "  db = db.drop('Solid_%', 1)\n"
     ]
    }
   ],
   "source": [
    "db = db.drop('Solid_%', 1)"
   ]
  },
  {
   "cell_type": "code",
   "execution_count": 46,
   "id": "14fd2512",
   "metadata": {},
   "outputs": [
    {
     "data": {
      "text/html": [
       "<div>\n",
       "<style scoped>\n",
       "    .dataframe tbody tr th:only-of-type {\n",
       "        vertical-align: middle;\n",
       "    }\n",
       "\n",
       "    .dataframe tbody tr th {\n",
       "        vertical-align: top;\n",
       "    }\n",
       "\n",
       "    .dataframe thead th {\n",
       "        text-align: right;\n",
       "    }\n",
       "</style>\n",
       "<table border=\"1\" class=\"dataframe\">\n",
       "  <thead>\n",
       "    <tr style=\"text-align: right;\">\n",
       "      <th></th>\n",
       "      <th>Open</th>\n",
       "      <th>High</th>\n",
       "      <th>Low</th>\n",
       "      <th>Close</th>\n",
       "      <th>Prev_High</th>\n",
       "      <th>Prev_Low</th>\n",
       "      <th>OPR</th>\n",
       "      <th>CPR</th>\n",
       "      <th>OPR_next</th>\n",
       "      <th>CPR_next</th>\n",
       "      <th>Solid</th>\n",
       "      <th>Solid_next</th>\n",
       "      <th>Prev_Open</th>\n",
       "      <th>Prev_Close</th>\n",
       "      <th>True_Range</th>\n",
       "      <th>True_Range_ratio</th>\n",
       "    </tr>\n",
       "    <tr>\n",
       "      <th>Date</th>\n",
       "      <th></th>\n",
       "      <th></th>\n",
       "      <th></th>\n",
       "      <th></th>\n",
       "      <th></th>\n",
       "      <th></th>\n",
       "      <th></th>\n",
       "      <th></th>\n",
       "      <th></th>\n",
       "      <th></th>\n",
       "      <th></th>\n",
       "      <th></th>\n",
       "      <th></th>\n",
       "      <th></th>\n",
       "      <th></th>\n",
       "      <th></th>\n",
       "    </tr>\n",
       "  </thead>\n",
       "  <tbody>\n",
       "    <tr>\n",
       "      <th>2021-11-25</th>\n",
       "      <td>17417.30</td>\n",
       "      <td>17564.35</td>\n",
       "      <td>17351.70</td>\n",
       "      <td>17536.25</td>\n",
       "      <td>17600.60</td>\n",
       "      <td>17354.00</td>\n",
       "      <td>0.308488</td>\n",
       "      <td>0.867858</td>\n",
       "      <td>NaN</td>\n",
       "      <td>NaN</td>\n",
       "      <td>0.559370</td>\n",
       "      <td>NaN</td>\n",
       "      <td>17550.05</td>\n",
       "      <td>17415.05</td>\n",
       "      <td>212.65</td>\n",
       "      <td>1.212631</td>\n",
       "    </tr>\n",
       "    <tr>\n",
       "      <th>2021-11-24</th>\n",
       "      <td>17550.05</td>\n",
       "      <td>17600.60</td>\n",
       "      <td>17354.00</td>\n",
       "      <td>17415.05</td>\n",
       "      <td>17553.70</td>\n",
       "      <td>17216.10</td>\n",
       "      <td>0.795012</td>\n",
       "      <td>0.247567</td>\n",
       "      <td>0.308488</td>\n",
       "      <td>0.867858</td>\n",
       "      <td>0.547445</td>\n",
       "      <td>0.559370</td>\n",
       "      <td>17281.75</td>\n",
       "      <td>17503.35</td>\n",
       "      <td>246.60</td>\n",
       "      <td>1.416017</td>\n",
       "    </tr>\n",
       "    <tr>\n",
       "      <th>2021-11-23</th>\n",
       "      <td>17281.75</td>\n",
       "      <td>17553.70</td>\n",
       "      <td>17216.10</td>\n",
       "      <td>17503.35</td>\n",
       "      <td>17805.25</td>\n",
       "      <td>17280.45</td>\n",
       "      <td>0.194461</td>\n",
       "      <td>0.850859</td>\n",
       "      <td>0.795012</td>\n",
       "      <td>0.247567</td>\n",
       "      <td>0.656398</td>\n",
       "      <td>0.547445</td>\n",
       "      <td>17796.25</td>\n",
       "      <td>17416.55</td>\n",
       "      <td>337.60</td>\n",
       "      <td>1.928774</td>\n",
       "    </tr>\n",
       "    <tr>\n",
       "      <th>2021-11-22</th>\n",
       "      <td>17796.25</td>\n",
       "      <td>17805.25</td>\n",
       "      <td>17280.45</td>\n",
       "      <td>17416.55</td>\n",
       "      <td>17945.60</td>\n",
       "      <td>17688.50</td>\n",
       "      <td>0.982851</td>\n",
       "      <td>0.259337</td>\n",
       "      <td>0.194461</td>\n",
       "      <td>0.850859</td>\n",
       "      <td>0.723514</td>\n",
       "      <td>0.656398</td>\n",
       "      <td>17890.55</td>\n",
       "      <td>17764.80</td>\n",
       "      <td>524.80</td>\n",
       "      <td>3.013226</td>\n",
       "    </tr>\n",
       "    <tr>\n",
       "      <th>2021-11-18</th>\n",
       "      <td>17890.55</td>\n",
       "      <td>17945.60</td>\n",
       "      <td>17688.50</td>\n",
       "      <td>17764.80</td>\n",
       "      <td>18022.65</td>\n",
       "      <td>17879.25</td>\n",
       "      <td>0.785881</td>\n",
       "      <td>0.296772</td>\n",
       "      <td>0.982851</td>\n",
       "      <td>0.259337</td>\n",
       "      <td>0.489109</td>\n",
       "      <td>0.723514</td>\n",
       "      <td>17939.35</td>\n",
       "      <td>17898.65</td>\n",
       "      <td>257.10</td>\n",
       "      <td>1.447244</td>\n",
       "    </tr>\n",
       "  </tbody>\n",
       "</table>\n",
       "</div>"
      ],
      "text/plain": [
       "                Open      High       Low     Close  Prev_High  Prev_Low  \\\n",
       "Date                                                                      \n",
       "2021-11-25  17417.30  17564.35  17351.70  17536.25   17600.60  17354.00   \n",
       "2021-11-24  17550.05  17600.60  17354.00  17415.05   17553.70  17216.10   \n",
       "2021-11-23  17281.75  17553.70  17216.10  17503.35   17805.25  17280.45   \n",
       "2021-11-22  17796.25  17805.25  17280.45  17416.55   17945.60  17688.50   \n",
       "2021-11-18  17890.55  17945.60  17688.50  17764.80   18022.65  17879.25   \n",
       "\n",
       "                 OPR       CPR  OPR_next  CPR_next     Solid  Solid_next  \\\n",
       "Date                                                                       \n",
       "2021-11-25  0.308488  0.867858       NaN       NaN  0.559370         NaN   \n",
       "2021-11-24  0.795012  0.247567  0.308488  0.867858  0.547445    0.559370   \n",
       "2021-11-23  0.194461  0.850859  0.795012  0.247567  0.656398    0.547445   \n",
       "2021-11-22  0.982851  0.259337  0.194461  0.850859  0.723514    0.656398   \n",
       "2021-11-18  0.785881  0.296772  0.982851  0.259337  0.489109    0.723514   \n",
       "\n",
       "            Prev_Open  Prev_Close  True_Range  True_Range_ratio  \n",
       "Date                                                             \n",
       "2021-11-25   17550.05    17415.05      212.65          1.212631  \n",
       "2021-11-24   17281.75    17503.35      246.60          1.416017  \n",
       "2021-11-23   17796.25    17416.55      337.60          1.928774  \n",
       "2021-11-22   17890.55    17764.80      524.80          3.013226  \n",
       "2021-11-18   17939.35    17898.65      257.10          1.447244  "
      ]
     },
     "execution_count": 46,
     "metadata": {},
     "output_type": "execute_result"
    }
   ],
   "source": [
    "db.head()"
   ]
  },
  {
   "cell_type": "code",
   "execution_count": 49,
   "id": "f42893ad",
   "metadata": {},
   "outputs": [
    {
     "data": {
      "text/plain": [
       "count    621.000000\n",
       "mean       0.533195\n",
       "std        0.343511\n",
       "min        0.000000\n",
       "25%        0.196513\n",
       "50%        0.561497\n",
       "75%        0.864945\n",
       "max        1.000000\n",
       "Name: OPR_next, dtype: float64"
      ]
     },
     "execution_count": 49,
     "metadata": {},
     "output_type": "execute_result"
    }
   ],
   "source": [
    "db['OPR_next'][db['Solid'] < 0.27].describe()"
   ]
  },
  {
   "cell_type": "code",
   "execution_count": 52,
   "id": "7677e7da",
   "metadata": {},
   "outputs": [
    {
     "data": {
      "text/plain": [
       "(array([114.,  61.,  37.,  48.,  46.,  59.,  55.,  52.,  74., 149.]),\n",
       " array([0. , 0.1, 0.2, 0.3, 0.4, 0.5, 0.6, 0.7, 0.8, 0.9, 1. ]),\n",
       " <BarContainer object of 10 artists>)"
      ]
     },
     "execution_count": 52,
     "metadata": {},
     "output_type": "execute_result"
    },
    {
     "data": {
      "image/png": "[encoded data removed]",
      "text/plain": [
       "<Figure size 432x288 with 1 Axes>"
      ]
     },
     "metadata": {
      "needs_background": "light"
     },
     "output_type": "display_data"
    }
   ],
   "source": [
    "plt.hist(db['OPR_next'][db['Solid'] < 0.3],rwidth=0.95,bins=bin_range)"
   ]
  },
  {
   "cell_type": "code",
   "execution_count": 53,
   "id": "dce40cf7",
   "metadata": {},
   "outputs": [
    {
     "data": {
      "text/plain": [
       "(array([ 36., 127.,  65.,  55.,  64.,  51.,  45.,  55., 127.,  70.]),\n",
       " array([0. , 0.1, 0.2, 0.3, 0.4, 0.5, 0.6, 0.7, 0.8, 0.9, 1. ]),\n",
       " <BarContainer object of 10 artists>)"
      ]
     },
     "execution_count": 53,
     "metadata": {},
     "output_type": "execute_result"
    },
    {
     "data": {
      "image/png": "[encoded data removed]",
      "text/plain": [
       "<Figure size 432x288 with 1 Axes>"
      ]
     },
     "metadata": {
      "needs_background": "light"
     },
     "output_type": "display_data"
    }
   ],
   "source": [
    "plt.hist(db['CPR_next'][db['Solid'] < 0.3],rwidth=0.95,bins=bin_range)"
   ]
  },
  {
   "cell_type": "code",
   "execution_count": 54,
   "id": "b1ff0f05",
   "metadata": {},
   "outputs": [
    {
     "data": {
      "text/plain": [
       "(array([ 55.,  60.,  59.,  82.,  73.,  69.,  80.,  77., 109.,  31.]),\n",
       " array([0. , 0.1, 0.2, 0.3, 0.4, 0.5, 0.6, 0.7, 0.8, 0.9, 1. ]),\n",
       " <BarContainer object of 10 artists>)"
      ]
     },
     "execution_count": 54,
     "metadata": {},
     "output_type": "execute_result"
    },
    {
     "data": {
      "image/png": "[encoded data removed]",
      "text/plain": [
       "<Figure size 432x288 with 1 Axes>"
      ]
     },
     "metadata": {
      "needs_background": "light"
     },
     "output_type": "display_data"
    }
   ],
   "source": [
    "plt.hist(db['Solid_next'][db['Solid'] < 0.3],rwidth=0.95,bins=bin_range)"
   ]
  },
  {
   "cell_type": "code",
   "execution_count": 55,
   "id": "835ef5c6",
   "metadata": {},
   "outputs": [
    {
     "data": {
      "text/plain": [
       "count    695.000000\n",
       "mean       0.513915\n",
       "std        0.267860\n",
       "min        0.003770\n",
       "25%        0.299340\n",
       "50%        0.525992\n",
       "75%        0.757986\n",
       "max        0.941176\n",
       "Name: Solid_next, dtype: float64"
      ]
     },
     "execution_count": 55,
     "metadata": {},
     "output_type": "execute_result"
    }
   ],
   "source": [
    "db['Solid_next'][db['Solid'] < 0.3].describe()"
   ]
  },
  {
   "cell_type": "code",
   "execution_count": null,
   "id": "4994192a",
   "metadata": {},
   "outputs": [],
   "source": []
  }
 ],
 "metadata": {
  "kernelspec": {
   "display_name": "Python 3 (ipykernel)",
   "language": "python",
   "name": "python3"
  },
  "language_info": {
   "codemirror_mode": {
    "name": "ipython",
    "version": 3
   },
   "file_extension": ".py",
   "mimetype": "text/x-python",
   "name": "python",
   "nbconvert_exporter": "python",
   "pygments_lexer": "ipython3",
   "version": "3.9.7"
  }
 },
 "nbformat": 4,
 "nbformat_minor": 5
}
