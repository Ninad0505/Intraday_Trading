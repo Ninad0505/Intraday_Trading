{
 "cells": [
  {
   "cell_type": "code",
   "execution_count": 81,
   "id": "c814e264",
   "metadata": {},
   "outputs": [],
   "source": [
    "import pandas as pd\n",
    "df = pd.read_csv(\"NIFTY_2020.csv\")"
   ]
  },
  {
   "cell_type": "code",
   "execution_count": 2,
   "id": "7197361e",
   "metadata": {},
   "outputs": [
    {
     "data": {
      "text/plain": [
       "Index(['Instrument', 'Time', 'Open', 'High', 'Low', 'Close'], dtype='object')"
      ]
     },
     "execution_count": 2,
     "metadata": {},
     "output_type": "execute_result"
    }
   ],
   "source": [
    "df.columns"
   ]
  },
  {
   "cell_type": "code",
   "execution_count": 20,
   "id": "c2e2f7fb",
   "metadata": {},
   "outputs": [],
   "source": [
    "df1 = pd.read_csv(\"NIFTY_2019.csv\", parse_dates=[\"Date\"], index_col=[\"Date\", \"Time\"])"
   ]
  },
  {
   "cell_type": "code",
   "execution_count": 30,
   "id": "d5569f5f",
   "metadata": {},
   "outputs": [],
   "source": [
    "df2 = pd.read_csv(\"NIFTY_2018.csv\", parse_dates=[\"Date\"], index_col=[\"Date\", \"Time\"])\n",
    "df3 = pd.read_csv(\"NIFTY_2017.csv\", parse_dates=[\"Date\"], index_col=[\"Date\", \"Time\"])\n",
    "df4 = pd.read_csv(\"NIFTY_2016.csv\", parse_dates=[\"Date\"], index_col=[\"Date\", \"Time\"])\n",
    "df5 = pd.read_csv(\"NIFTY_2015.csv\", parse_dates=[\"Date\"], index_col=[\"Date\", \"Time\"])\n",
    "df6 = pd.read_csv(\"NIFTY_2014.csv\", parse_dates=[\"Date\"], index_col=[\"Date\", \"Time\"])\n",
    "df7 = pd.read_csv(\"NIFTY_2013.csv\", parse_dates=[\"Date\"], index_col=[\"Date\", \"Time\"])\n",
    "df8 = pd.read_csv(\"NIFTY_2012.csv\", parse_dates=[\"Date\"], index_col=[\"Date\", \"Time\"])\n",
    "df9 = pd.read_csv(\"NIFTY_2011.csv\", parse_dates=[\"Date\"], index_col=[\"Date\", \"Time\"])\n",
    "df10 = pd.read_csv(\"NIFTY_2010.csv\", parse_dates=[\"Date\"], index_col=[\"Date\", \"Time\"])\n",
    "df11 = pd.read_csv(\"NIFTY_2009.csv\", parse_dates=[\"Date\"], index_col=[\"Date\", \"Time\"])\n",
    "df12 = pd.read_csv(\"NIFTY_2008.csv\", parse_dates=[\"Date\"], index_col=[\"Date\", \"Time\"])"
   ]
  },
  {
   "cell_type": "code",
   "execution_count": 22,
   "id": "8af55e33",
   "metadata": {},
   "outputs": [],
   "source": [
    "frames = [df12, df11, df10, df9, df8, df7, df6, df5, df4, df3, df2, df1, df]\n",
    "result = pd.concat(frames)"
   ]
  },
  {
   "cell_type": "code",
   "execution_count": 23,
   "id": "407deea8",
   "metadata": {},
   "outputs": [
    {
     "data": {
      "text/html": [
       "<div>\n",
       "<style scoped>\n",
       "    .dataframe tbody tr th:only-of-type {\n",
       "        vertical-align: middle;\n",
       "    }\n",
       "\n",
       "    .dataframe tbody tr th {\n",
       "        vertical-align: top;\n",
       "    }\n",
       "\n",
       "    .dataframe thead th {\n",
       "        text-align: right;\n",
       "    }\n",
       "</style>\n",
       "<table border=\"1\" class=\"dataframe\">\n",
       "  <thead>\n",
       "    <tr style=\"text-align: right;\">\n",
       "      <th></th>\n",
       "      <th></th>\n",
       "      <th>Instrument</th>\n",
       "      <th>Open</th>\n",
       "      <th>High</th>\n",
       "      <th>Low</th>\n",
       "      <th>Close</th>\n",
       "    </tr>\n",
       "    <tr>\n",
       "      <th>Date</th>\n",
       "      <th>Time</th>\n",
       "      <th></th>\n",
       "      <th></th>\n",
       "      <th></th>\n",
       "      <th></th>\n",
       "      <th></th>\n",
       "    </tr>\n",
       "  </thead>\n",
       "  <tbody>\n",
       "    <tr>\n",
       "      <th rowspan=\"5\" valign=\"top\">2008-01-01</th>\n",
       "      <th>09:55</th>\n",
       "      <td>NIFTY</td>\n",
       "      <td>6138.60</td>\n",
       "      <td>6154.60</td>\n",
       "      <td>6138.60</td>\n",
       "      <td>6148.90</td>\n",
       "    </tr>\n",
       "    <tr>\n",
       "      <th>09:56</th>\n",
       "      <td>NIFTY</td>\n",
       "      <td>6149.75</td>\n",
       "      <td>6149.75</td>\n",
       "      <td>6132.80</td>\n",
       "      <td>6132.80</td>\n",
       "    </tr>\n",
       "    <tr>\n",
       "      <th>09:57</th>\n",
       "      <td>NIFTY</td>\n",
       "      <td>6138.25</td>\n",
       "      <td>6138.25</td>\n",
       "      <td>6127.95</td>\n",
       "      <td>6127.95</td>\n",
       "    </tr>\n",
       "    <tr>\n",
       "      <th>09:58</th>\n",
       "      <td>NIFTY</td>\n",
       "      <td>6127.15</td>\n",
       "      <td>6127.15</td>\n",
       "      <td>6120.90</td>\n",
       "      <td>6120.90</td>\n",
       "    </tr>\n",
       "    <tr>\n",
       "      <th>09:59</th>\n",
       "      <td>NIFTY</td>\n",
       "      <td>6118.05</td>\n",
       "      <td>6118.05</td>\n",
       "      <td>6113.55</td>\n",
       "      <td>6113.90</td>\n",
       "    </tr>\n",
       "  </tbody>\n",
       "</table>\n",
       "</div>"
      ],
      "text/plain": [
       "                 Instrument     Open     High      Low    Close\n",
       "Date       Time                                                \n",
       "2008-01-01 09:55      NIFTY  6138.60  6154.60  6138.60  6148.90\n",
       "           09:56      NIFTY  6149.75  6149.75  6132.80  6132.80\n",
       "           09:57      NIFTY  6138.25  6138.25  6127.95  6127.95\n",
       "           09:58      NIFTY  6127.15  6127.15  6120.90  6120.90\n",
       "           09:59      NIFTY  6118.05  6118.05  6113.55  6113.90"
      ]
     },
     "execution_count": 23,
     "metadata": {},
     "output_type": "execute_result"
    }
   ],
   "source": [
    "result.head()"
   ]
  },
  {
   "cell_type": "code",
   "execution_count": 24,
   "id": "c0342ef8",
   "metadata": {},
   "outputs": [
    {
     "data": {
      "text/html": [
       "<div>\n",
       "<style scoped>\n",
       "    .dataframe tbody tr th:only-of-type {\n",
       "        vertical-align: middle;\n",
       "    }\n",
       "\n",
       "    .dataframe tbody tr th {\n",
       "        vertical-align: top;\n",
       "    }\n",
       "\n",
       "    .dataframe thead th {\n",
       "        text-align: right;\n",
       "    }\n",
       "</style>\n",
       "<table border=\"1\" class=\"dataframe\">\n",
       "  <thead>\n",
       "    <tr style=\"text-align: right;\">\n",
       "      <th></th>\n",
       "      <th></th>\n",
       "      <th>Instrument</th>\n",
       "      <th>Open</th>\n",
       "      <th>High</th>\n",
       "      <th>Low</th>\n",
       "      <th>Close</th>\n",
       "    </tr>\n",
       "    <tr>\n",
       "      <th>Date</th>\n",
       "      <th>Time</th>\n",
       "      <th></th>\n",
       "      <th></th>\n",
       "      <th></th>\n",
       "      <th></th>\n",
       "      <th></th>\n",
       "    </tr>\n",
       "  </thead>\n",
       "  <tbody>\n",
       "    <tr>\n",
       "      <th rowspan=\"5\" valign=\"top\">2020-11-27</th>\n",
       "      <th>15:28</th>\n",
       "      <td>NIFTY</td>\n",
       "      <td>12947.00</td>\n",
       "      <td>12947.00</td>\n",
       "      <td>12927.95</td>\n",
       "      <td>12927.95</td>\n",
       "    </tr>\n",
       "    <tr>\n",
       "      <th>15:29</th>\n",
       "      <td>NIFTY</td>\n",
       "      <td>12928.35</td>\n",
       "      <td>12947.90</td>\n",
       "      <td>12928.35</td>\n",
       "      <td>12937.70</td>\n",
       "    </tr>\n",
       "    <tr>\n",
       "      <th>15:30</th>\n",
       "      <td>NIFTY</td>\n",
       "      <td>12936.40</td>\n",
       "      <td>12948.60</td>\n",
       "      <td>12933.85</td>\n",
       "      <td>12942.85</td>\n",
       "    </tr>\n",
       "    <tr>\n",
       "      <th>15:31</th>\n",
       "      <td>NIFTY</td>\n",
       "      <td>12941.95</td>\n",
       "      <td>12941.95</td>\n",
       "      <td>12941.95</td>\n",
       "      <td>12941.95</td>\n",
       "    </tr>\n",
       "    <tr>\n",
       "      <th>15:32</th>\n",
       "      <td>NIFTY</td>\n",
       "      <td>12943.05</td>\n",
       "      <td>12968.95</td>\n",
       "      <td>12943.05</td>\n",
       "      <td>12968.95</td>\n",
       "    </tr>\n",
       "  </tbody>\n",
       "</table>\n",
       "</div>"
      ],
      "text/plain": [
       "                 Instrument      Open      High       Low     Close\n",
       "Date       Time                                                    \n",
       "2020-11-27 15:28      NIFTY  12947.00  12947.00  12927.95  12927.95\n",
       "           15:29      NIFTY  12928.35  12947.90  12928.35  12937.70\n",
       "           15:30      NIFTY  12936.40  12948.60  12933.85  12942.85\n",
       "           15:31      NIFTY  12941.95  12941.95  12941.95  12941.95\n",
       "           15:32      NIFTY  12943.05  12968.95  12943.05  12968.95"
      ]
     },
     "execution_count": 24,
     "metadata": {},
     "output_type": "execute_result"
    }
   ],
   "source": [
    "result.tail()"
   ]
  },
  {
   "cell_type": "code",
   "execution_count": 37,
   "id": "13ce024f",
   "metadata": {},
   "outputs": [
    {
     "data": {
      "text/plain": [
       "(1178891, 5)"
      ]
     },
     "execution_count": 37,
     "metadata": {},
     "output_type": "execute_result"
    }
   ],
   "source": [
    "result.shape"
   ]
  },
  {
   "cell_type": "code",
   "execution_count": 26,
   "id": "2ed2c311",
   "metadata": {},
   "outputs": [
    {
     "data": {
      "text/plain": [
       "MultiIndex([('2008-01-01', '09:55'),\n",
       "            ('2008-01-01', '09:56'),\n",
       "            ('2008-01-01', '09:57'),\n",
       "            ('2008-01-01', '09:58'),\n",
       "            ('2008-01-01', '09:59'),\n",
       "            ('2008-01-01', '10:00'),\n",
       "            ('2008-01-01', '10:01'),\n",
       "            ('2008-01-01', '10:02'),\n",
       "            ('2008-01-01', '10:03'),\n",
       "            ('2008-01-01', '10:04'),\n",
       "            ...\n",
       "            ('2020-11-27', '15:23'),\n",
       "            ('2020-11-27', '15:24'),\n",
       "            ('2020-11-27', '15:25'),\n",
       "            ('2020-11-27', '15:26'),\n",
       "            ('2020-11-27', '15:27'),\n",
       "            ('2020-11-27', '15:28'),\n",
       "            ('2020-11-27', '15:29'),\n",
       "            ('2020-11-27', '15:30'),\n",
       "            ('2020-11-27', '15:31'),\n",
       "            ('2020-11-27', '15:32')],\n",
       "           names=['Date', 'Time'], length=1178891)"
      ]
     },
     "execution_count": 26,
     "metadata": {},
     "output_type": "execute_result"
    }
   ],
   "source": [
    "result.index"
   ]
  },
  {
   "cell_type": "code",
   "execution_count": 31,
   "id": "76d529b1",
   "metadata": {},
   "outputs": [
    {
     "data": {
      "text/plain": [
       "432850"
      ]
     },
     "execution_count": 31,
     "metadata": {},
     "output_type": "execute_result"
    }
   ],
   "source": [
    "df.size"
   ]
  },
  {
   "cell_type": "code",
   "execution_count": 35,
   "id": "662ccace",
   "metadata": {},
   "outputs": [],
   "source": [
    "df = pd.read_csv(\"NIFTY_2020.csv\", parse_dates=[\"Date\"], index_col=[\"Date\", 'Time'])"
   ]
  },
  {
   "cell_type": "code",
   "execution_count": 36,
   "id": "f2e6bc23",
   "metadata": {},
   "outputs": [
    {
     "data": {
      "text/plain": [
       "(86570, 5)"
      ]
     },
     "execution_count": 36,
     "metadata": {},
     "output_type": "execute_result"
    }
   ],
   "source": [
    "df.shape"
   ]
  },
  {
   "cell_type": "code",
   "execution_count": 62,
   "id": "1943473b",
   "metadata": {},
   "outputs": [
    {
     "data": {
      "text/plain": [
       "Date        Time \n",
       "2020-01-01  09:55    12203.8\n",
       "Name: Open, dtype: float64"
      ]
     },
     "execution_count": 62,
     "metadata": {},
     "output_type": "execute_result"
    }
   ],
   "source": [
    "df.loc[(\"2020-01-01\", \"09:55\"), 'Open']"
   ]
  },
  {
   "cell_type": "code",
   "execution_count": 65,
   "id": "f1a51815",
   "metadata": {},
   "outputs": [
    {
     "data": {
      "text/plain": [
       "Date        Time \n",
       "2020-01-01  09:55    12203.80\n",
       "            09:56    12199.55\n",
       "            09:57    12199.00\n",
       "            09:58    12199.95\n",
       "            09:59    12198.55\n",
       "Name: Open, dtype: float64"
      ]
     },
     "execution_count": 65,
     "metadata": {},
     "output_type": "execute_result"
    }
   ],
   "source": [
    "df.loc[(\"2020-01-01\", \"09:55\"): (\"2020-01-01\", \"09:59\") , 'Open']"
   ]
  },
  {
   "cell_type": "code",
   "execution_count": 69,
   "id": "179ac81a",
   "metadata": {},
   "outputs": [
    {
     "data": {
      "text/plain": [
       "12203.8"
      ]
     },
     "execution_count": 69,
     "metadata": {},
     "output_type": "execute_result"
    }
   ],
   "source": [
    "df.loc[(\"2020-01-01\", \"09:55\"): (\"2020-01-01\", \"09:59\") , 'Open'].max()"
   ]
  },
  {
   "cell_type": "code",
   "execution_count": 67,
   "id": "a438baf0",
   "metadata": {},
   "outputs": [
    {
     "data": {
      "text/plain": [
       "12198.55"
      ]
     },
     "execution_count": 67,
     "metadata": {},
     "output_type": "execute_result"
    }
   ],
   "source": [
    "df.loc[(\"2020-01-01\", \"09:55\"): (\"2020-01-01\", \"09:59\") , 'Open'].min()"
   ]
  },
  {
   "cell_type": "code",
   "execution_count": 70,
   "id": "c7a5bcb1",
   "metadata": {},
   "outputs": [
    {
     "data": {
      "text/plain": [
       "pandas.core.series.Series"
      ]
     },
     "execution_count": 70,
     "metadata": {},
     "output_type": "execute_result"
    }
   ],
   "source": [
    "type(df.loc[(\"2020-01-01\", \"09:55\"), 'Open'])"
   ]
  },
  {
   "cell_type": "code",
   "execution_count": 72,
   "id": "cebf967f",
   "metadata": {},
   "outputs": [
    {
     "name": "stdout",
     "output_type": "stream",
     "text": [
      "12224.9\n",
      "12248.35\n",
      "nan\n",
      "12224.9\n",
      "12248.35\n",
      "nan\n"
     ]
    }
   ],
   "source": [
    "dates_list = ['2020-01-02', '2020-01-03', '2020-01-04']\n",
    "Open = []\n",
    "for i in dates_list:\n",
    "    a = df.loc[(i, '09:30'), 'Open'].max()\n",
    "    Open.append(a)\n",
    "    print(a)\n",
    "    \n",
    "for k in Open:\n",
    "    print(k)"
   ]
  },
  {
   "cell_type": "code",
   "execution_count": 76,
   "id": "596a0052",
   "metadata": {},
   "outputs": [
    {
     "data": {
      "text/html": [
       "<div>\n",
       "<style scoped>\n",
       "    .dataframe tbody tr th:only-of-type {\n",
       "        vertical-align: middle;\n",
       "    }\n",
       "\n",
       "    .dataframe tbody tr th {\n",
       "        vertical-align: top;\n",
       "    }\n",
       "\n",
       "    .dataframe thead th {\n",
       "        text-align: right;\n",
       "    }\n",
       "</style>\n",
       "<table border=\"1\" class=\"dataframe\">\n",
       "  <thead>\n",
       "    <tr style=\"text-align: right;\">\n",
       "      <th></th>\n",
       "      <th></th>\n",
       "      <th>Instrument</th>\n",
       "      <th>Open</th>\n",
       "      <th>High</th>\n",
       "      <th>Low</th>\n",
       "      <th>Close</th>\n",
       "    </tr>\n",
       "    <tr>\n",
       "      <th>Date</th>\n",
       "      <th>Time</th>\n",
       "      <th></th>\n",
       "      <th></th>\n",
       "      <th></th>\n",
       "      <th></th>\n",
       "      <th></th>\n",
       "    </tr>\n",
       "  </thead>\n",
       "  <tbody>\n",
       "    <tr>\n",
       "      <th rowspan=\"5\" valign=\"top\">2020-01-01</th>\n",
       "      <th>09:08</th>\n",
       "      <td>NIFTY</td>\n",
       "      <td>12202.15</td>\n",
       "      <td>12202.15</td>\n",
       "      <td>12202.15</td>\n",
       "      <td>12202.15</td>\n",
       "    </tr>\n",
       "    <tr>\n",
       "      <th>09:16</th>\n",
       "      <td>NIFTY</td>\n",
       "      <td>12204.45</td>\n",
       "      <td>12216.25</td>\n",
       "      <td>12201.55</td>\n",
       "      <td>12215.10</td>\n",
       "    </tr>\n",
       "    <tr>\n",
       "      <th>09:17</th>\n",
       "      <td>NIFTY</td>\n",
       "      <td>12215.45</td>\n",
       "      <td>12216.45</td>\n",
       "      <td>12205.70</td>\n",
       "      <td>12206.80</td>\n",
       "    </tr>\n",
       "    <tr>\n",
       "      <th>09:18</th>\n",
       "      <td>NIFTY</td>\n",
       "      <td>12206.50</td>\n",
       "      <td>12207.40</td>\n",
       "      <td>12202.70</td>\n",
       "      <td>12202.70</td>\n",
       "    </tr>\n",
       "    <tr>\n",
       "      <th>09:19</th>\n",
       "      <td>NIFTY</td>\n",
       "      <td>12203.55</td>\n",
       "      <td>12208.40</td>\n",
       "      <td>12201.20</td>\n",
       "      <td>12207.85</td>\n",
       "    </tr>\n",
       "  </tbody>\n",
       "</table>\n",
       "</div>"
      ],
      "text/plain": [
       "                 Instrument      Open      High       Low     Close\n",
       "Date       Time                                                    \n",
       "2020-01-01 09:08      NIFTY  12202.15  12202.15  12202.15  12202.15\n",
       "           09:16      NIFTY  12204.45  12216.25  12201.55  12215.10\n",
       "           09:17      NIFTY  12215.45  12216.45  12205.70  12206.80\n",
       "           09:18      NIFTY  12206.50  12207.40  12202.70  12202.70\n",
       "           09:19      NIFTY  12203.55  12208.40  12201.20  12207.85"
      ]
     },
     "execution_count": 76,
     "metadata": {},
     "output_type": "execute_result"
    }
   ],
   "source": [
    "df.head()"
   ]
  },
  {
   "cell_type": "code",
   "execution_count": 84,
   "id": "7d37c013",
   "metadata": {},
   "outputs": [],
   "source": [
    "df[\"Date\"] = df[\"Date\"].astype(\"str\")\n",
    "df[\"Time\"] = df[\"Time\"].astype(\"str\")\n",
    "df[\"Date&Time\"] = df[\"Date\"] + \" \" + df[\"Time\"]\n",
    "df[\"Date&Time\"] = pd.to_datetime(df[\"Date&Time\"])\n",
    "df.set_index('Date&Time', inplace=True)"
   ]
  },
  {
   "cell_type": "code",
   "execution_count": 178,
   "id": "13b52da0",
   "metadata": {},
   "outputs": [],
   "source": [
    "t = df.groupby(pd.Grouper(freq='30Min')).agg({\"Open\": \"first\", \n",
    "                                             \"Close\": \"last\", \n",
    "                                             \"Low\": \"min\", \n",
    "                                             \"High\": \"max\"})\n",
    "t.columns = [\"Open\", \"Close\", \"Low\", \"High\"]"
   ]
  },
  {
   "cell_type": "code",
   "execution_count": 179,
   "id": "70ec133e",
   "metadata": {},
   "outputs": [
    {
     "data": {
      "text/html": [
       "<div>\n",
       "<style scoped>\n",
       "    .dataframe tbody tr th:only-of-type {\n",
       "        vertical-align: middle;\n",
       "    }\n",
       "\n",
       "    .dataframe tbody tr th {\n",
       "        vertical-align: top;\n",
       "    }\n",
       "\n",
       "    .dataframe thead th {\n",
       "        text-align: right;\n",
       "    }\n",
       "</style>\n",
       "<table border=\"1\" class=\"dataframe\">\n",
       "  <thead>\n",
       "    <tr style=\"text-align: right;\">\n",
       "      <th></th>\n",
       "      <th>Open</th>\n",
       "      <th>Close</th>\n",
       "      <th>Low</th>\n",
       "      <th>High</th>\n",
       "    </tr>\n",
       "    <tr>\n",
       "      <th>Date&amp;Time</th>\n",
       "      <th></th>\n",
       "      <th></th>\n",
       "      <th></th>\n",
       "      <th></th>\n",
       "    </tr>\n",
       "  </thead>\n",
       "  <tbody>\n",
       "    <tr>\n",
       "      <th>2020-01-01 09:00:00</th>\n",
       "      <td>12202.15</td>\n",
       "      <td>12217.30</td>\n",
       "      <td>12201.20</td>\n",
       "      <td>12218.80</td>\n",
       "    </tr>\n",
       "    <tr>\n",
       "      <th>2020-01-01 09:30:00</th>\n",
       "      <td>12216.90</td>\n",
       "      <td>12198.90</td>\n",
       "      <td>12191.40</td>\n",
       "      <td>12222.20</td>\n",
       "    </tr>\n",
       "    <tr>\n",
       "      <th>2020-01-01 10:00:00</th>\n",
       "      <td>12198.65</td>\n",
       "      <td>12199.60</td>\n",
       "      <td>12184.55</td>\n",
       "      <td>12201.20</td>\n",
       "    </tr>\n",
       "    <tr>\n",
       "      <th>2020-01-01 10:30:00</th>\n",
       "      <td>12200.15</td>\n",
       "      <td>12177.55</td>\n",
       "      <td>12169.80</td>\n",
       "      <td>12200.45</td>\n",
       "    </tr>\n",
       "    <tr>\n",
       "      <th>2020-01-01 11:00:00</th>\n",
       "      <td>12177.25</td>\n",
       "      <td>12178.70</td>\n",
       "      <td>12175.50</td>\n",
       "      <td>12187.15</td>\n",
       "    </tr>\n",
       "  </tbody>\n",
       "</table>\n",
       "</div>"
      ],
      "text/plain": [
       "                         Open     Close       Low      High\n",
       "Date&Time                                                  \n",
       "2020-01-01 09:00:00  12202.15  12217.30  12201.20  12218.80\n",
       "2020-01-01 09:30:00  12216.90  12198.90  12191.40  12222.20\n",
       "2020-01-01 10:00:00  12198.65  12199.60  12184.55  12201.20\n",
       "2020-01-01 10:30:00  12200.15  12177.55  12169.80  12200.45\n",
       "2020-01-01 11:00:00  12177.25  12178.70  12175.50  12187.15"
      ]
     },
     "execution_count": 179,
     "metadata": {},
     "output_type": "execute_result"
    }
   ],
   "source": [
    "t.head()"
   ]
  },
  {
   "cell_type": "code",
   "execution_count": 180,
   "id": "c374c72f",
   "metadata": {},
   "outputs": [
    {
     "data": {
      "text/html": [
       "<div>\n",
       "<style scoped>\n",
       "    .dataframe tbody tr th:only-of-type {\n",
       "        vertical-align: middle;\n",
       "    }\n",
       "\n",
       "    .dataframe tbody tr th {\n",
       "        vertical-align: top;\n",
       "    }\n",
       "\n",
       "    .dataframe thead th {\n",
       "        text-align: right;\n",
       "    }\n",
       "</style>\n",
       "<table border=\"1\" class=\"dataframe\">\n",
       "  <thead>\n",
       "    <tr style=\"text-align: right;\">\n",
       "      <th></th>\n",
       "      <th>Open</th>\n",
       "      <th>Close</th>\n",
       "      <th>Low</th>\n",
       "      <th>High</th>\n",
       "    </tr>\n",
       "    <tr>\n",
       "      <th>Date&amp;Time</th>\n",
       "      <th></th>\n",
       "      <th></th>\n",
       "      <th></th>\n",
       "      <th></th>\n",
       "    </tr>\n",
       "  </thead>\n",
       "  <tbody>\n",
       "    <tr>\n",
       "      <th>2020-11-27 13:30:00</th>\n",
       "      <td>12971.25</td>\n",
       "      <td>12971.95</td>\n",
       "      <td>12953.55</td>\n",
       "      <td>13006.75</td>\n",
       "    </tr>\n",
       "    <tr>\n",
       "      <th>2020-11-27 14:00:00</th>\n",
       "      <td>12971.70</td>\n",
       "      <td>12981.10</td>\n",
       "      <td>12958.25</td>\n",
       "      <td>12990.85</td>\n",
       "    </tr>\n",
       "    <tr>\n",
       "      <th>2020-11-27 14:30:00</th>\n",
       "      <td>12980.85</td>\n",
       "      <td>12975.85</td>\n",
       "      <td>12914.30</td>\n",
       "      <td>12984.15</td>\n",
       "    </tr>\n",
       "    <tr>\n",
       "      <th>2020-11-27 15:00:00</th>\n",
       "      <td>12976.15</td>\n",
       "      <td>12937.70</td>\n",
       "      <td>12927.95</td>\n",
       "      <td>12986.25</td>\n",
       "    </tr>\n",
       "    <tr>\n",
       "      <th>2020-11-27 15:30:00</th>\n",
       "      <td>12936.40</td>\n",
       "      <td>12968.95</td>\n",
       "      <td>12933.85</td>\n",
       "      <td>12968.95</td>\n",
       "    </tr>\n",
       "  </tbody>\n",
       "</table>\n",
       "</div>"
      ],
      "text/plain": [
       "                         Open     Close       Low      High\n",
       "Date&Time                                                  \n",
       "2020-11-27 13:30:00  12971.25  12971.95  12953.55  13006.75\n",
       "2020-11-27 14:00:00  12971.70  12981.10  12958.25  12990.85\n",
       "2020-11-27 14:30:00  12980.85  12975.85  12914.30  12984.15\n",
       "2020-11-27 15:00:00  12976.15  12937.70  12927.95  12986.25\n",
       "2020-11-27 15:30:00  12936.40  12968.95  12933.85  12968.95"
      ]
     },
     "execution_count": 180,
     "metadata": {},
     "output_type": "execute_result"
    }
   ],
   "source": [
    "t.tail()"
   ]
  },
  {
   "cell_type": "code",
   "execution_count": 181,
   "id": "5ae25735",
   "metadata": {},
   "outputs": [
    {
     "data": {
      "text/html": [
       "<div>\n",
       "<style scoped>\n",
       "    .dataframe tbody tr th:only-of-type {\n",
       "        vertical-align: middle;\n",
       "    }\n",
       "\n",
       "    .dataframe tbody tr th {\n",
       "        vertical-align: top;\n",
       "    }\n",
       "\n",
       "    .dataframe thead th {\n",
       "        text-align: right;\n",
       "    }\n",
       "</style>\n",
       "<table border=\"1\" class=\"dataframe\">\n",
       "  <thead>\n",
       "    <tr style=\"text-align: right;\">\n",
       "      <th></th>\n",
       "      <th>Open</th>\n",
       "      <th>Close</th>\n",
       "      <th>Low</th>\n",
       "      <th>High</th>\n",
       "    </tr>\n",
       "    <tr>\n",
       "      <th>Date&amp;Time</th>\n",
       "      <th></th>\n",
       "      <th></th>\n",
       "      <th></th>\n",
       "      <th></th>\n",
       "    </tr>\n",
       "  </thead>\n",
       "  <tbody>\n",
       "    <tr>\n",
       "      <th>2020-01-01 09:00:00</th>\n",
       "      <td>12202.15</td>\n",
       "      <td>12217.3</td>\n",
       "      <td>12201.2</td>\n",
       "      <td>12218.8</td>\n",
       "    </tr>\n",
       "    <tr>\n",
       "      <th>2020-01-01 09:30:00</th>\n",
       "      <td>12216.90</td>\n",
       "      <td>12198.9</td>\n",
       "      <td>12191.4</td>\n",
       "      <td>12222.2</td>\n",
       "    </tr>\n",
       "  </tbody>\n",
       "</table>\n",
       "</div>"
      ],
      "text/plain": [
       "                         Open    Close      Low     High\n",
       "Date&Time                                               \n",
       "2020-01-01 09:00:00  12202.15  12217.3  12201.2  12218.8\n",
       "2020-01-01 09:30:00  12216.90  12198.9  12191.4  12222.2"
      ]
     },
     "execution_count": 181,
     "metadata": {},
     "output_type": "execute_result"
    }
   ],
   "source": [
    "t[\"2020-01-01 09:00:00\": \"2020-01-01 09:30:00\"]"
   ]
  },
  {
   "cell_type": "code",
   "execution_count": 182,
   "id": "c2acf893",
   "metadata": {},
   "outputs": [
    {
     "data": {
      "text/plain": [
       "Open     12216.9\n",
       "Close    12217.3\n",
       "Low      12201.2\n",
       "High     12222.2\n",
       "dtype: float64"
      ]
     },
     "execution_count": 182,
     "metadata": {},
     "output_type": "execute_result"
    }
   ],
   "source": [
    "t[\"2020-01-01 09:00:00\": \"2020-01-01 09:30:00\"].max()"
   ]
  },
  {
   "cell_type": "code",
   "execution_count": 121,
   "id": "b425403d",
   "metadata": {},
   "outputs": [
    {
     "data": {
      "text/plain": [
       "pandas.core.series.Series"
      ]
     },
     "execution_count": 121,
     "metadata": {},
     "output_type": "execute_result"
    }
   ],
   "source": [
    "type(t[\"2020-01-01 09:00:00\": \"2020-01-01 09:30:00\"].max())"
   ]
  },
  {
   "cell_type": "code",
   "execution_count": 122,
   "id": "4213e637",
   "metadata": {},
   "outputs": [
    {
     "data": {
      "text/plain": [
       "float"
      ]
     },
     "execution_count": 122,
     "metadata": {},
     "output_type": "execute_result"
    }
   ],
   "source": [
    "type(t[\"2020-01-01 09:00:00\": \"2020-01-01 09:30:00\"]['High'].max())"
   ]
  },
  {
   "cell_type": "code",
   "execution_count": 183,
   "id": "b6708119",
   "metadata": {
    "scrolled": true
   },
   "outputs": [
    {
     "data": {
      "text/html": [
       "<div>\n",
       "<style scoped>\n",
       "    .dataframe tbody tr th:only-of-type {\n",
       "        vertical-align: middle;\n",
       "    }\n",
       "\n",
       "    .dataframe tbody tr th {\n",
       "        vertical-align: top;\n",
       "    }\n",
       "\n",
       "    .dataframe thead th {\n",
       "        text-align: right;\n",
       "    }\n",
       "</style>\n",
       "<table border=\"1\" class=\"dataframe\">\n",
       "  <thead>\n",
       "    <tr style=\"text-align: right;\">\n",
       "      <th></th>\n",
       "      <th>Open</th>\n",
       "      <th>Close</th>\n",
       "      <th>Low</th>\n",
       "      <th>High</th>\n",
       "    </tr>\n",
       "    <tr>\n",
       "      <th>Date&amp;Time</th>\n",
       "      <th></th>\n",
       "      <th></th>\n",
       "      <th></th>\n",
       "      <th></th>\n",
       "    </tr>\n",
       "  </thead>\n",
       "  <tbody>\n",
       "    <tr>\n",
       "      <th>2020-04-27 00:00:00</th>\n",
       "      <td>NaN</td>\n",
       "      <td>NaN</td>\n",
       "      <td>NaN</td>\n",
       "      <td>NaN</td>\n",
       "    </tr>\n",
       "    <tr>\n",
       "      <th>2020-04-27 00:30:00</th>\n",
       "      <td>NaN</td>\n",
       "      <td>NaN</td>\n",
       "      <td>NaN</td>\n",
       "      <td>NaN</td>\n",
       "    </tr>\n",
       "    <tr>\n",
       "      <th>2020-04-27 01:00:00</th>\n",
       "      <td>NaN</td>\n",
       "      <td>NaN</td>\n",
       "      <td>NaN</td>\n",
       "      <td>NaN</td>\n",
       "    </tr>\n",
       "    <tr>\n",
       "      <th>2020-04-27 01:30:00</th>\n",
       "      <td>NaN</td>\n",
       "      <td>NaN</td>\n",
       "      <td>NaN</td>\n",
       "      <td>NaN</td>\n",
       "    </tr>\n",
       "    <tr>\n",
       "      <th>2020-04-27 02:00:00</th>\n",
       "      <td>NaN</td>\n",
       "      <td>NaN</td>\n",
       "      <td>NaN</td>\n",
       "      <td>NaN</td>\n",
       "    </tr>\n",
       "    <tr>\n",
       "      <th>2020-04-27 02:30:00</th>\n",
       "      <td>NaN</td>\n",
       "      <td>NaN</td>\n",
       "      <td>NaN</td>\n",
       "      <td>NaN</td>\n",
       "    </tr>\n",
       "    <tr>\n",
       "      <th>2020-04-27 03:00:00</th>\n",
       "      <td>NaN</td>\n",
       "      <td>NaN</td>\n",
       "      <td>NaN</td>\n",
       "      <td>NaN</td>\n",
       "    </tr>\n",
       "    <tr>\n",
       "      <th>2020-04-27 03:30:00</th>\n",
       "      <td>NaN</td>\n",
       "      <td>NaN</td>\n",
       "      <td>NaN</td>\n",
       "      <td>NaN</td>\n",
       "    </tr>\n",
       "    <tr>\n",
       "      <th>2020-04-27 04:00:00</th>\n",
       "      <td>NaN</td>\n",
       "      <td>NaN</td>\n",
       "      <td>NaN</td>\n",
       "      <td>NaN</td>\n",
       "    </tr>\n",
       "    <tr>\n",
       "      <th>2020-04-27 04:30:00</th>\n",
       "      <td>NaN</td>\n",
       "      <td>NaN</td>\n",
       "      <td>NaN</td>\n",
       "      <td>NaN</td>\n",
       "    </tr>\n",
       "    <tr>\n",
       "      <th>2020-04-27 05:00:00</th>\n",
       "      <td>NaN</td>\n",
       "      <td>NaN</td>\n",
       "      <td>NaN</td>\n",
       "      <td>NaN</td>\n",
       "    </tr>\n",
       "    <tr>\n",
       "      <th>2020-04-27 05:30:00</th>\n",
       "      <td>NaN</td>\n",
       "      <td>NaN</td>\n",
       "      <td>NaN</td>\n",
       "      <td>NaN</td>\n",
       "    </tr>\n",
       "    <tr>\n",
       "      <th>2020-04-27 06:00:00</th>\n",
       "      <td>NaN</td>\n",
       "      <td>NaN</td>\n",
       "      <td>NaN</td>\n",
       "      <td>NaN</td>\n",
       "    </tr>\n",
       "    <tr>\n",
       "      <th>2020-04-27 06:30:00</th>\n",
       "      <td>NaN</td>\n",
       "      <td>NaN</td>\n",
       "      <td>NaN</td>\n",
       "      <td>NaN</td>\n",
       "    </tr>\n",
       "    <tr>\n",
       "      <th>2020-04-27 07:00:00</th>\n",
       "      <td>NaN</td>\n",
       "      <td>NaN</td>\n",
       "      <td>NaN</td>\n",
       "      <td>NaN</td>\n",
       "    </tr>\n",
       "    <tr>\n",
       "      <th>2020-04-27 07:30:00</th>\n",
       "      <td>NaN</td>\n",
       "      <td>NaN</td>\n",
       "      <td>NaN</td>\n",
       "      <td>NaN</td>\n",
       "    </tr>\n",
       "    <tr>\n",
       "      <th>2020-04-27 08:00:00</th>\n",
       "      <td>NaN</td>\n",
       "      <td>NaN</td>\n",
       "      <td>NaN</td>\n",
       "      <td>NaN</td>\n",
       "    </tr>\n",
       "    <tr>\n",
       "      <th>2020-04-27 08:30:00</th>\n",
       "      <td>NaN</td>\n",
       "      <td>NaN</td>\n",
       "      <td>NaN</td>\n",
       "      <td>NaN</td>\n",
       "    </tr>\n",
       "    <tr>\n",
       "      <th>2020-04-27 09:00:00</th>\n",
       "      <td>9259.70</td>\n",
       "      <td>9311.45</td>\n",
       "      <td>9250.35</td>\n",
       "      <td>9331.95</td>\n",
       "    </tr>\n",
       "    <tr>\n",
       "      <th>2020-04-27 09:30:00</th>\n",
       "      <td>9311.65</td>\n",
       "      <td>9310.45</td>\n",
       "      <td>9300.95</td>\n",
       "      <td>9345.65</td>\n",
       "    </tr>\n",
       "    <tr>\n",
       "      <th>2020-04-27 10:00:00</th>\n",
       "      <td>9310.25</td>\n",
       "      <td>9367.35</td>\n",
       "      <td>9307.30</td>\n",
       "      <td>9373.65</td>\n",
       "    </tr>\n",
       "    <tr>\n",
       "      <th>2020-04-27 10:30:00</th>\n",
       "      <td>9366.90</td>\n",
       "      <td>9357.15</td>\n",
       "      <td>9339.35</td>\n",
       "      <td>9377.10</td>\n",
       "    </tr>\n",
       "    <tr>\n",
       "      <th>2020-04-27 11:00:00</th>\n",
       "      <td>9357.10</td>\n",
       "      <td>9338.45</td>\n",
       "      <td>9333.55</td>\n",
       "      <td>9359.70</td>\n",
       "    </tr>\n",
       "    <tr>\n",
       "      <th>2020-04-27 11:30:00</th>\n",
       "      <td>9337.25</td>\n",
       "      <td>9334.50</td>\n",
       "      <td>9326.20</td>\n",
       "      <td>9358.35</td>\n",
       "    </tr>\n",
       "    <tr>\n",
       "      <th>2020-04-27 12:00:00</th>\n",
       "      <td>9334.70</td>\n",
       "      <td>9363.85</td>\n",
       "      <td>9325.55</td>\n",
       "      <td>9368.40</td>\n",
       "    </tr>\n",
       "    <tr>\n",
       "      <th>2020-04-27 12:30:00</th>\n",
       "      <td>9363.60</td>\n",
       "      <td>9351.75</td>\n",
       "      <td>9347.60</td>\n",
       "      <td>9366.15</td>\n",
       "    </tr>\n",
       "    <tr>\n",
       "      <th>2020-04-27 13:00:00</th>\n",
       "      <td>9351.25</td>\n",
       "      <td>9347.40</td>\n",
       "      <td>9343.80</td>\n",
       "      <td>9368.20</td>\n",
       "    </tr>\n",
       "    <tr>\n",
       "      <th>2020-04-27 13:30:00</th>\n",
       "      <td>9347.55</td>\n",
       "      <td>9323.15</td>\n",
       "      <td>9302.00</td>\n",
       "      <td>9351.85</td>\n",
       "    </tr>\n",
       "    <tr>\n",
       "      <th>2020-04-27 14:00:00</th>\n",
       "      <td>9322.90</td>\n",
       "      <td>9294.40</td>\n",
       "      <td>9287.05</td>\n",
       "      <td>9339.20</td>\n",
       "    </tr>\n",
       "    <tr>\n",
       "      <th>2020-04-27 14:30:00</th>\n",
       "      <td>9294.75</td>\n",
       "      <td>9299.30</td>\n",
       "      <td>9285.05</td>\n",
       "      <td>9324.70</td>\n",
       "    </tr>\n",
       "    <tr>\n",
       "      <th>2020-04-27 15:00:00</th>\n",
       "      <td>9298.85</td>\n",
       "      <td>9285.90</td>\n",
       "      <td>9269.65</td>\n",
       "      <td>9303.95</td>\n",
       "    </tr>\n",
       "    <tr>\n",
       "      <th>2020-04-27 15:30:00</th>\n",
       "      <td>9285.60</td>\n",
       "      <td>9282.30</td>\n",
       "      <td>9282.30</td>\n",
       "      <td>9289.70</td>\n",
       "    </tr>\n",
       "    <tr>\n",
       "      <th>2020-04-27 16:00:00</th>\n",
       "      <td>NaN</td>\n",
       "      <td>NaN</td>\n",
       "      <td>NaN</td>\n",
       "      <td>NaN</td>\n",
       "    </tr>\n",
       "    <tr>\n",
       "      <th>2020-04-27 16:30:00</th>\n",
       "      <td>NaN</td>\n",
       "      <td>NaN</td>\n",
       "      <td>NaN</td>\n",
       "      <td>NaN</td>\n",
       "    </tr>\n",
       "    <tr>\n",
       "      <th>2020-04-27 17:00:00</th>\n",
       "      <td>NaN</td>\n",
       "      <td>NaN</td>\n",
       "      <td>NaN</td>\n",
       "      <td>NaN</td>\n",
       "    </tr>\n",
       "    <tr>\n",
       "      <th>2020-04-27 17:30:00</th>\n",
       "      <td>NaN</td>\n",
       "      <td>NaN</td>\n",
       "      <td>NaN</td>\n",
       "      <td>NaN</td>\n",
       "    </tr>\n",
       "    <tr>\n",
       "      <th>2020-04-27 18:00:00</th>\n",
       "      <td>NaN</td>\n",
       "      <td>NaN</td>\n",
       "      <td>NaN</td>\n",
       "      <td>NaN</td>\n",
       "    </tr>\n",
       "    <tr>\n",
       "      <th>2020-04-27 18:30:00</th>\n",
       "      <td>NaN</td>\n",
       "      <td>NaN</td>\n",
       "      <td>NaN</td>\n",
       "      <td>NaN</td>\n",
       "    </tr>\n",
       "    <tr>\n",
       "      <th>2020-04-27 19:00:00</th>\n",
       "      <td>NaN</td>\n",
       "      <td>NaN</td>\n",
       "      <td>NaN</td>\n",
       "      <td>NaN</td>\n",
       "    </tr>\n",
       "    <tr>\n",
       "      <th>2020-04-27 19:30:00</th>\n",
       "      <td>NaN</td>\n",
       "      <td>NaN</td>\n",
       "      <td>NaN</td>\n",
       "      <td>NaN</td>\n",
       "    </tr>\n",
       "    <tr>\n",
       "      <th>2020-04-27 20:00:00</th>\n",
       "      <td>NaN</td>\n",
       "      <td>NaN</td>\n",
       "      <td>NaN</td>\n",
       "      <td>NaN</td>\n",
       "    </tr>\n",
       "    <tr>\n",
       "      <th>2020-04-27 20:30:00</th>\n",
       "      <td>NaN</td>\n",
       "      <td>NaN</td>\n",
       "      <td>NaN</td>\n",
       "      <td>NaN</td>\n",
       "    </tr>\n",
       "    <tr>\n",
       "      <th>2020-04-27 21:00:00</th>\n",
       "      <td>NaN</td>\n",
       "      <td>NaN</td>\n",
       "      <td>NaN</td>\n",
       "      <td>NaN</td>\n",
       "    </tr>\n",
       "    <tr>\n",
       "      <th>2020-04-27 21:30:00</th>\n",
       "      <td>NaN</td>\n",
       "      <td>NaN</td>\n",
       "      <td>NaN</td>\n",
       "      <td>NaN</td>\n",
       "    </tr>\n",
       "    <tr>\n",
       "      <th>2020-04-27 22:00:00</th>\n",
       "      <td>NaN</td>\n",
       "      <td>NaN</td>\n",
       "      <td>NaN</td>\n",
       "      <td>NaN</td>\n",
       "    </tr>\n",
       "    <tr>\n",
       "      <th>2020-04-27 22:30:00</th>\n",
       "      <td>NaN</td>\n",
       "      <td>NaN</td>\n",
       "      <td>NaN</td>\n",
       "      <td>NaN</td>\n",
       "    </tr>\n",
       "    <tr>\n",
       "      <th>2020-04-27 23:00:00</th>\n",
       "      <td>NaN</td>\n",
       "      <td>NaN</td>\n",
       "      <td>NaN</td>\n",
       "      <td>NaN</td>\n",
       "    </tr>\n",
       "    <tr>\n",
       "      <th>2020-04-27 23:30:00</th>\n",
       "      <td>NaN</td>\n",
       "      <td>NaN</td>\n",
       "      <td>NaN</td>\n",
       "      <td>NaN</td>\n",
       "    </tr>\n",
       "  </tbody>\n",
       "</table>\n",
       "</div>"
      ],
      "text/plain": [
       "                        Open    Close      Low     High\n",
       "Date&Time                                              \n",
       "2020-04-27 00:00:00      NaN      NaN      NaN      NaN\n",
       "2020-04-27 00:30:00      NaN      NaN      NaN      NaN\n",
       "2020-04-27 01:00:00      NaN      NaN      NaN      NaN\n",
       "2020-04-27 01:30:00      NaN      NaN      NaN      NaN\n",
       "2020-04-27 02:00:00      NaN      NaN      NaN      NaN\n",
       "2020-04-27 02:30:00      NaN      NaN      NaN      NaN\n",
       "2020-04-27 03:00:00      NaN      NaN      NaN      NaN\n",
       "2020-04-27 03:30:00      NaN      NaN      NaN      NaN\n",
       "2020-04-27 04:00:00      NaN      NaN      NaN      NaN\n",
       "2020-04-27 04:30:00      NaN      NaN      NaN      NaN\n",
       "2020-04-27 05:00:00      NaN      NaN      NaN      NaN\n",
       "2020-04-27 05:30:00      NaN      NaN      NaN      NaN\n",
       "2020-04-27 06:00:00      NaN      NaN      NaN      NaN\n",
       "2020-04-27 06:30:00      NaN      NaN      NaN      NaN\n",
       "2020-04-27 07:00:00      NaN      NaN      NaN      NaN\n",
       "2020-04-27 07:30:00      NaN      NaN      NaN      NaN\n",
       "2020-04-27 08:00:00      NaN      NaN      NaN      NaN\n",
       "2020-04-27 08:30:00      NaN      NaN      NaN      NaN\n",
       "2020-04-27 09:00:00  9259.70  9311.45  9250.35  9331.95\n",
       "2020-04-27 09:30:00  9311.65  9310.45  9300.95  9345.65\n",
       "2020-04-27 10:00:00  9310.25  9367.35  9307.30  9373.65\n",
       "2020-04-27 10:30:00  9366.90  9357.15  9339.35  9377.10\n",
       "2020-04-27 11:00:00  9357.10  9338.45  9333.55  9359.70\n",
       "2020-04-27 11:30:00  9337.25  9334.50  9326.20  9358.35\n",
       "2020-04-27 12:00:00  9334.70  9363.85  9325.55  9368.40\n",
       "2020-04-27 12:30:00  9363.60  9351.75  9347.60  9366.15\n",
       "2020-04-27 13:00:00  9351.25  9347.40  9343.80  9368.20\n",
       "2020-04-27 13:30:00  9347.55  9323.15  9302.00  9351.85\n",
       "2020-04-27 14:00:00  9322.90  9294.40  9287.05  9339.20\n",
       "2020-04-27 14:30:00  9294.75  9299.30  9285.05  9324.70\n",
       "2020-04-27 15:00:00  9298.85  9285.90  9269.65  9303.95\n",
       "2020-04-27 15:30:00  9285.60  9282.30  9282.30  9289.70\n",
       "2020-04-27 16:00:00      NaN      NaN      NaN      NaN\n",
       "2020-04-27 16:30:00      NaN      NaN      NaN      NaN\n",
       "2020-04-27 17:00:00      NaN      NaN      NaN      NaN\n",
       "2020-04-27 17:30:00      NaN      NaN      NaN      NaN\n",
       "2020-04-27 18:00:00      NaN      NaN      NaN      NaN\n",
       "2020-04-27 18:30:00      NaN      NaN      NaN      NaN\n",
       "2020-04-27 19:00:00      NaN      NaN      NaN      NaN\n",
       "2020-04-27 19:30:00      NaN      NaN      NaN      NaN\n",
       "2020-04-27 20:00:00      NaN      NaN      NaN      NaN\n",
       "2020-04-27 20:30:00      NaN      NaN      NaN      NaN\n",
       "2020-04-27 21:00:00      NaN      NaN      NaN      NaN\n",
       "2020-04-27 21:30:00      NaN      NaN      NaN      NaN\n",
       "2020-04-27 22:00:00      NaN      NaN      NaN      NaN\n",
       "2020-04-27 22:30:00      NaN      NaN      NaN      NaN\n",
       "2020-04-27 23:00:00      NaN      NaN      NaN      NaN\n",
       "2020-04-27 23:30:00      NaN      NaN      NaN      NaN"
      ]
     },
     "execution_count": 183,
     "metadata": {},
     "output_type": "execute_result"
    }
   ],
   "source": [
    "t.loc['2020-04-27']"
   ]
  },
  {
   "cell_type": "code",
   "execution_count": 114,
   "id": "696b1176",
   "metadata": {},
   "outputs": [
    {
     "data": {
      "text/html": [
       "<div>\n",
       "<style scoped>\n",
       "    .dataframe tbody tr th:only-of-type {\n",
       "        vertical-align: middle;\n",
       "    }\n",
       "\n",
       "    .dataframe tbody tr th {\n",
       "        vertical-align: top;\n",
       "    }\n",
       "\n",
       "    .dataframe thead th {\n",
       "        text-align: right;\n",
       "    }\n",
       "</style>\n",
       "<table border=\"1\" class=\"dataframe\">\n",
       "  <thead>\n",
       "    <tr style=\"text-align: right;\">\n",
       "      <th></th>\n",
       "      <th>Instrument</th>\n",
       "      <th>Date</th>\n",
       "      <th>Time</th>\n",
       "      <th>Open</th>\n",
       "      <th>High</th>\n",
       "      <th>Low</th>\n",
       "      <th>Close</th>\n",
       "    </tr>\n",
       "    <tr>\n",
       "      <th>Date&amp;Time</th>\n",
       "      <th></th>\n",
       "      <th></th>\n",
       "      <th></th>\n",
       "      <th></th>\n",
       "      <th></th>\n",
       "      <th></th>\n",
       "      <th></th>\n",
       "    </tr>\n",
       "  </thead>\n",
       "  <tbody>\n",
       "    <tr>\n",
       "      <th>2020-11-27 15:28:00</th>\n",
       "      <td>NIFTY</td>\n",
       "      <td>20201127</td>\n",
       "      <td>15:28</td>\n",
       "      <td>12947.00</td>\n",
       "      <td>12947.00</td>\n",
       "      <td>12927.95</td>\n",
       "      <td>12927.95</td>\n",
       "    </tr>\n",
       "    <tr>\n",
       "      <th>2020-11-27 15:29:00</th>\n",
       "      <td>NIFTY</td>\n",
       "      <td>20201127</td>\n",
       "      <td>15:29</td>\n",
       "      <td>12928.35</td>\n",
       "      <td>12947.90</td>\n",
       "      <td>12928.35</td>\n",
       "      <td>12937.70</td>\n",
       "    </tr>\n",
       "    <tr>\n",
       "      <th>2020-11-27 15:30:00</th>\n",
       "      <td>NIFTY</td>\n",
       "      <td>20201127</td>\n",
       "      <td>15:30</td>\n",
       "      <td>12936.40</td>\n",
       "      <td>12948.60</td>\n",
       "      <td>12933.85</td>\n",
       "      <td>12942.85</td>\n",
       "    </tr>\n",
       "    <tr>\n",
       "      <th>2020-11-27 15:31:00</th>\n",
       "      <td>NIFTY</td>\n",
       "      <td>20201127</td>\n",
       "      <td>15:31</td>\n",
       "      <td>12941.95</td>\n",
       "      <td>12941.95</td>\n",
       "      <td>12941.95</td>\n",
       "      <td>12941.95</td>\n",
       "    </tr>\n",
       "    <tr>\n",
       "      <th>2020-11-27 15:32:00</th>\n",
       "      <td>NIFTY</td>\n",
       "      <td>20201127</td>\n",
       "      <td>15:32</td>\n",
       "      <td>12943.05</td>\n",
       "      <td>12968.95</td>\n",
       "      <td>12943.05</td>\n",
       "      <td>12968.95</td>\n",
       "    </tr>\n",
       "  </tbody>\n",
       "</table>\n",
       "</div>"
      ],
      "text/plain": [
       "                    Instrument      Date   Time      Open      High       Low  \\\n",
       "Date&Time                                                                       \n",
       "2020-11-27 15:28:00      NIFTY  20201127  15:28  12947.00  12947.00  12927.95   \n",
       "2020-11-27 15:29:00      NIFTY  20201127  15:29  12928.35  12947.90  12928.35   \n",
       "2020-11-27 15:30:00      NIFTY  20201127  15:30  12936.40  12948.60  12933.85   \n",
       "2020-11-27 15:31:00      NIFTY  20201127  15:31  12941.95  12941.95  12941.95   \n",
       "2020-11-27 15:32:00      NIFTY  20201127  15:32  12943.05  12968.95  12943.05   \n",
       "\n",
       "                        Close  \n",
       "Date&Time                      \n",
       "2020-11-27 15:28:00  12927.95  \n",
       "2020-11-27 15:29:00  12937.70  \n",
       "2020-11-27 15:30:00  12942.85  \n",
       "2020-11-27 15:31:00  12941.95  \n",
       "2020-11-27 15:32:00  12968.95  "
      ]
     },
     "execution_count": 114,
     "metadata": {},
     "output_type": "execute_result"
    }
   ],
   "source": [
    "df.tail()"
   ]
  },
  {
   "cell_type": "code",
   "execution_count": 115,
   "id": "2861c1d5",
   "metadata": {},
   "outputs": [
    {
     "data": {
      "text/plain": [
       "DatetimeIndex(['2020-01-01 09:08:00', '2020-01-01 09:16:00',\n",
       "               '2020-01-01 09:17:00', '2020-01-01 09:18:00',\n",
       "               '2020-01-01 09:19:00', '2020-01-01 09:20:00',\n",
       "               '2020-01-01 09:21:00', '2020-01-01 09:22:00',\n",
       "               '2020-01-01 09:23:00', '2020-01-01 09:24:00',\n",
       "               ...\n",
       "               '2020-11-27 15:23:00', '2020-11-27 15:24:00',\n",
       "               '2020-11-27 15:25:00', '2020-11-27 15:26:00',\n",
       "               '2020-11-27 15:27:00', '2020-11-27 15:28:00',\n",
       "               '2020-11-27 15:29:00', '2020-11-27 15:30:00',\n",
       "               '2020-11-27 15:31:00', '2020-11-27 15:32:00'],\n",
       "              dtype='datetime64[ns]', name='Date&Time', length=86570, freq=None)"
      ]
     },
     "execution_count": 115,
     "metadata": {},
     "output_type": "execute_result"
    }
   ],
   "source": [
    "df.index"
   ]
  },
  {
   "cell_type": "code",
   "execution_count": 184,
   "id": "4b804ef4",
   "metadata": {},
   "outputs": [],
   "source": [
    "new_t = t.dropna(how='all')        # drops rows who's all column values are none"
   ]
  },
  {
   "cell_type": "code",
   "execution_count": 185,
   "id": "03c84a7d",
   "metadata": {},
   "outputs": [
    {
     "data": {
      "text/html": [
       "<div>\n",
       "<style scoped>\n",
       "    .dataframe tbody tr th:only-of-type {\n",
       "        vertical-align: middle;\n",
       "    }\n",
       "\n",
       "    .dataframe tbody tr th {\n",
       "        vertical-align: top;\n",
       "    }\n",
       "\n",
       "    .dataframe thead th {\n",
       "        text-align: right;\n",
       "    }\n",
       "</style>\n",
       "<table border=\"1\" class=\"dataframe\">\n",
       "  <thead>\n",
       "    <tr style=\"text-align: right;\">\n",
       "      <th></th>\n",
       "      <th>Open</th>\n",
       "      <th>Close</th>\n",
       "      <th>Low</th>\n",
       "      <th>High</th>\n",
       "    </tr>\n",
       "    <tr>\n",
       "      <th>Date&amp;Time</th>\n",
       "      <th></th>\n",
       "      <th></th>\n",
       "      <th></th>\n",
       "      <th></th>\n",
       "    </tr>\n",
       "  </thead>\n",
       "  <tbody>\n",
       "    <tr>\n",
       "      <th>2020-01-01 09:00:00</th>\n",
       "      <td>12202.15</td>\n",
       "      <td>12217.3</td>\n",
       "      <td>12201.2</td>\n",
       "      <td>12218.8</td>\n",
       "    </tr>\n",
       "    <tr>\n",
       "      <th>2020-01-01 09:30:00</th>\n",
       "      <td>12216.90</td>\n",
       "      <td>12198.9</td>\n",
       "      <td>12191.4</td>\n",
       "      <td>12222.2</td>\n",
       "    </tr>\n",
       "  </tbody>\n",
       "</table>\n",
       "</div>"
      ],
      "text/plain": [
       "                         Open    Close      Low     High\n",
       "Date&Time                                               \n",
       "2020-01-01 09:00:00  12202.15  12217.3  12201.2  12218.8\n",
       "2020-01-01 09:30:00  12216.90  12198.9  12191.4  12222.2"
      ]
     },
     "execution_count": 185,
     "metadata": {},
     "output_type": "execute_result"
    }
   ],
   "source": [
    "new_t[\"2020-01-01 09:00:00\": \"2020-01-01 09:30:00\"]"
   ]
  },
  {
   "cell_type": "code",
   "execution_count": 147,
   "id": "0ccfef0d",
   "metadata": {},
   "outputs": [
    {
     "name": "stdout",
     "output_type": "stream",
     "text": [
      "<class 'pandas._libs.tslibs.timestamps.Timestamp'>\n",
      "<class 'pandas._libs.tslibs.timestamps.Timestamp'>\n",
      "<class 'pandas._libs.tslibs.timestamps.Timestamp'>\n",
      "<class 'pandas._libs.tslibs.timestamps.Timestamp'>\n",
      "<class 'pandas._libs.tslibs.timestamps.Timestamp'>\n"
     ]
    }
   ],
   "source": [
    "per1 = pd.date_range(start ='1-1-2018', \n",
    "         end ='1-05-2018')\n",
    "# type(per1.astype('str'))\n",
    "\n",
    "for i in per1:\n",
    "    print(type(i))"
   ]
  },
  {
   "cell_type": "code",
   "execution_count": 194,
   "id": "20e101fd",
   "metadata": {},
   "outputs": [],
   "source": [
    "df_1st = new_t.between_time('8:59', '9:30')"
   ]
  },
  {
   "cell_type": "code",
   "execution_count": 195,
   "id": "cec6896f",
   "metadata": {},
   "outputs": [],
   "source": [
    "t_1st = df_1st.groupby(pd.Grouper(freq='D')).agg({\"Open\": \"first\", \n",
    "                                             \"Close\": \"last\", \n",
    "                                             \"Low\": \"min\", \n",
    "                                             \"High\": \"max\"})\n",
    "t_1st.columns = [\"Open_15\", \"Close_15\", \"Low_15\", \"High_15\"]"
   ]
  },
  {
   "cell_type": "code",
   "execution_count": 196,
   "id": "7c7d45a0",
   "metadata": {},
   "outputs": [],
   "source": [
    "new_t_1st = t_1st.dropna(how='all') "
   ]
  },
  {
   "cell_type": "code",
   "execution_count": 197,
   "id": "8e5daa07",
   "metadata": {},
   "outputs": [
    {
     "data": {
      "text/html": [
       "<div>\n",
       "<style scoped>\n",
       "    .dataframe tbody tr th:only-of-type {\n",
       "        vertical-align: middle;\n",
       "    }\n",
       "\n",
       "    .dataframe tbody tr th {\n",
       "        vertical-align: top;\n",
       "    }\n",
       "\n",
       "    .dataframe thead th {\n",
       "        text-align: right;\n",
       "    }\n",
       "</style>\n",
       "<table border=\"1\" class=\"dataframe\">\n",
       "  <thead>\n",
       "    <tr style=\"text-align: right;\">\n",
       "      <th></th>\n",
       "      <th>Open_15</th>\n",
       "      <th>Close_15</th>\n",
       "      <th>Low_15</th>\n",
       "      <th>High_15</th>\n",
       "    </tr>\n",
       "    <tr>\n",
       "      <th>Date&amp;Time</th>\n",
       "      <th></th>\n",
       "      <th></th>\n",
       "      <th></th>\n",
       "      <th></th>\n",
       "    </tr>\n",
       "  </thead>\n",
       "  <tbody>\n",
       "    <tr>\n",
       "      <th>2020-01-01</th>\n",
       "      <td>12202.15</td>\n",
       "      <td>12198.90</td>\n",
       "      <td>12191.40</td>\n",
       "      <td>12222.20</td>\n",
       "    </tr>\n",
       "    <tr>\n",
       "      <th>2020-01-02</th>\n",
       "      <td>12198.55</td>\n",
       "      <td>12212.10</td>\n",
       "      <td>12195.25</td>\n",
       "      <td>12230.95</td>\n",
       "    </tr>\n",
       "    <tr>\n",
       "      <th>2020-01-03</th>\n",
       "      <td>12261.10</td>\n",
       "      <td>12239.80</td>\n",
       "      <td>12228.00</td>\n",
       "      <td>12263.55</td>\n",
       "    </tr>\n",
       "    <tr>\n",
       "      <th>2020-01-06</th>\n",
       "      <td>12170.60</td>\n",
       "      <td>12094.55</td>\n",
       "      <td>12062.85</td>\n",
       "      <td>12179.10</td>\n",
       "    </tr>\n",
       "    <tr>\n",
       "      <th>2020-01-07</th>\n",
       "      <td>12079.10</td>\n",
       "      <td>12131.05</td>\n",
       "      <td>12073.00</td>\n",
       "      <td>12152.15</td>\n",
       "    </tr>\n",
       "  </tbody>\n",
       "</table>\n",
       "</div>"
      ],
      "text/plain": [
       "             Open_15  Close_15    Low_15   High_15\n",
       "Date&Time                                         \n",
       "2020-01-01  12202.15  12198.90  12191.40  12222.20\n",
       "2020-01-02  12198.55  12212.10  12195.25  12230.95\n",
       "2020-01-03  12261.10  12239.80  12228.00  12263.55\n",
       "2020-01-06  12170.60  12094.55  12062.85  12179.10\n",
       "2020-01-07  12079.10  12131.05  12073.00  12152.15"
      ]
     },
     "execution_count": 197,
     "metadata": {},
     "output_type": "execute_result"
    }
   ],
   "source": [
    "new_t_1st.head()"
   ]
  },
  {
   "cell_type": "code",
   "execution_count": 198,
   "id": "0e76dd91",
   "metadata": {},
   "outputs": [
    {
     "data": {
      "text/plain": [
       "(229, 4)"
      ]
     },
     "execution_count": 198,
     "metadata": {},
     "output_type": "execute_result"
    }
   ],
   "source": [
    "new_t_1st.shape"
   ]
  },
  {
   "cell_type": "code",
   "execution_count": 199,
   "id": "ea2b2007",
   "metadata": {},
   "outputs": [],
   "source": [
    "db = pd.read_csv(\"NIFTY_50.csv\", parse_dates=[\"Date\"], index_col=\"Date\")\n",
    "db1 = new_t_1st.join(db)"
   ]
  },
  {
   "cell_type": "code",
   "execution_count": 200,
   "id": "7f4b8c86",
   "metadata": {},
   "outputs": [],
   "source": [
    "new_db = db1.dropna(how='all')"
   ]
  },
  {
   "cell_type": "code",
   "execution_count": 201,
   "id": "26385b8e",
   "metadata": {},
   "outputs": [
    {
     "data": {
      "text/plain": [
       "(229, 8)"
      ]
     },
     "execution_count": 201,
     "metadata": {},
     "output_type": "execute_result"
    }
   ],
   "source": [
    "new_db.shape"
   ]
  },
  {
   "cell_type": "code",
   "execution_count": 202,
   "id": "5d745bbb",
   "metadata": {},
   "outputs": [
    {
     "data": {
      "text/html": [
       "<div>\n",
       "<style scoped>\n",
       "    .dataframe tbody tr th:only-of-type {\n",
       "        vertical-align: middle;\n",
       "    }\n",
       "\n",
       "    .dataframe tbody tr th {\n",
       "        vertical-align: top;\n",
       "    }\n",
       "\n",
       "    .dataframe thead th {\n",
       "        text-align: right;\n",
       "    }\n",
       "</style>\n",
       "<table border=\"1\" class=\"dataframe\">\n",
       "  <thead>\n",
       "    <tr style=\"text-align: right;\">\n",
       "      <th></th>\n",
       "      <th>Open_15</th>\n",
       "      <th>Close_15</th>\n",
       "      <th>Low_15</th>\n",
       "      <th>High_15</th>\n",
       "      <th>Open</th>\n",
       "      <th>High</th>\n",
       "      <th>Low</th>\n",
       "      <th>Close</th>\n",
       "    </tr>\n",
       "  </thead>\n",
       "  <tbody>\n",
       "    <tr>\n",
       "      <th>2020-01-01</th>\n",
       "      <td>12202.15</td>\n",
       "      <td>12198.90</td>\n",
       "      <td>12191.40</td>\n",
       "      <td>12222.20</td>\n",
       "      <td>12202.15</td>\n",
       "      <td>12222.20</td>\n",
       "      <td>12165.30</td>\n",
       "      <td>12182.0</td>\n",
       "    </tr>\n",
       "    <tr>\n",
       "      <th>2020-01-02</th>\n",
       "      <td>12198.55</td>\n",
       "      <td>12212.10</td>\n",
       "      <td>12195.25</td>\n",
       "      <td>12230.95</td>\n",
       "      <td>12198.55</td>\n",
       "      <td>12289.90</td>\n",
       "      <td>12195.25</td>\n",
       "      <td>12282.0</td>\n",
       "    </tr>\n",
       "    <tr>\n",
       "      <th>2020-01-03</th>\n",
       "      <td>12261.10</td>\n",
       "      <td>12239.80</td>\n",
       "      <td>12228.00</td>\n",
       "      <td>12263.55</td>\n",
       "      <td>12261.10</td>\n",
       "      <td>12265.60</td>\n",
       "      <td>12191.35</td>\n",
       "      <td>12226.0</td>\n",
       "    </tr>\n",
       "    <tr>\n",
       "      <th>2020-01-06</th>\n",
       "      <td>12170.60</td>\n",
       "      <td>12094.55</td>\n",
       "      <td>12062.85</td>\n",
       "      <td>12179.10</td>\n",
       "      <td>12170.60</td>\n",
       "      <td>12179.10</td>\n",
       "      <td>11974.20</td>\n",
       "      <td>11993.0</td>\n",
       "    </tr>\n",
       "    <tr>\n",
       "      <th>2020-01-07</th>\n",
       "      <td>12079.10</td>\n",
       "      <td>12131.05</td>\n",
       "      <td>12073.00</td>\n",
       "      <td>12152.15</td>\n",
       "      <td>12079.10</td>\n",
       "      <td>12152.15</td>\n",
       "      <td>12005.35</td>\n",
       "      <td>12052.0</td>\n",
       "    </tr>\n",
       "  </tbody>\n",
       "</table>\n",
       "</div>"
      ],
      "text/plain": [
       "             Open_15  Close_15    Low_15   High_15      Open      High  \\\n",
       "2020-01-01  12202.15  12198.90  12191.40  12222.20  12202.15  12222.20   \n",
       "2020-01-02  12198.55  12212.10  12195.25  12230.95  12198.55  12289.90   \n",
       "2020-01-03  12261.10  12239.80  12228.00  12263.55  12261.10  12265.60   \n",
       "2020-01-06  12170.60  12094.55  12062.85  12179.10  12170.60  12179.10   \n",
       "2020-01-07  12079.10  12131.05  12073.00  12152.15  12079.10  12152.15   \n",
       "\n",
       "                 Low    Close  \n",
       "2020-01-01  12165.30  12182.0  \n",
       "2020-01-02  12195.25  12282.0  \n",
       "2020-01-03  12191.35  12226.0  \n",
       "2020-01-06  11974.20  11993.0  \n",
       "2020-01-07  12005.35  12052.0  "
      ]
     },
     "execution_count": 202,
     "metadata": {},
     "output_type": "execute_result"
    }
   ],
   "source": [
    "new_db.head()"
   ]
  },
  {
   "cell_type": "code",
   "execution_count": 203,
   "id": "ee4d058c",
   "metadata": {},
   "outputs": [],
   "source": [
    "dn = pd.read_csv(\"NIFTY_50.csv\", parse_dates=[\"Date\"], index_col=\"Date\")"
   ]
  },
  {
   "cell_type": "code",
   "execution_count": 205,
   "id": "c5190315",
   "metadata": {},
   "outputs": [
    {
     "data": {
      "text/html": [
       "<div>\n",
       "<style scoped>\n",
       "    .dataframe tbody tr th:only-of-type {\n",
       "        vertical-align: middle;\n",
       "    }\n",
       "\n",
       "    .dataframe tbody tr th {\n",
       "        vertical-align: top;\n",
       "    }\n",
       "\n",
       "    .dataframe thead th {\n",
       "        text-align: right;\n",
       "    }\n",
       "</style>\n",
       "<table border=\"1\" class=\"dataframe\">\n",
       "  <thead>\n",
       "    <tr style=\"text-align: right;\">\n",
       "      <th></th>\n",
       "      <th>Open</th>\n",
       "      <th>High</th>\n",
       "      <th>Low</th>\n",
       "      <th>Close</th>\n",
       "    </tr>\n",
       "    <tr>\n",
       "      <th>Date</th>\n",
       "      <th></th>\n",
       "      <th></th>\n",
       "      <th></th>\n",
       "      <th></th>\n",
       "    </tr>\n",
       "  </thead>\n",
       "  <tbody>\n",
       "    <tr>\n",
       "      <th>2021-11-25</th>\n",
       "      <td>17417.3</td>\n",
       "      <td>17564.35</td>\n",
       "      <td>17351.7</td>\n",
       "      <td>17536.25</td>\n",
       "    </tr>\n",
       "    <tr>\n",
       "      <th>2021-11-24</th>\n",
       "      <td>17550.05</td>\n",
       "      <td>17600.6</td>\n",
       "      <td>17354</td>\n",
       "      <td>17415.05</td>\n",
       "    </tr>\n",
       "    <tr>\n",
       "      <th>2021-11-23</th>\n",
       "      <td>17281.75</td>\n",
       "      <td>17553.7</td>\n",
       "      <td>17216.1</td>\n",
       "      <td>17503.35</td>\n",
       "    </tr>\n",
       "    <tr>\n",
       "      <th>2021-11-22</th>\n",
       "      <td>17796.25</td>\n",
       "      <td>17805.25</td>\n",
       "      <td>17280.45</td>\n",
       "      <td>17416.55</td>\n",
       "    </tr>\n",
       "    <tr>\n",
       "      <th>2021-11-18</th>\n",
       "      <td>17890.55</td>\n",
       "      <td>17945.6</td>\n",
       "      <td>17688.5</td>\n",
       "      <td>17764.8</td>\n",
       "    </tr>\n",
       "  </tbody>\n",
       "</table>\n",
       "</div>"
      ],
      "text/plain": [
       "                Open      High       Low     Close\n",
       "Date                                              \n",
       "2021-11-25   17417.3  17564.35   17351.7  17536.25\n",
       "2021-11-24  17550.05   17600.6     17354  17415.05\n",
       "2021-11-23  17281.75   17553.7   17216.1  17503.35\n",
       "2021-11-22  17796.25  17805.25  17280.45  17416.55\n",
       "2021-11-18  17890.55   17945.6   17688.5   17764.8"
      ]
     },
     "execution_count": 205,
     "metadata": {},
     "output_type": "execute_result"
    }
   ],
   "source": [
    "dn.head()"
   ]
  },
  {
   "cell_type": "code",
   "execution_count": null,
   "id": "8f1bb072",
   "metadata": {},
   "outputs": [],
   "source": []
  }
 ],
 "metadata": {
  "kernelspec": {
   "display_name": "Python 3 (ipykernel)",
   "language": "python",
   "name": "python3"
  },
  "language_info": {
   "codemirror_mode": {
    "name": "ipython",
    "version": 3
   },
   "file_extension": ".py",
   "mimetype": "text/x-python",
   "name": "python",
   "nbconvert_exporter": "python",
   "pygments_lexer": "ipython3",
   "version": "3.9.7"
  }
 },
 "nbformat": 4,
 "nbformat_minor": 5
}
