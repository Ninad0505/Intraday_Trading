{
 "cells": [
  {
   "cell_type": "markdown",
   "id": "b829abac",
   "metadata": {},
   "source": [
    "## Gaps and Inside Bars"
   ]
  },
  {
   "cell_type": "code",
   "execution_count": 1,
   "id": "07b2f5c7",
   "metadata": {},
   "outputs": [],
   "source": [
    "import pandas as pd\n",
    "df = pd.read_excel(\"Nifty50_with_1st_15min.xlsx\", parse_dates=[\"Date\"], index_col=\"Date\")"
   ]
  },
  {
   "cell_type": "code",
   "execution_count": 2,
   "id": "1114bfb1",
   "metadata": {},
   "outputs": [],
   "source": [
    "df['TRR_Prev'] = df['True_Range_ratio'].shift(1)\n",
    "df['TRR_Next'] = df['True_Range_ratio'].shift(-1)\n",
    "df['OPR_Next'] = df['OPR'].shift(-1)\n",
    "df['CPR_Next'] = df['CPR'].shift(-1)\n",
    "df['CPR_Prev'] = df['CPR'].shift(1)\n",
    "df['OPR_Prev'] = df['OPR'].shift(1)\n",
    "df['Prev_Close'] = df['Close'].shift(1)\n",
    "df['Open-Low%'] = ((df['Open'] - df['Low'])/df['Prev_Close'])*100\n",
    "df['Open-High%'] = ((df['High'] - df['Open'])/df['Prev_Close'])*100\n",
    "df['Range~Prev_Close'] = ((df['High'] - df['Low'])/df['Prev_Close'])*100 "
   ]
  },
  {
   "cell_type": "code",
   "execution_count": 3,
   "id": "01c948ec",
   "metadata": {},
   "outputs": [],
   "source": [
    "df['True_Range_ratio_30'] = ((df['High_30'] - df['Low_30'])/df['Prev_Close'])*100\n",
    "df[\"OPR_30\"] = (df['Open_30'] - df['Low_30'])/(df['High_30'] - df['Low_30'])\n",
    "df[\"CPR_30\"] = (df['Close_30'] - df['Low_30'])/(df['High_30'] - df['Low_30'])\n",
    "df[\"Solid_30\"] = (abs(df['Open_30'] - df['Close_30']))/(df['High_30'] - df['Low_30'])"
   ]
  },
  {
   "cell_type": "code",
   "execution_count": 4,
   "id": "e1f6e873",
   "metadata": {},
   "outputs": [],
   "source": [
    "df['Upper'] = ((df['High'] - df['High_30'])/df['Prev_Close'])*100\n",
    "df['Lower'] = ((df['Low_30'] - df['Low'])/df['Prev_Close'])*100\n",
    "df[\"Close~15min-High\"] = ((df['Close'] - df['High_30'])/df['Prev_Close'])*100\n",
    "df[\"Close~15min-Low\"] = ((df['Low_30'] - df['Close'])/df['Prev_Close'])*100"
   ]
  },
  {
   "cell_type": "code",
   "execution_count": 5,
   "id": "71f9aab7",
   "metadata": {},
   "outputs": [
    {
     "data": {
      "text/plain": [
       "(2349, 30)"
      ]
     },
     "execution_count": 5,
     "metadata": {},
     "output_type": "execute_result"
    }
   ],
   "source": [
    "df.shape"
   ]
  },
  {
   "cell_type": "code",
   "execution_count": 6,
   "id": "5e54e713",
   "metadata": {
    "scrolled": true
   },
   "outputs": [
    {
     "data": {
      "text/html": [
       "<div>\n",
       "<style scoped>\n",
       "    .dataframe tbody tr th:only-of-type {\n",
       "        vertical-align: middle;\n",
       "    }\n",
       "\n",
       "    .dataframe tbody tr th {\n",
       "        vertical-align: top;\n",
       "    }\n",
       "\n",
       "    .dataframe thead th {\n",
       "        text-align: right;\n",
       "    }\n",
       "</style>\n",
       "<table border=\"1\" class=\"dataframe\">\n",
       "  <thead>\n",
       "    <tr style=\"text-align: right;\">\n",
       "      <th></th>\n",
       "      <th>True_Range_ratio</th>\n",
       "      <th>TRR_Next</th>\n",
       "      <th>TRR_Prev</th>\n",
       "    </tr>\n",
       "    <tr>\n",
       "      <th>Date</th>\n",
       "      <th></th>\n",
       "      <th></th>\n",
       "      <th></th>\n",
       "    </tr>\n",
       "  </thead>\n",
       "  <tbody>\n",
       "    <tr>\n",
       "      <th>2010-01-04</th>\n",
       "      <td>1.363671</td>\n",
       "      <td>0.870611</td>\n",
       "      <td>NaN</td>\n",
       "    </tr>\n",
       "    <tr>\n",
       "      <th>2010-01-05</th>\n",
       "      <td>0.870611</td>\n",
       "      <td>0.961793</td>\n",
       "      <td>1.363671</td>\n",
       "    </tr>\n",
       "    <tr>\n",
       "      <th>2010-01-06</th>\n",
       "      <td>0.961793</td>\n",
       "      <td>1.098212</td>\n",
       "      <td>0.870611</td>\n",
       "    </tr>\n",
       "    <tr>\n",
       "      <th>2010-01-07</th>\n",
       "      <td>1.098212</td>\n",
       "      <td>0.801762</td>\n",
       "      <td>0.961793</td>\n",
       "    </tr>\n",
       "    <tr>\n",
       "      <th>2010-01-08</th>\n",
       "      <td>0.801762</td>\n",
       "      <td>1.131558</td>\n",
       "      <td>1.098212</td>\n",
       "    </tr>\n",
       "  </tbody>\n",
       "</table>\n",
       "</div>"
      ],
      "text/plain": [
       "            True_Range_ratio  TRR_Next  TRR_Prev\n",
       "Date                                            \n",
       "2010-01-04          1.363671  0.870611       NaN\n",
       "2010-01-05          0.870611  0.961793  1.363671\n",
       "2010-01-06          0.961793  1.098212  0.870611\n",
       "2010-01-07          1.098212  0.801762  0.961793\n",
       "2010-01-08          0.801762  1.131558  1.098212"
      ]
     },
     "execution_count": 6,
     "metadata": {},
     "output_type": "execute_result"
    }
   ],
   "source": [
    "df[['True_Range_ratio', 'TRR_Next', 'TRR_Prev']].head()"
   ]
  },
  {
   "cell_type": "markdown",
   "id": "4f442be0",
   "metadata": {},
   "source": [
    "### Lets start with Gaps!!"
   ]
  },
  {
   "cell_type": "code",
   "execution_count": 7,
   "id": "00b0b712",
   "metadata": {},
   "outputs": [],
   "source": [
    "df['Gap%'] = ((df['Open'] - df['Prev_Close'])/df['Prev_Close'])*100"
   ]
  },
  {
   "cell_type": "code",
   "execution_count": 8,
   "id": "1286d84e",
   "metadata": {},
   "outputs": [
    {
     "data": {
      "text/plain": [
       "count    2348.000000\n",
       "mean        0.107669\n",
       "std         0.699364\n",
       "min        -9.144236\n",
       "25%        -0.095109\n",
       "50%         0.101035\n",
       "75%         0.345528\n",
       "max         7.273194\n",
       "Name: Gap%, dtype: float64"
      ]
     },
     "execution_count": 8,
     "metadata": {},
     "output_type": "execute_result"
    }
   ],
   "source": [
    "df['Gap%'].describe()"
   ]
  },
  {
   "cell_type": "code",
   "execution_count": 9,
   "id": "28cfbeec",
   "metadata": {},
   "outputs": [],
   "source": [
    "df['Abs_Gap%'] = ((abs(df['Open'] - df['Prev_Close']))/df['Prev_Close'])*100"
   ]
  },
  {
   "cell_type": "code",
   "execution_count": 10,
   "id": "d0c02d34",
   "metadata": {},
   "outputs": [
    {
     "data": {
      "text/plain": [
       "count    2348.000000\n",
       "mean        0.402440\n",
       "std         0.581962\n",
       "min         0.000000\n",
       "25%         0.098523\n",
       "50%         0.263257\n",
       "75%         0.486276\n",
       "max         9.144236\n",
       "Name: Abs_Gap%, dtype: float64"
      ]
     },
     "execution_count": 10,
     "metadata": {},
     "output_type": "execute_result"
    }
   ],
   "source": [
    "df['Abs_Gap%'].describe()"
   ]
  },
  {
   "cell_type": "code",
   "execution_count": 11,
   "id": "15b701b5",
   "metadata": {},
   "outputs": [
    {
     "data": {
      "text/plain": [
       "count    332.000000\n",
       "mean       0.435663\n",
       "std        0.604533\n",
       "min        0.000635\n",
       "25%        0.095289\n",
       "50%        0.266772\n",
       "75%        0.533202\n",
       "max        5.031230\n",
       "Name: Abs_Gap%, dtype: float64"
      ]
     },
     "execution_count": 11,
     "metadata": {},
     "output_type": "execute_result"
    }
   ],
   "source": [
    "df['Abs_Gap%'][(df['OPR_Prev'] >= 0.8) & (df['CPR_Prev'] <= 0.2)].describe() "
   ]
  },
  {
   "cell_type": "code",
   "execution_count": 12,
   "id": "424b2408",
   "metadata": {},
   "outputs": [
    {
     "data": {
      "text/plain": [
       "count    314.000000\n",
       "mean       0.443113\n",
       "std        0.864473\n",
       "min        0.000000\n",
       "25%        0.097373\n",
       "50%        0.232889\n",
       "75%        0.434572\n",
       "max        9.144236\n",
       "Name: Abs_Gap%, dtype: float64"
      ]
     },
     "execution_count": 12,
     "metadata": {},
     "output_type": "execute_result"
    }
   ],
   "source": [
    "df['Abs_Gap%'][(df['CPR_Prev'] >= 0.80) & (df['OPR_Prev'] <= 0.2)].describe()"
   ]
  },
  {
   "cell_type": "code",
   "execution_count": 13,
   "id": "a95dc335",
   "metadata": {},
   "outputs": [
    {
     "data": {
      "text/plain": [
       "count    314.000000\n",
       "mean       0.153421\n",
       "std        0.959520\n",
       "min       -9.144236\n",
       "25%       -0.021700\n",
       "50%        0.138325\n",
       "75%        0.341355\n",
       "max        7.273194\n",
       "Name: Gap%, dtype: float64"
      ]
     },
     "execution_count": 13,
     "metadata": {},
     "output_type": "execute_result"
    }
   ],
   "source": [
    "df['Gap%'][(df['CPR_Prev'] >= 0.80) & (df['OPR_Prev'] <= 0.2)].describe()"
   ]
  },
  {
   "cell_type": "code",
   "execution_count": 14,
   "id": "f9ad9c2d",
   "metadata": {},
   "outputs": [
    {
     "data": {
      "text/plain": [
       "count    332.000000\n",
       "mean       0.030919\n",
       "std        0.744900\n",
       "min       -5.031230\n",
       "25%       -0.193248\n",
       "50%        0.024702\n",
       "75%        0.324972\n",
       "max        4.484277\n",
       "Name: Gap%, dtype: float64"
      ]
     },
     "execution_count": 14,
     "metadata": {},
     "output_type": "execute_result"
    }
   ],
   "source": [
    "df['Gap%'][(df['OPR_Prev'] >= 0.80) & (df['CPR_Prev'] <= 0.2)].describe() "
   ]
  },
  {
   "cell_type": "markdown",
   "id": "b6eea5b7",
   "metadata": {},
   "source": [
    "#### After uptrending day, around 70% of the time, it opens gap up, the next day"
   ]
  },
  {
   "cell_type": "markdown",
   "id": "1b8ba52a",
   "metadata": {},
   "source": [
    "### Large Gaps"
   ]
  },
  {
   "cell_type": "code",
   "execution_count": 15,
   "id": "85e6a681",
   "metadata": {},
   "outputs": [
    {
     "data": {
      "text/plain": [
       "count    275.000000\n",
       "mean       0.801702\n",
       "std        0.219920\n",
       "min        0.136838\n",
       "25%        0.652385\n",
       "50%        0.898892\n",
       "75%        0.974777\n",
       "max        1.000000\n",
       "Name: OPR, dtype: float64"
      ]
     },
     "execution_count": 15,
     "metadata": {},
     "output_type": "execute_result"
    }
   ],
   "source": [
    "df['OPR'][ (((df['OPR_30'] > 0.3) & (df['CPR_30'] < 0.3)) | ((df['OPR_30'] > 0.8) & (df['CPR_30'] < 0.4))) & (df['Gap%'] > 0.3)].describe()"
   ]
  },
  {
   "cell_type": "code",
   "execution_count": 16,
   "id": "205888cd",
   "metadata": {},
   "outputs": [
    {
     "data": {
      "text/plain": [
       "(array([  0.,   2.,   6.,  12.,  18.,  21.,  19.,  15.,  45., 137.]),\n",
       " array([0. , 0.1, 0.2, 0.3, 0.4, 0.5, 0.6, 0.7, 0.8, 0.9, 1. ]),\n",
       " <BarContainer object of 10 artists>)"
      ]
     },
     "execution_count": 16,
     "metadata": {},
     "output_type": "execute_result"
    },
    {
     "data": {
      "image/png": "[encoded data removed]",
      "text/plain": [
       "<Figure size 432x288 with 1 Axes>"
      ]
     },
     "metadata": {
      "needs_background": "light"
     },
     "output_type": "display_data"
    }
   ],
   "source": [
    "import matplotlib.pyplot as plt\n",
    "%matplotlib inline\n",
    "bin_range = (0,0.1,0.2,0.3,0.4,0.5,0.6,0.7,0.8,0.9,1)\n",
    "\n",
    "plt.hist(df['OPR'][ (((df['OPR_30'] > 0.3) & (df['CPR_30'] < 0.3)) | ((df['OPR_30'] > 0.8) & (df['CPR_30'] < 0.4))) & (df['Gap%'] > 0.3)],rwidth=0.95,bins=bin_range)"
   ]
  },
  {
   "cell_type": "code",
   "execution_count": 17,
   "id": "2d110904",
   "metadata": {},
   "outputs": [
    {
     "data": {
      "text/plain": [
       "count    146.000000\n",
       "mean       0.780448\n",
       "std        0.248739\n",
       "min        0.080764\n",
       "25%        0.628186\n",
       "50%        0.906986\n",
       "75%        0.979966\n",
       "max        1.000000\n",
       "Name: OPR, dtype: float64"
      ]
     },
     "execution_count": 17,
     "metadata": {},
     "output_type": "execute_result"
    }
   ],
   "source": [
    "df['OPR'][ (((df['OPR_30'] > 0.3) & (df['CPR_30'] < 0.3)) | ((df['OPR_30'] > 0.8) & (df['CPR_30'] < 0.4))) & (df['Gap%'] < -0.15)].describe()"
   ]
  },
  {
   "cell_type": "code",
   "execution_count": 18,
   "id": "20c538c3",
   "metadata": {},
   "outputs": [
    {
     "data": {
      "text/plain": [
       "(array([ 1.,  5.,  3.,  7.,  7., 11., 12.,  8., 16., 76.]),\n",
       " array([0. , 0.1, 0.2, 0.3, 0.4, 0.5, 0.6, 0.7, 0.8, 0.9, 1. ]),\n",
       " <BarContainer object of 10 artists>)"
      ]
     },
     "execution_count": 18,
     "metadata": {},
     "output_type": "execute_result"
    },
    {
     "data": {
      "image/png": "[encoded data removed]",
      "text/plain": [
       "<Figure size 432x288 with 1 Axes>"
      ]
     },
     "metadata": {
      "needs_background": "light"
     },
     "output_type": "display_data"
    }
   ],
   "source": [
    "plt.hist(df['OPR'][ (((df['OPR_30'] > 0.3) & (df['CPR_30'] < 0.3)) | ((df['OPR_30'] > 0.8) & (df['CPR_30'] < 0.4))) & (df['Gap%'] < -0.15)],rwidth=0.95,bins=bin_range)"
   ]
  },
  {
   "cell_type": "markdown",
   "id": "ef2f58cc",
   "metadata": {},
   "source": [
    "#### This clearly suggests that first 15min red candle after gap down or gap up, open is a very good directional signal on the bearish side"
   ]
  },
  {
   "cell_type": "code",
   "execution_count": 19,
   "id": "b6a115e8",
   "metadata": {},
   "outputs": [
    {
     "data": {
      "text/plain": [
       "count    170.000000\n",
       "mean       0.286113\n",
       "std        0.258156\n",
       "min        0.000000\n",
       "25%        0.062651\n",
       "50%        0.192689\n",
       "75%        0.478704\n",
       "max        0.985894\n",
       "Name: OPR, dtype: float64"
      ]
     },
     "execution_count": 19,
     "metadata": {},
     "output_type": "execute_result"
    }
   ],
   "source": [
    "df['OPR'][ (((df['OPR_30'] < 0.7) & (df['CPR_30'] > 0.7)) | ((df['OPR_30'] < 0.2) & (df['CPR_30'] > 0.6))) & (df['Gap%'] < -0.15) ].describe()"
   ]
  },
  {
   "cell_type": "code",
   "execution_count": 20,
   "id": "8de1f3b9",
   "metadata": {},
   "outputs": [
    {
     "data": {
      "text/plain": [
       "(array([59., 26., 16., 18., 13., 12., 10.,  7.,  7.,  2.]),\n",
       " array([0. , 0.1, 0.2, 0.3, 0.4, 0.5, 0.6, 0.7, 0.8, 0.9, 1. ]),\n",
       " <BarContainer object of 10 artists>)"
      ]
     },
     "execution_count": 20,
     "metadata": {},
     "output_type": "execute_result"
    },
    {
     "data": {
      "image/png": "[encoded data removed]",
      "text/plain": [
       "<Figure size 432x288 with 1 Axes>"
      ]
     },
     "metadata": {
      "needs_background": "light"
     },
     "output_type": "display_data"
    }
   ],
   "source": [
    "plt.hist(df['OPR'][ (((df['OPR_30'] < 0.7) & (df['CPR_30'] > 0.7)) | ((df['OPR_30'] < 0.2) & (df['CPR_30'] > 0.6))) & (df['Gap%'] < -0.15) ],rwidth=0.95,bins=bin_range)"
   ]
  },
  {
   "cell_type": "code",
   "execution_count": 21,
   "id": "22bbb97c",
   "metadata": {},
   "outputs": [
    {
     "data": {
      "text/plain": [
       "count    188.000000\n",
       "mean       0.233296\n",
       "std        0.244425\n",
       "min        0.000000\n",
       "25%        0.041525\n",
       "50%        0.122665\n",
       "75%        0.404875\n",
       "max        0.914374\n",
       "Name: OPR, dtype: float64"
      ]
     },
     "execution_count": 21,
     "metadata": {},
     "output_type": "execute_result"
    }
   ],
   "source": [
    "df['OPR'][ (((df['OPR_30'] < 0.7) & (df['CPR_30'] > 0.7)) | ((df['OPR_30'] < 0.2) & (df['CPR_30'] > 0.6))) & (df['Gap%'] > 0.3) ].describe()"
   ]
  },
  {
   "cell_type": "code",
   "execution_count": 22,
   "id": "bb8262f7",
   "metadata": {},
   "outputs": [
    {
     "data": {
      "text/plain": [
       "(array([83., 33., 11., 14., 11., 14., 11.,  6.,  4.,  1.]),\n",
       " array([0. , 0.1, 0.2, 0.3, 0.4, 0.5, 0.6, 0.7, 0.8, 0.9, 1. ]),\n",
       " <BarContainer object of 10 artists>)"
      ]
     },
     "execution_count": 22,
     "metadata": {},
     "output_type": "execute_result"
    },
    {
     "data": {
      "image/png": "[encoded data removed]",
      "text/plain": [
       "<Figure size 432x288 with 1 Axes>"
      ]
     },
     "metadata": {
      "needs_background": "light"
     },
     "output_type": "display_data"
    }
   ],
   "source": [
    "plt.hist(df['OPR'][ (((df['OPR_30'] < 0.7) & (df['CPR_30'] > 0.7)) | ((df['OPR_30'] < 0.2) & (df['CPR_30'] > 0.6))) & (df['Gap%'] > 0.3) ],rwidth=0.95,bins=bin_range)"
   ]
  },
  {
   "cell_type": "markdown",
   "id": "7d837d13",
   "metadata": {},
   "source": [
    "#### From the above charts we can infer that strong 15min candle in direction of the open is a good indicator for not to go short on that day compared to gap down open"
   ]
  },
  {
   "cell_type": "markdown",
   "id": "97796164",
   "metadata": {},
   "source": [
    "### Analysis of days with strong bias ( gap & 15min alignment )"
   ]
  },
  {
   "cell_type": "markdown",
   "id": "da2f8bf2",
   "metadata": {},
   "source": [
    "### Up-moves"
   ]
  },
  {
   "cell_type": "code",
   "execution_count": 23,
   "id": "31af4306",
   "metadata": {},
   "outputs": [
    {
     "data": {
      "text/plain": [
       "count    188.000000\n",
       "mean       0.501273\n",
       "std        0.485474\n",
       "min       -0.000492\n",
       "25%        0.141272\n",
       "50%        0.344807\n",
       "75%        0.759119\n",
       "max        2.465353\n",
       "Name: Upper, dtype: float64"
      ]
     },
     "execution_count": 23,
     "metadata": {},
     "output_type": "execute_result"
    }
   ],
   "source": [
    "df['Upper'][ (((df['OPR_30'] < 0.7) & (df['CPR_30'] > 0.7)) | ((df['OPR_30'] < 0.2) & (df['CPR_30'] > 0.6))) & (df['Gap%'] > 0.3) ].describe()"
   ]
  },
  {
   "cell_type": "code",
   "execution_count": 24,
   "id": "a74e10c5",
   "metadata": {},
   "outputs": [
    {
     "data": {
      "text/plain": [
       "count    188.000000\n",
       "mean       0.213648\n",
       "std        0.466356\n",
       "min       -0.000484\n",
       "25%        0.000000\n",
       "50%        0.000000\n",
       "75%        0.201422\n",
       "max        3.535250\n",
       "Name: Lower, dtype: float64"
      ]
     },
     "execution_count": 24,
     "metadata": {},
     "output_type": "execute_result"
    }
   ],
   "source": [
    "df['Lower'][ (((df['OPR_30'] < 0.7) & (df['CPR_30'] > 0.7)) | ((df['OPR_30'] < 0.2) & (df['CPR_30'] > 0.6))) & (df['Gap%'] > 0.3) ].describe()"
   ]
  },
  {
   "cell_type": "code",
   "execution_count": 25,
   "id": "f5baf1a0",
   "metadata": {},
   "outputs": [
    {
     "data": {
      "text/plain": [
       "count    188.000000\n",
       "mean       0.056874\n",
       "std        0.805387\n",
       "min       -4.926226\n",
       "25%       -0.315643\n",
       "50%        0.047513\n",
       "75%        0.562835\n",
       "max        1.990362\n",
       "Name: Close~15min-High, dtype: float64"
      ]
     },
     "execution_count": 25,
     "metadata": {},
     "output_type": "execute_result"
    }
   ],
   "source": [
    "df[\"Close~15min-High\"][ (((df['OPR_30'] < 0.7) & (df['CPR_30'] > 0.7)) | ((df['OPR_30'] < 0.2) & (df['CPR_30'] > 0.6))) & (df['Gap%'] > 0.3) ].describe()"
   ]
  },
  {
   "cell_type": "markdown",
   "id": "d083f318",
   "metadata": {},
   "source": [
    "### Down moves"
   ]
  },
  {
   "cell_type": "code",
   "execution_count": 26,
   "id": "d2a2f52d",
   "metadata": {},
   "outputs": [
    {
     "data": {
      "text/plain": [
       "count    146.000000\n",
       "mean       0.302530\n",
       "std        1.058030\n",
       "min       -0.000490\n",
       "25%        0.000000\n",
       "50%        0.000000\n",
       "75%        0.175214\n",
       "max       10.700618\n",
       "Name: Upper, dtype: float64"
      ]
     },
     "execution_count": 26,
     "metadata": {},
     "output_type": "execute_result"
    }
   ],
   "source": [
    "df['Upper'][ (((df['OPR_30'] > 0.3) & (df['CPR_30'] < 0.3)) | ((df['OPR_30'] > 0.8) & (df['CPR_30'] < 0.4))) & (df['Gap%'] < -0.15)].describe()"
   ]
  },
  {
   "cell_type": "code",
   "execution_count": 27,
   "id": "e8232a14",
   "metadata": {},
   "outputs": [
    {
     "data": {
      "text/plain": [
       "count    146.000000\n",
       "mean       0.614163\n",
       "std        0.614349\n",
       "min        0.000000\n",
       "25%        0.208861\n",
       "50%        0.479841\n",
       "75%        0.739525\n",
       "max        3.906579\n",
       "Name: Lower, dtype: float64"
      ]
     },
     "execution_count": 27,
     "metadata": {},
     "output_type": "execute_result"
    }
   ],
   "source": [
    "df['Lower'][ (((df['OPR_30'] > 0.3) & (df['CPR_30'] < 0.3)) | ((df['OPR_30'] > 0.8) & (df['CPR_30'] < 0.4))) & (df['Gap%'] < -0.15)].describe()"
   ]
  },
  {
   "cell_type": "code",
   "execution_count": 28,
   "id": "70340cf6",
   "metadata": {},
   "outputs": [
    {
     "data": {
      "text/plain": [
       "count    146.000000\n",
       "mean      -0.050364\n",
       "std        1.494696\n",
       "min      -13.880460\n",
       "25%       -0.399823\n",
       "50%        0.079255\n",
       "75%        0.556552\n",
       "max        3.121534\n",
       "Name: Close~15min-Low, dtype: float64"
      ]
     },
     "execution_count": 28,
     "metadata": {},
     "output_type": "execute_result"
    }
   ],
   "source": [
    "df[\"Close~15min-Low\"][ (((df['OPR_30'] > 0.3) & (df['CPR_30'] < 0.3)) | ((df['OPR_30'] > 0.8) & (df['CPR_30'] < 0.4))) & (df['Gap%'] < -0.15)].describe()"
   ]
  },
  {
   "cell_type": "markdown",
   "id": "425e1f5a",
   "metadata": {},
   "source": [
    "#### Again, it suggests that selling option can be a good strategy because the index doesn't make large moves"
   ]
  },
  {
   "cell_type": "markdown",
   "id": "2ae4592e",
   "metadata": {},
   "source": [
    "### Range for days preceding big moves"
   ]
  },
  {
   "cell_type": "code",
   "execution_count": 29,
   "id": "93515ad6",
   "metadata": {},
   "outputs": [
    {
     "data": {
      "text/plain": [
       "count    2349.000000\n",
       "mean        1.266825\n",
       "std         0.899291\n",
       "min         0.246096\n",
       "25%         0.756198\n",
       "50%         1.059159\n",
       "75%         1.502528\n",
       "max        16.133046\n",
       "Name: True_Range_ratio, dtype: float64"
      ]
     },
     "execution_count": 29,
     "metadata": {},
     "output_type": "execute_result"
    }
   ],
   "source": [
    "df['True_Range_ratio'].describe()"
   ]
  },
  {
   "cell_type": "code",
   "execution_count": 30,
   "id": "79768658",
   "metadata": {},
   "outputs": [
    {
     "data": {
      "text/plain": [
       "count    590.000000\n",
       "mean       1.743646\n",
       "std        1.206384\n",
       "min        0.556743\n",
       "25%        1.077932\n",
       "50%        1.455065\n",
       "75%        2.049821\n",
       "max       16.114694\n",
       "Name: TRR_Next, dtype: float64"
      ]
     },
     "execution_count": 30,
     "metadata": {},
     "output_type": "execute_result"
    }
   ],
   "source": [
    "df['TRR_Next'][ df['True_Range_ratio'] > 1.5 ].describe()"
   ]
  },
  {
   "cell_type": "code",
   "execution_count": 31,
   "id": "825c46a4",
   "metadata": {},
   "outputs": [
    {
     "data": {
      "text/plain": [
       "count    681.000000\n",
       "mean       0.930738\n",
       "std        0.452871\n",
       "min        0.276854\n",
       "25%        0.607634\n",
       "50%        0.817306\n",
       "75%        1.144353\n",
       "max        3.549769\n",
       "Name: TRR_Next, dtype: float64"
      ]
     },
     "execution_count": 31,
     "metadata": {},
     "output_type": "execute_result"
    }
   ],
   "source": [
    "df['TRR_Next'][ df['True_Range_ratio'] < 0.8 ].describe()"
   ]
  },
  {
   "cell_type": "code",
   "execution_count": 32,
   "id": "cbcfcbfb",
   "metadata": {},
   "outputs": [
    {
     "data": {
      "text/plain": [
       "count    591.000000\n",
       "mean       1.785917\n",
       "std        1.392295\n",
       "min        0.448267\n",
       "25%        1.045147\n",
       "50%        1.422224\n",
       "75%        2.129040\n",
       "max       16.133046\n",
       "Name: TRR_Prev, dtype: float64"
      ]
     },
     "execution_count": 32,
     "metadata": {},
     "output_type": "execute_result"
    }
   ],
   "source": [
    "df['TRR_Prev'][ df['True_Range_ratio'] > 1.5 ].describe()"
   ]
  },
  {
   "cell_type": "markdown",
   "id": "7a7330ba",
   "metadata": {},
   "source": [
    "### Stop loss estimate"
   ]
  },
  {
   "cell_type": "code",
   "execution_count": 47,
   "id": "40c652ee",
   "metadata": {},
   "outputs": [
    {
     "data": {
      "text/plain": [
       "count    555.000000\n",
       "mean       0.228147\n",
       "std        0.505935\n",
       "min       -0.499958\n",
       "25%       -0.162048\n",
       "50%        0.113587\n",
       "75%        0.539076\n",
       "max        2.545473\n",
       "Name: Close~15min-High, dtype: float64"
      ]
     },
     "execution_count": 47,
     "metadata": {},
     "output_type": "execute_result"
    }
   ],
   "source": [
    "df[\"Close~15min-High\"][(((df['OPR_30'] < 0.7) & (df['CPR_30'] > 0.7)) | ((df['OPR_30'] < 0.2) & (df['CPR_30'] > 0.6))) & ( df[\"Close~15min-High\"] > -0.5) ].describe()"
   ]
  },
  {
   "cell_type": "code",
   "execution_count": 50,
   "id": "bd8bd242",
   "metadata": {},
   "outputs": [
    {
     "data": {
      "text/plain": [
       "count    717.000000\n",
       "mean       0.129493\n",
       "std        0.667267\n",
       "min       -0.999229\n",
       "25%       -0.297421\n",
       "50%        0.029062\n",
       "75%        0.468656\n",
       "max        4.279023\n",
       "Name: Close~15min-Low, dtype: float64"
      ]
     },
     "execution_count": 50,
     "metadata": {},
     "output_type": "execute_result"
    }
   ],
   "source": [
    "df[\"Close~15min-Low\"][(((df['OPR_30'] > 0.3) & (df['CPR_30'] < 0.3)) | ((df['OPR_30'] > 0.8) & (df['CPR_30'] < 0.4))) & ( df[\"Close~15min-Low\"] > -1 )  ].describe()"
   ]
  },
  {
   "cell_type": "markdown",
   "id": "e2185418",
   "metadata": {},
   "source": [
    "### 15min range Analysis"
   ]
  },
  {
   "cell_type": "code",
   "execution_count": 34,
   "id": "df974d66",
   "metadata": {},
   "outputs": [
    {
     "data": {
      "text/plain": [
       "count    2348.000000\n",
       "mean        0.614468\n",
       "std         0.518677\n",
       "min         0.141771\n",
       "25%         0.373492\n",
       "50%         0.508071\n",
       "75%         0.723908\n",
       "max        16.019594\n",
       "Name: True_Range_ratio_30, dtype: float64"
      ]
     },
     "execution_count": 34,
     "metadata": {},
     "output_type": "execute_result"
    }
   ],
   "source": [
    "df['True_Range_ratio_30'].describe()"
   ]
  },
  {
   "cell_type": "code",
   "execution_count": 35,
   "id": "be0dc588",
   "metadata": {},
   "outputs": [
    {
     "data": {
      "text/plain": [
       "count    2349.000000\n",
       "mean        1.266825\n",
       "std         0.899291\n",
       "min         0.246096\n",
       "25%         0.756198\n",
       "50%         1.059159\n",
       "75%         1.502528\n",
       "max        16.133046\n",
       "Name: True_Range_ratio, dtype: float64"
      ]
     },
     "execution_count": 35,
     "metadata": {},
     "output_type": "execute_result"
    }
   ],
   "source": [
    "df['True_Range_ratio'].describe()"
   ]
  },
  {
   "cell_type": "code",
   "execution_count": 36,
   "id": "db238876",
   "metadata": {},
   "outputs": [
    {
     "data": {
      "text/plain": [
       "count    2348.000000\n",
       "mean        1.265893\n",
       "std         0.897377\n",
       "min         0.247007\n",
       "25%         0.756513\n",
       "50%         1.059755\n",
       "75%         1.499881\n",
       "max        16.728188\n",
       "Name: Range~Prev_Close, dtype: float64"
      ]
     },
     "execution_count": 36,
     "metadata": {},
     "output_type": "execute_result"
    }
   ],
   "source": [
    "df['Range~Prev_Close'].describe()"
   ]
  },
  {
   "cell_type": "code",
   "execution_count": 37,
   "id": "a5f06867",
   "metadata": {},
   "outputs": [
    {
     "data": {
      "text/plain": [
       "count    576.000000\n",
       "mean       0.373385\n",
       "std        0.113750\n",
       "min        0.158175\n",
       "25%        0.285286\n",
       "50%        0.361821\n",
       "75%        0.451072\n",
       "max        0.738417\n",
       "Name: True_Range_ratio_30, dtype: float64"
      ]
     },
     "execution_count": 37,
     "metadata": {},
     "output_type": "execute_result"
    }
   ],
   "source": [
    "df['True_Range_ratio_30'][ df['Range~Prev_Close'] < 0.75 ].describe()"
   ]
  },
  {
   "cell_type": "code",
   "execution_count": 38,
   "id": "83802be3",
   "metadata": {},
   "outputs": [
    {
     "data": {
      "text/plain": [
       "count    587.000000\n",
       "mean       0.962142\n",
       "std        0.884006\n",
       "min        0.173985\n",
       "25%        0.555125\n",
       "50%        0.798770\n",
       "75%        1.064505\n",
       "max       16.019594\n",
       "Name: True_Range_ratio_30, dtype: float64"
      ]
     },
     "execution_count": 38,
     "metadata": {},
     "output_type": "execute_result"
    }
   ],
   "source": [
    "df['True_Range_ratio_30'][ df['Range~Prev_Close'] > 1.5 ].describe()"
   ]
  },
  {
   "cell_type": "code",
   "execution_count": 39,
   "id": "b5bc5419",
   "metadata": {},
   "outputs": [
    {
     "data": {
      "text/plain": [
       "count    725.000000\n",
       "mean       0.875378\n",
       "std        0.432942\n",
       "min        0.247007\n",
       "25%        0.577478\n",
       "50%        0.760777\n",
       "75%        1.058262\n",
       "max        3.189179\n",
       "Name: Range~Prev_Close, dtype: float64"
      ]
     },
     "execution_count": 39,
     "metadata": {},
     "output_type": "execute_result"
    }
   ],
   "source": [
    "df['Range~Prev_Close'][ df['True_Range_ratio_30'] < 0.4 ].describe()"
   ]
  },
  {
   "cell_type": "code",
   "execution_count": 40,
   "id": "a160ce8e",
   "metadata": {},
   "outputs": [
    {
     "data": {
      "text/plain": [
       "count    596.000000\n",
       "mean       1.959169\n",
       "std        1.337081\n",
       "min        0.724707\n",
       "25%        1.253866\n",
       "50%        1.673472\n",
       "75%        2.246654\n",
       "max       16.728188\n",
       "Name: Range~Prev_Close, dtype: float64"
      ]
     },
     "execution_count": 40,
     "metadata": {},
     "output_type": "execute_result"
    }
   ],
   "source": [
    "df['Range~Prev_Close'][ df['True_Range_ratio_30'] > 0.72 ].describe()"
   ]
  },
  {
   "cell_type": "code",
   "execution_count": 45,
   "id": "6fe86d80",
   "metadata": {},
   "outputs": [
    {
     "data": {
      "text/plain": [
       "count    2348.000000\n",
       "mean        0.286483\n",
       "std         0.509230\n",
       "min        -0.123457\n",
       "25%         0.000000\n",
       "50%         0.095389\n",
       "75%         0.392437\n",
       "max        10.700618\n",
       "Name: Upper, dtype: float64"
      ]
     },
     "execution_count": 45,
     "metadata": {},
     "output_type": "execute_result"
    }
   ],
   "source": [
    "df['Upper'].describe()"
   ]
  },
  {
   "cell_type": "code",
   "execution_count": 46,
   "id": "df80af27",
   "metadata": {},
   "outputs": [
    {
     "data": {
      "text/plain": [
       "count    2348.000000\n",
       "mean        0.364942\n",
       "std         0.512766\n",
       "min        -0.007645\n",
       "25%         0.000000\n",
       "50%         0.180813\n",
       "75%         0.530516\n",
       "max         4.967659\n",
       "Name: Lower, dtype: float64"
      ]
     },
     "execution_count": 46,
     "metadata": {},
     "output_type": "execute_result"
    }
   ],
   "source": [
    "df['Lower'].describe()"
   ]
  },
  {
   "cell_type": "code",
   "execution_count": 41,
   "id": "20bd5b29",
   "metadata": {},
   "outputs": [
    {
     "data": {
      "text/plain": [
       "count    725.000000\n",
       "mean       0.234142\n",
       "std        0.326147\n",
       "min       -0.000496\n",
       "25%        0.000000\n",
       "50%        0.119386\n",
       "75%        0.329234\n",
       "max        2.542427\n",
       "Name: Upper, dtype: float64"
      ]
     },
     "execution_count": 41,
     "metadata": {},
     "output_type": "execute_result"
    }
   ],
   "source": [
    "df['Upper'][ df['True_Range_ratio_30'] < 0.4 ].describe()"
   ]
  },
  {
   "cell_type": "code",
   "execution_count": 42,
   "id": "aeabe9d1",
   "metadata": {},
   "outputs": [
    {
     "data": {
      "text/plain": [
       "count    725.000000\n",
       "mean       0.326290\n",
       "std        0.411575\n",
       "min       -0.000486\n",
       "25%        0.016032\n",
       "50%        0.187359\n",
       "75%        0.458144\n",
       "max        2.574431\n",
       "Name: Lower, dtype: float64"
      ]
     },
     "execution_count": 42,
     "metadata": {},
     "output_type": "execute_result"
    }
   ],
   "source": [
    "df['Lower'][ df['True_Range_ratio_30'] < 0.4 ].describe()"
   ]
  },
  {
   "cell_type": "code",
   "execution_count": 43,
   "id": "cf1b4c5a",
   "metadata": {},
   "outputs": [
    {
     "data": {
      "text/plain": [
       "count    596.000000\n",
       "mean       0.377171\n",
       "std        0.752884\n",
       "min       -0.123457\n",
       "25%        0.000000\n",
       "50%        0.064094\n",
       "75%        0.536806\n",
       "max       10.700618\n",
       "Name: Upper, dtype: float64"
      ]
     },
     "execution_count": 43,
     "metadata": {},
     "output_type": "execute_result"
    }
   ],
   "source": [
    "df['Upper'][ df['True_Range_ratio_30'] > 0.72 ].describe()"
   ]
  },
  {
   "cell_type": "code",
   "execution_count": 44,
   "id": "c3f9ac98",
   "metadata": {},
   "outputs": [
    {
     "data": {
      "text/plain": [
       "count    596.000000\n",
       "mean       0.464613\n",
       "std        0.694416\n",
       "min       -0.007645\n",
       "25%        0.000000\n",
       "50%        0.128456\n",
       "75%        0.692238\n",
       "max        4.967659\n",
       "Name: Lower, dtype: float64"
      ]
     },
     "execution_count": 44,
     "metadata": {},
     "output_type": "execute_result"
    }
   ],
   "source": [
    "df['Lower'][ df['True_Range_ratio_30'] > 0.72 ].describe()"
   ]
  },
  {
   "cell_type": "code",
   "execution_count": 47,
   "id": "d4e16fe4",
   "metadata": {},
   "outputs": [
    {
     "data": {
      "text/plain": [
       "count    753.000000\n",
       "mean       0.698379\n",
       "std        0.647020\n",
       "min        0.000000\n",
       "25%        0.254223\n",
       "50%        0.540169\n",
       "75%        0.919462\n",
       "max        4.967659\n",
       "Name: Lower, dtype: float64"
      ]
     },
     "execution_count": 47,
     "metadata": {},
     "output_type": "execute_result"
    }
   ],
   "source": [
    "df['Lower'][ df['OPR'] > 0.79].describe()"
   ]
  },
  {
   "cell_type": "code",
   "execution_count": 48,
   "id": "fff437c7",
   "metadata": {},
   "outputs": [
    {
     "data": {
      "text/plain": [
       "count    544.000000\n",
       "mean       0.660814\n",
       "std        0.640221\n",
       "min        0.000000\n",
       "25%        0.233618\n",
       "50%        0.509313\n",
       "75%        0.901295\n",
       "max        5.712358\n",
       "Name: Upper, dtype: float64"
      ]
     },
     "execution_count": 48,
     "metadata": {},
     "output_type": "execute_result"
    }
   ],
   "source": [
    "df['Upper'][ df['OPR'] < 0.21].describe()"
   ]
  },
  {
   "cell_type": "code",
   "execution_count": null,
   "id": "00b80f7d",
   "metadata": {},
   "outputs": [],
   "source": []
  }
 ],
 "metadata": {
  "kernelspec": {
   "display_name": "Python 3 (ipykernel)",
   "language": "python",
   "name": "python3"
  },
  "language_info": {
   "codemirror_mode": {
    "name": "ipython",
    "version": 3
   },
   "file_extension": ".py",
   "mimetype": "text/x-python",
   "name": "python",
   "nbconvert_exporter": "python",
   "pygments_lexer": "ipython3",
   "version": "3.9.7"
  }
 },
 "nbformat": 4,
 "nbformat_minor": 5
}
