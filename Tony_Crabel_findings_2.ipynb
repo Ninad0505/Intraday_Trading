{
 "cells": [
  {
   "cell_type": "markdown",
   "id": "93050539",
   "metadata": {},
   "source": [
    "# Aligning ORB with first 15min candle data \n",
    "#### Reason for aligning with first 15min candle gives us the idea of stretch mentioned by Tony Crabel's book"
   ]
  },
  {
   "cell_type": "code",
   "execution_count": 2,
   "id": "7d4d4677",
   "metadata": {},
   "outputs": [],
   "source": [
    "import pandas as pd\n",
    "df = pd.read_excel(\"Nifty50_with_1st_15min.xlsx\", parse_dates=[\"Date\"], index_col=\"Date\")"
   ]
  },
  {
   "cell_type": "code",
   "execution_count": 3,
   "id": "f956d788",
   "metadata": {},
   "outputs": [
    {
     "data": {
      "text/plain": [
       "(2349, 12)"
      ]
     },
     "execution_count": 3,
     "metadata": {},
     "output_type": "execute_result"
    }
   ],
   "source": [
    "df.shape"
   ]
  },
  {
   "cell_type": "code",
   "execution_count": 4,
   "id": "ded2ab6f",
   "metadata": {},
   "outputs": [
    {
     "data": {
      "text/plain": [
       "Index(['Open_30', 'Close_30', 'Low_30', 'High_30', 'Open', 'High', 'Low',\n",
       "       'Close', 'OPR', 'CPR', 'Solid', 'True_Range_ratio'],\n",
       "      dtype='object')"
      ]
     },
     "execution_count": 4,
     "metadata": {},
     "output_type": "execute_result"
    }
   ],
   "source": [
    "df.columns"
   ]
  },
  {
   "cell_type": "code",
   "execution_count": 7,
   "id": "6da44fbc",
   "metadata": {},
   "outputs": [
    {
     "ename": "KeyError",
     "evalue": "'Prev_Close'",
     "output_type": "error",
     "traceback": [
      "\u001b[1;31m---------------------------------------------------------------------------\u001b[0m",
      "\u001b[1;31mKeyError\u001b[0m                                  Traceback (most recent call last)",
      "\u001b[1;32m~\\anaconda3\\lib\\site-packages\\pandas\\core\\indexes\\base.py\u001b[0m in \u001b[0;36mget_loc\u001b[1;34m(self, key, method, tolerance)\u001b[0m\n\u001b[0;32m   3360\u001b[0m             \u001b[1;32mtry\u001b[0m\u001b[1;33m:\u001b[0m\u001b[1;33m\u001b[0m\u001b[1;33m\u001b[0m\u001b[0m\n\u001b[1;32m-> 3361\u001b[1;33m                 \u001b[1;32mreturn\u001b[0m \u001b[0mself\u001b[0m\u001b[1;33m.\u001b[0m\u001b[0m_engine\u001b[0m\u001b[1;33m.\u001b[0m\u001b[0mget_loc\u001b[0m\u001b[1;33m(\u001b[0m\u001b[0mcasted_key\u001b[0m\u001b[1;33m)\u001b[0m\u001b[1;33m\u001b[0m\u001b[1;33m\u001b[0m\u001b[0m\n\u001b[0m\u001b[0;32m   3362\u001b[0m             \u001b[1;32mexcept\u001b[0m \u001b[0mKeyError\u001b[0m \u001b[1;32mas\u001b[0m \u001b[0merr\u001b[0m\u001b[1;33m:\u001b[0m\u001b[1;33m\u001b[0m\u001b[1;33m\u001b[0m\u001b[0m\n",
      "\u001b[1;32m~\\anaconda3\\lib\\site-packages\\pandas\\_libs\\index.pyx\u001b[0m in \u001b[0;36mpandas._libs.index.IndexEngine.get_loc\u001b[1;34m()\u001b[0m\n",
      "\u001b[1;32m~\\anaconda3\\lib\\site-packages\\pandas\\_libs\\index.pyx\u001b[0m in \u001b[0;36mpandas._libs.index.IndexEngine.get_loc\u001b[1;34m()\u001b[0m\n",
      "\u001b[1;32mpandas\\_libs\\hashtable_class_helper.pxi\u001b[0m in \u001b[0;36mpandas._libs.hashtable.PyObjectHashTable.get_item\u001b[1;34m()\u001b[0m\n",
      "\u001b[1;32mpandas\\_libs\\hashtable_class_helper.pxi\u001b[0m in \u001b[0;36mpandas._libs.hashtable.PyObjectHashTable.get_item\u001b[1;34m()\u001b[0m\n",
      "\u001b[1;31mKeyError\u001b[0m: 'Prev_Close'",
      "\nThe above exception was the direct cause of the following exception:\n",
      "\u001b[1;31mKeyError\u001b[0m                                  Traceback (most recent call last)",
      "\u001b[1;32m~\\AppData\\Local\\Temp/ipykernel_1660/379598565.py\u001b[0m in \u001b[0;36m<module>\u001b[1;34m\u001b[0m\n\u001b[1;32m----> 1\u001b[1;33m \u001b[0mdf\u001b[0m\u001b[1;33m[\u001b[0m\u001b[1;34m'True_Range_ratio_30'\u001b[0m\u001b[1;33m]\u001b[0m \u001b[1;33m=\u001b[0m \u001b[1;33m(\u001b[0m\u001b[1;33m(\u001b[0m\u001b[0mdf\u001b[0m\u001b[1;33m[\u001b[0m\u001b[1;34m'High_30'\u001b[0m\u001b[1;33m]\u001b[0m \u001b[1;33m-\u001b[0m \u001b[0mdf\u001b[0m\u001b[1;33m[\u001b[0m\u001b[1;34m'Low_30'\u001b[0m\u001b[1;33m]\u001b[0m\u001b[1;33m)\u001b[0m\u001b[1;33m/\u001b[0m\u001b[0mdf\u001b[0m\u001b[1;33m[\u001b[0m\u001b[1;34m'Prev_Close'\u001b[0m\u001b[1;33m]\u001b[0m\u001b[1;33m)\u001b[0m\u001b[1;33m*\u001b[0m\u001b[1;36m100\u001b[0m\u001b[1;33m\u001b[0m\u001b[1;33m\u001b[0m\u001b[0m\n\u001b[0m\u001b[0;32m      2\u001b[0m \u001b[0mdf\u001b[0m\u001b[1;33m[\u001b[0m\u001b[1;34m\"OPR_30\"\u001b[0m\u001b[1;33m]\u001b[0m \u001b[1;33m=\u001b[0m \u001b[1;33m(\u001b[0m\u001b[0mdf\u001b[0m\u001b[1;33m[\u001b[0m\u001b[1;34m'Open_30'\u001b[0m\u001b[1;33m]\u001b[0m \u001b[1;33m-\u001b[0m \u001b[0mdf\u001b[0m\u001b[1;33m[\u001b[0m\u001b[1;34m'Low_30'\u001b[0m\u001b[1;33m]\u001b[0m\u001b[1;33m)\u001b[0m\u001b[1;33m/\u001b[0m\u001b[1;33m(\u001b[0m\u001b[0mdf\u001b[0m\u001b[1;33m[\u001b[0m\u001b[1;34m'High_30'\u001b[0m\u001b[1;33m]\u001b[0m \u001b[1;33m-\u001b[0m \u001b[0mdf\u001b[0m\u001b[1;33m[\u001b[0m\u001b[1;34m'Low_30'\u001b[0m\u001b[1;33m]\u001b[0m\u001b[1;33m)\u001b[0m\u001b[1;33m\u001b[0m\u001b[1;33m\u001b[0m\u001b[0m\n\u001b[0;32m      3\u001b[0m \u001b[0mdf\u001b[0m\u001b[1;33m[\u001b[0m\u001b[1;34m\"CPR_30\"\u001b[0m\u001b[1;33m]\u001b[0m \u001b[1;33m=\u001b[0m \u001b[1;33m(\u001b[0m\u001b[0mdf\u001b[0m\u001b[1;33m[\u001b[0m\u001b[1;34m'Close_30'\u001b[0m\u001b[1;33m]\u001b[0m \u001b[1;33m-\u001b[0m \u001b[0mdf\u001b[0m\u001b[1;33m[\u001b[0m\u001b[1;34m'Low_30'\u001b[0m\u001b[1;33m]\u001b[0m\u001b[1;33m)\u001b[0m\u001b[1;33m/\u001b[0m\u001b[1;33m(\u001b[0m\u001b[0mdf\u001b[0m\u001b[1;33m[\u001b[0m\u001b[1;34m'High_30'\u001b[0m\u001b[1;33m]\u001b[0m \u001b[1;33m-\u001b[0m \u001b[0mdf\u001b[0m\u001b[1;33m[\u001b[0m\u001b[1;34m'Low_30'\u001b[0m\u001b[1;33m]\u001b[0m\u001b[1;33m)\u001b[0m\u001b[1;33m\u001b[0m\u001b[1;33m\u001b[0m\u001b[0m\n\u001b[0;32m      4\u001b[0m \u001b[0mdf\u001b[0m\u001b[1;33m[\u001b[0m\u001b[1;34m\"Solid_30\"\u001b[0m\u001b[1;33m]\u001b[0m \u001b[1;33m=\u001b[0m \u001b[1;33m(\u001b[0m\u001b[0mabs\u001b[0m\u001b[1;33m(\u001b[0m\u001b[0mdf\u001b[0m\u001b[1;33m[\u001b[0m\u001b[1;34m'Open_30'\u001b[0m\u001b[1;33m]\u001b[0m \u001b[1;33m-\u001b[0m \u001b[0mdf\u001b[0m\u001b[1;33m[\u001b[0m\u001b[1;34m'Close_30'\u001b[0m\u001b[1;33m]\u001b[0m\u001b[1;33m)\u001b[0m\u001b[1;33m)\u001b[0m\u001b[1;33m/\u001b[0m\u001b[1;33m(\u001b[0m\u001b[0mdf\u001b[0m\u001b[1;33m[\u001b[0m\u001b[1;34m'High_30'\u001b[0m\u001b[1;33m]\u001b[0m \u001b[1;33m-\u001b[0m \u001b[0mdf\u001b[0m\u001b[1;33m[\u001b[0m\u001b[1;34m'Low_30'\u001b[0m\u001b[1;33m]\u001b[0m\u001b[1;33m)\u001b[0m\u001b[1;33m\u001b[0m\u001b[1;33m\u001b[0m\u001b[0m\n",
      "\u001b[1;32m~\\anaconda3\\lib\\site-packages\\pandas\\core\\frame.py\u001b[0m in \u001b[0;36m__getitem__\u001b[1;34m(self, key)\u001b[0m\n\u001b[0;32m   3456\u001b[0m             \u001b[1;32mif\u001b[0m \u001b[0mself\u001b[0m\u001b[1;33m.\u001b[0m\u001b[0mcolumns\u001b[0m\u001b[1;33m.\u001b[0m\u001b[0mnlevels\u001b[0m \u001b[1;33m>\u001b[0m \u001b[1;36m1\u001b[0m\u001b[1;33m:\u001b[0m\u001b[1;33m\u001b[0m\u001b[1;33m\u001b[0m\u001b[0m\n\u001b[0;32m   3457\u001b[0m                 \u001b[1;32mreturn\u001b[0m \u001b[0mself\u001b[0m\u001b[1;33m.\u001b[0m\u001b[0m_getitem_multilevel\u001b[0m\u001b[1;33m(\u001b[0m\u001b[0mkey\u001b[0m\u001b[1;33m)\u001b[0m\u001b[1;33m\u001b[0m\u001b[1;33m\u001b[0m\u001b[0m\n\u001b[1;32m-> 3458\u001b[1;33m             \u001b[0mindexer\u001b[0m \u001b[1;33m=\u001b[0m \u001b[0mself\u001b[0m\u001b[1;33m.\u001b[0m\u001b[0mcolumns\u001b[0m\u001b[1;33m.\u001b[0m\u001b[0mget_loc\u001b[0m\u001b[1;33m(\u001b[0m\u001b[0mkey\u001b[0m\u001b[1;33m)\u001b[0m\u001b[1;33m\u001b[0m\u001b[1;33m\u001b[0m\u001b[0m\n\u001b[0m\u001b[0;32m   3459\u001b[0m             \u001b[1;32mif\u001b[0m \u001b[0mis_integer\u001b[0m\u001b[1;33m(\u001b[0m\u001b[0mindexer\u001b[0m\u001b[1;33m)\u001b[0m\u001b[1;33m:\u001b[0m\u001b[1;33m\u001b[0m\u001b[1;33m\u001b[0m\u001b[0m\n\u001b[0;32m   3460\u001b[0m                 \u001b[0mindexer\u001b[0m \u001b[1;33m=\u001b[0m \u001b[1;33m[\u001b[0m\u001b[0mindexer\u001b[0m\u001b[1;33m]\u001b[0m\u001b[1;33m\u001b[0m\u001b[1;33m\u001b[0m\u001b[0m\n",
      "\u001b[1;32m~\\anaconda3\\lib\\site-packages\\pandas\\core\\indexes\\base.py\u001b[0m in \u001b[0;36mget_loc\u001b[1;34m(self, key, method, tolerance)\u001b[0m\n\u001b[0;32m   3361\u001b[0m                 \u001b[1;32mreturn\u001b[0m \u001b[0mself\u001b[0m\u001b[1;33m.\u001b[0m\u001b[0m_engine\u001b[0m\u001b[1;33m.\u001b[0m\u001b[0mget_loc\u001b[0m\u001b[1;33m(\u001b[0m\u001b[0mcasted_key\u001b[0m\u001b[1;33m)\u001b[0m\u001b[1;33m\u001b[0m\u001b[1;33m\u001b[0m\u001b[0m\n\u001b[0;32m   3362\u001b[0m             \u001b[1;32mexcept\u001b[0m \u001b[0mKeyError\u001b[0m \u001b[1;32mas\u001b[0m \u001b[0merr\u001b[0m\u001b[1;33m:\u001b[0m\u001b[1;33m\u001b[0m\u001b[1;33m\u001b[0m\u001b[0m\n\u001b[1;32m-> 3363\u001b[1;33m                 \u001b[1;32mraise\u001b[0m \u001b[0mKeyError\u001b[0m\u001b[1;33m(\u001b[0m\u001b[0mkey\u001b[0m\u001b[1;33m)\u001b[0m \u001b[1;32mfrom\u001b[0m \u001b[0merr\u001b[0m\u001b[1;33m\u001b[0m\u001b[1;33m\u001b[0m\u001b[0m\n\u001b[0m\u001b[0;32m   3364\u001b[0m \u001b[1;33m\u001b[0m\u001b[0m\n\u001b[0;32m   3365\u001b[0m         \u001b[1;32mif\u001b[0m \u001b[0mis_scalar\u001b[0m\u001b[1;33m(\u001b[0m\u001b[0mkey\u001b[0m\u001b[1;33m)\u001b[0m \u001b[1;32mand\u001b[0m \u001b[0misna\u001b[0m\u001b[1;33m(\u001b[0m\u001b[0mkey\u001b[0m\u001b[1;33m)\u001b[0m \u001b[1;32mand\u001b[0m \u001b[1;32mnot\u001b[0m \u001b[0mself\u001b[0m\u001b[1;33m.\u001b[0m\u001b[0mhasnans\u001b[0m\u001b[1;33m:\u001b[0m\u001b[1;33m\u001b[0m\u001b[1;33m\u001b[0m\u001b[0m\n",
      "\u001b[1;31mKeyError\u001b[0m: 'Prev_Close'"
     ]
    }
   ],
   "source": [
    "df['True_Range_ratio_30'] = ((df['High_30'] - df['Low_30'])/df['Prev_Close'])*100\n",
    "df[\"OPR_30\"] = (df['Open_30'] - df['Low_30'])/(df['High_30'] - df['Low_30'])\n",
    "df[\"CPR_30\"] = (df['Close_30'] - df['Low_30'])/(df['High_30'] - df['Low_30'])\n",
    "df[\"Solid_30\"] = (abs(df['Open_30'] - df['Close_30']))/(df['High_30'] - df['Low_30'])"
   ]
  },
  {
   "cell_type": "code",
   "execution_count": 6,
   "id": "7f654f74",
   "metadata": {},
   "outputs": [
    {
     "data": {
      "text/plain": [
       "(2349, 12)"
      ]
     },
     "execution_count": 6,
     "metadata": {},
     "output_type": "execute_result"
    }
   ],
   "source": [
    "df.shape"
   ]
  },
  {
   "cell_type": "code",
   "execution_count": 17,
   "id": "0977f76e",
   "metadata": {},
   "outputs": [
    {
     "data": {
      "text/html": [
       "<div>\n",
       "<style scoped>\n",
       "    .dataframe tbody tr th:only-of-type {\n",
       "        vertical-align: middle;\n",
       "    }\n",
       "\n",
       "    .dataframe tbody tr th {\n",
       "        vertical-align: top;\n",
       "    }\n",
       "\n",
       "    .dataframe thead th {\n",
       "        text-align: right;\n",
       "    }\n",
       "</style>\n",
       "<table border=\"1\" class=\"dataframe\">\n",
       "  <thead>\n",
       "    <tr style=\"text-align: right;\">\n",
       "      <th></th>\n",
       "      <th>Open_30</th>\n",
       "      <th>Close_30</th>\n",
       "      <th>Low_30</th>\n",
       "      <th>High_30</th>\n",
       "      <th>Open</th>\n",
       "      <th>High</th>\n",
       "      <th>Low</th>\n",
       "      <th>Close</th>\n",
       "      <th>OPR</th>\n",
       "      <th>CPR</th>\n",
       "      <th>...</th>\n",
       "      <th>CPR_Prev</th>\n",
       "      <th>OPR_Prev</th>\n",
       "      <th>Prev_Close</th>\n",
       "      <th>Open-Low%</th>\n",
       "      <th>Open-High%</th>\n",
       "      <th>Range~Prev_Close</th>\n",
       "      <th>True_Range_ratio_30</th>\n",
       "      <th>OPR_30</th>\n",
       "      <th>CPR_30</th>\n",
       "      <th>Solid_30</th>\n",
       "    </tr>\n",
       "    <tr>\n",
       "      <th>Date</th>\n",
       "      <th></th>\n",
       "      <th></th>\n",
       "      <th></th>\n",
       "      <th></th>\n",
       "      <th></th>\n",
       "      <th></th>\n",
       "      <th></th>\n",
       "      <th></th>\n",
       "      <th></th>\n",
       "      <th></th>\n",
       "      <th></th>\n",
       "      <th></th>\n",
       "      <th></th>\n",
       "      <th></th>\n",
       "      <th></th>\n",
       "      <th></th>\n",
       "      <th></th>\n",
       "      <th></th>\n",
       "      <th></th>\n",
       "      <th></th>\n",
       "      <th></th>\n",
       "    </tr>\n",
       "  </thead>\n",
       "  <tbody>\n",
       "    <tr>\n",
       "      <th>2010-01-04</th>\n",
       "      <td>5201.00</td>\n",
       "      <td>5220.00</td>\n",
       "      <td>5167.0</td>\n",
       "      <td>5224.00</td>\n",
       "      <td>5200.90</td>\n",
       "      <td>5238.45</td>\n",
       "      <td>5167.10</td>\n",
       "      <td>5232.2</td>\n",
       "      <td>0.473721</td>\n",
       "      <td>0.912404</td>\n",
       "      <td>...</td>\n",
       "      <td>0.772579</td>\n",
       "      <td>0.756257</td>\n",
       "      <td>5277.9</td>\n",
       "      <td>0.640406</td>\n",
       "      <td>0.711457</td>\n",
       "      <td>1.351863</td>\n",
       "      <td>1.079975</td>\n",
       "      <td>0.596491</td>\n",
       "      <td>0.929825</td>\n",
       "      <td>0.333333</td>\n",
       "    </tr>\n",
       "    <tr>\n",
       "      <th>2010-01-05</th>\n",
       "      <td>5277.00</td>\n",
       "      <td>5278.00</td>\n",
       "      <td>5242.0</td>\n",
       "      <td>5286.00</td>\n",
       "      <td>5277.15</td>\n",
       "      <td>5288.35</td>\n",
       "      <td>5242.40</td>\n",
       "      <td>5277.9</td>\n",
       "      <td>0.756257</td>\n",
       "      <td>0.772579</td>\n",
       "      <td>...</td>\n",
       "      <td>0.428150</td>\n",
       "      <td>0.356299</td>\n",
       "      <td>5281.8</td>\n",
       "      <td>0.657920</td>\n",
       "      <td>0.212049</td>\n",
       "      <td>0.869969</td>\n",
       "      <td>0.833049</td>\n",
       "      <td>0.795455</td>\n",
       "      <td>0.818182</td>\n",
       "      <td>0.022727</td>\n",
       "    </tr>\n",
       "    <tr>\n",
       "      <th>2010-01-06</th>\n",
       "      <td>5278.00</td>\n",
       "      <td>5287.00</td>\n",
       "      <td>5271.0</td>\n",
       "      <td>5311.00</td>\n",
       "      <td>5278.15</td>\n",
       "      <td>5310.85</td>\n",
       "      <td>5260.05</td>\n",
       "      <td>5281.8</td>\n",
       "      <td>0.356299</td>\n",
       "      <td>0.428150</td>\n",
       "      <td>...</td>\n",
       "      <td>0.317474</td>\n",
       "      <td>0.641003</td>\n",
       "      <td>5263.1</td>\n",
       "      <td>0.343904</td>\n",
       "      <td>0.621307</td>\n",
       "      <td>0.965211</td>\n",
       "      <td>0.760008</td>\n",
       "      <td>0.175000</td>\n",
       "      <td>0.400000</td>\n",
       "      <td>0.225000</td>\n",
       "    </tr>\n",
       "    <tr>\n",
       "      <th>2010-01-07</th>\n",
       "      <td>5281.80</td>\n",
       "      <td>5270.15</td>\n",
       "      <td>5264.5</td>\n",
       "      <td>5302.55</td>\n",
       "      <td>5281.80</td>\n",
       "      <td>5302.55</td>\n",
       "      <td>5244.75</td>\n",
       "      <td>5263.1</td>\n",
       "      <td>0.641003</td>\n",
       "      <td>0.317474</td>\n",
       "      <td>...</td>\n",
       "      <td>0.237812</td>\n",
       "      <td>0.702735</td>\n",
       "      <td>5244.7</td>\n",
       "      <td>0.706427</td>\n",
       "      <td>0.395638</td>\n",
       "      <td>1.102065</td>\n",
       "      <td>0.725494</td>\n",
       "      <td>0.454665</td>\n",
       "      <td>0.148489</td>\n",
       "      <td>0.306176</td>\n",
       "    </tr>\n",
       "    <tr>\n",
       "      <th>2010-01-08</th>\n",
       "      <td>5264.25</td>\n",
       "      <td>5259.65</td>\n",
       "      <td>5251.3</td>\n",
       "      <td>5275.10</td>\n",
       "      <td>5264.25</td>\n",
       "      <td>5276.75</td>\n",
       "      <td>5234.70</td>\n",
       "      <td>5244.7</td>\n",
       "      <td>0.702735</td>\n",
       "      <td>0.237812</td>\n",
       "      <td>...</td>\n",
       "      <td>0.363636</td>\n",
       "      <td>0.606061</td>\n",
       "      <td>5249.4</td>\n",
       "      <td>0.562921</td>\n",
       "      <td>0.238122</td>\n",
       "      <td>0.801044</td>\n",
       "      <td>0.453385</td>\n",
       "      <td>0.544118</td>\n",
       "      <td>0.350840</td>\n",
       "      <td>0.193277</td>\n",
       "    </tr>\n",
       "  </tbody>\n",
       "</table>\n",
       "<p>5 rows × 26 columns</p>\n",
       "</div>"
      ],
      "text/plain": [
       "            Open_30  Close_30  Low_30  High_30     Open     High      Low  \\\n",
       "Date                                                                        \n",
       "2010-01-04  5201.00   5220.00  5167.0  5224.00  5200.90  5238.45  5167.10   \n",
       "2010-01-05  5277.00   5278.00  5242.0  5286.00  5277.15  5288.35  5242.40   \n",
       "2010-01-06  5278.00   5287.00  5271.0  5311.00  5278.15  5310.85  5260.05   \n",
       "2010-01-07  5281.80   5270.15  5264.5  5302.55  5281.80  5302.55  5244.75   \n",
       "2010-01-08  5264.25   5259.65  5251.3  5275.10  5264.25  5276.75  5234.70   \n",
       "\n",
       "             Close       OPR       CPR  ...  CPR_Prev  OPR_Prev  Prev_Close  \\\n",
       "Date                                    ...                                   \n",
       "2010-01-04  5232.2  0.473721  0.912404  ...  0.772579  0.756257      5277.9   \n",
       "2010-01-05  5277.9  0.756257  0.772579  ...  0.428150  0.356299      5281.8   \n",
       "2010-01-06  5281.8  0.356299  0.428150  ...  0.317474  0.641003      5263.1   \n",
       "2010-01-07  5263.1  0.641003  0.317474  ...  0.237812  0.702735      5244.7   \n",
       "2010-01-08  5244.7  0.702735  0.237812  ...  0.363636  0.606061      5249.4   \n",
       "\n",
       "            Open-Low%  Open-High%  Range~Prev_Close  True_Range_ratio_30  \\\n",
       "Date                                                                       \n",
       "2010-01-04   0.640406    0.711457          1.351863             1.079975   \n",
       "2010-01-05   0.657920    0.212049          0.869969             0.833049   \n",
       "2010-01-06   0.343904    0.621307          0.965211             0.760008   \n",
       "2010-01-07   0.706427    0.395638          1.102065             0.725494   \n",
       "2010-01-08   0.562921    0.238122          0.801044             0.453385   \n",
       "\n",
       "              OPR_30    CPR_30  Solid_30  \n",
       "Date                                      \n",
       "2010-01-04  0.596491  0.929825  0.333333  \n",
       "2010-01-05  0.795455  0.818182  0.022727  \n",
       "2010-01-06  0.175000  0.400000  0.225000  \n",
       "2010-01-07  0.454665  0.148489  0.306176  \n",
       "2010-01-08  0.544118  0.350840  0.193277  \n",
       "\n",
       "[5 rows x 26 columns]"
      ]
     },
     "execution_count": 17,
     "metadata": {},
     "output_type": "execute_result"
    }
   ],
   "source": [
    "df.head()"
   ]
  },
  {
   "cell_type": "code",
   "execution_count": 32,
   "id": "cd5896f6",
   "metadata": {},
   "outputs": [
    {
     "data": {
      "text/plain": [
       "count    2348.000000\n",
       "mean        1.266065\n",
       "std         0.909413\n",
       "min         0.246119\n",
       "25%         0.756556\n",
       "50%         1.057894\n",
       "75%         1.503250\n",
       "max        17.442429\n",
       "Name: Range~Prev_Close, dtype: float64"
      ]
     },
     "execution_count": 32,
     "metadata": {},
     "output_type": "execute_result"
    }
   ],
   "source": [
    "df['Range~Prev_Close'].describe()"
   ]
  },
  {
   "cell_type": "code",
   "execution_count": 21,
   "id": "27e4626a",
   "metadata": {},
   "outputs": [
    {
     "data": {
      "text/plain": [
       "count    2348.000000\n",
       "mean        0.614624\n",
       "std         0.523884\n",
       "min         0.140583\n",
       "25%         0.373667\n",
       "50%         0.506421\n",
       "75%         0.721057\n",
       "max        16.334567\n",
       "Name: True_Range_ratio_30, dtype: float64"
      ]
     },
     "execution_count": 21,
     "metadata": {},
     "output_type": "execute_result"
    }
   ],
   "source": [
    "df['True_Range_ratio_30'].describe()"
   ]
  },
  {
   "cell_type": "code",
   "execution_count": 20,
   "id": "9a2d9172",
   "metadata": {},
   "outputs": [
    {
     "data": {
      "text/plain": [
       "count    1269.000000\n",
       "mean        0.662707\n",
       "std         0.603270\n",
       "min         0.140583\n",
       "25%         0.388613\n",
       "50%         0.548415\n",
       "75%         0.776149\n",
       "max        16.334567\n",
       "Name: True_Range_ratio_30, dtype: float64"
      ]
     },
     "execution_count": 20,
     "metadata": {},
     "output_type": "execute_result"
    }
   ],
   "source": [
    "df['True_Range_ratio_30'][(df['OPR'] > 0.8) | (df['OPR'] < 0.2)].describe()"
   ]
  },
  {
   "cell_type": "code",
   "execution_count": 22,
   "id": "8d796b12",
   "metadata": {},
   "outputs": [
    {
     "data": {
      "text/plain": [
       "count    736.000000\n",
       "mean       0.682374\n",
       "std        0.713735\n",
       "min        0.140583\n",
       "25%        0.395598\n",
       "50%        0.551982\n",
       "75%        0.786791\n",
       "max       16.334567\n",
       "Name: True_Range_ratio_30, dtype: float64"
      ]
     },
     "execution_count": 22,
     "metadata": {},
     "output_type": "execute_result"
    }
   ],
   "source": [
    "df['True_Range_ratio_30'][(df['OPR'] > 0.8)].describe()"
   ]
  },
  {
   "cell_type": "code",
   "execution_count": 23,
   "id": "69d63974",
   "metadata": {},
   "outputs": [
    {
     "data": {
      "text/plain": [
       "count    533.000000\n",
       "mean       0.635549\n",
       "std        0.402923\n",
       "min        0.174955\n",
       "25%        0.377513\n",
       "50%        0.539671\n",
       "75%        0.768433\n",
       "max        4.092333\n",
       "Name: True_Range_ratio_30, dtype: float64"
      ]
     },
     "execution_count": 23,
     "metadata": {},
     "output_type": "execute_result"
    }
   ],
   "source": [
    "df['True_Range_ratio_30'][(df['OPR'] < 0.2)].describe()"
   ]
  },
  {
   "cell_type": "markdown",
   "id": "8cf772ad",
   "metadata": {},
   "source": [
    "#### The above analysis suggests that there is no apparent difference in range of first 15 candle\n",
    "\n",
    "#### Another point to note here is, that true range of first 15min candle is more than 04% for 70% of the times, which clearly suggests that average volatility around the open is very high"
   ]
  },
  {
   "cell_type": "code",
   "execution_count": 24,
   "id": "e2809e48",
   "metadata": {},
   "outputs": [
    {
     "data": {
      "text/plain": [
       "count    2349.000000\n",
       "mean        0.554332\n",
       "std         0.351242\n",
       "min         0.000000\n",
       "25%         0.205689\n",
       "50%         0.582923\n",
       "75%         0.908046\n",
       "max         1.000000\n",
       "Name: OPR_30, dtype: float64"
      ]
     },
     "execution_count": 24,
     "metadata": {},
     "output_type": "execute_result"
    }
   ],
   "source": [
    "df['OPR_30'].describe()"
   ]
  },
  {
   "cell_type": "code",
   "execution_count": 27,
   "id": "ffd26c63",
   "metadata": {},
   "outputs": [
    {
     "data": {
      "text/plain": [
       "count    533.000000\n",
       "mean       0.741724\n",
       "std        0.218875\n",
       "min        0.020202\n",
       "25%        0.610975\n",
       "50%        0.803789\n",
       "75%        0.914740\n",
       "max        1.000000\n",
       "Name: CPR_30, dtype: float64"
      ]
     },
     "execution_count": 27,
     "metadata": {},
     "output_type": "execute_result"
    }
   ],
   "source": [
    "df['CPR_30'][df['OPR'] < 0.2].describe()"
   ]
  },
  {
   "cell_type": "code",
   "execution_count": 30,
   "id": "7e1c53c1",
   "metadata": {},
   "outputs": [
    {
     "data": {
      "text/plain": [
       "(array([  6.,   6.,  17.,  20.,  33.,  47.,  50.,  81., 116., 157.]),\n",
       " array([0. , 0.1, 0.2, 0.3, 0.4, 0.5, 0.6, 0.7, 0.8, 0.9, 1. ]),\n",
       " <BarContainer object of 10 artists>)"
      ]
     },
     "execution_count": 30,
     "metadata": {},
     "output_type": "execute_result"
    },
    {
     "data": {
      "image/png": "[encoded data removed]",
      "text/plain": [
       "<Figure size 432x288 with 1 Axes>"
      ]
     },
     "metadata": {
      "needs_background": "light"
     },
     "output_type": "display_data"
    }
   ],
   "source": [
    "import matplotlib.pyplot as plt\n",
    "%matplotlib inline\n",
    "bin_range = (0,0.1,0.2,0.3,0.4,0.5,0.6,0.7,0.8,0.9,1)\n",
    "\n",
    "plt.hist(df['CPR_30'][df['OPR'] < 0.2],rwidth=0.95,bins=bin_range)"
   ]
  },
  {
   "cell_type": "code",
   "execution_count": 28,
   "id": "57d99703",
   "metadata": {},
   "outputs": [
    {
     "data": {
      "text/plain": [
       "count    737.000000\n",
       "mean       0.304584\n",
       "std        0.214313\n",
       "min        0.000000\n",
       "25%        0.141066\n",
       "50%        0.259036\n",
       "75%        0.428051\n",
       "max        0.995316\n",
       "Name: CPR_30, dtype: float64"
      ]
     },
     "execution_count": 28,
     "metadata": {},
     "output_type": "execute_result"
    }
   ],
   "source": [
    "df['CPR_30'][df['OPR'] > 0.8].describe()"
   ]
  },
  {
   "cell_type": "code",
   "execution_count": 31,
   "id": "300e2874",
   "metadata": {},
   "outputs": [
    {
     "data": {
      "text/plain": [
       "(array([116., 164., 150.,  99.,  75.,  51.,  34.,  24.,  17.,   7.]),\n",
       " array([0. , 0.1, 0.2, 0.3, 0.4, 0.5, 0.6, 0.7, 0.8, 0.9, 1. ]),\n",
       " <BarContainer object of 10 artists>)"
      ]
     },
     "execution_count": 31,
     "metadata": {},
     "output_type": "execute_result"
    },
    {
     "data": {
      "image/png": "[encoded data removed]",
      "text/plain": [
       "<Figure size 432x288 with 1 Axes>"
      ]
     },
     "metadata": {
      "needs_background": "light"
     },
     "output_type": "display_data"
    }
   ],
   "source": [
    "plt.hist(df['CPR_30'][df['OPR'] > 0.8],rwidth=0.95,bins=bin_range)"
   ]
  },
  {
   "cell_type": "markdown",
   "id": "866b2777",
   "metadata": {},
   "source": [
    "#### The above statistics suggests that ORB direction can generally be assessed with the help of first 15min candle"
   ]
  },
  {
   "cell_type": "markdown",
   "id": "8dcaf7aa",
   "metadata": {},
   "source": [
    "## Statistics around 15min candle"
   ]
  },
  {
   "cell_type": "code",
   "execution_count": 41,
   "id": "1702807f",
   "metadata": {},
   "outputs": [],
   "source": [
    "df['Upper'] = ((df['High'] - df['High_30'])/df['Prev_Close'])*100\n",
    "df['Lower'] = ((df['Low_30'] - df['Low'])/df['Prev_Close'])*100"
   ]
  },
  {
   "cell_type": "code",
   "execution_count": 42,
   "id": "fb7922a0",
   "metadata": {},
   "outputs": [
    {
     "data": {
      "text/plain": [
       "count    2348.000000\n",
       "mean        0.283844\n",
       "std         0.505946\n",
       "min        -0.125377\n",
       "25%         0.000000\n",
       "50%         0.095819\n",
       "75%         0.389603\n",
       "max        11.157501\n",
       "Name: Upper, dtype: float64"
      ]
     },
     "execution_count": 42,
     "metadata": {},
     "output_type": "execute_result"
    }
   ],
   "source": [
    "df['Upper'].describe()"
   ]
  },
  {
   "cell_type": "code",
   "execution_count": 43,
   "id": "a930e5de",
   "metadata": {},
   "outputs": [
    {
     "data": {
      "text/plain": [
       "count    2348.000000\n",
       "mean        0.367596\n",
       "std         0.522980\n",
       "min        -0.007573\n",
       "25%         0.000000\n",
       "50%         0.179368\n",
       "75%         0.531931\n",
       "max         5.390638\n",
       "Name: Lower, dtype: float64"
      ]
     },
     "execution_count": 43,
     "metadata": {},
     "output_type": "execute_result"
    }
   ],
   "source": [
    "df['Lower'].describe()"
   ]
  },
  {
   "cell_type": "code",
   "execution_count": 44,
   "id": "ef8d2a81",
   "metadata": {},
   "outputs": [
    {
     "data": {
      "text/plain": [
       "count    533.000000\n",
       "mean       0.652487\n",
       "std        0.630501\n",
       "min        0.000000\n",
       "25%        0.232929\n",
       "50%        0.504134\n",
       "75%        0.905596\n",
       "max        5.804709\n",
       "Name: Upper, dtype: float64"
      ]
     },
     "execution_count": 44,
     "metadata": {},
     "output_type": "execute_result"
    }
   ],
   "source": [
    "df['Upper'][df['OPR'] < 0.2].describe()"
   ]
  },
  {
   "cell_type": "code",
   "execution_count": 45,
   "id": "2d3dca58",
   "metadata": {},
   "outputs": [
    {
     "data": {
      "text/plain": [
       "count    736.000000\n",
       "mean       0.705345\n",
       "std        0.665300\n",
       "min        0.000000\n",
       "25%        0.253472\n",
       "50%        0.539074\n",
       "75%        0.934544\n",
       "max        5.390638\n",
       "Name: Lower, dtype: float64"
      ]
     },
     "execution_count": 45,
     "metadata": {},
     "output_type": "execute_result"
    }
   ],
   "source": [
    "df['Lower'][df['OPR'] > 0.8].describe()"
   ]
  },
  {
   "cell_type": "markdown",
   "id": "697e2db6",
   "metadata": {},
   "source": [
    "#### This suggests that less than 50% of the times that to in ORB trades, the index makes an 0.6% move from the high of 15min candle.\n",
    "#### More than 75% of the times its less than 1%, that too in direction of ORB"
   ]
  },
  {
   "cell_type": "code",
   "execution_count": 47,
   "id": "7f5b240e",
   "metadata": {},
   "outputs": [
    {
     "data": {
      "text/plain": [
       "count    1079.000000\n",
       "mean        0.310583\n",
       "std         0.388043\n",
       "min        -0.007573\n",
       "25%         0.008283\n",
       "50%         0.192160\n",
       "75%         0.444828\n",
       "max         3.957185\n",
       "Name: Lower, dtype: float64"
      ]
     },
     "execution_count": 47,
     "metadata": {},
     "output_type": "execute_result"
    }
   ],
   "source": [
    "df['Lower'][(df['OPR'] > 0.2) & (df['OPR'] < 0.8)].describe()"
   ]
  },
  {
   "cell_type": "code",
   "execution_count": 48,
   "id": "a12a1fc4",
   "metadata": {},
   "outputs": [
    {
     "data": {
      "text/plain": [
       "count    1079.000000\n",
       "mean        0.282233\n",
       "std         0.493538\n",
       "min        -0.125377\n",
       "25%         0.000000\n",
       "50%         0.165714\n",
       "75%         0.398290\n",
       "max        11.157501\n",
       "Name: Upper, dtype: float64"
      ]
     },
     "execution_count": 48,
     "metadata": {},
     "output_type": "execute_result"
    }
   ],
   "source": [
    "df['Upper'][(df['OPR'] > 0.2) & (df['OPR'] < 0.8)].describe()"
   ]
  },
  {
   "cell_type": "markdown",
   "id": "6114a15f",
   "metadata": {},
   "source": [
    "#### For trades other than ORB, the index doesn't move more than 0.5% for more than 75% of the time"
   ]
  },
  {
   "cell_type": "markdown",
   "id": "dc4c604f",
   "metadata": {},
   "source": [
    "## After directional first 15min candle at open"
   ]
  },
  {
   "cell_type": "code",
   "execution_count": 62,
   "id": "b796672a",
   "metadata": {},
   "outputs": [
    {
     "data": {
      "text/plain": [
       "count    760.000000\n",
       "mean       0.610879\n",
       "std        0.287986\n",
       "min        0.038998\n",
       "25%        0.341720\n",
       "50%        0.706382\n",
       "75%        0.866555\n",
       "max        0.966050\n",
       "Name: CPR, dtype: float64"
      ]
     },
     "execution_count": 62,
     "metadata": {},
     "output_type": "execute_result"
    }
   ],
   "source": [
    "df['CPR'][df['CPR_30'] > 0.7].describe()"
   ]
  },
  {
   "cell_type": "code",
   "execution_count": 63,
   "id": "e2188c91",
   "metadata": {},
   "outputs": [
    {
     "data": {
      "text/plain": [
       "count    730.000000\n",
       "mean       0.416913\n",
       "std        0.285572\n",
       "min        0.033240\n",
       "25%        0.155098\n",
       "50%        0.351103\n",
       "75%        0.672977\n",
       "max        0.967550\n",
       "Name: CPR, dtype: float64"
      ]
     },
     "execution_count": 63,
     "metadata": {},
     "output_type": "execute_result"
    }
   ],
   "source": [
    "df['CPR'][df['CPR_30'] < 0.3].describe()"
   ]
  },
  {
   "cell_type": "code",
   "execution_count": 73,
   "id": "b1818491",
   "metadata": {},
   "outputs": [
    {
     "data": {
      "text/plain": [
       "count    536.000000\n",
       "mean       0.433612\n",
       "std        0.443527\n",
       "min       -0.000432\n",
       "25%        0.112550\n",
       "50%        0.292917\n",
       "75%        0.637086\n",
       "max        2.548925\n",
       "Name: Upper, dtype: float64"
      ]
     },
     "execution_count": 73,
     "metadata": {},
     "output_type": "execute_result"
    }
   ],
   "source": [
    "df['Upper'][df['CPR_30'] > 0.8].describe()"
   ]
  },
  {
   "cell_type": "code",
   "execution_count": 70,
   "id": "cc7377f4",
   "metadata": {},
   "outputs": [
    {
     "data": {
      "text/plain": [
       "count    258.000000\n",
       "mean       0.442270\n",
       "std        0.451234\n",
       "min        0.000000\n",
       "25%        0.121048\n",
       "50%        0.287688\n",
       "75%        0.653464\n",
       "max        2.548925\n",
       "Name: Upper, dtype: float64"
      ]
     },
     "execution_count": 70,
     "metadata": {},
     "output_type": "execute_result"
    }
   ],
   "source": [
    "df['Upper'][(df['CPR_30'] > 0.8) & (df['OPR_30'] < 0.2)].describe()"
   ]
  },
  {
   "cell_type": "code",
   "execution_count": 66,
   "id": "4a4c9688",
   "metadata": {},
   "outputs": [
    {
     "data": {
      "text/plain": [
       "count    462.000000\n",
       "mean       0.585437\n",
       "std        0.655452\n",
       "min       -0.000482\n",
       "25%        0.157733\n",
       "50%        0.393979\n",
       "75%        0.761949\n",
       "max        5.390638\n",
       "Name: Lower, dtype: float64"
      ]
     },
     "execution_count": 66,
     "metadata": {},
     "output_type": "execute_result"
    }
   ],
   "source": [
    "df['Lower'][(df['CPR_30'] < 0.2)].describe()"
   ]
  },
  {
   "cell_type": "code",
   "execution_count": 67,
   "id": "dd6bb50a",
   "metadata": {},
   "outputs": [
    {
     "data": {
      "text/plain": [
       "count    285.000000\n",
       "mean       0.637909\n",
       "std        0.706796\n",
       "min       -0.000482\n",
       "25%        0.167769\n",
       "50%        0.422554\n",
       "75%        0.816377\n",
       "max        5.390638\n",
       "Name: Lower, dtype: float64"
      ]
     },
     "execution_count": 67,
     "metadata": {},
     "output_type": "execute_result"
    }
   ],
   "source": [
    "df['Lower'][(df['CPR_30'] < 0.2) & (df['OPR_30'] > 0.8)].describe()"
   ]
  },
  {
   "cell_type": "code",
   "execution_count": 74,
   "id": "3461d351",
   "metadata": {},
   "outputs": [
    {
     "data": {
      "text/plain": [
       "count    462.000000\n",
       "mean       0.780753\n",
       "std        0.239618\n",
       "min        0.002973\n",
       "25%        0.613529\n",
       "50%        0.882861\n",
       "75%        0.979659\n",
       "max        1.000000\n",
       "Name: OPR, dtype: float64"
      ]
     },
     "execution_count": 74,
     "metadata": {},
     "output_type": "execute_result"
    }
   ],
   "source": [
    "df['OPR'][(df['CPR_30'] < 0.2)].describe()"
   ]
  },
  {
   "cell_type": "code",
   "execution_count": 75,
   "id": "8bcd37b6",
   "metadata": {},
   "outputs": [
    {
     "data": {
      "text/plain": [
       "count    536.000000\n",
       "mean       0.276287\n",
       "std        0.264054\n",
       "min        0.000000\n",
       "25%        0.044541\n",
       "50%        0.180142\n",
       "75%        0.479049\n",
       "max        0.992500\n",
       "Name: OPR, dtype: float64"
      ]
     },
     "execution_count": 75,
     "metadata": {},
     "output_type": "execute_result"
    }
   ],
   "source": [
    "df['OPR'][(df['CPR_30'] > 0.8)].describe()"
   ]
  },
  {
   "cell_type": "markdown",
   "id": "582b2bed",
   "metadata": {},
   "source": [
    "#### Above OPR distribution suggests that the tendency for open being the extreme of the Day tends rise after strong directional first 15min candle"
   ]
  },
  {
   "cell_type": "code",
   "execution_count": 76,
   "id": "6472ce4a",
   "metadata": {},
   "outputs": [
    {
     "data": {
      "text/plain": [
       "count    536.000000\n",
       "mean       0.621782\n",
       "std        0.282858\n",
       "min        0.038998\n",
       "25%        0.380231\n",
       "50%        0.723800\n",
       "75%        0.873505\n",
       "max        0.966050\n",
       "Name: CPR, dtype: float64"
      ]
     },
     "execution_count": 76,
     "metadata": {},
     "output_type": "execute_result"
    }
   ],
   "source": [
    "df['CPR'][(df['CPR_30'] > 0.8)].describe()"
   ]
  },
  {
   "cell_type": "code",
   "execution_count": 77,
   "id": "5c7fc71c",
   "metadata": {},
   "outputs": [
    {
     "data": {
      "text/plain": [
       "count    462.000000\n",
       "mean       0.401375\n",
       "std        0.287129\n",
       "min        0.033240\n",
       "25%        0.141052\n",
       "50%        0.322945\n",
       "75%        0.659472\n",
       "max        0.967550\n",
       "Name: CPR, dtype: float64"
      ]
     },
     "execution_count": 77,
     "metadata": {},
     "output_type": "execute_result"
    }
   ],
   "source": [
    "df['CPR'][(df['CPR_30'] < 0.2)].describe()"
   ]
  },
  {
   "cell_type": "markdown",
   "id": "f9e2d513",
   "metadata": {},
   "source": [
    "#### After strong directional move at open (1st 15min candle), the close tends to occur in the half of the 15min candles direction"
   ]
  },
  {
   "cell_type": "markdown",
   "id": "4ce9789a",
   "metadata": {},
   "source": [
    "## Day's range when compared to first candle"
   ]
  },
  {
   "cell_type": "code",
   "execution_count": 78,
   "id": "f83bf864",
   "metadata": {},
   "outputs": [
    {
     "data": {
      "text/plain": [
       "count    627.000000\n",
       "mean       1.932918\n",
       "std        1.315705\n",
       "min        0.723776\n",
       "25%        1.239668\n",
       "50%        1.648186\n",
       "75%        2.172509\n",
       "max       16.133046\n",
       "Name: True_Range_ratio, dtype: float64"
      ]
     },
     "execution_count": 78,
     "metadata": {},
     "output_type": "execute_result"
    }
   ],
   "source": [
    "df[\"True_Range_ratio\"][df['True_Range_ratio_30'] > 0.7].describe() "
   ]
  },
  {
   "cell_type": "code",
   "execution_count": 79,
   "id": "25a3a83c",
   "metadata": {},
   "outputs": [
    {
     "data": {
      "text/plain": [
       "count    727.000000\n",
       "mean       0.864751\n",
       "std        0.416083\n",
       "min        0.246096\n",
       "25%        0.577846\n",
       "50%        0.754834\n",
       "75%        1.046948\n",
       "max        3.192689\n",
       "Name: True_Range_ratio, dtype: float64"
      ]
     },
     "execution_count": 79,
     "metadata": {},
     "output_type": "execute_result"
    }
   ],
   "source": [
    "df[\"True_Range_ratio\"][df['True_Range_ratio_30'] < 0.4].describe() "
   ]
  },
  {
   "cell_type": "code",
   "execution_count": 80,
   "id": "1c5dbfa4",
   "metadata": {},
   "outputs": [
    {
     "data": {
      "text/plain": [
       "count    994.000000\n",
       "mean       1.138873\n",
       "std        0.525410\n",
       "min        0.421364\n",
       "25%        0.780590\n",
       "50%        1.025891\n",
       "75%        1.318276\n",
       "max        6.128260\n",
       "Name: True_Range_ratio, dtype: float64"
      ]
     },
     "execution_count": 80,
     "metadata": {},
     "output_type": "execute_result"
    }
   ],
   "source": [
    "df[\"True_Range_ratio\"][(df['True_Range_ratio_30'] > 0.4) & (df['True_Range_ratio_30'] < 0.7) ].describe() "
   ]
  },
  {
   "cell_type": "markdown",
   "id": "c56b7576",
   "metadata": {},
   "source": [
    "#### The above analysis suggests that there is strong correlation between 15min candle range and daily range"
   ]
  },
  {
   "cell_type": "markdown",
   "id": "ed697499",
   "metadata": {},
   "source": [
    "## Trading Strategy after directional 15min candle"
   ]
  },
  {
   "cell_type": "markdown",
   "id": "4562857f",
   "metadata": {},
   "source": [
    "### 1) Relation of first candle with day's OPR"
   ]
  },
  {
   "cell_type": "code",
   "execution_count": 86,
   "id": "f210236c",
   "metadata": {},
   "outputs": [
    {
     "data": {
      "text/plain": [
       "count    717.000000\n",
       "mean       0.259874\n",
       "std        0.250973\n",
       "min        0.000000\n",
       "25%        0.044133\n",
       "50%        0.168693\n",
       "75%        0.458451\n",
       "max        0.985894\n",
       "Name: OPR, dtype: float64"
      ]
     },
     "execution_count": 86,
     "metadata": {},
     "output_type": "execute_result"
    }
   ],
   "source": [
    "df['OPR'][((df['OPR_30'] < 0.7) & (df['CPR_30'] > 0.7)) | ((df['OPR_30'] < 0.2) & (df['CPR_30'] > 0.6))].describe()"
   ]
  },
  {
   "cell_type": "code",
   "execution_count": 88,
   "id": "a8bc1d8c",
   "metadata": {},
   "outputs": [
    {
     "data": {
      "text/plain": [
       "(array([280., 102.,  64.,  69.,  45.,  63.,  43.,  30.,  17.,   4.]),\n",
       " array([0. , 0.1, 0.2, 0.3, 0.4, 0.5, 0.6, 0.7, 0.8, 0.9, 1. ]),\n",
       " <BarContainer object of 10 artists>)"
      ]
     },
     "execution_count": 88,
     "metadata": {},
     "output_type": "execute_result"
    },
    {
     "data": {
      "image/png": "[encoded data removed]",
      "text/plain": [
       "<Figure size 432x288 with 1 Axes>"
      ]
     },
     "metadata": {
      "needs_background": "light"
     },
     "output_type": "display_data"
    }
   ],
   "source": [
    "plt.hist(df['OPR'][((df['OPR_30'] < 0.7) & (df['CPR_30'] > 0.7)) | ((df['OPR_30'] < 0.2) & (df['CPR_30'] > 0.6))],rwidth=0.95,bins=bin_range)"
   ]
  },
  {
   "cell_type": "code",
   "execution_count": 87,
   "id": "64dcb759",
   "metadata": {},
   "outputs": [
    {
     "data": {
      "text/plain": [
       "count    783.000000\n",
       "mean       0.797726\n",
       "std        0.223572\n",
       "min        0.080764\n",
       "25%        0.643606\n",
       "50%        0.895408\n",
       "75%        0.977355\n",
       "max        1.000000\n",
       "Name: OPR, dtype: float64"
      ]
     },
     "execution_count": 87,
     "metadata": {},
     "output_type": "execute_result"
    }
   ],
   "source": [
    "df['OPR'][((df['OPR_30'] > 0.3) & (df['CPR_30'] < 0.3)) | ((df['OPR_30'] > 0.8) & (df['CPR_30'] < 0.4))].describe()"
   ]
  },
  {
   "cell_type": "code",
   "execution_count": 89,
   "id": "2f5a75e4",
   "metadata": {},
   "outputs": [
    {
     "data": {
      "text/plain": [
       "(array([  1.,  11.,  15.,  34.,  44.,  56.,  62.,  53., 122., 385.]),\n",
       " array([0. , 0.1, 0.2, 0.3, 0.4, 0.5, 0.6, 0.7, 0.8, 0.9, 1. ]),\n",
       " <BarContainer object of 10 artists>)"
      ]
     },
     "execution_count": 89,
     "metadata": {},
     "output_type": "execute_result"
    },
    {
     "data": {
      "image/png": "[encoded data removed]",
      "text/plain": [
       "<Figure size 432x288 with 1 Axes>"
      ]
     },
     "metadata": {
      "needs_background": "light"
     },
     "output_type": "display_data"
    }
   ],
   "source": [
    "plt.hist(df['OPR'][((df['OPR_30'] > 0.3) & (df['CPR_30'] < 0.3)) | ((df['OPR_30'] > 0.8) & (df['CPR_30'] < 0.4))],rwidth=0.95,bins=bin_range)"
   ]
  },
  {
   "cell_type": "markdown",
   "id": "b5caa76c",
   "metadata": {},
   "source": [
    "## Very strong evidence that first 15min candle decides the fate of where day's OPR may lie"
   ]
  },
  {
   "cell_type": "markdown",
   "id": "222d62cf",
   "metadata": {},
   "source": [
    "### 2) Opposite side range for setting stop-loss"
   ]
  },
  {
   "cell_type": "code",
   "execution_count": 90,
   "id": "4064833d",
   "metadata": {},
   "outputs": [
    {
     "data": {
      "text/plain": [
       "count    783.000000\n",
       "mean       0.163539\n",
       "std        0.530118\n",
       "min       -0.000497\n",
       "25%        0.000000\n",
       "50%        0.000000\n",
       "75%        0.137870\n",
       "max       11.157501\n",
       "Name: Upper, dtype: float64"
      ]
     },
     "execution_count": 90,
     "metadata": {},
     "output_type": "execute_result"
    }
   ],
   "source": [
    "df['Upper'][((df['OPR_30'] > 0.3) & (df['CPR_30'] < 0.3)) | ((df['OPR_30'] > 0.8) & (df['CPR_30'] < 0.4))].describe()"
   ]
  },
  {
   "cell_type": "code",
   "execution_count": 91,
   "id": "ef062d75",
   "metadata": {},
   "outputs": [
    {
     "data": {
      "text/plain": [
       "count    717.000000\n",
       "mean       0.218516\n",
       "std        0.439059\n",
       "min       -0.001895\n",
       "25%        0.000000\n",
       "50%        0.000000\n",
       "75%        0.251549\n",
       "max        3.621319\n",
       "Name: Lower, dtype: float64"
      ]
     },
     "execution_count": 91,
     "metadata": {},
     "output_type": "execute_result"
    }
   ],
   "source": [
    "df['Lower'][((df['OPR_30'] < 0.7) & (df['CPR_30'] > 0.7)) | ((df['OPR_30'] < 0.2) & (df['CPR_30'] > 0.6))].describe()"
   ]
  },
  {
   "cell_type": "markdown",
   "id": "323207e3",
   "metadata": {},
   "source": [
    "#### So less than 75% of the trades go beyond 0.25% of first candles opposite extreme"
   ]
  },
  {
   "cell_type": "code",
   "execution_count": 136,
   "id": "644118f4",
   "metadata": {},
   "outputs": [
    {
     "data": {
      "text/plain": [
       "count    567.000000\n",
       "mean       0.004457\n",
       "std        0.015313\n",
       "min       -0.000497\n",
       "25%        0.000000\n",
       "50%        0.000000\n",
       "75%        0.000000\n",
       "max        0.097069\n",
       "Name: Upper, dtype: float64"
      ]
     },
     "execution_count": 136,
     "metadata": {},
     "output_type": "execute_result"
    }
   ],
   "source": [
    "df['Upper'][(((df['OPR_30'] > 0.3) & (df['CPR_30'] < 0.3)) | ((df['OPR_30'] > 0.8) & (df['CPR_30'] < 0.4))) & (df['Upper'] <= 0.1) ].describe()"
   ]
  },
  {
   "cell_type": "code",
   "execution_count": 137,
   "id": "4bda6b67",
   "metadata": {},
   "outputs": [
    {
     "data": {
      "text/plain": [
       "count    477.000000\n",
       "mean       0.007543\n",
       "std        0.020867\n",
       "min       -0.001895\n",
       "25%        0.000000\n",
       "50%        0.000000\n",
       "75%        0.000000\n",
       "max        0.098733\n",
       "Name: Lower, dtype: float64"
      ]
     },
     "execution_count": 137,
     "metadata": {},
     "output_type": "execute_result"
    }
   ],
   "source": [
    "df['Lower'][(((df['OPR_30'] < 0.7) & (df['CPR_30'] > 0.7)) | ((df['OPR_30'] < 0.2) & (df['CPR_30'] > 0.6))) & (df['Lower'] <= 0.1)].describe()"
   ]
  },
  {
   "cell_type": "markdown",
   "id": "9f3fd3df",
   "metadata": {},
   "source": [
    "### We can use the above condition to calculate the profits that we could have accured"
   ]
  },
  {
   "cell_type": "code",
   "execution_count": 141,
   "id": "2b49c1eb",
   "metadata": {},
   "outputs": [],
   "source": [
    "df[\"Close~15min-High\"] = ((df['Close'] - df['High_30'])/df['Prev_Close'])*100\n",
    "df[\"Close~15min-Low\"] = ((df['Low_30'] - df['Close'])/df['Prev_Close'])*100"
   ]
  },
  {
   "cell_type": "markdown",
   "id": "9dd91da8",
   "metadata": {},
   "source": [
    "#### Above variables are only generated to assess the directional validity, we can't use in all data interpretation"
   ]
  },
  {
   "cell_type": "code",
   "execution_count": 154,
   "id": "86aac553",
   "metadata": {},
   "outputs": [
    {
     "data": {
      "text/plain": [
       "count    717.000000\n",
       "mean      -0.078934\n",
       "std        0.779251\n",
       "min       -4.831004\n",
       "25%       -0.437768\n",
       "50%       -0.018376\n",
       "75%        0.385126\n",
       "max        2.551779\n",
       "Name: Close~15min-High, dtype: float64"
      ]
     },
     "execution_count": 154,
     "metadata": {},
     "output_type": "execute_result"
    }
   ],
   "source": [
    "df[\"Close~15min-High\"][(((df['OPR_30'] < 0.7) & (df['CPR_30'] > 0.7)) | ((df['OPR_30'] < 0.2) & (df['CPR_30'] > 0.6)))].describe()"
   ]
  },
  {
   "cell_type": "code",
   "execution_count": 1,
   "id": "7dfe8a24",
   "metadata": {},
   "outputs": [
    {
     "ename": "NameError",
     "evalue": "name 'df' is not defined",
     "output_type": "error",
     "traceback": [
      "\u001b[1;31m---------------------------------------------------------------------------\u001b[0m",
      "\u001b[1;31mNameError\u001b[0m                                 Traceback (most recent call last)",
      "\u001b[1;32m~\\AppData\\Local\\Temp/ipykernel_1660/3714205036.py\u001b[0m in \u001b[0;36m<module>\u001b[1;34m\u001b[0m\n\u001b[1;32m----> 1\u001b[1;33m \u001b[0mdf\u001b[0m\u001b[1;33m[\u001b[0m\u001b[1;34m\"Close~15min-High\"\u001b[0m\u001b[1;33m]\u001b[0m\u001b[1;33m[\u001b[0m\u001b[1;33m(\u001b[0m\u001b[1;33m(\u001b[0m\u001b[1;33m(\u001b[0m\u001b[0mdf\u001b[0m\u001b[1;33m[\u001b[0m\u001b[1;34m'OPR_30'\u001b[0m\u001b[1;33m]\u001b[0m \u001b[1;33m<\u001b[0m \u001b[1;36m0.7\u001b[0m\u001b[1;33m)\u001b[0m \u001b[1;33m&\u001b[0m \u001b[1;33m(\u001b[0m\u001b[0mdf\u001b[0m\u001b[1;33m[\u001b[0m\u001b[1;34m'CPR_30'\u001b[0m\u001b[1;33m]\u001b[0m \u001b[1;33m>\u001b[0m \u001b[1;36m0.7\u001b[0m\u001b[1;33m)\u001b[0m\u001b[1;33m)\u001b[0m \u001b[1;33m|\u001b[0m \u001b[1;33m(\u001b[0m\u001b[1;33m(\u001b[0m\u001b[0mdf\u001b[0m\u001b[1;33m[\u001b[0m\u001b[1;34m'OPR_30'\u001b[0m\u001b[1;33m]\u001b[0m \u001b[1;33m<\u001b[0m \u001b[1;36m0.2\u001b[0m\u001b[1;33m)\u001b[0m \u001b[1;33m&\u001b[0m \u001b[1;33m(\u001b[0m\u001b[0mdf\u001b[0m\u001b[1;33m[\u001b[0m\u001b[1;34m'CPR_30'\u001b[0m\u001b[1;33m]\u001b[0m \u001b[1;33m>\u001b[0m \u001b[1;36m0.6\u001b[0m\u001b[1;33m)\u001b[0m\u001b[1;33m)\u001b[0m\u001b[1;33m)\u001b[0m \u001b[1;33m&\u001b[0m \u001b[1;33m(\u001b[0m \u001b[0mdf\u001b[0m\u001b[1;33m[\u001b[0m\u001b[1;34m\"Close~15min-High\"\u001b[0m\u001b[1;33m]\u001b[0m \u001b[1;33m<\u001b[0m \u001b[1;33m-\u001b[0m\u001b[1;36m0.25\u001b[0m \u001b[1;33m)\u001b[0m \u001b[1;33m]\u001b[0m\u001b[1;33m.\u001b[0m\u001b[0mdescribe\u001b[0m\u001b[1;33m(\u001b[0m\u001b[1;33m)\u001b[0m\u001b[1;33m\u001b[0m\u001b[1;33m\u001b[0m\u001b[0m\n\u001b[0m",
      "\u001b[1;31mNameError\u001b[0m: name 'df' is not defined"
     ]
    }
   ],
   "source": [
    "df[\"Close~15min-High\"][(((df['OPR_30'] < 0.7) & (df['CPR_30'] > 0.7)) | ((df['OPR_30'] < 0.2) & (df['CPR_30'] > 0.6))) & ( df[\"Close~15min-High\"] < -0.25 ) ].describe()"
   ]
  },
  {
   "cell_type": "code",
   "execution_count": 156,
   "id": "b70caf91",
   "metadata": {},
   "outputs": [
    {
     "data": {
      "text/plain": [
       "count    783.000000\n",
       "mean      -0.019150\n",
       "std        0.959860\n",
       "min      -14.473112\n",
       "25%       -0.432492\n",
       "50%       -0.018086\n",
       "75%        0.398888\n",
       "max        4.643367\n",
       "Name: Close~15min-Low, dtype: float64"
      ]
     },
     "execution_count": 156,
     "metadata": {},
     "output_type": "execute_result"
    }
   ],
   "source": [
    "df[\"Close~15min-Low\"][(((df['OPR_30'] > 0.3) & (df['CPR_30'] < 0.3)) | ((df['OPR_30'] > 0.8) & (df['CPR_30'] < 0.4)))   ].describe()"
   ]
  },
  {
   "cell_type": "code",
   "execution_count": 176,
   "id": "852a1806",
   "metadata": {},
   "outputs": [
    {
     "data": {
      "text/plain": [
       "count    567.000000\n",
       "mean       0.270347\n",
       "std        0.680328\n",
       "min       -2.578807\n",
       "25%       -0.143522\n",
       "50%        0.146800\n",
       "75%        0.564602\n",
       "max        4.643367\n",
       "Name: Close~15min-Low, dtype: float64"
      ]
     },
     "execution_count": 176,
     "metadata": {},
     "output_type": "execute_result"
    }
   ],
   "source": [
    "df[\"Close~15min-Low\"][(((df['OPR_30'] > 0.3) & (df['CPR_30'] < 0.3)) | ((df['OPR_30'] > 0.8) & (df['CPR_30'] < 0.4))) & (df['Upper'] <= 0.1)  ].describe()"
   ]
  },
  {
   "cell_type": "code",
   "execution_count": 178,
   "id": "ad591d3b",
   "metadata": {},
   "outputs": [
    {
     "data": {
      "text/plain": [
       "count    477.000000\n",
       "mean       0.260451\n",
       "std        0.531232\n",
       "min       -2.544475\n",
       "25%       -0.079206\n",
       "50%        0.170205\n",
       "75%        0.586382\n",
       "max        2.551779\n",
       "Name: Close~15min-High, dtype: float64"
      ]
     },
     "execution_count": 178,
     "metadata": {},
     "output_type": "execute_result"
    }
   ],
   "source": [
    "df[\"Close~15min-High\"][(((df['OPR_30'] < 0.7) & (df['CPR_30'] > 0.7)) | ((df['OPR_30'] < 0.2) & (df['CPR_30'] > 0.6))) & (df['Lower'] <= 0.1) ].describe()"
   ]
  },
  {
   "cell_type": "code",
   "execution_count": 169,
   "id": "a245d7ba",
   "metadata": {},
   "outputs": [
    {
     "data": {
      "text/plain": [
       "count    636.000000\n",
       "mean       0.033359\n",
       "std        0.109285\n",
       "min       -0.000497\n",
       "25%        0.000000\n",
       "50%        0.000000\n",
       "75%        0.000000\n",
       "max        1.339594\n",
       "Name: Upper, dtype: float64"
      ]
     },
     "execution_count": 169,
     "metadata": {},
     "output_type": "execute_result"
    }
   ],
   "source": [
    "df[\"Upper\"][(((df['OPR_30'] > 0.3) & (df['CPR_30'] < 0.3)) | ((df['OPR_30'] > 0.8) & (df['CPR_30'] < 0.4))) & (df['High_30'] > df['Close'])  ].describe()"
   ]
  },
  {
   "cell_type": "code",
   "execution_count": 168,
   "id": "0c69cd6c",
   "metadata": {},
   "outputs": [
    {
     "data": {
      "text/plain": [
       "count    572.000000\n",
       "mean       0.059700\n",
       "std        0.154347\n",
       "min       -0.001895\n",
       "25%        0.000000\n",
       "50%        0.000000\n",
       "75%        0.033039\n",
       "max        1.663836\n",
       "Name: Lower, dtype: float64"
      ]
     },
     "execution_count": 168,
     "metadata": {},
     "output_type": "execute_result"
    }
   ],
   "source": [
    "df[\"Lower\"][(((df['OPR_30'] < 0.7) & (df['CPR_30'] > 0.7)) | ((df['OPR_30'] < 0.2) & (df['CPR_30'] > 0.6))) & (df['Low_30'] < df['Close']) ].describe()"
   ]
  },
  {
   "cell_type": "code",
   "execution_count": 173,
   "id": "d416abd0",
   "metadata": {},
   "outputs": [
    {
     "data": {
      "text/plain": [
       "count    390.000000\n",
       "mean       0.311470\n",
       "std        0.530228\n",
       "min       -2.544475\n",
       "25%       -0.017529\n",
       "50%        0.245646\n",
       "75%        0.626211\n",
       "max        2.551779\n",
       "Name: Close~15min-High, dtype: float64"
      ]
     },
     "execution_count": 173,
     "metadata": {},
     "output_type": "execute_result"
    }
   ],
   "source": [
    "df['Close~15min-High'][(((df['OPR_30'] < 0.7) & (df['CPR_30'] > 0.7)) | ((df['OPR_30'] < 0.2) & (df['CPR_30'] > 0.6))) & (df['Low'] >= df['Low_30']  )].describe()"
   ]
  },
  {
   "cell_type": "code",
   "execution_count": 170,
   "id": "92eded0d",
   "metadata": {},
   "outputs": [
    {
     "data": {
      "text/plain": [
       "count    489.000000\n",
       "mean      -0.000019\n",
       "std        0.000094\n",
       "min       -0.000497\n",
       "25%        0.000000\n",
       "50%        0.000000\n",
       "75%        0.000000\n",
       "max        0.000000\n",
       "Name: Upper, dtype: float64"
      ]
     },
     "execution_count": 170,
     "metadata": {},
     "output_type": "execute_result"
    }
   ],
   "source": [
    "df[\"Upper\"][(((df['OPR_30'] > 0.3) & (df['CPR_30'] < 0.3)) | ((df['OPR_30'] > 0.8) & (df['CPR_30'] < 0.4))) & (df['High_30'] >= df['High'])  ].describe()"
   ]
  },
  {
   "cell_type": "code",
   "execution_count": 171,
   "id": "c156e8f9",
   "metadata": {},
   "outputs": [
    {
     "data": {
      "text/plain": [
       "count    489.000000\n",
       "mean       0.672805\n",
       "std        0.642497\n",
       "min        0.000000\n",
       "25%        0.230806\n",
       "50%        0.511091\n",
       "75%        0.894777\n",
       "max        5.390638\n",
       "Name: Lower, dtype: float64"
      ]
     },
     "execution_count": 171,
     "metadata": {},
     "output_type": "execute_result"
    }
   ],
   "source": [
    "df[\"Lower\"][(((df['OPR_30'] > 0.3) & (df['CPR_30'] < 0.3)) | ((df['OPR_30'] > 0.8) & (df['CPR_30'] < 0.4))) & (df['High_30'] >= df['High'])  ].describe()"
   ]
  },
  {
   "cell_type": "code",
   "execution_count": 172,
   "id": "4dd86d9d",
   "metadata": {},
   "outputs": [
    {
     "data": {
      "text/plain": [
       "count    489.000000\n",
       "mean       0.308299\n",
       "std        0.694749\n",
       "min       -2.578807\n",
       "25%       -0.103696\n",
       "50%        0.178776\n",
       "75%        0.579572\n",
       "max        4.643367\n",
       "Name: Close~15min-Low, dtype: float64"
      ]
     },
     "execution_count": 172,
     "metadata": {},
     "output_type": "execute_result"
    }
   ],
   "source": [
    "df[\"Close~15min-Low\"][(((df['OPR_30'] > 0.3) & (df['CPR_30'] < 0.3)) | ((df['OPR_30'] > 0.8) & (df['CPR_30'] < 0.4))) & (df['High_30'] >= df['High'])  ].describe()"
   ]
  },
  {
   "cell_type": "code",
   "execution_count": 175,
   "id": "45505552",
   "metadata": {
    "scrolled": false
   },
   "outputs": [
    {
     "data": {
      "text/html": [
       "<div>\n",
       "<style scoped>\n",
       "    .dataframe tbody tr th:only-of-type {\n",
       "        vertical-align: middle;\n",
       "    }\n",
       "\n",
       "    .dataframe tbody tr th {\n",
       "        vertical-align: top;\n",
       "    }\n",
       "\n",
       "    .dataframe thead th {\n",
       "        text-align: right;\n",
       "    }\n",
       "</style>\n",
       "<table border=\"1\" class=\"dataframe\">\n",
       "  <thead>\n",
       "    <tr style=\"text-align: right;\">\n",
       "      <th></th>\n",
       "      <th>Open_30</th>\n",
       "      <th>Close_30</th>\n",
       "      <th>Low_30</th>\n",
       "      <th>High_30</th>\n",
       "      <th>Open</th>\n",
       "      <th>High</th>\n",
       "      <th>Low</th>\n",
       "      <th>Close</th>\n",
       "      <th>OPR</th>\n",
       "      <th>CPR</th>\n",
       "      <th>...</th>\n",
       "      <th>Open-High%</th>\n",
       "      <th>Range~Prev_Close</th>\n",
       "      <th>True_Range_ratio_30</th>\n",
       "      <th>OPR_30</th>\n",
       "      <th>CPR_30</th>\n",
       "      <th>Solid_30</th>\n",
       "      <th>Upper</th>\n",
       "      <th>Lower</th>\n",
       "      <th>Close~15min-High</th>\n",
       "      <th>Close~15min-Low</th>\n",
       "    </tr>\n",
       "    <tr>\n",
       "      <th>Date</th>\n",
       "      <th></th>\n",
       "      <th></th>\n",
       "      <th></th>\n",
       "      <th></th>\n",
       "      <th></th>\n",
       "      <th></th>\n",
       "      <th></th>\n",
       "      <th></th>\n",
       "      <th></th>\n",
       "      <th></th>\n",
       "      <th></th>\n",
       "      <th></th>\n",
       "      <th></th>\n",
       "      <th></th>\n",
       "      <th></th>\n",
       "      <th></th>\n",
       "      <th></th>\n",
       "      <th></th>\n",
       "      <th></th>\n",
       "      <th></th>\n",
       "      <th></th>\n",
       "    </tr>\n",
       "  </thead>\n",
       "  <tbody>\n",
       "    <tr>\n",
       "      <th>2010-01-07</th>\n",
       "      <td>5281.80</td>\n",
       "      <td>5270.15</td>\n",
       "      <td>5264.50</td>\n",
       "      <td>5302.55</td>\n",
       "      <td>5281.80</td>\n",
       "      <td>5302.55</td>\n",
       "      <td>5244.75</td>\n",
       "      <td>5263.1</td>\n",
       "      <td>0.641003</td>\n",
       "      <td>0.317474</td>\n",
       "      <td>...</td>\n",
       "      <td>0.395638</td>\n",
       "      <td>1.102065</td>\n",
       "      <td>0.725494</td>\n",
       "      <td>0.454665</td>\n",
       "      <td>0.148489</td>\n",
       "      <td>0.306176</td>\n",
       "      <td>0.0</td>\n",
       "      <td>0.376571</td>\n",
       "      <td>-0.752188</td>\n",
       "      <td>0.026694</td>\n",
       "    </tr>\n",
       "    <tr>\n",
       "      <th>2010-01-12</th>\n",
       "      <td>5251.10</td>\n",
       "      <td>5241.95</td>\n",
       "      <td>5227.70</td>\n",
       "      <td>5300.50</td>\n",
       "      <td>5251.10</td>\n",
       "      <td>5300.50</td>\n",
       "      <td>5200.95</td>\n",
       "      <td>5210.4</td>\n",
       "      <td>0.503767</td>\n",
       "      <td>0.094927</td>\n",
       "      <td>...</td>\n",
       "      <td>0.943847</td>\n",
       "      <td>1.902023</td>\n",
       "      <td>1.390932</td>\n",
       "      <td>0.321429</td>\n",
       "      <td>0.195742</td>\n",
       "      <td>0.125687</td>\n",
       "      <td>0.0</td>\n",
       "      <td>0.511091</td>\n",
       "      <td>-1.721470</td>\n",
       "      <td>0.330537</td>\n",
       "    </tr>\n",
       "    <tr>\n",
       "      <th>2010-01-19</th>\n",
       "      <td>5274.20</td>\n",
       "      <td>5269.75</td>\n",
       "      <td>5266.70</td>\n",
       "      <td>5287.80</td>\n",
       "      <td>5274.20</td>\n",
       "      <td>5287.80</td>\n",
       "      <td>5218.65</td>\n",
       "      <td>5225.6</td>\n",
       "      <td>0.803326</td>\n",
       "      <td>0.100506</td>\n",
       "      <td>...</td>\n",
       "      <td>0.260452</td>\n",
       "      <td>1.324281</td>\n",
       "      <td>0.404083</td>\n",
       "      <td>0.355450</td>\n",
       "      <td>0.144550</td>\n",
       "      <td>0.210900</td>\n",
       "      <td>0.0</td>\n",
       "      <td>0.920198</td>\n",
       "      <td>-1.191183</td>\n",
       "      <td>0.787100</td>\n",
       "    </tr>\n",
       "    <tr>\n",
       "      <th>2010-01-21</th>\n",
       "      <td>5220.20</td>\n",
       "      <td>5194.45</td>\n",
       "      <td>5187.25</td>\n",
       "      <td>5220.35</td>\n",
       "      <td>5220.20</td>\n",
       "      <td>5220.35</td>\n",
       "      <td>5085.45</td>\n",
       "      <td>5094.1</td>\n",
       "      <td>0.998888</td>\n",
       "      <td>0.064122</td>\n",
       "      <td>...</td>\n",
       "      <td>0.002979</td>\n",
       "      <td>2.678713</td>\n",
       "      <td>0.657268</td>\n",
       "      <td>0.995468</td>\n",
       "      <td>0.217523</td>\n",
       "      <td>0.777946</td>\n",
       "      <td>0.0</td>\n",
       "      <td>2.021446</td>\n",
       "      <td>-2.506950</td>\n",
       "      <td>1.849682</td>\n",
       "    </tr>\n",
       "    <tr>\n",
       "      <th>2010-01-22</th>\n",
       "      <td>5094.15</td>\n",
       "      <td>4986.70</td>\n",
       "      <td>4954.85</td>\n",
       "      <td>5094.15</td>\n",
       "      <td>5094.15</td>\n",
       "      <td>5094.15</td>\n",
       "      <td>4954.85</td>\n",
       "      <td>5036.0</td>\n",
       "      <td>1.000000</td>\n",
       "      <td>0.582556</td>\n",
       "      <td>...</td>\n",
       "      <td>0.000000</td>\n",
       "      <td>2.781605</td>\n",
       "      <td>2.781605</td>\n",
       "      <td>1.000000</td>\n",
       "      <td>0.228643</td>\n",
       "      <td>0.771357</td>\n",
       "      <td>0.0</td>\n",
       "      <td>0.000000</td>\n",
       "      <td>-1.161165</td>\n",
       "      <td>-1.620440</td>\n",
       "    </tr>\n",
       "    <tr>\n",
       "      <th>...</th>\n",
       "      <td>...</td>\n",
       "      <td>...</td>\n",
       "      <td>...</td>\n",
       "      <td>...</td>\n",
       "      <td>...</td>\n",
       "      <td>...</td>\n",
       "      <td>...</td>\n",
       "      <td>...</td>\n",
       "      <td>...</td>\n",
       "      <td>...</td>\n",
       "      <td>...</td>\n",
       "      <td>...</td>\n",
       "      <td>...</td>\n",
       "      <td>...</td>\n",
       "      <td>...</td>\n",
       "      <td>...</td>\n",
       "      <td>...</td>\n",
       "      <td>...</td>\n",
       "      <td>...</td>\n",
       "      <td>...</td>\n",
       "      <td>...</td>\n",
       "    </tr>\n",
       "    <tr>\n",
       "      <th>2020-05-15</th>\n",
       "      <td>9182.40</td>\n",
       "      <td>9084.55</td>\n",
       "      <td>9073.60</td>\n",
       "      <td>9182.40</td>\n",
       "      <td>9182.40</td>\n",
       "      <td>9182.40</td>\n",
       "      <td>9050.00</td>\n",
       "      <td>9136.8</td>\n",
       "      <td>1.000000</td>\n",
       "      <td>0.655589</td>\n",
       "      <td>...</td>\n",
       "      <td>0.000000</td>\n",
       "      <td>1.500589</td>\n",
       "      <td>1.233113</td>\n",
       "      <td>1.000000</td>\n",
       "      <td>0.100643</td>\n",
       "      <td>0.899357</td>\n",
       "      <td>0.0</td>\n",
       "      <td>0.267477</td>\n",
       "      <td>-0.516819</td>\n",
       "      <td>-0.716293</td>\n",
       "    </tr>\n",
       "    <tr>\n",
       "      <th>2020-05-18</th>\n",
       "      <td>9158.30</td>\n",
       "      <td>8937.40</td>\n",
       "      <td>8894.70</td>\n",
       "      <td>9158.30</td>\n",
       "      <td>9158.30</td>\n",
       "      <td>9158.30</td>\n",
       "      <td>8806.75</td>\n",
       "      <td>8823.2</td>\n",
       "      <td>1.000000</td>\n",
       "      <td>0.046793</td>\n",
       "      <td>...</td>\n",
       "      <td>0.000000</td>\n",
       "      <td>3.889172</td>\n",
       "      <td>2.916187</td>\n",
       "      <td>1.000000</td>\n",
       "      <td>0.161988</td>\n",
       "      <td>0.838012</td>\n",
       "      <td>0.0</td>\n",
       "      <td>0.972984</td>\n",
       "      <td>-3.707186</td>\n",
       "      <td>0.790999</td>\n",
       "    </tr>\n",
       "    <tr>\n",
       "      <th>2020-06-08</th>\n",
       "      <td>10326.75</td>\n",
       "      <td>10289.60</td>\n",
       "      <td>10269.10</td>\n",
       "      <td>10328.50</td>\n",
       "      <td>10326.75</td>\n",
       "      <td>10328.50</td>\n",
       "      <td>10120.25</td>\n",
       "      <td>10167.0</td>\n",
       "      <td>0.991597</td>\n",
       "      <td>0.224490</td>\n",
       "      <td>...</td>\n",
       "      <td>0.017420</td>\n",
       "      <td>2.072964</td>\n",
       "      <td>0.591280</td>\n",
       "      <td>0.970539</td>\n",
       "      <td>0.345118</td>\n",
       "      <td>0.625421</td>\n",
       "      <td>0.0</td>\n",
       "      <td>1.481684</td>\n",
       "      <td>-1.607605</td>\n",
       "      <td>1.016325</td>\n",
       "    </tr>\n",
       "    <tr>\n",
       "      <th>2020-06-30</th>\n",
       "      <td>10382.60</td>\n",
       "      <td>10367.05</td>\n",
       "      <td>10365.35</td>\n",
       "      <td>10401.05</td>\n",
       "      <td>10382.60</td>\n",
       "      <td>10401.05</td>\n",
       "      <td>10267.35</td>\n",
       "      <td>10302.0</td>\n",
       "      <td>0.862004</td>\n",
       "      <td>0.259162</td>\n",
       "      <td>...</td>\n",
       "      <td>0.176894</td>\n",
       "      <td>1.281879</td>\n",
       "      <td>0.342282</td>\n",
       "      <td>0.483193</td>\n",
       "      <td>0.047619</td>\n",
       "      <td>0.435574</td>\n",
       "      <td>0.0</td>\n",
       "      <td>0.939597</td>\n",
       "      <td>-0.949664</td>\n",
       "      <td>0.607383</td>\n",
       "    </tr>\n",
       "    <tr>\n",
       "      <th>2020-07-22</th>\n",
       "      <td>11231.20</td>\n",
       "      <td>11131.90</td>\n",
       "      <td>11102.35</td>\n",
       "      <td>11238.10</td>\n",
       "      <td>11231.20</td>\n",
       "      <td>11238.10</td>\n",
       "      <td>11056.55</td>\n",
       "      <td>11132.0</td>\n",
       "      <td>0.961994</td>\n",
       "      <td>0.415588</td>\n",
       "      <td>...</td>\n",
       "      <td>0.061525</td>\n",
       "      <td>1.618814</td>\n",
       "      <td>1.210432</td>\n",
       "      <td>0.949171</td>\n",
       "      <td>0.217680</td>\n",
       "      <td>0.731492</td>\n",
       "      <td>0.0</td>\n",
       "      <td>0.408382</td>\n",
       "      <td>-0.946054</td>\n",
       "      <td>-0.264378</td>\n",
       "    </tr>\n",
       "  </tbody>\n",
       "</table>\n",
       "<p>489 rows × 30 columns</p>\n",
       "</div>"
      ],
      "text/plain": [
       "             Open_30  Close_30    Low_30   High_30      Open      High  \\\n",
       "Date                                                                     \n",
       "2010-01-07   5281.80   5270.15   5264.50   5302.55   5281.80   5302.55   \n",
       "2010-01-12   5251.10   5241.95   5227.70   5300.50   5251.10   5300.50   \n",
       "2010-01-19   5274.20   5269.75   5266.70   5287.80   5274.20   5287.80   \n",
       "2010-01-21   5220.20   5194.45   5187.25   5220.35   5220.20   5220.35   \n",
       "2010-01-22   5094.15   4986.70   4954.85   5094.15   5094.15   5094.15   \n",
       "...              ...       ...       ...       ...       ...       ...   \n",
       "2020-05-15   9182.40   9084.55   9073.60   9182.40   9182.40   9182.40   \n",
       "2020-05-18   9158.30   8937.40   8894.70   9158.30   9158.30   9158.30   \n",
       "2020-06-08  10326.75  10289.60  10269.10  10328.50  10326.75  10328.50   \n",
       "2020-06-30  10382.60  10367.05  10365.35  10401.05  10382.60  10401.05   \n",
       "2020-07-22  11231.20  11131.90  11102.35  11238.10  11231.20  11238.10   \n",
       "\n",
       "                 Low    Close       OPR       CPR  ...  Open-High%  \\\n",
       "Date                                               ...               \n",
       "2010-01-07   5244.75   5263.1  0.641003  0.317474  ...    0.395638   \n",
       "2010-01-12   5200.95   5210.4  0.503767  0.094927  ...    0.943847   \n",
       "2010-01-19   5218.65   5225.6  0.803326  0.100506  ...    0.260452   \n",
       "2010-01-21   5085.45   5094.1  0.998888  0.064122  ...    0.002979   \n",
       "2010-01-22   4954.85   5036.0  1.000000  0.582556  ...    0.000000   \n",
       "...              ...      ...       ...       ...  ...         ...   \n",
       "2020-05-15   9050.00   9136.8  1.000000  0.655589  ...    0.000000   \n",
       "2020-05-18   8806.75   8823.2  1.000000  0.046793  ...    0.000000   \n",
       "2020-06-08  10120.25  10167.0  0.991597  0.224490  ...    0.017420   \n",
       "2020-06-30  10267.35  10302.0  0.862004  0.259162  ...    0.176894   \n",
       "2020-07-22  11056.55  11132.0  0.961994  0.415588  ...    0.061525   \n",
       "\n",
       "            Range~Prev_Close  True_Range_ratio_30    OPR_30    CPR_30  \\\n",
       "Date                                                                    \n",
       "2010-01-07          1.102065             0.725494  0.454665  0.148489   \n",
       "2010-01-12          1.902023             1.390932  0.321429  0.195742   \n",
       "2010-01-19          1.324281             0.404083  0.355450  0.144550   \n",
       "2010-01-21          2.678713             0.657268  0.995468  0.217523   \n",
       "2010-01-22          2.781605             2.781605  1.000000  0.228643   \n",
       "...                      ...                  ...       ...       ...   \n",
       "2020-05-15          1.500589             1.233113  1.000000  0.100643   \n",
       "2020-05-18          3.889172             2.916187  1.000000  0.161988   \n",
       "2020-06-08          2.072964             0.591280  0.970539  0.345118   \n",
       "2020-06-30          1.281879             0.342282  0.483193  0.047619   \n",
       "2020-07-22          1.618814             1.210432  0.949171  0.217680   \n",
       "\n",
       "            Solid_30  Upper     Lower  Close~15min-High  Close~15min-Low  \n",
       "Date                                                                      \n",
       "2010-01-07  0.306176    0.0  0.376571         -0.752188         0.026694  \n",
       "2010-01-12  0.125687    0.0  0.511091         -1.721470         0.330537  \n",
       "2010-01-19  0.210900    0.0  0.920198         -1.191183         0.787100  \n",
       "2010-01-21  0.777946    0.0  2.021446         -2.506950         1.849682  \n",
       "2010-01-22  0.771357    0.0  0.000000         -1.161165        -1.620440  \n",
       "...              ...    ...       ...               ...              ...  \n",
       "2020-05-15  0.899357    0.0  0.267477         -0.516819        -0.716293  \n",
       "2020-05-18  0.838012    0.0  0.972984         -3.707186         0.790999  \n",
       "2020-06-08  0.625421    0.0  1.481684         -1.607605         1.016325  \n",
       "2020-06-30  0.435574    0.0  0.939597         -0.949664         0.607383  \n",
       "2020-07-22  0.731492    0.0  0.408382         -0.946054        -0.264378  \n",
       "\n",
       "[489 rows x 30 columns]"
      ]
     },
     "execution_count": 175,
     "metadata": {},
     "output_type": "execute_result"
    }
   ],
   "source": [
    "df[(((df['OPR_30'] > 0.3) & (df['CPR_30'] < 0.3)) | ((df['OPR_30'] > 0.8) & (df['CPR_30'] < 0.4))) & (df['High_30'] >= df['High'])]"
   ]
  },
  {
   "cell_type": "markdown",
   "id": "991d17fb",
   "metadata": {},
   "source": [
    "## Major Learning "
   ]
  },
  {
   "cell_type": "markdown",
   "id": "fb34798e",
   "metadata": {},
   "source": [
    "### Since, more than 70% of the times, the stock continues to remain above open \n",
    "### So above piece of information can be used to sell options against the 15min candle move, here theta would also be working in our favour"
   ]
  }
 ],
 "metadata": {
  "kernelspec": {
   "display_name": "Python 3 (ipykernel)",
   "language": "python",
   "name": "python3"
  },
  "language_info": {
   "codemirror_mode": {
    "name": "ipython",
    "version": 3
   },
   "file_extension": ".py",
   "mimetype": "text/x-python",
   "name": "python",
   "nbconvert_exporter": "python",
   "pygments_lexer": "ipython3",
   "version": "3.9.7"
  }
 },
 "nbformat": 4,
 "nbformat_minor": 5
}
