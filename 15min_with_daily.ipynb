{
 "cells": [
  {
   "cell_type": "markdown",
   "id": "50bd310a",
   "metadata": {},
   "source": [
    "## Direcional bias depending on first 15min candle"
   ]
  },
  {
   "cell_type": "code",
   "execution_count": 27,
   "id": "1b744969",
   "metadata": {},
   "outputs": [],
   "source": [
    "import pandas as pd\n",
    "dn = pd.read_csv(\"NIFTY_50.csv\", parse_dates=[\"Date\"], index_col=\"Date\")"
   ]
  },
  {
   "cell_type": "code",
   "execution_count": 22,
   "id": "9c0da561",
   "metadata": {},
   "outputs": [
    {
     "data": {
      "text/plain": [
       "(3111, 4)"
      ]
     },
     "execution_count": 22,
     "metadata": {},
     "output_type": "execute_result"
    }
   ],
   "source": [
    "dn.shape"
   ]
  },
  {
   "cell_type": "code",
   "execution_count": 5,
   "id": "e67504e5",
   "metadata": {},
   "outputs": [],
   "source": [
    "# Data merging\n",
    "\n",
    "df = pd.read_csv(\"NIFTY_2020.csv\")\n",
    "df1 = pd.read_csv(\"NIFTY_2019.csv\")\n",
    "df2 = pd.read_csv(\"NIFTY_2018.csv\")\n",
    "df3 = pd.read_csv(\"NIFTY_2017.csv\")\n",
    "df4 = pd.read_csv(\"NIFTY_2016.csv\")\n",
    "df5 = pd.read_csv(\"NIFTY_2015.csv\")\n",
    "df6 = pd.read_csv(\"NIFTY_2014.csv\")\n",
    "df7 = pd.read_csv(\"NIFTY_2013.csv\")\n",
    "df8 = pd.read_csv(\"NIFTY_2012.csv\")\n",
    "df9 = pd.read_csv(\"NIFTY_2011.csv\")\n",
    "df10 = pd.read_csv(\"NIFTY_2010.csv\")\n",
    "df11 = pd.read_csv(\"NIFTY_2009.csv\")\n",
    "df12 = pd.read_csv(\"NIFTY_2008.csv\")\n",
    "\n",
    "frames = [df12, df11, df10, df9, df8, df7, df6, df5, df4, df3, df2, df1, df]\n",
    "result = pd.concat(frames)"
   ]
  },
  {
   "cell_type": "code",
   "execution_count": 6,
   "id": "04be74fb",
   "metadata": {},
   "outputs": [],
   "source": [
    "result[\"Date\"] = result[\"Date\"].astype(\"str\")\n",
    "result[\"Time\"] = result[\"Time\"].astype(\"str\")\n",
    "result[\"Date&Time\"] = result[\"Date\"] + \" \" + result[\"Time\"]\n",
    "result[\"Date&Time\"] = pd.to_datetime(result[\"Date&Time\"])\n",
    "result.set_index('Date&Time', inplace=True)"
   ]
  },
  {
   "cell_type": "code",
   "execution_count": 7,
   "id": "6d46ce38",
   "metadata": {},
   "outputs": [],
   "source": [
    "t = result.groupby(pd.Grouper(freq='30Min')).agg({\"Open\": \"first\", \n",
    "                                             \"Close\": \"last\", \n",
    "                                             \"Low\": \"min\", \n",
    "                                             \"High\": \"max\"})\n",
    "t.columns = [\"Open\", \"Close\", \"Low\", \"High\"]"
   ]
  },
  {
   "cell_type": "code",
   "execution_count": 9,
   "id": "fcac8398",
   "metadata": {},
   "outputs": [
    {
     "data": {
      "text/html": [
       "<div>\n",
       "<style scoped>\n",
       "    .dataframe tbody tr th:only-of-type {\n",
       "        vertical-align: middle;\n",
       "    }\n",
       "\n",
       "    .dataframe tbody tr th {\n",
       "        vertical-align: top;\n",
       "    }\n",
       "\n",
       "    .dataframe thead th {\n",
       "        text-align: right;\n",
       "    }\n",
       "</style>\n",
       "<table border=\"1\" class=\"dataframe\">\n",
       "  <thead>\n",
       "    <tr style=\"text-align: right;\">\n",
       "      <th></th>\n",
       "      <th>Open</th>\n",
       "      <th>Close</th>\n",
       "      <th>Low</th>\n",
       "      <th>High</th>\n",
       "    </tr>\n",
       "    <tr>\n",
       "      <th>Date&amp;Time</th>\n",
       "      <th></th>\n",
       "      <th></th>\n",
       "      <th></th>\n",
       "      <th></th>\n",
       "    </tr>\n",
       "  </thead>\n",
       "  <tbody>\n",
       "    <tr>\n",
       "      <th>2020-11-27 13:30:00</th>\n",
       "      <td>12971.25</td>\n",
       "      <td>12971.95</td>\n",
       "      <td>12953.55</td>\n",
       "      <td>13006.75</td>\n",
       "    </tr>\n",
       "    <tr>\n",
       "      <th>2020-11-27 14:00:00</th>\n",
       "      <td>12971.70</td>\n",
       "      <td>12981.10</td>\n",
       "      <td>12958.25</td>\n",
       "      <td>12990.85</td>\n",
       "    </tr>\n",
       "    <tr>\n",
       "      <th>2020-11-27 14:30:00</th>\n",
       "      <td>12980.85</td>\n",
       "      <td>12975.85</td>\n",
       "      <td>12914.30</td>\n",
       "      <td>12984.15</td>\n",
       "    </tr>\n",
       "    <tr>\n",
       "      <th>2020-11-27 15:00:00</th>\n",
       "      <td>12976.15</td>\n",
       "      <td>12937.70</td>\n",
       "      <td>12927.95</td>\n",
       "      <td>12986.25</td>\n",
       "    </tr>\n",
       "    <tr>\n",
       "      <th>2020-11-27 15:30:00</th>\n",
       "      <td>12936.40</td>\n",
       "      <td>12968.95</td>\n",
       "      <td>12933.85</td>\n",
       "      <td>12968.95</td>\n",
       "    </tr>\n",
       "  </tbody>\n",
       "</table>\n",
       "</div>"
      ],
      "text/plain": [
       "                         Open     Close       Low      High\n",
       "Date&Time                                                  \n",
       "2020-11-27 13:30:00  12971.25  12971.95  12953.55  13006.75\n",
       "2020-11-27 14:00:00  12971.70  12981.10  12958.25  12990.85\n",
       "2020-11-27 14:30:00  12980.85  12975.85  12914.30  12984.15\n",
       "2020-11-27 15:00:00  12976.15  12937.70  12927.95  12986.25\n",
       "2020-11-27 15:30:00  12936.40  12968.95  12933.85  12968.95"
      ]
     },
     "execution_count": 9,
     "metadata": {},
     "output_type": "execute_result"
    }
   ],
   "source": [
    "t.tail()"
   ]
  },
  {
   "cell_type": "code",
   "execution_count": 10,
   "id": "34ab2b16",
   "metadata": {},
   "outputs": [],
   "source": [
    "new_t = t.dropna(how='all')        # drops rows who's all column values are none"
   ]
  },
  {
   "cell_type": "code",
   "execution_count": 11,
   "id": "7ea387bb",
   "metadata": {},
   "outputs": [],
   "source": [
    "df_1st = new_t.between_time('8:59', '9:30')"
   ]
  },
  {
   "cell_type": "code",
   "execution_count": 12,
   "id": "86f12b40",
   "metadata": {},
   "outputs": [],
   "source": [
    "t_1st = df_1st.groupby(pd.Grouper(freq='D')).agg({\"Open\": \"first\", \n",
    "                                             \"Close\": \"last\", \n",
    "                                             \"Low\": \"min\", \n",
    "                                             \"High\": \"max\"})\n",
    "t_1st.columns = [\"Open_30\", \"Close_30\", \"Low_30\", \"High_30\"]"
   ]
  },
  {
   "cell_type": "code",
   "execution_count": 13,
   "id": "e2836189",
   "metadata": {},
   "outputs": [],
   "source": [
    "new_t_1st = t_1st.dropna(how='all') "
   ]
  },
  {
   "cell_type": "code",
   "execution_count": 14,
   "id": "aec121f6",
   "metadata": {},
   "outputs": [
    {
     "data": {
      "text/html": [
       "<div>\n",
       "<style scoped>\n",
       "    .dataframe tbody tr th:only-of-type {\n",
       "        vertical-align: middle;\n",
       "    }\n",
       "\n",
       "    .dataframe tbody tr th {\n",
       "        vertical-align: top;\n",
       "    }\n",
       "\n",
       "    .dataframe thead th {\n",
       "        text-align: right;\n",
       "    }\n",
       "</style>\n",
       "<table border=\"1\" class=\"dataframe\">\n",
       "  <thead>\n",
       "    <tr style=\"text-align: right;\">\n",
       "      <th></th>\n",
       "      <th>Open_30</th>\n",
       "      <th>Close_30</th>\n",
       "      <th>Low_30</th>\n",
       "      <th>High_30</th>\n",
       "    </tr>\n",
       "    <tr>\n",
       "      <th>Date&amp;Time</th>\n",
       "      <th></th>\n",
       "      <th></th>\n",
       "      <th></th>\n",
       "      <th></th>\n",
       "    </tr>\n",
       "  </thead>\n",
       "  <tbody>\n",
       "    <tr>\n",
       "      <th>2008-01-01</th>\n",
       "      <td>6138.60</td>\n",
       "      <td>6113.90</td>\n",
       "      <td>6113.55</td>\n",
       "      <td>6154.60</td>\n",
       "    </tr>\n",
       "    <tr>\n",
       "      <th>2008-01-02</th>\n",
       "      <td>6165.05</td>\n",
       "      <td>6164.10</td>\n",
       "      <td>6161.35</td>\n",
       "      <td>6175.95</td>\n",
       "    </tr>\n",
       "    <tr>\n",
       "      <th>2008-01-03</th>\n",
       "      <td>6168.85</td>\n",
       "      <td>6178.35</td>\n",
       "      <td>6138.45</td>\n",
       "      <td>6178.35</td>\n",
       "    </tr>\n",
       "    <tr>\n",
       "      <th>2008-01-04</th>\n",
       "      <td>6201.25</td>\n",
       "      <td>6231.85</td>\n",
       "      <td>6201.25</td>\n",
       "      <td>6232.75</td>\n",
       "    </tr>\n",
       "    <tr>\n",
       "      <th>2008-01-07</th>\n",
       "      <td>6207.10</td>\n",
       "      <td>6221.95</td>\n",
       "      <td>6202.05</td>\n",
       "      <td>6224.65</td>\n",
       "    </tr>\n",
       "  </tbody>\n",
       "</table>\n",
       "</div>"
      ],
      "text/plain": [
       "            Open_30  Close_30   Low_30  High_30\n",
       "Date&Time                                      \n",
       "2008-01-01  6138.60   6113.90  6113.55  6154.60\n",
       "2008-01-02  6165.05   6164.10  6161.35  6175.95\n",
       "2008-01-03  6168.85   6178.35  6138.45  6178.35\n",
       "2008-01-04  6201.25   6231.85  6201.25  6232.75\n",
       "2008-01-07  6207.10   6221.95  6202.05  6224.65"
      ]
     },
     "execution_count": 14,
     "metadata": {},
     "output_type": "execute_result"
    }
   ],
   "source": [
    "new_t_1st.head()"
   ]
  },
  {
   "cell_type": "code",
   "execution_count": 15,
   "id": "e5bd641f",
   "metadata": {},
   "outputs": [
    {
     "data": {
      "text/plain": [
       "(3159, 4)"
      ]
     },
     "execution_count": 15,
     "metadata": {},
     "output_type": "execute_result"
    }
   ],
   "source": [
    "new_t_1st.shape"
   ]
  },
  {
   "cell_type": "code",
   "execution_count": 28,
   "id": "634e0ff0",
   "metadata": {},
   "outputs": [],
   "source": [
    "db = new_t_1st.join(dn)"
   ]
  },
  {
   "cell_type": "code",
   "execution_count": 29,
   "id": "6272e40b",
   "metadata": {},
   "outputs": [],
   "source": [
    "new_db = db.dropna(how='all')"
   ]
  },
  {
   "cell_type": "code",
   "execution_count": 30,
   "id": "e6b9a810",
   "metadata": {},
   "outputs": [
    {
     "data": {
      "text/plain": [
       "(3160, 8)"
      ]
     },
     "execution_count": 30,
     "metadata": {},
     "output_type": "execute_result"
    }
   ],
   "source": [
    "new_db.shape"
   ]
  },
  {
   "cell_type": "code",
   "execution_count": 31,
   "id": "a5ffcad1",
   "metadata": {},
   "outputs": [
    {
     "data": {
      "text/html": [
       "<div>\n",
       "<style scoped>\n",
       "    .dataframe tbody tr th:only-of-type {\n",
       "        vertical-align: middle;\n",
       "    }\n",
       "\n",
       "    .dataframe tbody tr th {\n",
       "        vertical-align: top;\n",
       "    }\n",
       "\n",
       "    .dataframe thead th {\n",
       "        text-align: right;\n",
       "    }\n",
       "</style>\n",
       "<table border=\"1\" class=\"dataframe\">\n",
       "  <thead>\n",
       "    <tr style=\"text-align: right;\">\n",
       "      <th></th>\n",
       "      <th>Open_30</th>\n",
       "      <th>Close_30</th>\n",
       "      <th>Low_30</th>\n",
       "      <th>High_30</th>\n",
       "      <th>Open</th>\n",
       "      <th>High</th>\n",
       "      <th>Low</th>\n",
       "      <th>Close</th>\n",
       "    </tr>\n",
       "  </thead>\n",
       "  <tbody>\n",
       "    <tr>\n",
       "      <th>2008-01-01</th>\n",
       "      <td>6138.60</td>\n",
       "      <td>6113.90</td>\n",
       "      <td>6113.55</td>\n",
       "      <td>6154.60</td>\n",
       "      <td>NaN</td>\n",
       "      <td>NaN</td>\n",
       "      <td>NaN</td>\n",
       "      <td>NaN</td>\n",
       "    </tr>\n",
       "    <tr>\n",
       "      <th>2008-01-02</th>\n",
       "      <td>6165.05</td>\n",
       "      <td>6164.10</td>\n",
       "      <td>6161.35</td>\n",
       "      <td>6175.95</td>\n",
       "      <td>NaN</td>\n",
       "      <td>NaN</td>\n",
       "      <td>NaN</td>\n",
       "      <td>NaN</td>\n",
       "    </tr>\n",
       "    <tr>\n",
       "      <th>2008-01-03</th>\n",
       "      <td>6168.85</td>\n",
       "      <td>6178.35</td>\n",
       "      <td>6138.45</td>\n",
       "      <td>6178.35</td>\n",
       "      <td>NaN</td>\n",
       "      <td>NaN</td>\n",
       "      <td>NaN</td>\n",
       "      <td>NaN</td>\n",
       "    </tr>\n",
       "    <tr>\n",
       "      <th>2008-01-04</th>\n",
       "      <td>6201.25</td>\n",
       "      <td>6231.85</td>\n",
       "      <td>6201.25</td>\n",
       "      <td>6232.75</td>\n",
       "      <td>NaN</td>\n",
       "      <td>NaN</td>\n",
       "      <td>NaN</td>\n",
       "      <td>NaN</td>\n",
       "    </tr>\n",
       "    <tr>\n",
       "      <th>2008-01-07</th>\n",
       "      <td>6207.10</td>\n",
       "      <td>6221.95</td>\n",
       "      <td>6202.05</td>\n",
       "      <td>6224.65</td>\n",
       "      <td>NaN</td>\n",
       "      <td>NaN</td>\n",
       "      <td>NaN</td>\n",
       "      <td>NaN</td>\n",
       "    </tr>\n",
       "    <tr>\n",
       "      <th>...</th>\n",
       "      <td>...</td>\n",
       "      <td>...</td>\n",
       "      <td>...</td>\n",
       "      <td>...</td>\n",
       "      <td>...</td>\n",
       "      <td>...</td>\n",
       "      <td>...</td>\n",
       "      <td>...</td>\n",
       "    </tr>\n",
       "    <tr>\n",
       "      <th>2020-11-23</th>\n",
       "      <td>12960.30</td>\n",
       "      <td>12886.85</td>\n",
       "      <td>12870.50</td>\n",
       "      <td>12962.10</td>\n",
       "      <td>NaN</td>\n",
       "      <td>NaN</td>\n",
       "      <td>NaN</td>\n",
       "      <td>NaN</td>\n",
       "    </tr>\n",
       "    <tr>\n",
       "      <th>2020-11-24</th>\n",
       "      <td>13002.60</td>\n",
       "      <td>13029.45</td>\n",
       "      <td>12978.00</td>\n",
       "      <td>13033.70</td>\n",
       "      <td>NaN</td>\n",
       "      <td>NaN</td>\n",
       "      <td>NaN</td>\n",
       "      <td>NaN</td>\n",
       "    </tr>\n",
       "    <tr>\n",
       "      <th>2020-11-25</th>\n",
       "      <td>13130.00</td>\n",
       "      <td>13120.95</td>\n",
       "      <td>13113.15</td>\n",
       "      <td>13145.85</td>\n",
       "      <td>NaN</td>\n",
       "      <td>NaN</td>\n",
       "      <td>NaN</td>\n",
       "      <td>NaN</td>\n",
       "    </tr>\n",
       "    <tr>\n",
       "      <th>2020-11-26</th>\n",
       "      <td>12906.45</td>\n",
       "      <td>12835.85</td>\n",
       "      <td>12815.70</td>\n",
       "      <td>12916.75</td>\n",
       "      <td>NaN</td>\n",
       "      <td>NaN</td>\n",
       "      <td>NaN</td>\n",
       "      <td>NaN</td>\n",
       "    </tr>\n",
       "    <tr>\n",
       "      <th>2020-11-27</th>\n",
       "      <td>13012.05</td>\n",
       "      <td>12986.75</td>\n",
       "      <td>12952.70</td>\n",
       "      <td>13035.30</td>\n",
       "      <td>NaN</td>\n",
       "      <td>NaN</td>\n",
       "      <td>NaN</td>\n",
       "      <td>NaN</td>\n",
       "    </tr>\n",
       "  </tbody>\n",
       "</table>\n",
       "<p>3160 rows × 8 columns</p>\n",
       "</div>"
      ],
      "text/plain": [
       "             Open_30  Close_30    Low_30   High_30  Open  High  Low  Close\n",
       "2008-01-01   6138.60   6113.90   6113.55   6154.60   NaN   NaN  NaN    NaN\n",
       "2008-01-02   6165.05   6164.10   6161.35   6175.95   NaN   NaN  NaN    NaN\n",
       "2008-01-03   6168.85   6178.35   6138.45   6178.35   NaN   NaN  NaN    NaN\n",
       "2008-01-04   6201.25   6231.85   6201.25   6232.75   NaN   NaN  NaN    NaN\n",
       "2008-01-07   6207.10   6221.95   6202.05   6224.65   NaN   NaN  NaN    NaN\n",
       "...              ...       ...       ...       ...   ...   ...  ...    ...\n",
       "2020-11-23  12960.30  12886.85  12870.50  12962.10   NaN   NaN  NaN    NaN\n",
       "2020-11-24  13002.60  13029.45  12978.00  13033.70   NaN   NaN  NaN    NaN\n",
       "2020-11-25  13130.00  13120.95  13113.15  13145.85   NaN   NaN  NaN    NaN\n",
       "2020-11-26  12906.45  12835.85  12815.70  12916.75   NaN   NaN  NaN    NaN\n",
       "2020-11-27  13012.05  12986.75  12952.70  13035.30   NaN   NaN  NaN    NaN\n",
       "\n",
       "[3160 rows x 8 columns]"
      ]
     },
     "execution_count": 31,
     "metadata": {},
     "output_type": "execute_result"
    }
   ],
   "source": [
    "new_db\n"
   ]
  },
  {
   "cell_type": "code",
   "execution_count": 32,
   "id": "1b93fc42",
   "metadata": {},
   "outputs": [],
   "source": [
    "new_db = new_db.dropna()"
   ]
  },
  {
   "cell_type": "code",
   "execution_count": 33,
   "id": "7a266623",
   "metadata": {},
   "outputs": [
    {
     "data": {
      "text/plain": [
       "(2349, 8)"
      ]
     },
     "execution_count": 33,
     "metadata": {},
     "output_type": "execute_result"
    }
   ],
   "source": [
    "new_db.shape"
   ]
  },
  {
   "cell_type": "code",
   "execution_count": 34,
   "id": "a94469d8",
   "metadata": {},
   "outputs": [
    {
     "data": {
      "text/html": [
       "<div>\n",
       "<style scoped>\n",
       "    .dataframe tbody tr th:only-of-type {\n",
       "        vertical-align: middle;\n",
       "    }\n",
       "\n",
       "    .dataframe tbody tr th {\n",
       "        vertical-align: top;\n",
       "    }\n",
       "\n",
       "    .dataframe thead th {\n",
       "        text-align: right;\n",
       "    }\n",
       "</style>\n",
       "<table border=\"1\" class=\"dataframe\">\n",
       "  <thead>\n",
       "    <tr style=\"text-align: right;\">\n",
       "      <th></th>\n",
       "      <th>Open_30</th>\n",
       "      <th>Close_30</th>\n",
       "      <th>Low_30</th>\n",
       "      <th>High_30</th>\n",
       "      <th>Open</th>\n",
       "      <th>High</th>\n",
       "      <th>Low</th>\n",
       "      <th>Close</th>\n",
       "    </tr>\n",
       "  </thead>\n",
       "  <tbody>\n",
       "    <tr>\n",
       "      <th>2010-01-04</th>\n",
       "      <td>5201.00</td>\n",
       "      <td>5220.00</td>\n",
       "      <td>5167.00</td>\n",
       "      <td>5224.00</td>\n",
       "      <td>5200.90</td>\n",
       "      <td>5238.45</td>\n",
       "      <td>5167.10</td>\n",
       "      <td>5232.2</td>\n",
       "    </tr>\n",
       "    <tr>\n",
       "      <th>2010-01-05</th>\n",
       "      <td>5277.00</td>\n",
       "      <td>5278.00</td>\n",
       "      <td>5242.00</td>\n",
       "      <td>5286.00</td>\n",
       "      <td>5277.15</td>\n",
       "      <td>5288.35</td>\n",
       "      <td>5242.40</td>\n",
       "      <td>5277.9</td>\n",
       "    </tr>\n",
       "    <tr>\n",
       "      <th>2010-01-06</th>\n",
       "      <td>5278.00</td>\n",
       "      <td>5287.00</td>\n",
       "      <td>5271.00</td>\n",
       "      <td>5311.00</td>\n",
       "      <td>5278.15</td>\n",
       "      <td>5310.85</td>\n",
       "      <td>5260.05</td>\n",
       "      <td>5281.8</td>\n",
       "    </tr>\n",
       "    <tr>\n",
       "      <th>2010-01-07</th>\n",
       "      <td>5281.80</td>\n",
       "      <td>5270.15</td>\n",
       "      <td>5264.50</td>\n",
       "      <td>5302.55</td>\n",
       "      <td>5281.80</td>\n",
       "      <td>5302.55</td>\n",
       "      <td>5244.75</td>\n",
       "      <td>5263.1</td>\n",
       "    </tr>\n",
       "    <tr>\n",
       "      <th>2010-01-08</th>\n",
       "      <td>5264.25</td>\n",
       "      <td>5259.65</td>\n",
       "      <td>5251.30</td>\n",
       "      <td>5275.10</td>\n",
       "      <td>5264.25</td>\n",
       "      <td>5276.75</td>\n",
       "      <td>5234.70</td>\n",
       "      <td>5244.7</td>\n",
       "    </tr>\n",
       "    <tr>\n",
       "      <th>...</th>\n",
       "      <td>...</td>\n",
       "      <td>...</td>\n",
       "      <td>...</td>\n",
       "      <td>...</td>\n",
       "      <td>...</td>\n",
       "      <td>...</td>\n",
       "      <td>...</td>\n",
       "      <td>...</td>\n",
       "    </tr>\n",
       "    <tr>\n",
       "      <th>2020-07-22</th>\n",
       "      <td>11231.20</td>\n",
       "      <td>11131.90</td>\n",
       "      <td>11102.35</td>\n",
       "      <td>11238.10</td>\n",
       "      <td>11231.20</td>\n",
       "      <td>11238.10</td>\n",
       "      <td>11056.55</td>\n",
       "      <td>11132.0</td>\n",
       "    </tr>\n",
       "    <tr>\n",
       "      <th>2020-07-23</th>\n",
       "      <td>11135.00</td>\n",
       "      <td>11165.10</td>\n",
       "      <td>11103.15</td>\n",
       "      <td>11177.15</td>\n",
       "      <td>11135.00</td>\n",
       "      <td>11239.80</td>\n",
       "      <td>11103.15</td>\n",
       "      <td>11215.0</td>\n",
       "    </tr>\n",
       "    <tr>\n",
       "      <th>2020-07-24</th>\n",
       "      <td>11149.95</td>\n",
       "      <td>11165.85</td>\n",
       "      <td>11123.65</td>\n",
       "      <td>11169.40</td>\n",
       "      <td>11149.95</td>\n",
       "      <td>11225.40</td>\n",
       "      <td>11090.30</td>\n",
       "      <td>11194.0</td>\n",
       "    </tr>\n",
       "    <tr>\n",
       "      <th>2020-08-18</th>\n",
       "      <td>11259.80</td>\n",
       "      <td>11315.50</td>\n",
       "      <td>11253.15</td>\n",
       "      <td>11322.50</td>\n",
       "      <td>11259.80</td>\n",
       "      <td>11401.70</td>\n",
       "      <td>11253.15</td>\n",
       "      <td>11385.0</td>\n",
       "    </tr>\n",
       "    <tr>\n",
       "      <th>2020-10-15</th>\n",
       "      <td>12023.45</td>\n",
       "      <td>11966.40</td>\n",
       "      <td>11906.35</td>\n",
       "      <td>12025.45</td>\n",
       "      <td>12023.45</td>\n",
       "      <td>12025.45</td>\n",
       "      <td>11661.30</td>\n",
       "      <td>11680.0</td>\n",
       "    </tr>\n",
       "  </tbody>\n",
       "</table>\n",
       "<p>2349 rows × 8 columns</p>\n",
       "</div>"
      ],
      "text/plain": [
       "             Open_30  Close_30    Low_30   High_30      Open      High  \\\n",
       "2010-01-04   5201.00   5220.00   5167.00   5224.00   5200.90   5238.45   \n",
       "2010-01-05   5277.00   5278.00   5242.00   5286.00   5277.15   5288.35   \n",
       "2010-01-06   5278.00   5287.00   5271.00   5311.00   5278.15   5310.85   \n",
       "2010-01-07   5281.80   5270.15   5264.50   5302.55   5281.80   5302.55   \n",
       "2010-01-08   5264.25   5259.65   5251.30   5275.10   5264.25   5276.75   \n",
       "...              ...       ...       ...       ...       ...       ...   \n",
       "2020-07-22  11231.20  11131.90  11102.35  11238.10  11231.20  11238.10   \n",
       "2020-07-23  11135.00  11165.10  11103.15  11177.15  11135.00  11239.80   \n",
       "2020-07-24  11149.95  11165.85  11123.65  11169.40  11149.95  11225.40   \n",
       "2020-08-18  11259.80  11315.50  11253.15  11322.50  11259.80  11401.70   \n",
       "2020-10-15  12023.45  11966.40  11906.35  12025.45  12023.45  12025.45   \n",
       "\n",
       "                 Low    Close  \n",
       "2010-01-04   5167.10   5232.2  \n",
       "2010-01-05   5242.40   5277.9  \n",
       "2010-01-06   5260.05   5281.8  \n",
       "2010-01-07   5244.75   5263.1  \n",
       "2010-01-08   5234.70   5244.7  \n",
       "...              ...      ...  \n",
       "2020-07-22  11056.55  11132.0  \n",
       "2020-07-23  11103.15  11215.0  \n",
       "2020-07-24  11090.30  11194.0  \n",
       "2020-08-18  11253.15  11385.0  \n",
       "2020-10-15  11661.30  11680.0  \n",
       "\n",
       "[2349 rows x 8 columns]"
      ]
     },
     "execution_count": 34,
     "metadata": {},
     "output_type": "execute_result"
    }
   ],
   "source": [
    "new_db"
   ]
  },
  {
   "cell_type": "code",
   "execution_count": 41,
   "id": "a574eedd",
   "metadata": {},
   "outputs": [
    {
     "data": {
      "text/plain": [
       "pandas.core.frame.DataFrame"
      ]
     },
     "execution_count": 41,
     "metadata": {},
     "output_type": "execute_result"
    }
   ],
   "source": [
    "type(new_db)"
   ]
  },
  {
   "cell_type": "code",
   "execution_count": 42,
   "id": "e0fda7b7",
   "metadata": {},
   "outputs": [],
   "source": [
    "new_db.to_excel(\"Nifty50_with_1st_15min.xlsx\")"
   ]
  },
  {
   "cell_type": "markdown",
   "id": "4a0d4440",
   "metadata": {},
   "source": [
    "### New_db - contains data of first 15min candle data merged with daily data ( 09.00 - 09.30 ) data"
   ]
  },
  {
   "cell_type": "code",
   "execution_count": 40,
   "id": "82b9c1ab",
   "metadata": {},
   "outputs": [
    {
     "name": "stderr",
     "output_type": "stream",
     "text": [
      "C:\\Users\\NINAD\\AppData\\Local\\Temp/ipykernel_11196/3831090056.py:5: SettingWithCopyWarning: \n",
      "A value is trying to be set on a copy of a slice from a DataFrame.\n",
      "Try using .loc[row_indexer,col_indexer] = value instead\n",
      "\n",
      "See the caveats in the documentation: https://pandas.pydata.org/pandas-docs/stable/user_guide/indexing.html#returning-a-view-versus-a-copy\n",
      "  new_db[\"OPR\"] = (new_db['Open'] - new_db['Low'])/(new_db['High'] - new_db['Low'])\n"
     ]
    }
   ],
   "source": [
    "import matplotlib.pyplot as plt\n",
    "%matplotlib inline\n",
    "bin_range = (0,0.1,0.2,0.3,0.4,0.5,0.6,0.7,0.8,0.9,1)\n",
    "\n",
    "new_db[\"OPR\"] = (new_db['Open'] - new_db['Low'])/(new_db['High'] - new_db['Low'])\n",
    "# new_db[\"CPR\"] = (new_db['Close'] - new_db['Low'])/(new_db['High'] - new_db['Low'])\n",
    "# new_db[\"Solid\"] = (abs(new_db['Open'] - new_db['Close']))/(new_db['High'] - new_db['Low'])\n",
    "# new_db['True_Range_ratio'] = ((new_db['High'] - new_db['Low'])/new_db['Close'])*100\n",
    "# new_db['TRR_Next'] = new_db['True_Range_ratio'].shift(1)\n",
    "# new_db['TRR_Prev'] = new_db['True_Range_ratio'].shift(-1)\n",
    "# new_db['OPR_Next'] = new_db['OPR'].shift(1)\n",
    "# new_db['CPR_Next'] = new_db['CPR'].shift(1)\n",
    "# new_db['CPR_Prev'] = new_db['CPR'].shift(-1)\n",
    "# new_db['OPR_Prev'] = new_db['OPR'].shift(-1)\n",
    "# new_db['Prev_Close'] = new_db['Close'].shift(-1)\n",
    "# new_db['Open-Low%'] = ((new_db['Open'] - new_db['Low'])/new_db['Prev_Close'])*100\n",
    "# new_db['Open-High%'] = ((new_db['High'] - new_db['Open'])/new_db['Prev_Close'])*100\n",
    "# new_db['Range~Prev_Close'] = ((new_db['High'] - new_db['Low'])/new_db['Prev_Close'])*100"
   ]
  },
  {
   "cell_type": "code",
   "execution_count": 39,
   "id": "5b3278b6",
   "metadata": {},
   "outputs": [
    {
     "ename": "KeyError",
     "evalue": "'High_30'",
     "output_type": "error",
     "traceback": [
      "\u001b[1;31m---------------------------------------------------------------------------\u001b[0m",
      "\u001b[1;31mKeyError\u001b[0m                                  Traceback (most recent call last)",
      "\u001b[1;32m~\\anaconda3\\lib\\site-packages\\pandas\\core\\indexes\\base.py\u001b[0m in \u001b[0;36mget_loc\u001b[1;34m(self, key, method, tolerance)\u001b[0m\n\u001b[0;32m   3360\u001b[0m             \u001b[1;32mtry\u001b[0m\u001b[1;33m:\u001b[0m\u001b[1;33m\u001b[0m\u001b[1;33m\u001b[0m\u001b[0m\n\u001b[1;32m-> 3361\u001b[1;33m                 \u001b[1;32mreturn\u001b[0m \u001b[0mself\u001b[0m\u001b[1;33m.\u001b[0m\u001b[0m_engine\u001b[0m\u001b[1;33m.\u001b[0m\u001b[0mget_loc\u001b[0m\u001b[1;33m(\u001b[0m\u001b[0mcasted_key\u001b[0m\u001b[1;33m)\u001b[0m\u001b[1;33m\u001b[0m\u001b[1;33m\u001b[0m\u001b[0m\n\u001b[0m\u001b[0;32m   3362\u001b[0m             \u001b[1;32mexcept\u001b[0m \u001b[0mKeyError\u001b[0m \u001b[1;32mas\u001b[0m \u001b[0merr\u001b[0m\u001b[1;33m:\u001b[0m\u001b[1;33m\u001b[0m\u001b[1;33m\u001b[0m\u001b[0m\n",
      "\u001b[1;32m~\\anaconda3\\lib\\site-packages\\pandas\\_libs\\index.pyx\u001b[0m in \u001b[0;36mpandas._libs.index.IndexEngine.get_loc\u001b[1;34m()\u001b[0m\n",
      "\u001b[1;32m~\\anaconda3\\lib\\site-packages\\pandas\\_libs\\index.pyx\u001b[0m in \u001b[0;36mpandas._libs.index.IndexEngine.get_loc\u001b[1;34m()\u001b[0m\n",
      "\u001b[1;32mpandas\\_libs\\hashtable_class_helper.pxi\u001b[0m in \u001b[0;36mpandas._libs.hashtable.PyObjectHashTable.get_item\u001b[1;34m()\u001b[0m\n",
      "\u001b[1;32mpandas\\_libs\\hashtable_class_helper.pxi\u001b[0m in \u001b[0;36mpandas._libs.hashtable.PyObjectHashTable.get_item\u001b[1;34m()\u001b[0m\n",
      "\u001b[1;31mKeyError\u001b[0m: 'High_30'",
      "\nThe above exception was the direct cause of the following exception:\n",
      "\u001b[1;31mKeyError\u001b[0m                                  Traceback (most recent call last)",
      "\u001b[1;32m~\\AppData\\Local\\Temp/ipykernel_11196/112976.py\u001b[0m in \u001b[0;36m<module>\u001b[1;34m\u001b[0m\n\u001b[1;32m----> 1\u001b[1;33m \u001b[0mdf\u001b[0m\u001b[1;33m[\u001b[0m\u001b[1;34m'True_Range_ratio_30'\u001b[0m\u001b[1;33m]\u001b[0m \u001b[1;33m=\u001b[0m \u001b[1;33m(\u001b[0m\u001b[1;33m(\u001b[0m\u001b[0mdf\u001b[0m\u001b[1;33m[\u001b[0m\u001b[1;34m'High_30'\u001b[0m\u001b[1;33m]\u001b[0m \u001b[1;33m-\u001b[0m \u001b[0mdf\u001b[0m\u001b[1;33m[\u001b[0m\u001b[1;34m'Low_30'\u001b[0m\u001b[1;33m]\u001b[0m\u001b[1;33m)\u001b[0m\u001b[1;33m/\u001b[0m\u001b[0mdf\u001b[0m\u001b[1;33m[\u001b[0m\u001b[1;34m'Close_30'\u001b[0m\u001b[1;33m]\u001b[0m\u001b[1;33m)\u001b[0m\u001b[1;33m*\u001b[0m\u001b[1;36m100\u001b[0m\u001b[1;33m\u001b[0m\u001b[1;33m\u001b[0m\u001b[0m\n\u001b[0m\u001b[0;32m      2\u001b[0m \u001b[0mdf\u001b[0m\u001b[1;33m[\u001b[0m\u001b[1;34m\"OPR_30\"\u001b[0m\u001b[1;33m]\u001b[0m \u001b[1;33m=\u001b[0m \u001b[1;33m(\u001b[0m\u001b[0mdf\u001b[0m\u001b[1;33m[\u001b[0m\u001b[1;34m'Open_30'\u001b[0m\u001b[1;33m]\u001b[0m \u001b[1;33m-\u001b[0m \u001b[0mdf\u001b[0m\u001b[1;33m[\u001b[0m\u001b[1;34m'Low_30'\u001b[0m\u001b[1;33m]\u001b[0m\u001b[1;33m)\u001b[0m\u001b[1;33m/\u001b[0m\u001b[1;33m(\u001b[0m\u001b[0mdf\u001b[0m\u001b[1;33m[\u001b[0m\u001b[1;34m'High_30'\u001b[0m\u001b[1;33m]\u001b[0m \u001b[1;33m-\u001b[0m \u001b[0mdf\u001b[0m\u001b[1;33m[\u001b[0m\u001b[1;34m'Low_30'\u001b[0m\u001b[1;33m]\u001b[0m\u001b[1;33m)\u001b[0m\u001b[1;33m\u001b[0m\u001b[1;33m\u001b[0m\u001b[0m\n\u001b[0;32m      3\u001b[0m \u001b[0mdf\u001b[0m\u001b[1;33m[\u001b[0m\u001b[1;34m\"CPR_30\"\u001b[0m\u001b[1;33m]\u001b[0m \u001b[1;33m=\u001b[0m \u001b[1;33m(\u001b[0m\u001b[0mdf\u001b[0m\u001b[1;33m[\u001b[0m\u001b[1;34m'Close_30'\u001b[0m\u001b[1;33m]\u001b[0m \u001b[1;33m-\u001b[0m \u001b[0mdf\u001b[0m\u001b[1;33m[\u001b[0m\u001b[1;34m'Low_30'\u001b[0m\u001b[1;33m]\u001b[0m\u001b[1;33m)\u001b[0m\u001b[1;33m/\u001b[0m\u001b[1;33m(\u001b[0m\u001b[0mdf\u001b[0m\u001b[1;33m[\u001b[0m\u001b[1;34m'High_30'\u001b[0m\u001b[1;33m]\u001b[0m \u001b[1;33m-\u001b[0m \u001b[0mdf\u001b[0m\u001b[1;33m[\u001b[0m\u001b[1;34m'Low_30'\u001b[0m\u001b[1;33m]\u001b[0m\u001b[1;33m)\u001b[0m\u001b[1;33m\u001b[0m\u001b[1;33m\u001b[0m\u001b[0m\n\u001b[0;32m      4\u001b[0m \u001b[0mdf\u001b[0m\u001b[1;33m[\u001b[0m\u001b[1;34m\"Solid_30\"\u001b[0m\u001b[1;33m]\u001b[0m \u001b[1;33m=\u001b[0m \u001b[1;33m(\u001b[0m\u001b[0mabs\u001b[0m\u001b[1;33m(\u001b[0m\u001b[0mdf\u001b[0m\u001b[1;33m[\u001b[0m\u001b[1;34m'Open_30'\u001b[0m\u001b[1;33m]\u001b[0m \u001b[1;33m-\u001b[0m \u001b[0mdf\u001b[0m\u001b[1;33m[\u001b[0m\u001b[1;34m'Close_30'\u001b[0m\u001b[1;33m]\u001b[0m\u001b[1;33m)\u001b[0m\u001b[1;33m)\u001b[0m\u001b[1;33m/\u001b[0m\u001b[1;33m(\u001b[0m\u001b[0mdf\u001b[0m\u001b[1;33m[\u001b[0m\u001b[1;34m'High_30'\u001b[0m\u001b[1;33m]\u001b[0m \u001b[1;33m-\u001b[0m \u001b[0mdf\u001b[0m\u001b[1;33m[\u001b[0m\u001b[1;34m'Low_30'\u001b[0m\u001b[1;33m]\u001b[0m\u001b[1;33m)\u001b[0m\u001b[1;33m\u001b[0m\u001b[1;33m\u001b[0m\u001b[0m\n",
      "\u001b[1;32m~\\anaconda3\\lib\\site-packages\\pandas\\core\\frame.py\u001b[0m in \u001b[0;36m__getitem__\u001b[1;34m(self, key)\u001b[0m\n\u001b[0;32m   3456\u001b[0m             \u001b[1;32mif\u001b[0m \u001b[0mself\u001b[0m\u001b[1;33m.\u001b[0m\u001b[0mcolumns\u001b[0m\u001b[1;33m.\u001b[0m\u001b[0mnlevels\u001b[0m \u001b[1;33m>\u001b[0m \u001b[1;36m1\u001b[0m\u001b[1;33m:\u001b[0m\u001b[1;33m\u001b[0m\u001b[1;33m\u001b[0m\u001b[0m\n\u001b[0;32m   3457\u001b[0m                 \u001b[1;32mreturn\u001b[0m \u001b[0mself\u001b[0m\u001b[1;33m.\u001b[0m\u001b[0m_getitem_multilevel\u001b[0m\u001b[1;33m(\u001b[0m\u001b[0mkey\u001b[0m\u001b[1;33m)\u001b[0m\u001b[1;33m\u001b[0m\u001b[1;33m\u001b[0m\u001b[0m\n\u001b[1;32m-> 3458\u001b[1;33m             \u001b[0mindexer\u001b[0m \u001b[1;33m=\u001b[0m \u001b[0mself\u001b[0m\u001b[1;33m.\u001b[0m\u001b[0mcolumns\u001b[0m\u001b[1;33m.\u001b[0m\u001b[0mget_loc\u001b[0m\u001b[1;33m(\u001b[0m\u001b[0mkey\u001b[0m\u001b[1;33m)\u001b[0m\u001b[1;33m\u001b[0m\u001b[1;33m\u001b[0m\u001b[0m\n\u001b[0m\u001b[0;32m   3459\u001b[0m             \u001b[1;32mif\u001b[0m \u001b[0mis_integer\u001b[0m\u001b[1;33m(\u001b[0m\u001b[0mindexer\u001b[0m\u001b[1;33m)\u001b[0m\u001b[1;33m:\u001b[0m\u001b[1;33m\u001b[0m\u001b[1;33m\u001b[0m\u001b[0m\n\u001b[0;32m   3460\u001b[0m                 \u001b[0mindexer\u001b[0m \u001b[1;33m=\u001b[0m \u001b[1;33m[\u001b[0m\u001b[0mindexer\u001b[0m\u001b[1;33m]\u001b[0m\u001b[1;33m\u001b[0m\u001b[1;33m\u001b[0m\u001b[0m\n",
      "\u001b[1;32m~\\anaconda3\\lib\\site-packages\\pandas\\core\\indexes\\base.py\u001b[0m in \u001b[0;36mget_loc\u001b[1;34m(self, key, method, tolerance)\u001b[0m\n\u001b[0;32m   3361\u001b[0m                 \u001b[1;32mreturn\u001b[0m \u001b[0mself\u001b[0m\u001b[1;33m.\u001b[0m\u001b[0m_engine\u001b[0m\u001b[1;33m.\u001b[0m\u001b[0mget_loc\u001b[0m\u001b[1;33m(\u001b[0m\u001b[0mcasted_key\u001b[0m\u001b[1;33m)\u001b[0m\u001b[1;33m\u001b[0m\u001b[1;33m\u001b[0m\u001b[0m\n\u001b[0;32m   3362\u001b[0m             \u001b[1;32mexcept\u001b[0m \u001b[0mKeyError\u001b[0m \u001b[1;32mas\u001b[0m \u001b[0merr\u001b[0m\u001b[1;33m:\u001b[0m\u001b[1;33m\u001b[0m\u001b[1;33m\u001b[0m\u001b[0m\n\u001b[1;32m-> 3363\u001b[1;33m                 \u001b[1;32mraise\u001b[0m \u001b[0mKeyError\u001b[0m\u001b[1;33m(\u001b[0m\u001b[0mkey\u001b[0m\u001b[1;33m)\u001b[0m \u001b[1;32mfrom\u001b[0m \u001b[0merr\u001b[0m\u001b[1;33m\u001b[0m\u001b[1;33m\u001b[0m\u001b[0m\n\u001b[0m\u001b[0;32m   3364\u001b[0m \u001b[1;33m\u001b[0m\u001b[0m\n\u001b[0;32m   3365\u001b[0m         \u001b[1;32mif\u001b[0m \u001b[0mis_scalar\u001b[0m\u001b[1;33m(\u001b[0m\u001b[0mkey\u001b[0m\u001b[1;33m)\u001b[0m \u001b[1;32mand\u001b[0m \u001b[0misna\u001b[0m\u001b[1;33m(\u001b[0m\u001b[0mkey\u001b[0m\u001b[1;33m)\u001b[0m \u001b[1;32mand\u001b[0m \u001b[1;32mnot\u001b[0m \u001b[0mself\u001b[0m\u001b[1;33m.\u001b[0m\u001b[0mhasnans\u001b[0m\u001b[1;33m:\u001b[0m\u001b[1;33m\u001b[0m\u001b[1;33m\u001b[0m\u001b[0m\n",
      "\u001b[1;31mKeyError\u001b[0m: 'High_30'"
     ]
    }
   ],
   "source": [
    "df['True_Range_ratio_30'] = ((df['High_30'] - df['Low_30'])/df['Close_30'])*100\n",
    "df[\"OPR_30\"] = (df['Open_30'] - df['Low_30'])/(df['High_30'] - df['Low_30'])\n",
    "df[\"CPR_30\"] = (df['Close_30'] - df['Low_30'])/(df['High_30'] - df['Low_30'])\n",
    "df[\"Solid_30\"] = (abs(df['Open_30'] - df['Close_30']))/(df['High_30'] - df['Low_30'])"
   ]
  },
  {
   "cell_type": "code",
   "execution_count": null,
   "id": "dd48fbd0",
   "metadata": {},
   "outputs": [],
   "source": []
  }
 ],
 "metadata": {
  "kernelspec": {
   "display_name": "Python 3 (ipykernel)",
   "language": "python",
   "name": "python3"
  },
  "language_info": {
   "codemirror_mode": {
    "name": "ipython",
    "version": 3
   },
   "file_extension": ".py",
   "mimetype": "text/x-python",
   "name": "python",
   "nbconvert_exporter": "python",
   "pygments_lexer": "ipython3",
   "version": "3.9.7"
  }
 },
 "nbformat": 4,
 "nbformat_minor": 5
}
