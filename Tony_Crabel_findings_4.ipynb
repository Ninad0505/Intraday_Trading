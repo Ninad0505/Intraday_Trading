{
 "cells": [
  {
   "cell_type": "code",
   "execution_count": 2,
   "id": "d4c6ff61",
   "metadata": {},
   "outputs": [],
   "source": [
    "import pandas as pd\n",
    "df = pd.read_excel(\"Nifty50_with_last&first.xlsx\", parse_dates=[\"Date\"], index_col=\"Date\")"
   ]
  },
  {
   "cell_type": "code",
   "execution_count": 2,
   "id": "5b162400",
   "metadata": {},
   "outputs": [
    {
     "data": {
      "text/html": [
       "<div>\n",
       "<style scoped>\n",
       "    .dataframe tbody tr th:only-of-type {\n",
       "        vertical-align: middle;\n",
       "    }\n",
       "\n",
       "    .dataframe tbody tr th {\n",
       "        vertical-align: top;\n",
       "    }\n",
       "\n",
       "    .dataframe thead th {\n",
       "        text-align: right;\n",
       "    }\n",
       "</style>\n",
       "<table border=\"1\" class=\"dataframe\">\n",
       "  <thead>\n",
       "    <tr style=\"text-align: right;\">\n",
       "      <th></th>\n",
       "      <th>Open_last</th>\n",
       "      <th>Close_last</th>\n",
       "      <th>Low_last</th>\n",
       "      <th>High_last</th>\n",
       "      <th>Open_left</th>\n",
       "      <th>High_left</th>\n",
       "      <th>Low_left</th>\n",
       "      <th>Close_left</th>\n",
       "      <th>Open_30</th>\n",
       "      <th>Close_30</th>\n",
       "      <th>Low_30</th>\n",
       "      <th>High_30</th>\n",
       "      <th>Open_right</th>\n",
       "      <th>High_right</th>\n",
       "      <th>Low_right</th>\n",
       "      <th>Close_right</th>\n",
       "      <th>OPR</th>\n",
       "      <th>CPR</th>\n",
       "      <th>Solid</th>\n",
       "      <th>True_Range_ratio</th>\n",
       "    </tr>\n",
       "    <tr>\n",
       "      <th>Date</th>\n",
       "      <th></th>\n",
       "      <th></th>\n",
       "      <th></th>\n",
       "      <th></th>\n",
       "      <th></th>\n",
       "      <th></th>\n",
       "      <th></th>\n",
       "      <th></th>\n",
       "      <th></th>\n",
       "      <th></th>\n",
       "      <th></th>\n",
       "      <th></th>\n",
       "      <th></th>\n",
       "      <th></th>\n",
       "      <th></th>\n",
       "      <th></th>\n",
       "      <th></th>\n",
       "      <th></th>\n",
       "      <th></th>\n",
       "      <th></th>\n",
       "    </tr>\n",
       "  </thead>\n",
       "  <tbody>\n",
       "    <tr>\n",
       "      <th>2010-01-04</th>\n",
       "      <td>5231.00</td>\n",
       "      <td>5235.0</td>\n",
       "      <td>5225.0</td>\n",
       "      <td>5238.00</td>\n",
       "      <td>5200.90</td>\n",
       "      <td>5238.45</td>\n",
       "      <td>5167.10</td>\n",
       "      <td>5232.2</td>\n",
       "      <td>5201.00</td>\n",
       "      <td>5220.00</td>\n",
       "      <td>5167.0</td>\n",
       "      <td>5224.00</td>\n",
       "      <td>5200.90</td>\n",
       "      <td>5238.45</td>\n",
       "      <td>5167.10</td>\n",
       "      <td>5232.2</td>\n",
       "      <td>0.473721</td>\n",
       "      <td>0.912404</td>\n",
       "      <td>0.438683</td>\n",
       "      <td>1.363671</td>\n",
       "    </tr>\n",
       "    <tr>\n",
       "      <th>2010-01-05</th>\n",
       "      <td>5272.00</td>\n",
       "      <td>5274.0</td>\n",
       "      <td>5271.0</td>\n",
       "      <td>5288.00</td>\n",
       "      <td>5277.15</td>\n",
       "      <td>5288.35</td>\n",
       "      <td>5242.40</td>\n",
       "      <td>5277.9</td>\n",
       "      <td>5277.00</td>\n",
       "      <td>5278.00</td>\n",
       "      <td>5242.0</td>\n",
       "      <td>5286.00</td>\n",
       "      <td>5277.15</td>\n",
       "      <td>5288.35</td>\n",
       "      <td>5242.40</td>\n",
       "      <td>5277.9</td>\n",
       "      <td>0.756257</td>\n",
       "      <td>0.772579</td>\n",
       "      <td>0.016322</td>\n",
       "      <td>0.870611</td>\n",
       "    </tr>\n",
       "    <tr>\n",
       "      <th>2010-01-06</th>\n",
       "      <td>5278.00</td>\n",
       "      <td>5281.0</td>\n",
       "      <td>5269.0</td>\n",
       "      <td>5287.00</td>\n",
       "      <td>5278.15</td>\n",
       "      <td>5310.85</td>\n",
       "      <td>5260.05</td>\n",
       "      <td>5281.8</td>\n",
       "      <td>5278.00</td>\n",
       "      <td>5287.00</td>\n",
       "      <td>5271.0</td>\n",
       "      <td>5311.00</td>\n",
       "      <td>5278.15</td>\n",
       "      <td>5310.85</td>\n",
       "      <td>5260.05</td>\n",
       "      <td>5281.8</td>\n",
       "      <td>0.356299</td>\n",
       "      <td>0.428150</td>\n",
       "      <td>0.071850</td>\n",
       "      <td>0.961793</td>\n",
       "    </tr>\n",
       "    <tr>\n",
       "      <th>2010-01-07</th>\n",
       "      <td>5253.00</td>\n",
       "      <td>5256.6</td>\n",
       "      <td>5250.6</td>\n",
       "      <td>5275.85</td>\n",
       "      <td>5281.80</td>\n",
       "      <td>5302.55</td>\n",
       "      <td>5244.75</td>\n",
       "      <td>5263.1</td>\n",
       "      <td>5281.80</td>\n",
       "      <td>5270.15</td>\n",
       "      <td>5264.5</td>\n",
       "      <td>5302.55</td>\n",
       "      <td>5281.80</td>\n",
       "      <td>5302.55</td>\n",
       "      <td>5244.75</td>\n",
       "      <td>5263.1</td>\n",
       "      <td>0.641003</td>\n",
       "      <td>0.317474</td>\n",
       "      <td>0.323529</td>\n",
       "      <td>1.098212</td>\n",
       "    </tr>\n",
       "    <tr>\n",
       "      <th>2010-01-08</th>\n",
       "      <td>5244.35</td>\n",
       "      <td>5247.0</td>\n",
       "      <td>5234.7</td>\n",
       "      <td>5255.60</td>\n",
       "      <td>5264.25</td>\n",
       "      <td>5276.75</td>\n",
       "      <td>5234.70</td>\n",
       "      <td>5244.7</td>\n",
       "      <td>5264.25</td>\n",
       "      <td>5259.65</td>\n",
       "      <td>5251.3</td>\n",
       "      <td>5275.10</td>\n",
       "      <td>5264.25</td>\n",
       "      <td>5276.75</td>\n",
       "      <td>5234.70</td>\n",
       "      <td>5244.7</td>\n",
       "      <td>0.702735</td>\n",
       "      <td>0.237812</td>\n",
       "      <td>0.464923</td>\n",
       "      <td>0.801762</td>\n",
       "    </tr>\n",
       "  </tbody>\n",
       "</table>\n",
       "</div>"
      ],
      "text/plain": [
       "            Open_last  Close_last  Low_last  High_last  Open_left  High_left  \\\n",
       "Date                                                                           \n",
       "2010-01-04    5231.00      5235.0    5225.0    5238.00    5200.90    5238.45   \n",
       "2010-01-05    5272.00      5274.0    5271.0    5288.00    5277.15    5288.35   \n",
       "2010-01-06    5278.00      5281.0    5269.0    5287.00    5278.15    5310.85   \n",
       "2010-01-07    5253.00      5256.6    5250.6    5275.85    5281.80    5302.55   \n",
       "2010-01-08    5244.35      5247.0    5234.7    5255.60    5264.25    5276.75   \n",
       "\n",
       "            Low_left  Close_left  Open_30  Close_30  Low_30  High_30  \\\n",
       "Date                                                                   \n",
       "2010-01-04   5167.10      5232.2  5201.00   5220.00  5167.0  5224.00   \n",
       "2010-01-05   5242.40      5277.9  5277.00   5278.00  5242.0  5286.00   \n",
       "2010-01-06   5260.05      5281.8  5278.00   5287.00  5271.0  5311.00   \n",
       "2010-01-07   5244.75      5263.1  5281.80   5270.15  5264.5  5302.55   \n",
       "2010-01-08   5234.70      5244.7  5264.25   5259.65  5251.3  5275.10   \n",
       "\n",
       "            Open_right  High_right  Low_right  Close_right       OPR  \\\n",
       "Date                                                                   \n",
       "2010-01-04     5200.90     5238.45    5167.10       5232.2  0.473721   \n",
       "2010-01-05     5277.15     5288.35    5242.40       5277.9  0.756257   \n",
       "2010-01-06     5278.15     5310.85    5260.05       5281.8  0.356299   \n",
       "2010-01-07     5281.80     5302.55    5244.75       5263.1  0.641003   \n",
       "2010-01-08     5264.25     5276.75    5234.70       5244.7  0.702735   \n",
       "\n",
       "                 CPR     Solid  True_Range_ratio  \n",
       "Date                                              \n",
       "2010-01-04  0.912404  0.438683          1.363671  \n",
       "2010-01-05  0.772579  0.016322          0.870611  \n",
       "2010-01-06  0.428150  0.071850          0.961793  \n",
       "2010-01-07  0.317474  0.323529          1.098212  \n",
       "2010-01-08  0.237812  0.464923          0.801762  "
      ]
     },
     "execution_count": 2,
     "metadata": {},
     "output_type": "execute_result"
    }
   ],
   "source": [
    "df.head()"
   ]
  },
  {
   "cell_type": "code",
   "execution_count": 3,
   "id": "9b149355",
   "metadata": {},
   "outputs": [],
   "source": [
    "df['TRR_Prev'] = df['True_Range_ratio'].shift(1)"
   ]
  },
  {
   "cell_type": "code",
   "execution_count": 4,
   "id": "6dddfc2a",
   "metadata": {},
   "outputs": [
    {
     "data": {
      "text/html": [
       "<div>\n",
       "<style scoped>\n",
       "    .dataframe tbody tr th:only-of-type {\n",
       "        vertical-align: middle;\n",
       "    }\n",
       "\n",
       "    .dataframe tbody tr th {\n",
       "        vertical-align: top;\n",
       "    }\n",
       "\n",
       "    .dataframe thead th {\n",
       "        text-align: right;\n",
       "    }\n",
       "</style>\n",
       "<table border=\"1\" class=\"dataframe\">\n",
       "  <thead>\n",
       "    <tr style=\"text-align: right;\">\n",
       "      <th></th>\n",
       "      <th>True_Range_ratio</th>\n",
       "      <th>TRR_Prev</th>\n",
       "    </tr>\n",
       "    <tr>\n",
       "      <th>Date</th>\n",
       "      <th></th>\n",
       "      <th></th>\n",
       "    </tr>\n",
       "  </thead>\n",
       "  <tbody>\n",
       "    <tr>\n",
       "      <th>2010-01-04</th>\n",
       "      <td>1.363671</td>\n",
       "      <td>NaN</td>\n",
       "    </tr>\n",
       "    <tr>\n",
       "      <th>2010-01-05</th>\n",
       "      <td>0.870611</td>\n",
       "      <td>1.363671</td>\n",
       "    </tr>\n",
       "    <tr>\n",
       "      <th>2010-01-06</th>\n",
       "      <td>0.961793</td>\n",
       "      <td>0.870611</td>\n",
       "    </tr>\n",
       "    <tr>\n",
       "      <th>2010-01-07</th>\n",
       "      <td>1.098212</td>\n",
       "      <td>0.961793</td>\n",
       "    </tr>\n",
       "    <tr>\n",
       "      <th>2010-01-08</th>\n",
       "      <td>0.801762</td>\n",
       "      <td>1.098212</td>\n",
       "    </tr>\n",
       "  </tbody>\n",
       "</table>\n",
       "</div>"
      ],
      "text/plain": [
       "            True_Range_ratio  TRR_Prev\n",
       "Date                                  \n",
       "2010-01-04          1.363671       NaN\n",
       "2010-01-05          0.870611  1.363671\n",
       "2010-01-06          0.961793  0.870611\n",
       "2010-01-07          1.098212  0.961793\n",
       "2010-01-08          0.801762  1.098212"
      ]
     },
     "execution_count": 4,
     "metadata": {},
     "output_type": "execute_result"
    }
   ],
   "source": [
    "df[['True_Range_ratio','TRR_Prev']].head()"
   ]
  },
  {
   "cell_type": "code",
   "execution_count": 5,
   "id": "9f9755d1",
   "metadata": {},
   "outputs": [],
   "source": [
    "df['TRR_Next'] = df['True_Range_ratio'].shift(-1)\n",
    "df['OPR_Next'] = df['OPR'].shift(-1)\n",
    "df['CPR_Next'] = df['CPR'].shift(-1)\n",
    "df['CPR_Prev'] = df['CPR'].shift(1)\n",
    "df['OPR_Prev'] = df['OPR'].shift(1)\n",
    "df['Prev_Close'] = df['Close_right'].shift(1)\n",
    "df['Open-Low%'] = ((df['Open_right'] - df['Low_right'])/df['Prev_Close'])*100\n",
    "df['Open-High%'] = ((df['High_right'] - df['Open_right'])/df['Prev_Close'])*100\n",
    "df['Range~Prev_Close'] = ((df['High_right'] - df['Low_right'])/df['Prev_Close'])*100 \n",
    "\n",
    "df['True_Range_ratio_30'] = ((df['High_30'] - df['Low_30'])/df['Prev_Close'])*100\n",
    "df[\"OPR_30\"] = (df['Open_30'] - df['Low_30'])/(df['High_30'] - df['Low_30'])\n",
    "df[\"CPR_30\"] = (df['Close_30'] - df['Low_30'])/(df['High_30'] - df['Low_30'])\n",
    "df[\"Solid_30\"] = (abs(df['Open_30'] - df['Close_30']))/(df['High_30'] - df['Low_30'])\n",
    "\n",
    "df['Upper'] = ((df['High_right'] - df['High_30'])/df['Prev_Close'])*100\n",
    "df['Lower'] = ((df['Low_30'] - df['Low_right'])/df['Prev_Close'])*100\n",
    "df[\"Close~15min-High\"] = ((df['Close_right'] - df['High_30'])/df['Prev_Close'])*100\n",
    "df[\"Close~15min-Low\"] = ((df['Low_30'] - df['Close_right'])/df['Prev_Close'])*100"
   ]
  },
  {
   "cell_type": "markdown",
   "id": "08c854d3",
   "metadata": {},
   "source": [
    "## Range "
   ]
  },
  {
   "cell_type": "code",
   "execution_count": 6,
   "id": "7103e792",
   "metadata": {},
   "outputs": [],
   "source": [
    "df['True_Range_ratio_last'] = ((df['High_last'] - df['Low_last'])/df['Prev_Close'])*100"
   ]
  },
  {
   "cell_type": "code",
   "execution_count": 7,
   "id": "1c79b84e",
   "metadata": {},
   "outputs": [
    {
     "data": {
      "text/plain": [
       "count    2349.000000\n",
       "mean        0.529721\n",
       "std         0.327886\n",
       "min         0.095820\n",
       "25%         0.315996\n",
       "50%         0.444390\n",
       "75%         0.643337\n",
       "max         3.542305\n",
       "Name: True_Range_ratio_last, dtype: float64"
      ]
     },
     "execution_count": 7,
     "metadata": {},
     "output_type": "execute_result"
    }
   ],
   "source": [
    "df['True_Range_ratio_last'].describe()"
   ]
  },
  {
   "cell_type": "code",
   "execution_count": 8,
   "id": "31c11ff8",
   "metadata": {},
   "outputs": [
    {
     "data": {
      "text/plain": [
       "count    333.000000\n",
       "mean       0.630008\n",
       "std        0.343097\n",
       "min        0.149869\n",
       "25%        0.376934\n",
       "50%        0.548756\n",
       "75%        0.763489\n",
       "max        2.246013\n",
       "Name: True_Range_ratio_last, dtype: float64"
      ]
     },
     "execution_count": 8,
     "metadata": {},
     "output_type": "execute_result"
    }
   ],
   "source": [
    "df['True_Range_ratio_last'][ (df['OPR'] > 0.8) & (df['CPR'] < 0.2) ].describe()"
   ]
  },
  {
   "cell_type": "code",
   "execution_count": 9,
   "id": "c3678b23",
   "metadata": {},
   "outputs": [
    {
     "data": {
      "text/plain": [
       "count    316.000000\n",
       "mean       0.492883\n",
       "std        0.268306\n",
       "min        0.125253\n",
       "25%        0.315063\n",
       "50%        0.423191\n",
       "75%        0.616241\n",
       "max        2.591548\n",
       "Name: True_Range_ratio_last, dtype: float64"
      ]
     },
     "execution_count": 9,
     "metadata": {},
     "output_type": "execute_result"
    }
   ],
   "source": [
    "df['True_Range_ratio_last'][ (df['OPR'] < 0.2) & (df['CPR'] > 0.8) ].describe()"
   ]
  },
  {
   "cell_type": "code",
   "execution_count": 10,
   "id": "be48a4fd",
   "metadata": {},
   "outputs": [],
   "source": [
    "df[\"OPR_last\"] = (df['Open_last'] - df['Low_last'])/(df['High_last'] - df['Low_last'])\n",
    "df[\"CPR_last\"] = (df['Close_last'] - df['Low_last'])/(df['High_last'] - df['Low_last'])\n",
    "df[\"Solid_last\"] = (abs(df['Open_last'] - df['Close_last']))/(df['High_last'] - df['Low_last'])"
   ]
  },
  {
   "cell_type": "code",
   "execution_count": 21,
   "id": "8f654674",
   "metadata": {},
   "outputs": [
    {
     "data": {
      "text/plain": [
       "count    2350.000000\n",
       "mean        0.498727\n",
       "std         0.331891\n",
       "min         0.000000\n",
       "25%         0.181883\n",
       "50%         0.500000\n",
       "75%         0.814520\n",
       "max         1.000000\n",
       "Name: OPR_last, dtype: float64"
      ]
     },
     "execution_count": 21,
     "metadata": {},
     "output_type": "execute_result"
    }
   ],
   "source": [
    "df[\"OPR_last\"].describe()"
   ]
  },
  {
   "cell_type": "code",
   "execution_count": 26,
   "id": "ceaf9ab8",
   "metadata": {},
   "outputs": [
    {
     "data": {
      "text/plain": [
       "count    333.000000\n",
       "mean       0.781379\n",
       "std        0.215374\n",
       "min        0.000000\n",
       "25%        0.702381\n",
       "50%        0.853392\n",
       "75%        0.943311\n",
       "max        1.000000\n",
       "Name: OPR_last, dtype: float64"
      ]
     },
     "execution_count": 26,
     "metadata": {},
     "output_type": "execute_result"
    }
   ],
   "source": [
    "df[\"OPR_last\"][ (df['OPR'] > 0.8) & (df['CPR'] < 0.2) ].describe()"
   ]
  },
  {
   "cell_type": "code",
   "execution_count": 29,
   "id": "0b6895ba",
   "metadata": {},
   "outputs": [
    {
     "data": {
      "text/plain": [
       "count    316.000000\n",
       "mean       0.249781\n",
       "std        0.230053\n",
       "min        0.000000\n",
       "25%        0.062783\n",
       "50%        0.182761\n",
       "75%        0.359668\n",
       "max        0.902685\n",
       "Name: OPR_last, dtype: float64"
      ]
     },
     "execution_count": 29,
     "metadata": {},
     "output_type": "execute_result"
    }
   ],
   "source": [
    "df[\"OPR_last\"][ (df['OPR'] < 0.2) & (df['CPR'] > 0.8) ].describe()"
   ]
  },
  {
   "cell_type": "markdown",
   "id": "dbe1f17a",
   "metadata": {},
   "source": [
    "#### This suggests that the momentum continues in the last hour of trending days"
   ]
  },
  {
   "cell_type": "code",
   "execution_count": 32,
   "id": "a5497f4c",
   "metadata": {},
   "outputs": [
    {
     "data": {
      "text/plain": [
       "count    783.000000\n",
       "mean       0.526334\n",
       "std        0.331878\n",
       "min        0.000000\n",
       "25%        0.209540\n",
       "50%        0.560582\n",
       "75%        0.843616\n",
       "max        1.000000\n",
       "Name: OPR_last, dtype: float64"
      ]
     },
     "execution_count": 32,
     "metadata": {},
     "output_type": "execute_result"
    }
   ],
   "source": [
    "df[\"OPR_last\"][ (((df['OPR_30'] > 0.3) & (df['CPR_30'] < 0.3)) | ((df['OPR_30'] > 0.8) & (df['CPR_30'] < 0.4))) ].describe()"
   ]
  },
  {
   "cell_type": "code",
   "execution_count": 33,
   "id": "0d0c6d39",
   "metadata": {},
   "outputs": [
    {
     "data": {
      "text/plain": [
       "count    718.000000\n",
       "mean       0.461464\n",
       "std        0.328676\n",
       "min        0.000000\n",
       "25%        0.147726\n",
       "50%        0.416410\n",
       "75%        0.777151\n",
       "max        1.000000\n",
       "Name: OPR_last, dtype: float64"
      ]
     },
     "execution_count": 33,
     "metadata": {},
     "output_type": "execute_result"
    }
   ],
   "source": [
    "df[\"OPR_last\"][(((df['OPR_30'] < 0.7) & (df['CPR_30'] > 0.7)) | ((df['OPR_30'] < 0.2) & (df['CPR_30'] > 0.6)))].describe()"
   ]
  },
  {
   "cell_type": "markdown",
   "id": "2b99d9eb",
   "metadata": {},
   "source": [
    "#### This suggests that there is no relation between last hour and first 15min candle"
   ]
  },
  {
   "cell_type": "code",
   "execution_count": 22,
   "id": "7cb99ae0",
   "metadata": {},
   "outputs": [
    {
     "data": {
      "text/plain": [
       "count    2350.000000\n",
       "mean        0.499154\n",
       "std         0.273702\n",
       "min         0.000000\n",
       "25%         0.259335\n",
       "50%         0.503819\n",
       "75%         0.736570\n",
       "max         1.000000\n",
       "Name: CPR_last, dtype: float64"
      ]
     },
     "execution_count": 22,
     "metadata": {},
     "output_type": "execute_result"
    }
   ],
   "source": [
    "df[\"CPR_last\"].describe()"
   ]
  },
  {
   "cell_type": "code",
   "execution_count": 27,
   "id": "10787022",
   "metadata": {},
   "outputs": [
    {
     "data": {
      "text/plain": [
       "count    333.000000\n",
       "mean       0.288172\n",
       "std        0.194166\n",
       "min        0.000000\n",
       "25%        0.145363\n",
       "50%        0.254417\n",
       "75%        0.396319\n",
       "max        0.937025\n",
       "Name: CPR_last, dtype: float64"
      ]
     },
     "execution_count": 27,
     "metadata": {},
     "output_type": "execute_result"
    }
   ],
   "source": [
    "df[\"CPR_last\"][ (df['OPR'] > 0.8) & (df['CPR'] < 0.2) ].describe()"
   ]
  },
  {
   "cell_type": "code",
   "execution_count": 28,
   "id": "fa8a5f5d",
   "metadata": {},
   "outputs": [
    {
     "data": {
      "text/plain": [
       "count    316.000000\n",
       "mean       0.662498\n",
       "std        0.225512\n",
       "min        0.000000\n",
       "25%        0.532690\n",
       "50%        0.719737\n",
       "75%        0.831902\n",
       "max        0.987437\n",
       "Name: CPR_last, dtype: float64"
      ]
     },
     "execution_count": 28,
     "metadata": {},
     "output_type": "execute_result"
    }
   ],
   "source": [
    "df[\"CPR_last\"][ (df['OPR'] < 0.2) & (df['CPR'] > 0.8) ].describe()"
   ]
  },
  {
   "cell_type": "code",
   "execution_count": 24,
   "id": "5209c612",
   "metadata": {},
   "outputs": [
    {
     "data": {
      "text/plain": [
       "count    2350.000000\n",
       "mean        0.459423\n",
       "std         0.254786\n",
       "min         0.000000\n",
       "25%         0.245438\n",
       "50%         0.467748\n",
       "75%         0.671022\n",
       "max         0.994614\n",
       "Name: Solid_last, dtype: float64"
      ]
     },
     "execution_count": 24,
     "metadata": {},
     "output_type": "execute_result"
    }
   ],
   "source": [
    "df[\"Solid_last\"].describe()"
   ]
  },
  {
   "cell_type": "markdown",
   "id": "b68d769d",
   "metadata": {},
   "source": [
    "#### This suggests that overall on an average, there is no edge towards the end of day"
   ]
  },
  {
   "cell_type": "code",
   "execution_count": 25,
   "id": "1de36635",
   "metadata": {},
   "outputs": [
    {
     "data": {
      "text/plain": [
       "count    333.000000\n",
       "mean       0.535344\n",
       "std        0.248814\n",
       "min        0.006073\n",
       "25%        0.343214\n",
       "50%        0.573050\n",
       "75%        0.719677\n",
       "max        0.981923\n",
       "Name: Solid_last, dtype: float64"
      ]
     },
     "execution_count": 25,
     "metadata": {},
     "output_type": "execute_result"
    }
   ],
   "source": [
    "df[\"Solid_last\"][ (df['OPR'] > 0.8) & (df['CPR'] < 0.2) ].describe()"
   ]
  },
  {
   "cell_type": "code",
   "execution_count": 30,
   "id": "3c00c9f4",
   "metadata": {},
   "outputs": [
    {
     "data": {
      "text/plain": [
       "count    316.000000\n",
       "mean       0.483170\n",
       "std        0.264659\n",
       "min        0.000000\n",
       "25%        0.273324\n",
       "50%        0.505969\n",
       "75%        0.712284\n",
       "max        0.966734\n",
       "Name: Solid_last, dtype: float64"
      ]
     },
     "execution_count": 30,
     "metadata": {},
     "output_type": "execute_result"
    }
   ],
   "source": [
    "df[\"Solid_last\"][ (df['OPR'] < 0.2) & (df['CPR'] > 0.8) ].describe()"
   ]
  },
  {
   "cell_type": "markdown",
   "id": "edf99428",
   "metadata": {},
   "source": [
    "#### CPR_last and OPR_last does suggest continued momentum wrt the direction of the day, in case of trending days\n",
    "\n"
   ]
  },
  {
   "cell_type": "code",
   "execution_count": 12,
   "id": "47b8846f",
   "metadata": {},
   "outputs": [
    {
     "data": {
      "text/plain": [
       "count    603.000000\n",
       "mean       0.447435\n",
       "std        0.256474\n",
       "min        0.000000\n",
       "25%        0.228571\n",
       "50%        0.449102\n",
       "75%        0.665299\n",
       "max        0.970909\n",
       "Name: Solid_last, dtype: float64"
      ]
     },
     "execution_count": 12,
     "metadata": {},
     "output_type": "execute_result"
    }
   ],
   "source": [
    "df[\"Solid_last\"][ (df['OPR'] < 0.25)].describe()"
   ]
  },
  {
   "cell_type": "code",
   "execution_count": 13,
   "id": "8173b039",
   "metadata": {},
   "outputs": [
    {
     "data": {
      "text/plain": [
       "count    837.000000\n",
       "mean       0.459850\n",
       "std        0.252777\n",
       "min        0.001980\n",
       "25%        0.248217\n",
       "50%        0.471318\n",
       "75%        0.662939\n",
       "max        0.981923\n",
       "Name: Solid_last, dtype: float64"
      ]
     },
     "execution_count": 13,
     "metadata": {},
     "output_type": "execute_result"
    }
   ],
   "source": [
    "df[\"Solid_last\"][ (df['OPR'] > 0.75)].describe()"
   ]
  },
  {
   "cell_type": "markdown",
   "id": "8f9e0e68",
   "metadata": {},
   "source": [
    "#### The above stats clearly suggests that things tend to turn dicey in the last hour of the day"
   ]
  },
  {
   "cell_type": "code",
   "execution_count": 14,
   "id": "f5c1adb8",
   "metadata": {},
   "outputs": [
    {
     "data": {
      "text/plain": [
       "count    837.000000\n",
       "mean       0.596869\n",
       "std        0.316005\n",
       "min        0.000000\n",
       "25%        0.321321\n",
       "50%        0.682646\n",
       "75%        0.877419\n",
       "max        1.000000\n",
       "Name: OPR_last, dtype: float64"
      ]
     },
     "execution_count": 14,
     "metadata": {},
     "output_type": "execute_result"
    }
   ],
   "source": [
    "df['OPR_last'][ (df['OPR'] > 0.75)].describe()"
   ]
  },
  {
   "cell_type": "code",
   "execution_count": 15,
   "id": "feca78be",
   "metadata": {},
   "outputs": [
    {
     "data": {
      "text/plain": [
       "count    603.000000\n",
       "mean       0.380992\n",
       "std        0.299749\n",
       "min        0.000000\n",
       "25%        0.116124\n",
       "50%        0.317757\n",
       "75%        0.634723\n",
       "max        0.994495\n",
       "Name: OPR_last, dtype: float64"
      ]
     },
     "execution_count": 15,
     "metadata": {},
     "output_type": "execute_result"
    }
   ],
   "source": [
    "df['OPR_last'][ (df['OPR'] < 0.25)].describe()"
   ]
  },
  {
   "cell_type": "code",
   "execution_count": 16,
   "id": "a27694a4",
   "metadata": {},
   "outputs": [
    {
     "data": {
      "text/plain": [
       "count    837.000000\n",
       "mean       0.429413\n",
       "std        0.264529\n",
       "min        0.000000\n",
       "25%        0.209524\n",
       "50%        0.389231\n",
       "75%        0.655769\n",
       "max        1.000000\n",
       "Name: CPR_last, dtype: float64"
      ]
     },
     "execution_count": 16,
     "metadata": {},
     "output_type": "execute_result"
    }
   ],
   "source": [
    "df['CPR_last'][ (df['OPR'] > 0.75)].describe()"
   ]
  },
  {
   "cell_type": "code",
   "execution_count": 17,
   "id": "36b2eda6",
   "metadata": {},
   "outputs": [
    {
     "data": {
      "text/plain": [
       "count    603.000000\n",
       "mean       0.561404\n",
       "std        0.268708\n",
       "min        0.000000\n",
       "25%        0.343337\n",
       "50%        0.608896\n",
       "75%        0.788697\n",
       "max        1.000000\n",
       "Name: CPR_last, dtype: float64"
      ]
     },
     "execution_count": 17,
     "metadata": {},
     "output_type": "execute_result"
    }
   ],
   "source": [
    "df['CPR_last'][ (df['OPR'] < 0.25)].describe()"
   ]
  },
  {
   "cell_type": "code",
   "execution_count": 18,
   "id": "a088d11d",
   "metadata": {},
   "outputs": [
    {
     "data": {
      "text/plain": [
       "count    603.000000\n",
       "mean       0.486170\n",
       "std        0.275607\n",
       "min        0.125253\n",
       "25%        0.295125\n",
       "50%        0.411589\n",
       "75%        0.586037\n",
       "max        2.591548\n",
       "Name: True_Range_ratio_last, dtype: float64"
      ]
     },
     "execution_count": 18,
     "metadata": {},
     "output_type": "execute_result"
    }
   ],
   "source": [
    "df['True_Range_ratio_last'][ (df['OPR'] < 0.25)].describe()"
   ]
  },
  {
   "cell_type": "code",
   "execution_count": 19,
   "id": "0f9143ad",
   "metadata": {},
   "outputs": [
    {
     "data": {
      "text/plain": [
       "count    837.000000\n",
       "mean       0.556897\n",
       "std        0.339906\n",
       "min        0.118993\n",
       "25%        0.337009\n",
       "50%        0.471282\n",
       "75%        0.667408\n",
       "max        3.542305\n",
       "Name: True_Range_ratio_last, dtype: float64"
      ]
     },
     "execution_count": 19,
     "metadata": {},
     "output_type": "execute_result"
    }
   ],
   "source": [
    "df['True_Range_ratio_last'][ (df['OPR'] > 0.75)].describe()"
   ]
  },
  {
   "cell_type": "code",
   "execution_count": 20,
   "id": "0e079981",
   "metadata": {},
   "outputs": [],
   "source": [
    "df['Upper_last'] = ((df['High_last'] - df['Open_last'])/df['Prev_Close'])*100\n",
    "df['Lower_last'] = ((df['Open_last'] - df['Low_last'])/df['Prev_Close'])*100"
   ]
  },
  {
   "cell_type": "code",
   "execution_count": 21,
   "id": "ab31f82f",
   "metadata": {},
   "outputs": [
    {
     "data": {
      "text/plain": [
       "count    2349.000000\n",
       "mean        0.254404\n",
       "std         0.253601\n",
       "min         0.000000\n",
       "25%         0.079615\n",
       "50%         0.182914\n",
       "75%         0.344340\n",
       "max         2.212123\n",
       "Name: Upper_last, dtype: float64"
      ]
     },
     "execution_count": 21,
     "metadata": {},
     "output_type": "execute_result"
    }
   ],
   "source": [
    "df['Upper_last'].describe()"
   ]
  },
  {
   "cell_type": "code",
   "execution_count": 22,
   "id": "671e4b39",
   "metadata": {},
   "outputs": [
    {
     "data": {
      "text/plain": [
       "count    603.000000\n",
       "mean       0.310171\n",
       "std        0.260971\n",
       "min        0.005080\n",
       "25%        0.119928\n",
       "50%        0.237500\n",
       "75%        0.405656\n",
       "max        1.943510\n",
       "Name: Upper_last, dtype: float64"
      ]
     },
     "execution_count": 22,
     "metadata": {},
     "output_type": "execute_result"
    }
   ],
   "source": [
    "df['Upper_last'][ (df['OPR'] < 0.25)].describe()"
   ]
  },
  {
   "cell_type": "code",
   "execution_count": 36,
   "id": "95a45244",
   "metadata": {},
   "outputs": [
    {
     "data": {
      "text/plain": [
       "count    240.000000\n",
       "mean       0.555358\n",
       "std        0.247808\n",
       "min        0.300054\n",
       "25%        0.372981\n",
       "50%        0.477009\n",
       "75%        0.641414\n",
       "max        1.943510\n",
       "Name: Upper_last, dtype: float64"
      ]
     },
     "execution_count": 36,
     "metadata": {},
     "output_type": "execute_result"
    }
   ],
   "source": [
    "df['Upper_last'][ (df['OPR'] < 0.25) & (df['Upper_last'] > 0.3)].describe()"
   ]
  },
  {
   "cell_type": "code",
   "execution_count": 37,
   "id": "8b648f92",
   "metadata": {},
   "outputs": [
    {
     "data": {
      "text/plain": [
       "count    77.000000\n",
       "mean      0.843881\n",
       "std       0.233205\n",
       "min       0.602532\n",
       "25%       0.661924\n",
       "50%       0.832574\n",
       "75%       0.937326\n",
       "max       1.943510\n",
       "Name: Upper_last, dtype: float64"
      ]
     },
     "execution_count": 37,
     "metadata": {},
     "output_type": "execute_result"
    }
   ],
   "source": [
    "df['Upper_last'][ (df['OPR'] < 0.25) & (df['Upper_last'] > 0.6)].describe()"
   ]
  },
  {
   "cell_type": "code",
   "execution_count": 26,
   "id": "973e5517",
   "metadata": {},
   "outputs": [
    {
     "data": {
      "text/plain": [
       "count    603.000000\n",
       "mean       0.175998\n",
       "std        0.200141\n",
       "min        0.000000\n",
       "25%        0.044925\n",
       "50%        0.114127\n",
       "75%        0.231621\n",
       "max        1.550077\n",
       "Name: Lower_last, dtype: float64"
      ]
     },
     "execution_count": 26,
     "metadata": {},
     "output_type": "execute_result"
    }
   ],
   "source": [
    "df['Lower_last'][ (df['OPR'] < 0.25)].describe()"
   ]
  },
  {
   "cell_type": "code",
   "execution_count": 23,
   "id": "e863293a",
   "metadata": {},
   "outputs": [
    {
     "data": {
      "text/plain": [
       "count    2349.000000\n",
       "mean        0.275318\n",
       "std         0.304862\n",
       "min         0.000000\n",
       "25%         0.073181\n",
       "50%         0.186473\n",
       "75%         0.371783\n",
       "max         2.825641\n",
       "Name: Lower_last, dtype: float64"
      ]
     },
     "execution_count": 23,
     "metadata": {},
     "output_type": "execute_result"
    }
   ],
   "source": [
    "df['Lower_last'].describe()"
   ]
  },
  {
   "cell_type": "code",
   "execution_count": 24,
   "id": "61f0df83",
   "metadata": {},
   "outputs": [
    {
     "data": {
      "text/plain": [
       "count    837.000000\n",
       "mean       0.356219\n",
       "std        0.344194\n",
       "min        0.000000\n",
       "25%        0.117096\n",
       "50%        0.261509\n",
       "75%        0.485928\n",
       "max        2.825641\n",
       "Name: Lower_last, dtype: float64"
      ]
     },
     "execution_count": 24,
     "metadata": {},
     "output_type": "execute_result"
    }
   ],
   "source": [
    "df['Lower_last'][ (df['OPR'] > 0.75)].describe()"
   ]
  },
  {
   "cell_type": "code",
   "execution_count": 38,
   "id": "06c1dc23",
   "metadata": {},
   "outputs": [
    {
     "data": {
      "text/plain": [
       "count    386.000000\n",
       "mean       0.616865\n",
       "std        0.349970\n",
       "min        0.300442\n",
       "25%        0.388371\n",
       "50%        0.500946\n",
       "75%        0.719638\n",
       "max        2.825641\n",
       "Name: Lower_last, dtype: float64"
      ]
     },
     "execution_count": 38,
     "metadata": {},
     "output_type": "execute_result"
    }
   ],
   "source": [
    "df['Lower_last'][ (df['OPR'] > 0.75) & (df['Lower_last'] > 0.3)].describe()"
   ]
  },
  {
   "cell_type": "code",
   "execution_count": 39,
   "id": "ac216bf1",
   "metadata": {},
   "outputs": [
    {
     "data": {
      "text/plain": [
       "count    142.000000\n",
       "mean       0.951441\n",
       "std        0.380349\n",
       "min        0.601369\n",
       "25%        0.696594\n",
       "50%        0.835981\n",
       "75%        1.111268\n",
       "max        2.825641\n",
       "Name: Lower_last, dtype: float64"
      ]
     },
     "execution_count": 39,
     "metadata": {},
     "output_type": "execute_result"
    }
   ],
   "source": [
    "df['Lower_last'][ (df['OPR'] > 0.75) & (df['Lower_last'] > 0.6)].describe()"
   ]
  },
  {
   "cell_type": "code",
   "execution_count": 25,
   "id": "6e36b8c6",
   "metadata": {},
   "outputs": [
    {
     "data": {
      "text/plain": [
       "count    837.000000\n",
       "mean       0.200678\n",
       "std        0.200838\n",
       "min        0.000000\n",
       "25%        0.061807\n",
       "50%        0.141097\n",
       "75%        0.276254\n",
       "max        1.326061\n",
       "Name: Upper_last, dtype: float64"
      ]
     },
     "execution_count": 25,
     "metadata": {},
     "output_type": "execute_result"
    }
   ],
   "source": [
    "df['Upper_last'][ (df['OPR'] > 0.75)].describe()"
   ]
  },
  {
   "cell_type": "markdown",
   "id": "fd225b47",
   "metadata": {},
   "source": [
    "#### If u have general idea about the OPR, then it is fairly evident that the index will continue to move in the direction of trend "
   ]
  },
  {
   "cell_type": "code",
   "execution_count": 29,
   "id": "ea52d0ac",
   "metadata": {},
   "outputs": [],
   "source": [
    "df[\"Close~High\"] = ((df['High_last'] - df['Close_last'])/df['Prev_Close'])*100\n",
    "df[\"Close~Low\"] = ((df['Close_last'] - df['Low_last'])/df['Prev_Close'])*100"
   ]
  },
  {
   "cell_type": "code",
   "execution_count": 30,
   "id": "1e555e5d",
   "metadata": {},
   "outputs": [
    {
     "data": {
      "text/plain": [
       "count    837.000000\n",
       "mean       0.226194\n",
       "std        0.204561\n",
       "min        0.000000\n",
       "25%        0.090500\n",
       "50%        0.165061\n",
       "75%        0.289578\n",
       "max        1.434349\n",
       "Name: Close~Low, dtype: float64"
      ]
     },
     "execution_count": 30,
     "metadata": {},
     "output_type": "execute_result"
    }
   ],
   "source": [
    "df[\"Close~Low\"][(df['OPR'] > 0.75)].describe()"
   ]
  },
  {
   "cell_type": "code",
   "execution_count": 31,
   "id": "fa2108a1",
   "metadata": {},
   "outputs": [
    {
     "data": {
      "text/plain": [
       "count    603.000000\n",
       "mean       0.287423\n",
       "std        0.249097\n",
       "min        0.000000\n",
       "25%        0.108522\n",
       "50%        0.223963\n",
       "75%        0.378912\n",
       "max        2.008858\n",
       "Name: Close~Low, dtype: float64"
      ]
     },
     "execution_count": 31,
     "metadata": {},
     "output_type": "execute_result"
    }
   ],
   "source": [
    "df[\"Close~Low\"][(df['OPR'] < 0.25)].describe()"
   ]
  },
  {
   "cell_type": "code",
   "execution_count": 32,
   "id": "65a5ce3b",
   "metadata": {},
   "outputs": [
    {
     "data": {
      "text/plain": [
       "count    837.000000\n",
       "mean       0.330703\n",
       "std        0.302634\n",
       "min        0.000000\n",
       "25%        0.132380\n",
       "50%        0.243750\n",
       "75%        0.437003\n",
       "max        2.982908\n",
       "Name: Close~High, dtype: float64"
      ]
     },
     "execution_count": 32,
     "metadata": {},
     "output_type": "execute_result"
    }
   ],
   "source": [
    "df[\"Close~High\"][(df['OPR'] > 0.75)].describe()"
   ]
  },
  {
   "cell_type": "code",
   "execution_count": 33,
   "id": "57da234a",
   "metadata": {},
   "outputs": [
    {
     "data": {
      "text/plain": [
       "count    603.000000\n",
       "mean       0.198746\n",
       "std        0.177326\n",
       "min        0.000000\n",
       "25%        0.087059\n",
       "50%        0.146060\n",
       "75%        0.249527\n",
       "max        1.266945\n",
       "Name: Close~High, dtype: float64"
      ]
     },
     "execution_count": 33,
     "metadata": {},
     "output_type": "execute_result"
    }
   ],
   "source": [
    "df[\"Close~High\"][(df['OPR'] < 0.25)].describe()"
   ]
  },
  {
   "cell_type": "markdown",
   "id": "1829c07b",
   "metadata": {},
   "source": [
    "#### So wrt close, there is 0.1% edge"
   ]
  },
  {
   "cell_type": "markdown",
   "id": "6fac9413",
   "metadata": {},
   "source": [
    "### Conclusion :\n",
    "#### On bullish days, on an average it travels 0.3%in the direction of the trend. And, 25% of the times it moves more than 0.4%.\n",
    "#### On bearish days, on an average it travels 0.35%in the direction of the trend. And, 25% of the times it moves more than 0.48%."
   ]
  },
  {
   "cell_type": "markdown",
   "id": "8515a648",
   "metadata": {},
   "source": [
    "## Plan of Action :"
   ]
  },
  {
   "cell_type": "markdown",
   "id": "098de08f",
   "metadata": {},
   "source": [
    "#### According to current market scenario, CMP = 17000\n",
    "#### Therefore, 0.3% = 51 and 0.4% = 68 and 0.5% = 85pts\n",
    "\n",
    "#### If we buy options 50 or 100 points away from the strike then,\n",
    "\n",
    "#### Statistics suggest that on the bullish side if the average premium is less than 16 and on the bearish side if it is less than 20 for 50 point wide strike. Then it makes perfect sense to buy options 50points wide.\n",
    "\n",
    "#### Statistics suggest that on the bullish side if the average premium is less than 5.3 and on the bearish side if it is less than 10.7 for 100 point wide strike. Then it makes perfect sense to buy options 100 points wide."
   ]
  },
  {
   "cell_type": "markdown",
   "id": "8ddfb435",
   "metadata": {},
   "source": []
  }
 ],
 "metadata": {
  "kernelspec": {
   "display_name": "Python 3 (ipykernel)",
   "language": "python",
   "name": "python3"
  },
  "language_info": {
   "codemirror_mode": {
    "name": "ipython",
    "version": 3
   },
   "file_extension": ".py",
   "mimetype": "text/x-python",
   "name": "python",
   "nbconvert_exporter": "python",
   "pygments_lexer": "ipython3",
   "version": "3.9.7"
  }
 },
 "nbformat": 4,
 "nbformat_minor": 5
}
